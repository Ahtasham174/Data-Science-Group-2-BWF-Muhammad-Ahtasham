{
 "cells": [
  {
   "cell_type": "markdown",
   "id": "8527bc68-6a8a-43b7-ba41-d67bde9ba195",
   "metadata": {},
   "source": [
    "## If conditions, for loops, while loops, and functions using Python\n",
    "I have extended the previous Project of Task 4 Shopping cart converted its features into functions by making menu and added conditionals and loops."
   ]
  },
  {
   "cell_type": "code",
   "execution_count": 6,
   "id": "03bc2bb3-fd69-40b5-b9e8-778dcfa76a94",
   "metadata": {},
   "outputs": [
    {
     "name": "stdout",
     "output_type": "stream",
     "text": [
      "\n",
      "1. Add item to cart\n",
      "2. View cart\n",
      "3. Calculate total cost\n",
      "4. Check if cart is empty\n",
      "5. Exit\n"
     ]
    },
    {
     "name": "stdout",
     "output_type": "stream",
     "text": [
      "Enter your choice (1-5):  1\n",
      "Enter item name:  apple\n",
      "Enter item price:  1000\n",
      "Enter item quantity:  12\n"
     ]
    },
    {
     "name": "stdout",
     "output_type": "stream",
     "text": [
      "\n",
      "1. Add item to cart\n",
      "2. View cart\n",
      "3. Calculate total cost\n",
      "4. Check if cart is empty\n",
      "5. Exit\n"
     ]
    },
    {
     "name": "stdout",
     "output_type": "stream",
     "text": [
      "Enter your choice (1-5):  2\n"
     ]
    },
    {
     "name": "stdout",
     "output_type": "stream",
     "text": [
      "Shopping Cart:\n",
      "apple: Rs.1000.0 x 12\n",
      "\n",
      "1. Add item to cart\n",
      "2. View cart\n",
      "3. Calculate total cost\n",
      "4. Check if cart is empty\n",
      "5. Exit\n"
     ]
    },
    {
     "name": "stdout",
     "output_type": "stream",
     "text": [
      "Enter your choice (1-5):  3\n"
     ]
    },
    {
     "name": "stdout",
     "output_type": "stream",
     "text": [
      "Total Cost: Rs.12000.0\n",
      "\n",
      "1. Add item to cart\n",
      "2. View cart\n",
      "3. Calculate total cost\n",
      "4. Check if cart is empty\n",
      "5. Exit\n"
     ]
    },
    {
     "name": "stdout",
     "output_type": "stream",
     "text": [
      "Enter your choice (1-5):  4\n"
     ]
    },
    {
     "name": "stdout",
     "output_type": "stream",
     "text": [
      "The cart is not empty.\n",
      "\n",
      "1. Add item to cart\n",
      "2. View cart\n",
      "3. Calculate total cost\n",
      "4. Check if cart is empty\n",
      "5. Exit\n"
     ]
    },
    {
     "name": "stdout",
     "output_type": "stream",
     "text": [
      "Enter your choice (1-5):  5\n"
     ]
    },
    {
     "name": "stdout",
     "output_type": "stream",
     "text": [
      "Exiting the program.\n"
     ]
    }
   ],
   "source": [
    "cart={}\n",
    "\n",
    "def add_in_cart(item,price,quantity):\n",
    "    if item in cart:\n",
    "        cart[item]['quantity'] += quantity\n",
    "    else:\n",
    "        cart[item] = {'price': price, 'quantity': quantity}\n",
    "\n",
    "def view_cart():\n",
    "    print(\"Shopping Cart:\")\n",
    "    for item, details in cart.items():\n",
    "        print(f\"{item}: Rs.{details['price']} x {details['quantity']}\")\n",
    "\n",
    "def calculate_total():\n",
    "    total = 0\n",
    "    for item, details in cart.items():\n",
    "        total += details['price'] * details['quantity']\n",
    "    return total\n",
    "\n",
    "def cart_status():\n",
    "    return len(cart) == 0\n",
    "    \n",
    "def menu():\n",
    "    while True:\n",
    "        print(\"\\n1. Add item to cart\")\n",
    "        print(\"2. View cart\")\n",
    "        print(\"3. Calculate total cost\")\n",
    "        print(\"4. Check if cart is empty\")\n",
    "        print(\"5. Exit\")\n",
    "\n",
    "        choice = input(\"Enter your choice (1-5): \")\n",
    "        if choice == '1':\n",
    "            item = input(\"Enter item name: \")\n",
    "            price = float(input(\"Enter item price: \"))\n",
    "            quantity = int(input(\"Enter item quantity: \"))\n",
    "            add_in_cart(item, price, quantity)\n",
    "        elif choice == '2':\n",
    "            view_cart()\n",
    "        elif choice == '3':\n",
    "            total_cost = calculate_total()\n",
    "            print(f\"Total Cost: Rs.{total_cost}\")\n",
    "        elif choice == '4':\n",
    "            if cart_status():\n",
    "                print(\"The cart is empty.\")\n",
    "            else:\n",
    "                print(\"The cart is not empty.\")\n",
    "        elif choice == '5':\n",
    "            print(\"Exiting the program.\")\n",
    "            break\n",
    "        else:\n",
    "            print(\"Invalid choice. Please enter a number between 1 and 5.\")\n",
    "\n",
    "menu()"
   ]
  },
  {
   "cell_type": "markdown",
   "id": "0248e6e0-f206-4a9f-ade6-94ea08d545b7",
   "metadata": {},
   "source": [
    "# Practice of loops and if-elif-else"
   ]
  },
  {
   "cell_type": "code",
   "execution_count": 103,
   "id": "14949a15-62af-4194-b9f9-2d5e667f94d1",
   "metadata": {},
   "outputs": [
    {
     "name": "stdout",
     "output_type": "stream",
     "text": [
      "1 \n",
      "2 3 \n",
      "4 5 6 \n",
      "7 8 9 10 \n",
      "11 12 13 14 15 \n"
     ]
    }
   ],
   "source": [
    "n = 5 \n",
    "m = 1   \n",
    "\n",
    "for i in range(n):\n",
    "    for j in range(i + 1):\n",
    "        print(m, end=\" \")\n",
    "        m += 1\n",
    "\n",
    "    print()"
   ]
  },
  {
   "cell_type": "code",
   "execution_count": 104,
   "id": "3b616e7b-c4b6-4c2c-93c6-7bd030722a1f",
   "metadata": {},
   "outputs": [
    {
     "name": "stdout",
     "output_type": "stream",
     "text": [
      "* \n",
      "* * \n",
      "* * * \n",
      "* * * * \n",
      "* * * * * \n"
     ]
    }
   ],
   "source": [
    "n = 5  \n",
    "\n",
    "for i in range(n):\n",
    "    \n",
    "    for j in range(i + 1):\n",
    "        print(\"*\", end=\" \")\n",
    "\n",
    "    print() "
   ]
  },
  {
   "cell_type": "code",
   "execution_count": 105,
   "id": "a8e9d155-f279-460e-a72e-ff61b40d42e4",
   "metadata": {},
   "outputs": [
    {
     "name": "stdout",
     "output_type": "stream",
     "text": [
      "    *\n",
      "   ***\n",
      "  *****\n",
      " *******\n",
      "*********\n"
     ]
    }
   ],
   "source": [
    "n = 5\n",
    "\n",
    "for i in range(n):\n",
    "    \n",
    "    for j in range(n - i - 1):\n",
    "        print(\" \", end=\"\")\n",
    "\n",
    "    for j in range(2 * i + 1):\n",
    "        print(\"*\", end=\"\")\n",
    "\n",
    "    print()"
   ]
  },
  {
   "cell_type": "code",
   "execution_count": 106,
   "id": "dacc4a24-9f8b-4685-8637-a67ebbc1ddfe",
   "metadata": {},
   "outputs": [
    {
     "name": "stdout",
     "output_type": "stream",
     "text": [
      "*********\n",
      " *******\n",
      "  *****\n",
      "   ***\n",
      "    *\n"
     ]
    }
   ],
   "source": [
    "n = 5 \n",
    "\n",
    "for i in range(n):\n",
    "    for j in range(i):\n",
    "        print(\" \", end=\"\")\n",
    "\n",
    "    for j in range(2 * (n - i) - 1):\n",
    "        print(\"*\", end=\"\")\n",
    "\n",
    "    print() "
   ]
  },
  {
   "cell_type": "code",
   "execution_count": 107,
   "id": "0120b1c7-5338-456a-acd8-6d4af5d15d7a",
   "metadata": {},
   "outputs": [
    {
     "name": "stdout",
     "output_type": "stream",
     "text": [
      "A  \n",
      "\n",
      "A B  \n",
      "\n",
      "A B C  \n",
      "\n",
      "A B C D  \n",
      "\n",
      "A B C D E  \n",
      "\n"
     ]
    }
   ],
   "source": [
    "n = 5\n",
    "\n",
    "for i in range(n):\n",
    "    \n",
    "    for j in range(i + 1):\n",
    "        print(chr(65 + j), end=\" \")\n",
    "        \n",
    "    print(\" \")\n",
    "    print()"
   ]
  },
  {
   "cell_type": "code",
   "execution_count": null,
   "id": "64b23584-85a8-4353-8d8a-922206837362",
   "metadata": {},
   "outputs": [],
   "source": []
  }
 ],
 "metadata": {
  "kernelspec": {
   "display_name": "Python 3 (ipykernel)",
   "language": "python",
   "name": "python3"
  },
  "language_info": {
   "codemirror_mode": {
    "name": "ipython",
    "version": 3
   },
   "file_extension": ".py",
   "mimetype": "text/x-python",
   "name": "python",
   "nbconvert_exporter": "python",
   "pygments_lexer": "ipython3",
   "version": "3.11.7"
  }
 },
 "nbformat": 4,
 "nbformat_minor": 5
}
