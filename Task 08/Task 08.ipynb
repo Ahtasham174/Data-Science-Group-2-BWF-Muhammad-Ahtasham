{
 "cells": [
  {
   "cell_type": "markdown",
   "id": "6d1b969f-f40f-4f9d-a712-2a1ad2aa0957",
   "metadata": {},
   "source": [
    "# Task 08: Simple Data Structures in Python (Dictionary, Set, List, Tuple)"
   ]
  },
  {
   "cell_type": "markdown",
   "id": "70fc4c75-391b-4121-a28c-7dc4907497ce",
   "metadata": {},
   "source": [
    "## 1. List Practice"
   ]
  },
  {
   "cell_type": "markdown",
   "id": "9b669aad-78bd-40e5-91fc-09e4e7983751",
   "metadata": {},
   "source": [
    "### Creating First List"
   ]
  },
  {
   "cell_type": "code",
   "execution_count": 17,
   "id": "4cbd6f48-7054-403f-bd59-4ea57de8e9f3",
   "metadata": {},
   "outputs": [
    {
     "name": "stdout",
     "output_type": "stream",
     "text": [
      "['A', 'B', 'C', 'D', 'E']\n"
     ]
    }
   ],
   "source": [
    "alphabets=[\"A\",\"B\",\"C\",\"D\",\"E\"]\n",
    "print(alphabets)"
   ]
  },
  {
   "cell_type": "markdown",
   "id": "58b81d81-d83d-4bbd-b03a-4e59f924f7ad",
   "metadata": {},
   "source": [
    "### Accessing elements"
   ]
  },
  {
   "cell_type": "code",
   "execution_count": 18,
   "id": "db43c792-5066-455d-b043-61ba5ddbdf18",
   "metadata": {},
   "outputs": [
    {
     "name": "stdout",
     "output_type": "stream",
     "text": [
      "Prints First Element of List: A\n",
      "Prints last Element of List: E\n",
      "Prints Second last Element of List: D\n",
      "Prints Elements from at Index 1 to 3(3 not included) of List: ['B', 'C']\n",
      "Prints items from index 0 to index 4: ['A', 'B', 'C', 'D']\n",
      "Prints items from index 2 to the end: ['C', 'D', 'E']\n"
     ]
    }
   ],
   "source": [
    "print(\"Prints First Element of List:\",alphabets[0])\n",
    "print(\"Prints last Element of List:\",alphabets[-1])\n",
    "print(\"Prints Second last Element of List:\",alphabets[-2])\n",
    "print(\"Prints Elements from at Index 1 to 3(3 not included) of List:\",alphabets[1:3])\n",
    "print(\"Prints items from index 0 to index 4:\",alphabets[:4])\n",
    "print(\"Prints items from index 2 to the end:\",alphabets[2:])"
   ]
  },
  {
   "cell_type": "markdown",
   "id": "6080e387-88ed-4aac-9147-8a736e900ddd",
   "metadata": {},
   "source": [
    "### Modifying Elements"
   ]
  },
  {
   "cell_type": "code",
   "execution_count": 23,
   "id": "eb892c0d-6bcf-4029-8d43-7e5acb6800f3",
   "metadata": {},
   "outputs": [
    {
     "name": "stdout",
     "output_type": "stream",
     "text": [
      "Modify list item at index 0: ['F', 'G', 'H', 'D', 'E']\n",
      "Modify list item from index 1 to index 3: ['F', 'G', 'H', 'D', 'E']\n",
      "Modify list item from index 1 to index 3(replace them with A): ['F', 'A', 'D', 'E']\n"
     ]
    }
   ],
   "source": [
    "alphabets[0]=\"F\"\n",
    "print(\"Modify list item at index 0:\",alphabets)\n",
    "alphabets[1:3]=[\"G\",\"H\"]\n",
    "print(\"Modify list item from index 1 to index 3:\",alphabets)\n",
    "alphabets[1:3]=[\"A\"]\n",
    "print(\"Modify list item from index 1 to index 3(replace them with A):\",alphabets)"
   ]
  },
  {
   "cell_type": "markdown",
   "id": "c993235d-37a6-4712-aa3a-175651131209",
   "metadata": {},
   "source": [
    "### Adding Elements"
   ]
  },
  {
   "cell_type": "code",
   "execution_count": 28,
   "id": "3562371b-d573-4fd1-ab75-777dd6721c56",
   "metadata": {},
   "outputs": [
    {
     "name": "stdout",
     "output_type": "stream",
     "text": [
      "Insert N at Index 2: ['F', 'A', 'N', 'N', 'N', 'N', 'N', 'D', 'E', 'P', 'P', 1, 2, 3, 'P', 1, 2, 3, 1, 2, 3]\n",
      "Insert P at end of list: ['F', 'A', 'N', 'N', 'N', 'N', 'N', 'D', 'E', 'P', 'P', 1, 2, 3, 'P', 1, 2, 3, 1, 2, 3, 'P']\n",
      "Extends alphabets list to num: ['F', 'A', 'N', 'N', 'N', 'N', 'N', 'D', 'E', 'P', 'P', 1, 2, 3, 'P', 1, 2, 3, 1, 2, 3, 'P', 1, 2, 3]\n",
      "It also Extends alphabets list by thistuple: ['F', 'A', 'N', 'N', 'N', 'N', 'N', 'D', 'E', 'P', 'P', 1, 2, 3, 'P', 1, 2, 3, 1, 2, 3, 'P', 1, 2, 3, 'kiwi', 'orange']\n"
     ]
    }
   ],
   "source": [
    "alphabets.insert(2,\"N\")\n",
    "print(\"Insert N at Index 2:\",alphabets)\n",
    "alphabets.append(\"P\")\n",
    "print(\"Insert P at end of list:\",alphabets)\n",
    "num=[1,2,3]\n",
    "alphabets.extend(num)\n",
    "print(\"Extends alphabets list to num:\",alphabets)\n",
    "thistuple = (\"kiwi\", \"orange\")\n",
    "alphabets.extend(thistuple)\n",
    "print(\"It also Extends alphabets list by thistuple:\",alphabets)"
   ]
  },
  {
   "cell_type": "markdown",
   "id": "571cdf04-a568-4275-9369-2a5a7f4a2aed",
   "metadata": {},
   "source": [
    "### Removing Elements"
   ]
  },
  {
   "cell_type": "code",
   "execution_count": 34,
   "id": "74e517a2-abfa-4e2b-99d8-e9f1a91c8181",
   "metadata": {},
   "outputs": [
    {
     "name": "stdout",
     "output_type": "stream",
     "text": [
      "['F', 'A', 'N', 'N', 'N', 'D', 'E', 'P', 'P', 1, 2, 3, 'P', 1, 2, 3, 1, 2, 3, 'P', 1, 2, 3, 'kiwi', 'orange']\n"
     ]
    }
   ],
   "source": [
    "alphabets.remove(\"N\")\n",
    "print(alphabets)"
   ]
  },
  {
   "cell_type": "code",
   "execution_count": 35,
   "id": "183a3294-a6da-4862-8010-504c32d5c79e",
   "metadata": {},
   "outputs": [
    {
     "name": "stdout",
     "output_type": "stream",
     "text": [
      "['F', 'N', 'N', 'N', 'D', 'E', 'P', 'P', 1, 2, 3, 'P', 1, 2, 3, 1, 2, 3, 'P', 1, 2, 3, 'kiwi', 'orange']\n"
     ]
    }
   ],
   "source": [
    "alphabets.pop(1)\n",
    "print(alphabets)"
   ]
  },
  {
   "cell_type": "code",
   "execution_count": 36,
   "id": "492ad84d-4f84-4adf-a497-3f7ee25e19f3",
   "metadata": {},
   "outputs": [
    {
     "name": "stdout",
     "output_type": "stream",
     "text": [
      "['N', 'N', 'N', 'D', 'E', 'P', 'P', 1, 2, 3, 'P', 1, 2, 3, 1, 2, 3, 'P', 1, 2, 3, 'kiwi', 'orange']\n"
     ]
    }
   ],
   "source": [
    "del alphabets[0]\n",
    "print(alphabets)"
   ]
  },
  {
   "cell_type": "code",
   "execution_count": 40,
   "id": "1e31907e-dc79-4ea8-a516-9fa49235d67e",
   "metadata": {},
   "outputs": [
    {
     "ename": "NameError",
     "evalue": "name 'alphabets' is not defined",
     "output_type": "error",
     "traceback": [
      "\u001b[1;31m---------------------------------------------------------------------------\u001b[0m",
      "\u001b[1;31mNameError\u001b[0m                                 Traceback (most recent call last)",
      "Cell \u001b[1;32mIn[40], line 1\u001b[0m\n\u001b[1;32m----> 1\u001b[0m \u001b[38;5;28;01mdel\u001b[39;00m alphabets\n",
      "\u001b[1;31mNameError\u001b[0m: name 'alphabets' is not defined"
     ]
    }
   ],
   "source": [
    "del alphabets  #Error because list has been deleted"
   ]
  },
  {
   "cell_type": "markdown",
   "id": "175710c9-9cd3-4a82-9de0-0df30daeb217",
   "metadata": {},
   "source": [
    "## 2. Tuple Practice\n",
    "Creating Tuple"
   ]
  },
  {
   "cell_type": "code",
   "execution_count": 42,
   "id": "bfbdfa93-cad0-438c-a95e-a96939d245ac",
   "metadata": {},
   "outputs": [
    {
     "name": "stdout",
     "output_type": "stream",
     "text": [
      "Original Tuple: (1, 2, 3, 4)\n"
     ]
    }
   ],
   "source": [
    "my_tuple = (1, 2, 3, 4)\n",
    "print(\"Original Tuple:\", my_tuple)"
   ]
  },
  {
   "cell_type": "markdown",
   "id": "4ec6e93e-6778-448a-a095-7546fadcd2f3",
   "metadata": {},
   "source": [
    "### Accessing elements"
   ]
  },
  {
   "cell_type": "code",
   "execution_count": 43,
   "id": "b9ad99cc-c401-4cd1-9842-77ee8db5801a",
   "metadata": {},
   "outputs": [
    {
     "name": "stdout",
     "output_type": "stream",
     "text": [
      "First element: 1\n"
     ]
    }
   ],
   "source": [
    "first_element = my_tuple[0]\n",
    "print(\"First element:\", first_element)"
   ]
  },
  {
   "cell_type": "markdown",
   "id": "c51745d2-7682-4e39-9019-f39012c95453",
   "metadata": {},
   "source": [
    "### Concatenating tuples (effectively adding elements)"
   ]
  },
  {
   "cell_type": "code",
   "execution_count": 44,
   "id": "f7dd6451-9e5a-4924-bbdb-a19e57b67d03",
   "metadata": {},
   "outputs": [
    {
     "name": "stdout",
     "output_type": "stream",
     "text": [
      "Tuple after concatenation: (1, 2, 3, 4, 5, 6)\n"
     ]
    }
   ],
   "source": [
    "new_tuple = my_tuple + (5, 6)\n",
    "print(\"Tuple after concatenation:\", new_tuple)"
   ]
  },
  {
   "cell_type": "markdown",
   "id": "32c440e3-5cee-4a75-a3d8-9958821c3b60",
   "metadata": {},
   "source": [
    "### Slicing to create a new tuple (effectively deleting elements)"
   ]
  },
  {
   "cell_type": "code",
   "execution_count": 45,
   "id": "84df3fa0-9977-4249-ae73-3b9ada768b1d",
   "metadata": {},
   "outputs": [
    {
     "name": "stdout",
     "output_type": "stream",
     "text": [
      "Tuple after slicing out an element: (1, 2, 4)\n"
     ]
    }
   ],
   "source": [
    "sliced_tuple = my_tuple[:2] + my_tuple[3:]\n",
    "print(\"Tuple after slicing out an element:\", sliced_tuple)"
   ]
  },
  {
   "cell_type": "markdown",
   "id": "2fa595c6-bccb-4021-97dd-db8b7273840f",
   "metadata": {},
   "source": [
    "## 3. Sets Practice\n",
    "Creating Sets"
   ]
  },
  {
   "cell_type": "code",
   "execution_count": 46,
   "id": "8b44eabc-3461-4017-9eb5-37fafe7dfa55",
   "metadata": {},
   "outputs": [
    {
     "name": "stdout",
     "output_type": "stream",
     "text": [
      "Original Set: {1, 2, 3, 4}\n"
     ]
    }
   ],
   "source": [
    "my_set = {1, 2, 3, 4}\n",
    "print(\"Original Set:\", my_set)"
   ]
  },
  {
   "cell_type": "markdown",
   "id": "9c7de549-8d4d-4b8f-b50d-39b32951bea4",
   "metadata": {},
   "source": [
    "### Accessing elements"
   ]
  },
  {
   "cell_type": "code",
   "execution_count": 47,
   "id": "11004759-fb2e-46ee-8ffb-e56f15a2d32d",
   "metadata": {},
   "outputs": [
    {
     "name": "stdout",
     "output_type": "stream",
     "text": [
      "1 is in the set\n"
     ]
    }
   ],
   "source": [
    "if 1 in my_set:\n",
    "    print(\"1 is in the set\")\n",
    "else:\n",
    "    print(\"1 is not in the set\")"
   ]
  },
  {
   "cell_type": "markdown",
   "id": "1d2008d5-eb4b-4231-b253-43ced623c71f",
   "metadata": {},
   "source": [
    "### Modifying elements"
   ]
  },
  {
   "cell_type": "code",
   "execution_count": 48,
   "id": "3f691405-023b-484d-a05b-77d712e7ad9f",
   "metadata": {},
   "outputs": [
    {
     "name": "stdout",
     "output_type": "stream",
     "text": [
      "Set after adding 5: {1, 2, 3, 4, 5}\n"
     ]
    }
   ],
   "source": [
    "my_set.add(5)\n",
    "print(\"Set after adding 5:\", my_set)"
   ]
  },
  {
   "cell_type": "markdown",
   "id": "16d6cf05-065c-4dbc-9561-384bfebab571",
   "metadata": {},
   "source": [
    "### Adding multiple elements using update"
   ]
  },
  {
   "cell_type": "code",
   "execution_count": 49,
   "id": "26005141-d0c1-4af3-b85e-2c9a6c3ad851",
   "metadata": {},
   "outputs": [
    {
     "name": "stdout",
     "output_type": "stream",
     "text": [
      "Set after adding 6 and 7: {1, 2, 3, 4, 5, 6, 7}\n"
     ]
    }
   ],
   "source": [
    "my_set.update([6, 7])\n",
    "print(\"Set after adding 6 and 7:\", my_set)"
   ]
  },
  {
   "cell_type": "markdown",
   "id": "49f976e5-aa08-4bf5-9b83-bb18120c0677",
   "metadata": {},
   "source": [
    "### Removing elements"
   ]
  },
  {
   "cell_type": "code",
   "execution_count": 50,
   "id": "13727b8e-5a67-4e42-8136-68d371c1bcd4",
   "metadata": {},
   "outputs": [
    {
     "name": "stdout",
     "output_type": "stream",
     "text": [
      "Set after removing 2: {1, 3, 4, 5, 6, 7}\n"
     ]
    }
   ],
   "source": [
    "my_set.remove(2)\n",
    "print(\"Set after removing 2:\", my_set)"
   ]
  },
  {
   "cell_type": "markdown",
   "id": "9d09a159-084c-4f66-8120-39a731f2368a",
   "metadata": {},
   "source": [
    "### Removing elements using pop()"
   ]
  },
  {
   "cell_type": "code",
   "execution_count": 51,
   "id": "d47ae8e2-21d4-43fe-9634-c617f87bbc5a",
   "metadata": {},
   "outputs": [
    {
     "name": "stdout",
     "output_type": "stream",
     "text": [
      "Set after popping an element: {3, 4, 5, 6, 7}\n",
      "Removed element: 1\n"
     ]
    }
   ],
   "source": [
    "removed_element = my_set.pop()\n",
    "print(\"Set after popping an element:\", my_set)\n",
    "print(\"Removed element:\", removed_element)"
   ]
  },
  {
   "cell_type": "markdown",
   "id": "c2fa5257-811e-463d-aac5-176d26d28f79",
   "metadata": {},
   "source": [
    "### Clearing Sets"
   ]
  },
  {
   "cell_type": "code",
   "execution_count": 52,
   "id": "3953b884-e0d9-4a8c-b49e-b206aa383eb0",
   "metadata": {},
   "outputs": [
    {
     "name": "stdout",
     "output_type": "stream",
     "text": [
      "Set after clearing all elements: set()\n"
     ]
    }
   ],
   "source": [
    "my_set.clear()\n",
    "print(\"Set after clearing all elements:\", my_set)"
   ]
  },
  {
   "cell_type": "markdown",
   "id": "625f7077-be3b-49ed-b20d-b432325b3eb1",
   "metadata": {},
   "source": [
    "## 4. Dictionary Practice\n",
    "Making Dictionary"
   ]
  },
  {
   "cell_type": "code",
   "execution_count": 53,
   "id": "43bb111f-84fa-4fef-a713-3f1c5545c5fe",
   "metadata": {},
   "outputs": [
    {
     "name": "stdout",
     "output_type": "stream",
     "text": [
      "Original Dictionary: {'a': 1, 'b': 2, 'c': 3}\n"
     ]
    }
   ],
   "source": [
    "my_dict = {'a': 1, 'b': 2, 'c': 3}\n",
    "print(\"Original Dictionary:\", my_dict)"
   ]
  },
  {
   "cell_type": "markdown",
   "id": "fdc3b95a-9f5d-4bd0-9e8f-3eef35c2a94d",
   "metadata": {},
   "source": [
    "### Accessing elements"
   ]
  },
  {
   "cell_type": "code",
   "execution_count": 54,
   "id": "7bc0925b-47d3-4894-ad96-9a49865e012e",
   "metadata": {},
   "outputs": [
    {
     "name": "stdout",
     "output_type": "stream",
     "text": [
      "Value associated with key 'a': 1\n"
     ]
    }
   ],
   "source": [
    "value_a = my_dict['a']\n",
    "print(\"Value associated with key 'a':\", value_a)"
   ]
  },
  {
   "cell_type": "markdown",
   "id": "6b954ff3-40ba-4498-91cf-70baadf37ef2",
   "metadata": {},
   "source": [
    "### Modifying elements"
   ]
  },
  {
   "cell_type": "code",
   "execution_count": 55,
   "id": "fb6d60a6-e827-406a-a3c8-71f5d6cbf03c",
   "metadata": {},
   "outputs": [
    {
     "name": "stdout",
     "output_type": "stream",
     "text": [
      "Dictionary after modifying 'b': {'a': 1, 'b': 4, 'c': 3}\n"
     ]
    }
   ],
   "source": [
    "my_dict['b'] = 4\n",
    "print(\"Dictionary after modifying 'b':\", my_dict)"
   ]
  },
  {
   "cell_type": "code",
   "execution_count": 56,
   "id": "44534754-9475-4c0a-bf1e-f50f6edfa277",
   "metadata": {},
   "outputs": [
    {
     "name": "stdout",
     "output_type": "stream",
     "text": [
      "Dictionary after adding key 'd': {'a': 1, 'b': 4, 'c': 3, 'd': 5}\n"
     ]
    }
   ],
   "source": [
    "my_dict['d'] = 5\n",
    "print(\"Dictionary after adding key 'd':\", my_dict)"
   ]
  },
  {
   "cell_type": "markdown",
   "id": "c0b452af-ac4d-445b-8d06-86801e4b4544",
   "metadata": {},
   "source": [
    "### Adding multiple key-value pairs using update"
   ]
  },
  {
   "cell_type": "code",
   "execution_count": 57,
   "id": "4c57bce3-7c01-42db-a150-33ded5f93623",
   "metadata": {},
   "outputs": [
    {
     "name": "stdout",
     "output_type": "stream",
     "text": [
      "Dictionary after adding keys 'e' and 'f': {'a': 1, 'b': 4, 'c': 3, 'd': 5, 'e': 6, 'f': 7}\n"
     ]
    }
   ],
   "source": [
    "my_dict.update({'e': 6, 'f': 7})\n",
    "print(\"Dictionary after adding keys 'e' and 'f':\", my_dict)"
   ]
  },
  {
   "cell_type": "markdown",
   "id": "ebeab598-c57a-4119-a61a-153d8fe7ccee",
   "metadata": {},
   "source": [
    "### Removing elements using del"
   ]
  },
  {
   "cell_type": "code",
   "execution_count": 58,
   "id": "ea0bc872-de37-4148-b29d-50d71f039ff6",
   "metadata": {},
   "outputs": [
    {
     "name": "stdout",
     "output_type": "stream",
     "text": [
      "Dictionary after removing key 'c': {'a': 1, 'b': 4, 'd': 5, 'e': 6, 'f': 7}\n"
     ]
    }
   ],
   "source": [
    "del my_dict['c']\n",
    "print(\"Dictionary after removing key 'c':\", my_dict)"
   ]
  },
  {
   "cell_type": "markdown",
   "id": "ce7b4b08-1ff7-46aa-954e-49f8af76ff03",
   "metadata": {},
   "source": [
    "### Removing elements using pop (returns the value)"
   ]
  },
  {
   "cell_type": "code",
   "execution_count": 59,
   "id": "8ba6d6b0-d28a-4541-878a-79ec95806f9a",
   "metadata": {},
   "outputs": [
    {
     "name": "stdout",
     "output_type": "stream",
     "text": [
      "Dictionary after popping key 'b': {'a': 1, 'd': 5, 'e': 6, 'f': 7}\n",
      "Popped value: 4\n"
     ]
    }
   ],
   "source": [
    "popped_value = my_dict.pop('b')\n",
    "print(\"Dictionary after popping key 'b':\", my_dict)\n",
    "print(\"Popped value:\", popped_value)"
   ]
  },
  {
   "cell_type": "markdown",
   "id": "717b624b-f1db-457e-8740-380648ecf608",
   "metadata": {},
   "source": [
    "### Removing an arbitrary item using popitem"
   ]
  },
  {
   "cell_type": "code",
   "execution_count": null,
   "id": "54aa7506-e3dd-4ab2-a2fe-da2eb70a9a87",
   "metadata": {},
   "outputs": [],
   "source": [
    "key, value = my_dict.popitem()\n",
    "print(\"Dictionary after popitem:\", my_dict)\n",
    "print(\"Popped item:\", (key, value))"
   ]
  },
  {
   "cell_type": "markdown",
   "id": "fb703006-c740-4de6-8e32-9557b8b47cfe",
   "metadata": {},
   "source": [
    "### Clearing all elements"
   ]
  },
  {
   "cell_type": "code",
   "execution_count": 60,
   "id": "dd4c5948-50e3-4fe4-ada4-fd37e50a5ce7",
   "metadata": {},
   "outputs": [
    {
     "name": "stdout",
     "output_type": "stream",
     "text": [
      "Dictionary after clearing all elements: {}\n"
     ]
    }
   ],
   "source": [
    "my_dict.clear()\n",
    "print(\"Dictionary after clearing all elements:\", my_dict)"
   ]
  },
  {
   "cell_type": "markdown",
   "id": "7917e686-6572-4b18-bb15-9a4bed4239c0",
   "metadata": {},
   "source": [
    "# Mini Project: SALES MANAGEMENT SYSTEM"
   ]
  },
  {
   "cell_type": "code",
   "execution_count": 71,
   "id": "0b45c17e-880e-4c17-818b-b2e100267c3b",
   "metadata": {},
   "outputs": [],
   "source": [
    "import os"
   ]
  },
  {
   "cell_type": "markdown",
   "id": "263851fc-b7f4-489b-9647-55e8926f09f4",
   "metadata": {},
   "source": [
    "### Data Structures"
   ]
  },
  {
   "cell_type": "code",
   "execution_count": 72,
   "id": "24884df6-3971-4b71-9262-f7cb720a8282",
   "metadata": {},
   "outputs": [],
   "source": [
    "products = {}\n",
    "product_order = []\n",
    "categories = set()"
   ]
  },
  {
   "cell_type": "markdown",
   "id": "adf847e5-4f6e-413c-8432-3276afaf5d6f",
   "metadata": {},
   "source": [
    "### File Handling Functions"
   ]
  },
  {
   "cell_type": "code",
   "execution_count": 73,
   "id": "a0ecf584-721a-439c-9491-2c34169e320f",
   "metadata": {},
   "outputs": [],
   "source": [
    "def save_data_to_file(filename='products.txt'):\n",
    "    try:\n",
    "        with open(filename, 'w') as file:\n",
    "            for product_id in product_order:\n",
    "                product = products[product_id]\n",
    "                file.write(f\"{product_id},{product['name']},{product['category']},{product['stock']}\\n\")\n",
    "    except Exception as e:\n",
    "        print(f\"Error saving data to file: {e}\")"
   ]
  },
  {
   "cell_type": "markdown",
   "id": "d3cef440-e252-4b37-9d7d-1ae3a9ada0c0",
   "metadata": {},
   "source": [
    "### Fuction to load data from files"
   ]
  },
  {
   "cell_type": "code",
   "execution_count": 74,
   "id": "db2f0ca5-3a2c-4b8a-9c8d-4d0f6d465b57",
   "metadata": {},
   "outputs": [],
   "source": [
    "def load_data_from_file(filename='products.txt'):\n",
    "    if not os.path.exists(filename):\n",
    "        return\n",
    "    try:\n",
    "        with open(filename, 'r') as file:\n",
    "            for line in file:\n",
    "                product_id, name, category, stock = line.strip().split(',')\n",
    "                products[product_id] = {'name': name, 'category': category, 'stock': int(stock)}\n",
    "                product_order.append(product_id)\n",
    "                categories.add(category)\n",
    "    except Exception as e:\n",
    "        print(f\"Error loading data from file: {e}\")"
   ]
  },
  {
   "cell_type": "markdown",
   "id": "8b3455ad-1ec4-4dfe-8139-5dbeb3e69045",
   "metadata": {},
   "source": [
    "### Function to add Products in Stock"
   ]
  },
  {
   "cell_type": "code",
   "execution_count": 75,
   "id": "75bc63a3-5939-4f49-876c-4f8ba4947dcc",
   "metadata": {},
   "outputs": [],
   "source": [
    "def add_product(product_id, name, category, stock):\n",
    "    try:\n",
    "        if product_id in products:\n",
    "            print(\"Product ID already exists.\")\n",
    "            return\n",
    "        products[product_id] = {'name': name, 'category': category, 'stock': stock}\n",
    "        product_order.append(product_id)\n",
    "        categories.add(category)\n",
    "        save_data_to_file()\n",
    "    except Exception as e:\n",
    "        print(f\"Error adding product: {e}\")"
   ]
  },
  {
   "cell_type": "markdown",
   "id": "0d5dcdbc-69d6-459f-a8be-ad1b9cf5221f",
   "metadata": {},
   "source": [
    "### Function to Update quantity in Stock"
   ]
  },
  {
   "cell_type": "code",
   "execution_count": 76,
   "id": "bde6ea11-900c-405d-b9c1-4141a25772b3",
   "metadata": {},
   "outputs": [],
   "source": [
    "def update_stock(product_id, quantity):\n",
    "    try:\n",
    "        if product_id not in products:\n",
    "            print(\"Product ID does not exist.\")\n",
    "            return\n",
    "        products[product_id]['stock'] += quantity\n",
    "        save_data_to_file()\n",
    "    except Exception as e:\n",
    "        print(f\"Error updating stock: {e}\")"
   ]
  },
  {
   "cell_type": "markdown",
   "id": "690c4108-f003-4bcc-b965-6142e2443246",
   "metadata": {},
   "source": [
    "### Function to display all Products in Stock"
   ]
  },
  {
   "cell_type": "code",
   "execution_count": 77,
   "id": "a3605bda-76e9-47cc-8b52-268f36cc7bd4",
   "metadata": {},
   "outputs": [],
   "source": [
    "def display_products():\n",
    "    try:\n",
    "        for product_id in product_order:\n",
    "            product = products[product_id]\n",
    "            print(f\"ID: {product_id}, Name: {product['name']}, Category: {product['category']}, Stock: {product['stock']}\")\n",
    "    except Exception as e:\n",
    "        print(f\"Error displaying products: {e}\")"
   ]
  },
  {
   "cell_type": "markdown",
   "id": "8b63b2d2-23d6-4d7a-8370-395d72858824",
   "metadata": {},
   "source": [
    "### Function to display Products in Stock by Category"
   ]
  },
  {
   "cell_type": "code",
   "execution_count": 78,
   "id": "5bdec087-16aa-40b5-9cb7-4e3f88e68617",
   "metadata": {},
   "outputs": [],
   "source": [
    "def display_by_category(category):\n",
    "    try:\n",
    "        for product_id in product_order:\n",
    "            if products[product_id]['category'] == category:\n",
    "                product = products[product_id]\n",
    "                print(f\"ID: {product_id}, Name: {product['name']}, Stock: {product['stock']}\")\n",
    "    except Exception as e:\n",
    "        print(f\"Error displaying products by category: {e}\")"
   ]
  },
  {
   "cell_type": "markdown",
   "id": "8276ed06-5ac9-41fe-b6be-3f12c1fd86fc",
   "metadata": {},
   "source": [
    "### Function to Search Products in Stock"
   ]
  },
  {
   "cell_type": "code",
   "execution_count": 79,
   "id": "81af3a16-e678-4f63-a4b2-d417b20560e2",
   "metadata": {},
   "outputs": [],
   "source": [
    "def search_product(product_id):\n",
    "    try:\n",
    "        if product_id in products:\n",
    "            product = products[product_id]\n",
    "            print(f\"ID: {product_id}, Name: {product['name']}, Category: {product['category']}, Stock: {product['stock']}\")\n",
    "        else:\n",
    "            print(\"Product not found.\")\n",
    "    except Exception as e:\n",
    "        print(f\"Error searching for product: {e}\")\n"
   ]
  },
  {
   "cell_type": "markdown",
   "id": "80372335-7a95-4dea-b081-d7199038cf8f",
   "metadata": {},
   "source": [
    "### Function to delete Products in Stock"
   ]
  },
  {
   "cell_type": "code",
   "execution_count": 80,
   "id": "a4261a06-de88-4b95-9c57-21647c97e409",
   "metadata": {},
   "outputs": [],
   "source": [
    "def delete_product(product_id):\n",
    "    try:\n",
    "        if product_id in products:\n",
    "            product = products.pop(product_id)\n",
    "            product_order.remove(product_id)\n",
    "            categories.discard(product['category'])\n",
    "            save_data_to_file()\n",
    "            print(f\"Product {product_id} deleted.\")\n",
    "        else:\n",
    "            print(\"Product ID does not exist.\")\n",
    "    except Exception as e:\n",
    "        print(f\"Error deleting product: {e}\")"
   ]
  },
  {
   "cell_type": "markdown",
   "id": "e28bf339-7dbb-4051-b97c-e8c9eb2942aa",
   "metadata": {},
   "source": [
    "### Function to display menu of Choices"
   ]
  },
  {
   "cell_type": "code",
   "execution_count": 81,
   "id": "6088ab01-ce84-4ad8-bbc9-8fa9d35f31cf",
   "metadata": {},
   "outputs": [
    {
     "name": "stdout",
     "output_type": "stream",
     "text": [
      "\n",
      "Sales Management System\n",
      "1. Add Product\n",
      "2. Update Stock\n",
      "3. Display All Products\n",
      "4. Display Products by Category\n",
      "5. Search Product by ID\n",
      "6. Delete Product by ID\n",
      "7. Exit\n"
     ]
    },
    {
     "name": "stdin",
     "output_type": "stream",
     "text": [
      "Enter your choice:  1\n",
      "Enter product ID:  1\n",
      "Enter product name:  brush\n",
      "Enter product category:  grooming\n",
      "Enter stock quantity:  10\n"
     ]
    },
    {
     "name": "stdout",
     "output_type": "stream",
     "text": [
      "\n",
      "Sales Management System\n",
      "1. Add Product\n",
      "2. Update Stock\n",
      "3. Display All Products\n",
      "4. Display Products by Category\n",
      "5. Search Product by ID\n",
      "6. Delete Product by ID\n",
      "7. Exit\n"
     ]
    },
    {
     "name": "stdin",
     "output_type": "stream",
     "text": [
      "Enter your choice:  1\n",
      "Enter product ID:  2\n",
      "Enter product name:  bed\n",
      "Enter product category:  furniture\n",
      "Enter stock quantity:  5\n"
     ]
    },
    {
     "name": "stdout",
     "output_type": "stream",
     "text": [
      "\n",
      "Sales Management System\n",
      "1. Add Product\n",
      "2. Update Stock\n",
      "3. Display All Products\n",
      "4. Display Products by Category\n",
      "5. Search Product by ID\n",
      "6. Delete Product by ID\n",
      "7. Exit\n"
     ]
    },
    {
     "name": "stdin",
     "output_type": "stream",
     "text": [
      "Enter your choice:  3\n"
     ]
    },
    {
     "name": "stdout",
     "output_type": "stream",
     "text": [
      "ID: 1, Name: brush, Category: grooming, Stock: 10\n",
      "ID: 2, Name: bed, Category: furniture, Stock: 5\n",
      "\n",
      "Sales Management System\n",
      "1. Add Product\n",
      "2. Update Stock\n",
      "3. Display All Products\n",
      "4. Display Products by Category\n",
      "5. Search Product by ID\n",
      "6. Delete Product by ID\n",
      "7. Exit\n"
     ]
    },
    {
     "name": "stdin",
     "output_type": "stream",
     "text": [
      "Enter your choice:  4\n",
      "Enter category:  furniture\n"
     ]
    },
    {
     "name": "stdout",
     "output_type": "stream",
     "text": [
      "ID: 2, Name: bed, Stock: 5\n",
      "\n",
      "Sales Management System\n",
      "1. Add Product\n",
      "2. Update Stock\n",
      "3. Display All Products\n",
      "4. Display Products by Category\n",
      "5. Search Product by ID\n",
      "6. Delete Product by ID\n",
      "7. Exit\n"
     ]
    },
    {
     "name": "stdin",
     "output_type": "stream",
     "text": [
      "Enter your choice:  2\n",
      "Enter product ID:  2\n",
      "Enter quantity to update:  10\n"
     ]
    },
    {
     "name": "stdout",
     "output_type": "stream",
     "text": [
      "\n",
      "Sales Management System\n",
      "1. Add Product\n",
      "2. Update Stock\n",
      "3. Display All Products\n",
      "4. Display Products by Category\n",
      "5. Search Product by ID\n",
      "6. Delete Product by ID\n",
      "7. Exit\n"
     ]
    },
    {
     "name": "stdin",
     "output_type": "stream",
     "text": [
      "Enter your choice:  3\n"
     ]
    },
    {
     "name": "stdout",
     "output_type": "stream",
     "text": [
      "ID: 1, Name: brush, Category: grooming, Stock: 10\n",
      "ID: 2, Name: bed, Category: furniture, Stock: 15\n",
      "\n",
      "Sales Management System\n",
      "1. Add Product\n",
      "2. Update Stock\n",
      "3. Display All Products\n",
      "4. Display Products by Category\n",
      "5. Search Product by ID\n",
      "6. Delete Product by ID\n",
      "7. Exit\n"
     ]
    },
    {
     "name": "stdin",
     "output_type": "stream",
     "text": [
      "Enter your choice:  5\n",
      "Enter product ID:  2\n"
     ]
    },
    {
     "name": "stdout",
     "output_type": "stream",
     "text": [
      "ID: 2, Name: bed, Category: furniture, Stock: 15\n",
      "\n",
      "Sales Management System\n",
      "1. Add Product\n",
      "2. Update Stock\n",
      "3. Display All Products\n",
      "4. Display Products by Category\n",
      "5. Search Product by ID\n",
      "6. Delete Product by ID\n",
      "7. Exit\n"
     ]
    },
    {
     "name": "stdin",
     "output_type": "stream",
     "text": [
      "Enter your choice:  6\n",
      "Enter product ID:  1\n"
     ]
    },
    {
     "name": "stdout",
     "output_type": "stream",
     "text": [
      "Product 1 deleted.\n",
      "\n",
      "Sales Management System\n",
      "1. Add Product\n",
      "2. Update Stock\n",
      "3. Display All Products\n",
      "4. Display Products by Category\n",
      "5. Search Product by ID\n",
      "6. Delete Product by ID\n",
      "7. Exit\n"
     ]
    },
    {
     "name": "stdin",
     "output_type": "stream",
     "text": [
      "Enter your choice:  3\n"
     ]
    },
    {
     "name": "stdout",
     "output_type": "stream",
     "text": [
      "ID: 2, Name: bed, Category: furniture, Stock: 15\n",
      "\n",
      "Sales Management System\n",
      "1. Add Product\n",
      "2. Update Stock\n",
      "3. Display All Products\n",
      "4. Display Products by Category\n",
      "5. Search Product by ID\n",
      "6. Delete Product by ID\n",
      "7. Exit\n"
     ]
    },
    {
     "name": "stdin",
     "output_type": "stream",
     "text": [
      "Enter your choice:  7\n"
     ]
    }
   ],
   "source": [
    "# Menu\n",
    "def menu():\n",
    "    load_data_from_file()\n",
    "    while True:\n",
    "        print(\"\\nSales Management System\")\n",
    "        print(\"1. Add Product\")\n",
    "        print(\"2. Update Stock\")\n",
    "        print(\"3. Display All Products\")\n",
    "        print(\"4. Display Products by Category\")\n",
    "        print(\"5. Search Product by ID\")\n",
    "        print(\"6. Delete Product by ID\")\n",
    "        print(\"7. Exit\")\n",
    "        choice = input(\"Enter your choice: \")\n",
    "\n",
    "        try:\n",
    "            if choice == '1':\n",
    "                product_id = input(\"Enter product ID: \")\n",
    "                name = input(\"Enter product name: \")\n",
    "                category = input(\"Enter product category: \")\n",
    "                stock = int(input(\"Enter stock quantity: \"))\n",
    "                add_product(product_id, name, category, stock)\n",
    "            elif choice == '2':\n",
    "                product_id = input(\"Enter product ID: \")\n",
    "                quantity = int(input(\"Enter quantity to update: \"))\n",
    "                update_stock(product_id, quantity)\n",
    "            elif choice == '3':\n",
    "                display_products()\n",
    "            elif choice == '4':\n",
    "                category = input(\"Enter category: \")\n",
    "                display_by_category(category)\n",
    "            elif choice == '5':\n",
    "                product_id = input(\"Enter product ID: \")\n",
    "                search_product(product_id)\n",
    "            elif choice == '6':\n",
    "                product_id = input(\"Enter product ID: \")\n",
    "                delete_product(product_id)\n",
    "            elif choice == '7':\n",
    "                break\n",
    "            else:\n",
    "                print(\"Invalid choice. Please try again.\")\n",
    "        except Exception as e:\n",
    "            print(f\"Error processing choice: {e}\")\n",
    "\n",
    "if __name__ == \"__main__\":\n",
    "    menu()"
   ]
  },
  {
   "cell_type": "code",
   "execution_count": null,
   "id": "35072a0c-c997-4e81-b23d-a14610db0a42",
   "metadata": {},
   "outputs": [],
   "source": []
  }
 ],
 "metadata": {
  "kernelspec": {
   "display_name": "Python 3 (ipykernel)",
   "language": "python",
   "name": "python3"
  },
  "language_info": {
   "codemirror_mode": {
    "name": "ipython",
    "version": 3
   },
   "file_extension": ".py",
   "mimetype": "text/x-python",
   "name": "python",
   "nbconvert_exporter": "python",
   "pygments_lexer": "ipython3",
   "version": "3.11.7"
  }
 },
 "nbformat": 4,
 "nbformat_minor": 5
}
