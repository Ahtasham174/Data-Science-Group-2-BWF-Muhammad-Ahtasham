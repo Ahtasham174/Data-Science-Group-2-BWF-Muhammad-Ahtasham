{
 "cells": [
  {
   "cell_type": "markdown",
   "id": "a07f6221-16d2-4268-8020-003773aa671e",
   "metadata": {},
   "source": [
    "# Task 11: NumPy advanced operations (indexing, slicing, broadcasting)"
   ]
  },
  {
   "cell_type": "markdown",
   "id": "1ae53538-e701-4768-8d99-3941931afcbc",
   "metadata": {},
   "source": [
    "## Indexing Practice "
   ]
  },
  {
   "cell_type": "code",
   "execution_count": 1,
   "id": "60256979-1258-4005-ac32-763928898dc1",
   "metadata": {},
   "outputs": [],
   "source": [
    "import numpy as np"
   ]
  },
  {
   "cell_type": "markdown",
   "id": "19aae243-e195-437a-8fc8-11b10de19c09",
   "metadata": {},
   "source": [
    "### Indexing in 1D arrays"
   ]
  },
  {
   "cell_type": "code",
   "execution_count": 2,
   "id": "bc54f91b-45bd-49cd-bad2-68e290c9fdee",
   "metadata": {},
   "outputs": [
    {
     "name": "stdout",
     "output_type": "stream",
     "text": [
      "Original Array: [ 0  1  2  3  4  5  6  7  8  9 10 11 12 13 14]\n",
      "Element at index 3 in Matrix: 3\n",
      "Element at last index in Matrix: 14\n",
      "Element at index 9 in Matrix: 9\n"
     ]
    }
   ],
   "source": [
    "arr1=np.arange(15)\n",
    "print(\"Original Array:\",arr1)\n",
    "print(\"Element at index 3 in Matrix:\",arr1[3])\n",
    "print(\"Element at last index in Matrix:\",arr1[-1])\n",
    "print(\"Element at index 9 in Matrix:\",arr1[9])"
   ]
  },
  {
   "cell_type": "markdown",
   "id": "6cfccfca-25ac-46ad-b673-72131e6d2c34",
   "metadata": {},
   "source": [
    "### Indexing in 2D Arrays"
   ]
  },
  {
   "cell_type": "code",
   "execution_count": 3,
   "id": "f1e65119-e25f-4382-a64e-d80cc3e2da2c",
   "metadata": {},
   "outputs": [
    {
     "name": "stdout",
     "output_type": "stream",
     "text": [
      "Original Array:\n",
      " [[ 10  20  30]\n",
      " [ 40  50  60]\n",
      " [ 70  80  90]\n",
      " [100 110 120]]\n",
      "Element at r=0,c=2 in Matrix: 30\n",
      "Element at r=2,c=0  in Matrix: 70\n",
      "Element at r=3,c=2  in Matrix: 120\n",
      "Element at r=2,c=2  in Matrix: 90\n",
      "Element at r=1,c=0  in Matrix: 40\n"
     ]
    }
   ],
   "source": [
    "arr2=np.array([[10,20,30],[40,50,60],[70,80,90],[100,110,120]])\n",
    "print(\"Original Array:\\n\",arr2)\n",
    "print(\"Element at r=0,c=2 in Matrix:\",arr2[0][2])\n",
    "print(\"Element at r=2,c=0  in Matrix:\",arr2[2][0])\n",
    "print(\"Element at r=3,c=2  in Matrix:\",arr2[3][2])\n",
    "print(\"Element at r=2,c=2  in Matrix:\",arr2[2][2])\n",
    "print(\"Element at r=1,c=0  in Matrix:\",arr2[1][0])"
   ]
  },
  {
   "cell_type": "markdown",
   "id": "aef997c1-771c-4f33-9270-91b739d47ed9",
   "metadata": {},
   "source": [
    "### Indexing in 3D Arrays"
   ]
  },
  {
   "cell_type": "code",
   "execution_count": 4,
   "id": "ac6bedd0-b5d0-4bc1-8f13-e724428529ef",
   "metadata": {},
   "outputs": [
    {
     "name": "stdout",
     "output_type": "stream",
     "text": [
      "Original Array:\n",
      " [[[ 1  2  3]\n",
      "  [ 4  5  6]]\n",
      "\n",
      " [[ 7  8  9]\n",
      "  [10 11 12]]\n",
      "\n",
      " [[13 14 15]\n",
      "  [16 17 18]]]\n",
      "Element at d=0,r=0,c=0 in Matrix: 1\n",
      "Element at d=1,r=0,c=2  in Matrix: 9\n",
      "Element at d=1,r=1,c=1  in Matrix: 11\n",
      "Element at d=2,r=1,c=0  in Matrix: 16\n",
      "Element at d=2,r=0,c=1  in Matrix: 14\n"
     ]
    }
   ],
   "source": [
    "arr3=np.array([[[1,2,3],[4,5,6]],\n",
    "              [[7,8,9],[10,11,12]],\n",
    "              [[13,14,15],[16,17,18]]])\n",
    "print(\"Original Array:\\n\",arr3)\n",
    "print(\"Element at d=0,r=0,c=0 in Matrix:\",arr3[0,0,0])\n",
    "print(\"Element at d=1,r=0,c=2  in Matrix:\",arr3[1,0,2])\n",
    "print(\"Element at d=1,r=1,c=1  in Matrix:\",arr3[1,1,1])\n",
    "print(\"Element at d=2,r=1,c=0  in Matrix:\",arr3[2,1,0])\n",
    "print(\"Element at d=2,r=0,c=1  in Matrix:\",arr3[2,0,1])"
   ]
  },
  {
   "cell_type": "markdown",
   "id": "a65bda44-b68b-4006-8bff-d1210c4622a9",
   "metadata": {},
   "source": [
    "## Problems of Indexing"
   ]
  },
  {
   "cell_type": "markdown",
   "id": "59565fb7-c34c-4c72-8c4b-7817db79306a",
   "metadata": {},
   "source": [
    "### 1. Given an array of integers, use fancy indexing to extract elements at positions [1, 3, 4, 7]."
   ]
  },
  {
   "cell_type": "code",
   "execution_count": 5,
   "id": "87358927-0ece-4650-a64b-adfa1f5f8547",
   "metadata": {},
   "outputs": [
    {
     "name": "stdout",
     "output_type": "stream",
     "text": [
      "[10 20 25 40]\n"
     ]
    }
   ],
   "source": [
    "arr=np.array([5,10,15,20,25,30,35,40])\n",
    "index=[1,3,4,7]\n",
    "out=arr[index]\n",
    "print(out)"
   ]
  },
  {
   "cell_type": "markdown",
   "id": "6803cd37-481a-43e9-a447-39aff1b139ec",
   "metadata": {},
   "source": [
    "### 2. Given a 2D array, use fancy indexing to select rows [0, 2, 3] and columns [1, 3]."
   ]
  },
  {
   "cell_type": "code",
   "execution_count": 6,
   "id": "30f5026c-d424-4fb7-bcd3-23c79518b444",
   "metadata": {},
   "outputs": [
    {
     "name": "stdout",
     "output_type": "stream",
     "text": [
      "[[ 2  4]\n",
      " [10 12]\n",
      " [14 16]]\n"
     ]
    }
   ],
   "source": [
    "arr4=np.array([[1, 2, 3, 4],\n",
    "                   [5, 6, 7, 8],\n",
    "                   [9, 10, 11, 12],\n",
    "                   [13, 14, 15, 16]])\n",
    "row=np.array([0, 2, 3])\n",
    "col=np.array([1, 3])\n",
    "row=row.reshape(-1, 1)   # reshape rows by adding dimension of size 1\n",
    "result=arr4[row,col]\n",
    "print(result)"
   ]
  },
  {
   "cell_type": "markdown",
   "id": "7c79f967-037e-4383-8e44-d55478a9aef3",
   "metadata": {},
   "source": [
    "### 3. Given an array of integers, use fancy indexing to extract elements at positions [1, 3, 4, 6]."
   ]
  },
  {
   "cell_type": "code",
   "execution_count": 7,
   "id": "9097500d-0630-409e-a255-5e68c19207ab",
   "metadata": {},
   "outputs": [
    {
     "name": "stdout",
     "output_type": "stream",
     "text": [
      "[0 1 2 3 4 5 6 7 8 9]\n",
      "[1 3 4 6]\n"
     ]
    }
   ],
   "source": [
    "arr=np.arange(10)\n",
    "print(arr)\n",
    "index=[1,3,4,6]\n",
    "out=arr[index]\n",
    "print(out)"
   ]
  },
  {
   "cell_type": "markdown",
   "id": "22e8b989-2c30-4c2d-b6f7-406b9046945e",
   "metadata": {},
   "source": [
    "### 4. Given a 2D array, use fancy indexing to select rows [0, 2, 2] and columns [1, 3]."
   ]
  },
  {
   "cell_type": "code",
   "execution_count": 8,
   "id": "f5b74a24-dd9e-4742-b708-0bad876fa01c",
   "metadata": {},
   "outputs": [
    {
     "name": "stdout",
     "output_type": "stream",
     "text": [
      "[[ 20  40]\n",
      " [100 120]\n",
      " [140 160]]\n"
     ]
    }
   ],
   "source": [
    "arr4=np.array([[10, 20, 30, 40],\n",
    "                   [50, 60, 70, 80],\n",
    "                   [90, 100, 110, 120],\n",
    "                   [130, 140, 150, 160],\n",
    "                   [170, 180, 190, 200]])\n",
    "row=np.array([0, 2, 3])\n",
    "col=np.array([1, 3])\n",
    "row=row.reshape(-1, 1)   # reshape rows by adding dimension of size 1\n",
    "result=arr4[row,col]\n",
    "print(result)"
   ]
  },
  {
   "cell_type": "markdown",
   "id": "a0fbbc9c-555a-4ca4-99b8-bf2957d0d2e9",
   "metadata": {},
   "source": [
    "## Slicing Practice"
   ]
  },
  {
   "cell_type": "markdown",
   "id": "4712f6ae-ac67-40b3-bd64-7894d8174f39",
   "metadata": {},
   "source": [
    "### Slicing in 1D arrays"
   ]
  },
  {
   "cell_type": "code",
   "execution_count": 9,
   "id": "db278922-b1a2-41f6-b3be-6b0dbc29d9b0",
   "metadata": {},
   "outputs": [
    {
     "name": "stdout",
     "output_type": "stream",
     "text": [
      "Original Array: [ 0  1  2  3  4  5  6  7  8  9 10 11 12 13 14]\n",
      "Slice from index 1 to 6: [1 2 3 4 5 6]\n",
      "Slice from start to index 4: [0 1 2 3 4]\n",
      "Slice from index 9 to end: [ 9 10 11 12 13 14]\n"
     ]
    }
   ],
   "source": [
    "arr1=np.arange(15)\n",
    "print(\"Original Array:\",arr1)\n",
    "print(\"Slice from index 1 to 6:\", arr1[1:7])\n",
    "print(\"Slice from start to index 4:\", arr1[:5])\n",
    "print(\"Slice from index 9 to end:\", arr1[9:])"
   ]
  },
  {
   "cell_type": "markdown",
   "id": "24e9d302-7e71-4906-b258-a7cdd7a9d014",
   "metadata": {},
   "source": [
    "### Slicing in 2D arrays"
   ]
  },
  {
   "cell_type": "code",
   "execution_count": 10,
   "id": "c68937db-8268-4092-9056-7f2c9cbd4c09",
   "metadata": {},
   "outputs": [
    {
     "name": "stdout",
     "output_type": "stream",
     "text": [
      "Original Matrix:\n",
      " [[ 10  20  30]\n",
      " [ 40  50  60]\n",
      " [ 70  80  90]\n",
      " [100 110 120]]\n",
      "Slice from index 1 to 4:\n",
      " [[ 40  50  60]\n",
      " [ 70  80  90]\n",
      " [100 110 120]]\n",
      "Slice from start to index 1:\n",
      " [[10 20 30]\n",
      " [40 50 60]]\n",
      "Slice from index 2 to end:\n",
      " [[ 70  80  90]\n",
      " [100 110 120]]\n"
     ]
    }
   ],
   "source": [
    "arr2=np.array([[10,20,30],[40,50,60],[70,80,90],[100,110,120]])\n",
    "print(\"Original Matrix:\\n\",arr2)\n",
    "print(\"Slice from index 1 to 4:\\n\", arr2[1:5])\n",
    "print(\"Slice from start to index 1:\\n\", arr2[:2])\n",
    "print(\"Slice from index 2 to end:\\n\", arr2[2:])"
   ]
  },
  {
   "cell_type": "markdown",
   "id": "d88f2d07-e2c3-41f8-a8a3-f0881fcd29e2",
   "metadata": {},
   "source": [
    "### Slicing in 3D arrays"
   ]
  },
  {
   "cell_type": "code",
   "execution_count": 11,
   "id": "b92d0bca-d268-42ff-9089-417725e583d9",
   "metadata": {},
   "outputs": [
    {
     "name": "stdout",
     "output_type": "stream",
     "text": [
      "Original array:\n",
      " [[[ 1  2  3  4  5]\n",
      "  [ 6  7  8  9 10]\n",
      "  [11 12 13 14 15]\n",
      "  [16 17 18 19 20]]\n",
      "\n",
      " [[21 22 23 24 25]\n",
      "  [26 27 28 29 30]\n",
      "  [31 32 33 34 35]\n",
      "  [36 37 38 39 40]]\n",
      "\n",
      " [[41 42 43 44 45]\n",
      "  [46 47 48 49 50]\n",
      "  [51 52 53 54 55]\n",
      "  [56 57 58 59 60]]]\n",
      "\n",
      "Elements from first and second matrices:\n",
      " [[[ 1  2  3  4  5]\n",
      "  [ 6  7  8  9 10]\n",
      "  [11 12 13 14 15]\n",
      "  [16 17 18 19 20]]\n",
      "\n",
      " [[21 22 23 24 25]\n",
      "  [26 27 28 29 30]\n",
      "  [31 32 33 34 35]\n",
      "  [36 37 38 39 40]]]\n",
      "\n",
      "Rows with index 1 from all matrices:\n",
      " [[ 6  7  8  9 10]\n",
      " [26 27 28 29 30]\n",
      " [46 47 48 49 50]]\n",
      "\n",
      "Columns with index 1 and 3 from the second matrix:\n",
      " [[22 27 32 37]\n",
      " [24 29 34 39]]\n",
      "\n",
      "Every other element at the third dimension:\n",
      " [[[ 1  3  5]\n",
      "  [ 6  8 10]\n",
      "  [11 13 15]\n",
      "  [16 18 20]]\n",
      "\n",
      " [[21 23 25]\n",
      "  [26 28 30]\n",
      "  [31 33 35]\n",
      "  [36 38 40]]\n",
      "\n",
      " [[41 43 45]\n",
      "  [46 48 50]\n",
      "  [51 53 55]\n",
      "  [56 58 60]]]\n"
     ]
    }
   ],
   "source": [
    "arr3 = np.arange(1,61).reshape(3, 4, 5)\n",
    "print(\"Original array:\\n\", arr3)\n",
    "\n",
    "m1 = arr3[:2, :, :]  \n",
    "print(\"\\nElements from first and second matrices:\\n\",m1)\n",
    "m2 = arr3[:, 1, :]  \n",
    "print(\"\\nRows with index 1 from all matrices:\\n\",m2)\n",
    "m3 = arr3[1, :, [1, 3]] \n",
    "print(\"\\nColumns with index 1 and 3 from the second matrix:\\n\", m3)\n",
    "m4 = arr3[:, :, ::2]\n",
    "print(\"\\nEvery other element at the third dimension:\\n\", m4)"
   ]
  },
  {
   "cell_type": "markdown",
   "id": "042b4a7c-6fd8-4416-9b7f-0798cf41c7bd",
   "metadata": {},
   "source": [
    "## Problems of Slicing"
   ]
  },
  {
   "cell_type": "markdown",
   "id": "63b79277-d0c3-49fd-84c5-7602c3abb0fe",
   "metadata": {},
   "source": [
    "### 1. Given a 2D array of shape (5, 5), extract a 3x3 sub-array starting from the element at position (1, 1)."
   ]
  },
  {
   "cell_type": "code",
   "execution_count": 12,
   "id": "79300af9-0c58-414c-89c5-13b6a4607b28",
   "metadata": {},
   "outputs": [
    {
     "name": "stdout",
     "output_type": "stream",
     "text": [
      "[[ 7  8  9]\n",
      " [12 13 14]\n",
      " [17 18 19]]\n"
     ]
    }
   ],
   "source": [
    "arr = np.array([[1, 2, 3, 4, 5],\n",
    "                [6, 7, 8, 9, 10],\n",
    "                [11, 12, 13, 14, 15],\n",
    "                [16, 17, 18, 19, 20],\n",
    "                [21, 22, 23, 24, 25]])\n",
    "\n",
    "res = arr[1:4, 1:4]\n",
    "print(res)"
   ]
  },
  {
   "cell_type": "markdown",
   "id": "2378db10-ce65-4c35-a60c-b06dbb4cf4df",
   "metadata": {},
   "source": [
    "### 2. From a 3D array of shape (4, 3, 2), extract all elements in the first two rows and all columns of the second slice along the third axis."
   ]
  },
  {
   "cell_type": "code",
   "execution_count": 13,
   "id": "86e5ea30-bcee-4496-a7d7-9d048aa460da",
   "metadata": {},
   "outputs": [
    {
     "name": "stdout",
     "output_type": "stream",
     "text": [
      "Original array:\n",
      " [[[ 0  1]\n",
      "  [ 2  3]\n",
      "  [ 4  5]]\n",
      "\n",
      " [[ 6  7]\n",
      "  [ 8  9]\n",
      "  [10 11]]\n",
      "\n",
      " [[12 13]\n",
      "  [14 15]\n",
      "  [16 17]]\n",
      "\n",
      " [[18 19]\n",
      "  [20 21]\n",
      "  [22 23]]]\n",
      "\n",
      "Resulting matrix\n",
      " [[ 1  3]\n",
      " [ 7  9]\n",
      " [13 15]\n",
      " [19 21]]\n"
     ]
    }
   ],
   "source": [
    "arr = np.arange(24).reshape(4, 3, 2)\n",
    "print(\"Original array:\\n\", arr)\n",
    "print(\"\\nResulting matrix\\n\",arr[:,:2,1])"
   ]
  },
  {
   "cell_type": "markdown",
   "id": "8b6d528d-9cb7-4b17-ba38-984a7ffe4c53",
   "metadata": {},
   "source": [
    "### 3. Given a 2D array of shape (5, 5), extract a 2x2 sub-array starting from the element at position (1, 1)."
   ]
  },
  {
   "cell_type": "code",
   "execution_count": 14,
   "id": "5a3bca39-19a0-4c98-a789-1984504b139a",
   "metadata": {},
   "outputs": [
    {
     "name": "stdout",
     "output_type": "stream",
     "text": [
      "Original array:\n",
      " [[ 0  1  2  3  4]\n",
      " [ 5  6  7  8  9]\n",
      " [10 11 12 13 14]\n",
      " [15 16 17 18 19]\n",
      " [20 21 22 23 24]]\n",
      "\n",
      "Resulting matrix\n",
      " [[ 6  7]\n",
      " [11 12]]\n"
     ]
    }
   ],
   "source": [
    "arr2 = np.arange(25).reshape(5, 5)\n",
    "print(\"Original array:\\n\", arr2)\n",
    "print(\"\\nResulting matrix\\n\",arr2[1:3,1:3])"
   ]
  },
  {
   "cell_type": "markdown",
   "id": "4417079c-09ea-4933-bbf8-b77b0e72380f",
   "metadata": {},
   "source": [
    "### 4. From a 3D array of shape (3, 2, 1), extract all elements in the first two rows and all columns of the second slice along the third axis."
   ]
  },
  {
   "cell_type": "code",
   "execution_count": 15,
   "id": "ecfe5e00-6eb7-4b4f-be5e-215673d61361",
   "metadata": {},
   "outputs": [
    {
     "name": "stdout",
     "output_type": "stream",
     "text": [
      "Original array:\n",
      " [[[0]\n",
      "  [1]]\n",
      "\n",
      " [[2]\n",
      "  [3]]\n",
      "\n",
      " [[4]\n",
      "  [5]]]\n",
      "\n",
      "Resulting matrix\n",
      " [[0 1]\n",
      " [2 3]\n",
      " [4 5]]\n"
     ]
    }
   ],
   "source": [
    "arr3 = np.arange(6).reshape(3, 2, 1)\n",
    "print(\"Original array:\\n\", arr3)\n",
    "print(\"\\nResulting matrix\\n\",arr3[:,:2,0])"
   ]
  },
  {
   "cell_type": "markdown",
   "id": "974093c7-0c0f-45ad-a01f-b3490da37617",
   "metadata": {},
   "source": [
    "### 5. Given a 2D array of shape (6, 6), extract every second row and every second column, then add a 1D array to each row of the sliced array."
   ]
  },
  {
   "cell_type": "code",
   "execution_count": 16,
   "id": "4567145a-9f7f-4146-ab51-d3b4a0aa9563",
   "metadata": {},
   "outputs": [
    {
     "name": "stdout",
     "output_type": "stream",
     "text": [
      "Original array:\n",
      " [[ 0  1  2  3  4  5]\n",
      " [ 6  7  8  9 10 11]\n",
      " [12 13 14 15 16 17]\n",
      " [18 19 20 21 22 23]\n",
      " [24 25 26 27 28 29]\n",
      " [30 31 32 33 34 35]]\n",
      "\n",
      "1D array:\n",
      " [1. 1. 1.]\n",
      "\n",
      "Resulting matrix after addition:\n",
      " [[ 1.  3.  5.]\n",
      " [13. 15. 17.]\n",
      " [25. 27. 29.]]\n"
     ]
    }
   ],
   "source": [
    "arr2 = np.arange(36).reshape(6, 6)\n",
    "print(\"Original array:\\n\", arr2)\n",
    "arr3=np.ones(3)\n",
    "add_arr=arr3.reshape(1, -1)  # reshaping 1D array\n",
    "arr4=arr2[::2,::2]  # sliced array\n",
    "result= add_arr+arr4\n",
    "print(\"\\n1D array:\\n\",arr3)\n",
    "print(\"\\nResulting matrix after addition:\\n\",result)"
   ]
  },
  {
   "cell_type": "markdown",
   "id": "c5c4a1e6-c2e6-491c-a87f-809b25d40101",
   "metadata": {},
   "source": [
    "### 6. From a 3D array of shape (4, 3, 2), extract a sub-array using slicing and then use broadcasting to subtract a 2D array from each slice along the third axis."
   ]
  },
  {
   "cell_type": "code",
   "execution_count": 17,
   "id": "4b5f86f2-134f-4b9b-b7c8-ca90b5c07af9",
   "metadata": {},
   "outputs": [
    {
     "name": "stdout",
     "output_type": "stream",
     "text": [
      "Original 3D array:\n",
      " [[[ 0  1]\n",
      "  [ 2  3]\n",
      "  [ 4  5]]\n",
      "\n",
      " [[ 6  7]\n",
      "  [ 8  9]\n",
      "  [10 11]]\n",
      "\n",
      " [[12 13]\n",
      "  [14 15]\n",
      "  [16 17]]\n",
      "\n",
      " [[18 19]\n",
      "  [20 21]\n",
      "  [22 23]]]\n",
      "\n",
      "Sliced array:\n",
      " [[[ 0  1]\n",
      "  [ 2  3]]\n",
      "\n",
      " [[ 6  7]\n",
      "  [ 8  9]]\n",
      "\n",
      " [[12 13]\n",
      "  [14 15]]\n",
      "\n",
      " [[18 19]\n",
      "  [20 21]]]\n",
      "\n",
      "2D array:\n",
      " [[0 1 2 3]\n",
      " [4 5 6 7]]\n",
      "\n",
      "Result after broadcasting subtraction:\n",
      " [[[ 0  1]\n",
      "  [-2 -1]]\n",
      "\n",
      " [[ 5  6]\n",
      "  [ 3  4]]\n",
      "\n",
      " [[10 11]\n",
      "  [ 8  9]]\n",
      "\n",
      " [[15 16]\n",
      "  [13 14]]]\n"
     ]
    }
   ],
   "source": [
    "arr1 = np.arange(24).reshape(4, 3, 2)\n",
    "print(\"Original 3D array:\\n\", arr1)\n",
    "arr2 = arr1[:, :2, :]\n",
    "print(\"\\nSliced array:\\n\", arr2)\n",
    "arr3 = np.arange(8).reshape(2, 4)\n",
    "print(\"\\n2D array:\\n\", arr3)\n",
    "result = arr2 - arr3.T[:, :, np.newaxis]\n",
    "print(\"\\nResult after broadcasting subtraction:\\n\", result)"
   ]
  },
  {
   "cell_type": "markdown",
   "id": "a308c544-3ea2-4cc1-97b4-264b73daae1d",
   "metadata": {},
   "source": [
    "### 7. Use slicing to reverse the order of elements in each row of a 2D array."
   ]
  },
  {
   "cell_type": "code",
   "execution_count": 18,
   "id": "b62c304a-dc65-455a-8112-3b2049b4bcc0",
   "metadata": {},
   "outputs": [
    {
     "name": "stdout",
     "output_type": "stream",
     "text": [
      "Original array:\n",
      " [[ 0  1  2  3  4]\n",
      " [ 5  6  7  8  9]\n",
      " [10 11 12 13 14]\n",
      " [15 16 17 18 19]\n",
      " [20 21 22 23 24]]\n",
      "\n",
      "Resulting matrix\n",
      " [[ 4  3  2  1  0]\n",
      " [ 9  8  7  6  5]\n",
      " [14 13 12 11 10]\n",
      " [19 18 17 16 15]\n",
      " [24 23 22 21 20]]\n"
     ]
    }
   ],
   "source": [
    "arr2 = np.arange(25).reshape(5, 5)\n",
    "print(\"Original array:\\n\", arr2)\n",
    "print(\"\\nResulting matrix\\n\",arr2[:,::-1])"
   ]
  },
  {
   "cell_type": "markdown",
   "id": "9a64e398-1d5f-4c8a-83e6-b6fed5bf8361",
   "metadata": {},
   "source": [
    "### 8. Given a 3D array of shape (4, 5, 6), use slicing to extract a sub-array of shape (2, 3, 4) and then use broadcasting to add a 1D array of shape (4,) to each row along the third axis."
   ]
  },
  {
   "cell_type": "code",
   "execution_count": 19,
   "id": "7a03c6f5-71e2-42f4-ae67-2f8f399c5a28",
   "metadata": {},
   "outputs": [
    {
     "name": "stdout",
     "output_type": "stream",
     "text": [
      "\n",
      "3D array:\n",
      " [[[70 17 19 94 23 12]\n",
      "  [28 16 84 54 13 98]\n",
      "  [73 98 39 31 67 36]\n",
      "  [93 34 95 69 27 12]\n",
      "  [45  6 20 78 38 99]]\n",
      "\n",
      " [[24 14 30 32  6 55]\n",
      "  [38 51 36 44 22 38]\n",
      "  [68  7 55 90  5 28]\n",
      "  [ 2 72 62 98 47 67]\n",
      "  [35 53 70 44 95 74]]\n",
      "\n",
      " [[77 99 46 46 63  5]\n",
      "  [ 3 24 53 68 97 22]\n",
      "  [98 69 47  2 32 27]\n",
      "  [ 8  4 24 51 43 41]\n",
      "  [22 70 35 46 32 46]]\n",
      "\n",
      " [[26 29 47 26 96 55]\n",
      "  [34 33 39  9 52 48]\n",
      "  [63 96 24 89 14 42]\n",
      "  [51 86 53 51 11 54]\n",
      "  [30 63 16 38 62 91]]]\n",
      "\n",
      "1D array:\n",
      " [10 20 30 40]\n",
      "\n",
      "Result:\n",
      " [[[ 80  37  49 134]\n",
      "  [ 38  36 114  94]\n",
      "  [ 83 118  69  71]]\n",
      "\n",
      " [[ 34  34  60  72]\n",
      "  [ 48  71  66  84]\n",
      "  [ 78  27  85 130]]]\n"
     ]
    }
   ],
   "source": [
    "arr3 = np.random.randint(1, 100, size=(4, 5, 6))\n",
    "arr = arr3[:2, :3, :4]\n",
    "arr1 = np.array([10, 20, 30, 40])\n",
    "result = arr + arr1[np.newaxis, np.newaxis, :]\n",
    "print(\"\\n3D array:\\n\",arr3)\n",
    "print(\"\\n1D array:\\n\",arr1)\n",
    "print(\"\\nResult:\\n\",result)"
   ]
  },
  {
   "cell_type": "markdown",
   "id": "364ec104-7b83-49fa-aa75-52359e337e4b",
   "metadata": {},
   "source": [
    "### 9. From a 3D array of shape (3, 2, 1), extract a sub-array using slicing and then use broadcasting to subtract a 2D array from each slice along the third axis."
   ]
  },
  {
   "cell_type": "code",
   "execution_count": 20,
   "id": "58cfedcd-ef8a-4c60-a8de-78b51204dcd4",
   "metadata": {},
   "outputs": [
    {
     "name": "stdout",
     "output_type": "stream",
     "text": [
      "\n",
      "3D array:\n",
      " [[[0]\n",
      "  [1]]\n",
      "\n",
      " [[2]\n",
      "  [3]]\n",
      "\n",
      " [[4]\n",
      "  [5]]]\n",
      "\n",
      "1D array:\n",
      " [[10 20]]\n",
      "\n",
      "Result:\n",
      " [[[-10 -19]\n",
      "  [ -8 -17]\n",
      "  [ -6 -15]]]\n"
     ]
    }
   ],
   "source": [
    "arr3 = np.arange(6).reshape(3, 2, 1)\n",
    "arr = arr3[:, :, 0]\n",
    "arr1 = np.array([[10, 20]])\n",
    "result = arr - arr1[:, np.newaxis, :]\n",
    "print(\"\\n3D array:\\n\",arr3)\n",
    "print(\"\\n1D array:\\n\",arr1)\n",
    "print(\"\\nResult:\\n\",result)"
   ]
  },
  {
   "cell_type": "markdown",
   "id": "d35c156f-2312-4eae-a853-6a299831e80f",
   "metadata": {},
   "source": [
    "## Broadcasting Practice"
   ]
  },
  {
   "cell_type": "markdown",
   "id": "7b3d4fdf-f218-4845-be14-73be0ca68206",
   "metadata": {},
   "source": [
    "### Broadcasting in 1D Arrays"
   ]
  },
  {
   "cell_type": "code",
   "execution_count": 21,
   "id": "44246d4d-e761-42cd-9b4f-83ffabd511c8",
   "metadata": {},
   "outputs": [
    {
     "name": "stdout",
     "output_type": "stream",
     "text": [
      "Original Array: [ 0  1  2  3  4  5  6  7  8  9 10 11 12 13 14]\n",
      "Broadcasting 1 with Array: [ 1  2  3  4  5  6  7  8  9 10 11 12 13 14 15]\n",
      "Broadcasting 10 with Array: [10 11 12 13 14 15 16 17 18 19 20 21 22 23 24]\n",
      "Broadcasting Array_1 with Array_1: [ 0  2  4  6  8 10 12 14 16 18 20 22 24 26 28]\n"
     ]
    }
   ],
   "source": [
    "arr1=np.arange(15)\n",
    "print(\"Original Array:\",arr1)\n",
    "print(\"Broadcasting 1 with Array:\",arr1+1)\n",
    "print(\"Broadcasting 10 with Array:\",arr1+10)\n",
    "print(\"Broadcasting Array_1 with Array_1:\",arr1+arr1)"
   ]
  },
  {
   "cell_type": "markdown",
   "id": "cf3897d5-ffa9-4d25-8c51-0b180914c4d5",
   "metadata": {},
   "source": [
    "### Broadcasting in 2D Arrays"
   ]
  },
  {
   "cell_type": "code",
   "execution_count": 22,
   "id": "bb155cea-3cd8-43f7-96c8-79185cb76223",
   "metadata": {},
   "outputs": [
    {
     "name": "stdout",
     "output_type": "stream",
     "text": [
      "Original Array:\n",
      " [[ 10  20  30]\n",
      " [ 40  50  60]\n",
      " [ 70  80  90]\n",
      " [100 110 120]]\n",
      "\n",
      "Broadcasting 10 with Array_1:\n",
      " [[ 20  30  40]\n",
      " [ 50  60  70]\n",
      " [ 80  90 100]\n",
      " [110 120 130]]\n",
      "\n",
      "Broadcasting Array_1 with Array_1:\n",
      " [[ 20  40  60]\n",
      " [ 80 100 120]\n",
      " [140 160 180]\n",
      " [200 220 240]]\n",
      "\n",
      "Broadcasting Array_1 with Array_2:\n",
      " [[ 11  22  33]\n",
      " [ 41  52  63]\n",
      " [ 71  82  93]\n",
      " [101 112 123]]\n"
     ]
    }
   ],
   "source": [
    "arr1=np.array([[10,20,30],[40,50,60],[70,80,90],[100,110,120]])\n",
    "print(\"Original Array:\\n\",arr1)\n",
    "arr2 = np.array([1, 2, 3])\n",
    "print(\"\\nBroadcasting 10 with Array_1:\\n\",arr1+10)\n",
    "print(\"\\nBroadcasting Array_1 with Array_1:\\n\",arr1+arr1)\n",
    "print(\"\\nBroadcasting Array_1 with Array_2:\\n\",arr1+arr2)"
   ]
  },
  {
   "cell_type": "markdown",
   "id": "e9c3e1ac-ad26-4c1c-a0c1-d34de5fe99cf",
   "metadata": {},
   "source": [
    "### Broadcasting in 3D Arrays"
   ]
  },
  {
   "cell_type": "code",
   "execution_count": 23,
   "id": "68230e62-c1db-4676-88dc-56b6fc115928",
   "metadata": {},
   "outputs": [
    {
     "name": "stdout",
     "output_type": "stream",
     "text": [
      "Original Array:\n",
      " [[[ 0  1]\n",
      "  [ 2  3]]\n",
      "\n",
      " [[ 4  5]\n",
      "  [ 6  7]]\n",
      "\n",
      " [[ 8  9]\n",
      "  [10 11]]]\n",
      "\n",
      "Broadcasting 5 with Array_3:\n",
      " [[[ 5  6]\n",
      "  [ 7  8]]\n",
      "\n",
      " [[ 9 10]\n",
      "  [11 12]]\n",
      "\n",
      " [[13 14]\n",
      "  [15 16]]]\n",
      "\n",
      "3D Array after broadcasting/adding 1D array:\n",
      " [[[ 1  3]\n",
      "  [ 3  5]]\n",
      "\n",
      " [[ 5  7]\n",
      "  [ 7  9]]\n",
      "\n",
      " [[ 9 11]\n",
      "  [11 13]]]\n",
      "\n",
      "3D Array after broadcasting/adding 2D array:\n",
      " [[[ 1  2]\n",
      "  [ 3  4]]\n",
      "\n",
      " [[ 6  7]\n",
      "  [ 8  9]]\n",
      "\n",
      " [[11 12]\n",
      "  [13 14]]]\n"
     ]
    }
   ],
   "source": [
    "arr3=np.arange(12).reshape(3, 2, 2)\n",
    "print(\"Original Array:\\n\",arr3)\n",
    "print(\"\\nBroadcasting 5 with Array_3:\\n\",arr3+5)\n",
    "arr1 = np.array([1, 2])\n",
    "print(\"\\n3D Array after broadcasting/adding 1D array:\\n\", arr3 + arr1)\n",
    "arr2 = np.array([[1], [2], [3]])\n",
    "print(\"\\n3D Array after broadcasting/adding 2D array:\\n\", arr3 + arr2[:, np.newaxis, :])"
   ]
  },
  {
   "cell_type": "markdown",
   "id": "96267e46-7358-40e3-9f5c-66494280b349",
   "metadata": {},
   "source": [
    "## Problems for Broadcasting"
   ]
  },
  {
   "cell_type": "markdown",
   "id": "2fb84353-4d77-480f-9850-efb4889f4fb8",
   "metadata": {},
   "source": [
    "### 1. Add a 1D array of shape (3,) to each row of a 2D array of shape (4, 3)."
   ]
  },
  {
   "cell_type": "code",
   "execution_count": 24,
   "id": "de3f85b8-a9c0-4464-87c6-517e4f9c5334",
   "metadata": {},
   "outputs": [
    {
     "name": "stdout",
     "output_type": "stream",
     "text": [
      "2D array:\n",
      " [[ 0  1  2]\n",
      " [ 3  4  5]\n",
      " [ 6  7  8]\n",
      " [ 9 10 11]]\n",
      "\n",
      "1D array:\n",
      " [10 20 30]\n",
      "\n",
      "Result:\n",
      " [[10 21 32]\n",
      " [13 24 35]\n",
      " [16 27 38]\n",
      " [19 30 41]]\n"
     ]
    }
   ],
   "source": [
    "arr2 = np.arange(12).reshape(4, 3)\n",
    "arr1 = np.array([10, 20, 30])\n",
    "result = arr1+ arr2\n",
    "print(\"2D array:\\n\",arr2)\n",
    "print(\"\\n1D array:\\n\",arr1)\n",
    "print(\"\\nResult:\\n\",result)"
   ]
  },
  {
   "cell_type": "markdown",
   "id": "0c474f4d-d60b-4283-84d9-0b34ada78d71",
   "metadata": {},
   "source": [
    "### 2. Multiply a 2D array of shape (3, 3) by a 1D array of shape (3,)."
   ]
  },
  {
   "cell_type": "code",
   "execution_count": 25,
   "id": "8ca854f0-a170-46e7-a3fe-1212d12c98a6",
   "metadata": {},
   "outputs": [
    {
     "name": "stdout",
     "output_type": "stream",
     "text": [
      "2D array:\n",
      " [[0 1 2]\n",
      " [3 4 5]\n",
      " [6 7 8]]\n",
      "\n",
      "1D array:\n",
      " [0 1 2]\n",
      "\n",
      "Result:\n",
      " [[ 0  1  4]\n",
      " [ 0  4 10]\n",
      " [ 0  7 16]]\n"
     ]
    }
   ],
   "source": [
    "arr2 = np.arange(9).reshape(3, 3)\n",
    "arr1 = np.arange(3).reshape(3,)\n",
    "result = arr1 * arr2\n",
    "print(\"2D array:\\n\",arr2)\n",
    "print(\"\\n1D array:\\n\",arr1)\n",
    "print(\"\\nResult:\\n\",result)"
   ]
  },
  {
   "cell_type": "markdown",
   "id": "68e687d0-0f35-441d-9fd9-ed4beb113842",
   "metadata": {},
   "source": [
    "### 3. Create two 2D arrays of shapes (3, 1) and (1, 4) respectively, and perform element-wise addition."
   ]
  },
  {
   "cell_type": "code",
   "execution_count": 26,
   "id": "2cbc0eee-68de-4560-bae7-0e820c215537",
   "metadata": {},
   "outputs": [
    {
     "name": "stdout",
     "output_type": "stream",
     "text": [
      "2D array 1:\n",
      " [[0]\n",
      " [1]\n",
      " [2]]\n",
      "\n",
      "2D array 2:\n",
      " [[0 1 2 3]]\n",
      "\n",
      "Result:\n",
      " [[0 1 2 3]\n",
      " [1 2 3 4]\n",
      " [2 3 4 5]]\n"
     ]
    }
   ],
   "source": [
    "arr2 = np.arange(3).reshape(3, 1)\n",
    "arr1 = np.arange(4).reshape(1, 4)\n",
    "result = arr1+ arr2\n",
    "print(\"2D array 1:\\n\",arr2)\n",
    "print(\"\\n2D array 2:\\n\",arr1)\n",
    "print(\"\\nResult:\\n\",result)"
   ]
  },
  {
   "cell_type": "markdown",
   "id": "6edf0f9d-cd14-4903-924e-534b5ad4db48",
   "metadata": {},
   "source": [
    "### 4. Given a 3D array of shape (2, 3, 4), add a 2D array of shape (3, 4) to each 2D slice along the first axis."
   ]
  },
  {
   "cell_type": "code",
   "execution_count": 27,
   "id": "1cc76ca4-1dc9-46ae-a643-1e0297f19323",
   "metadata": {},
   "outputs": [
    {
     "name": "stdout",
     "output_type": "stream",
     "text": [
      "3D array:\n",
      " [[[ 0  1  2  3]\n",
      "  [ 4  5  6  7]\n",
      "  [ 8  9 10 11]]\n",
      "\n",
      " [[12 13 14 15]\n",
      "  [16 17 18 19]\n",
      "  [20 21 22 23]]]\n",
      "\n",
      "2D array:\n",
      " [[ 0  1  2  3]\n",
      " [ 4  5  6  7]\n",
      " [ 8  9 10 11]]\n",
      "\n",
      "Result:\n",
      " [[[ 0  2  4  6]\n",
      "  [ 8 10 12 14]\n",
      "  [16 18 20 22]]\n",
      "\n",
      " [[12 14 16 18]\n",
      "  [20 22 24 26]\n",
      "  [28 30 32 34]]]\n"
     ]
    }
   ],
   "source": [
    "arr2 = np.arange(24).reshape(2, 3, 4)\n",
    "arr1 = np.arange(12).reshape(3, 4)\n",
    "result = arr1+ arr2\n",
    "print(\"3D array:\\n\",arr2)\n",
    "print(\"\\n2D array:\\n\",arr1)\n",
    "print(\"\\nResult:\\n\",result)"
   ]
  },
  {
   "cell_type": "markdown",
   "id": "6f969bd2-67f2-40a6-9d9f-2403e5c4beda",
   "metadata": {},
   "source": [
    "### 5. Given a 3D array of shape (2, 3, 4), add a 2D array of shape (3, 4) to each 2D slice along the first axis."
   ]
  },
  {
   "cell_type": "code",
   "execution_count": 28,
   "id": "c1bab965-4280-4ee7-b051-cf8a3159bd55",
   "metadata": {},
   "outputs": [
    {
     "name": "stdout",
     "output_type": "stream",
     "text": [
      "3D array:\n",
      " [[[ 0  1  2  3]\n",
      "  [ 4  5  6  7]\n",
      "  [ 8  9 10 11]]\n",
      "\n",
      " [[12 13 14 15]\n",
      "  [16 17 18 19]\n",
      "  [20 21 22 23]]]\n",
      "\n",
      "2D array:\n",
      " [[ 0  1  2  3]\n",
      " [ 4  5  6  7]\n",
      " [ 8  9 10 11]]\n",
      "\n",
      "Result:\n",
      " [[[ 0  2  4  6]\n",
      "  [ 8 10 12 14]\n",
      "  [16 18 20 22]]\n",
      "\n",
      " [[12 14 16 18]\n",
      "  [20 22 24 26]\n",
      "  [28 30 32 34]]]\n"
     ]
    }
   ],
   "source": [
    "arr2 = np.arange(24).reshape(2, 3, 4)\n",
    "arr1 = np.arange(12).reshape(3, 4)\n",
    "result = arr1+ arr2\n",
    "print(\"3D array:\\n\",arr2)\n",
    "print(\"\\n2D array:\\n\",arr1)\n",
    "print(\"\\nResult:\\n\",result)"
   ]
  },
  {
   "cell_type": "markdown",
   "id": "03051e05-eadc-47b8-b289-f33762e1fadf",
   "metadata": {},
   "source": [
    "### 6. Given a 2D array, use slicing to extract every second row and every second column, then add a 1D array to each row of the sliced array."
   ]
  },
  {
   "cell_type": "code",
   "execution_count": 29,
   "id": "7236df12-d396-4a7e-889e-e4c387c698ed",
   "metadata": {},
   "outputs": [
    {
     "name": "stdout",
     "output_type": "stream",
     "text": [
      "2D array:\n",
      " [[ 0  1  2]\n",
      " [ 3  4  5]\n",
      " [ 6  7  8]\n",
      " [ 9 10 11]]\n",
      "\n",
      "1D array:\n",
      " [0 1]\n",
      "\n",
      "Result:\n",
      " [[0 3]\n",
      " [6 9]]\n"
     ]
    }
   ],
   "source": [
    "arr2 = np.arange(12).reshape(4, 3)\n",
    "arr1 = np.arange(2)\n",
    "result = arr1+ arr2[::2,::2]\n",
    "print(\"2D array:\\n\",arr2)\n",
    "print(\"\\n1D array:\\n\",arr1)\n",
    "print(\"\\nResult:\\n\",result)"
   ]
  },
  {
   "cell_type": "markdown",
   "id": "e160439e-9289-4c45-8033-bcef61016f16",
   "metadata": {},
   "source": [
    "### 7. From a 3D array of shape (3, 2, 1), extract a sub-array using slicing and then use broadcasting to subtract a 2D array from each slice along the third axis."
   ]
  },
  {
   "cell_type": "code",
   "execution_count": 30,
   "id": "9bd79753-98ee-4110-81db-87275263c77a",
   "metadata": {},
   "outputs": [
    {
     "name": "stdout",
     "output_type": "stream",
     "text": [
      "Original 3D array:\n",
      " [[[0]\n",
      "  [1]]\n",
      "\n",
      " [[2]\n",
      "  [3]]\n",
      "\n",
      " [[4]\n",
      "  [5]]]\n",
      "\n",
      "Sliced array:\n",
      " [[[0]\n",
      "  [1]]\n",
      "\n",
      " [[2]\n",
      "  [3]]\n",
      "\n",
      " [[4]\n",
      "  [5]]]\n",
      "\n",
      "2D array:\n",
      " [[0 1 2]\n",
      " [3 4 5]]\n",
      "\n",
      "Result after broadcasting subtraction:\n",
      " [[[ 0]\n",
      "  [-2]]\n",
      "\n",
      " [[ 1]\n",
      "  [-1]]\n",
      "\n",
      " [[ 2]\n",
      "  [ 0]]]\n"
     ]
    }
   ],
   "source": [
    "arr1 = np.arange(6).reshape(3, 2, 1)\n",
    "print(\"Original 3D array:\\n\", arr1)\n",
    "arr2 = arr1[:, :2, :]\n",
    "print(\"\\nSliced array:\\n\", arr2)\n",
    "arr3 = np.arange(6).reshape(2, 3)\n",
    "print(\"\\n2D array:\\n\", arr3)\n",
    "result = arr2 - arr3.T[:, :, np.newaxis]\n",
    "print(\"\\nResult after broadcasting subtraction:\\n\", result)"
   ]
  },
  {
   "cell_type": "markdown",
   "id": "01a45418-3dc6-4999-bbf6-d760140ccb27",
   "metadata": {},
   "source": [
    "### 8. Given a 3D array of shape (7, 6, 5), use slicing to extract a sub-array of shape (2, 3, 4) and then use broadcasting to add a 1D array of shape (4,) to each row along the third axis."
   ]
  },
  {
   "cell_type": "code",
   "execution_count": 31,
   "id": "f82d3cf7-d42e-4528-828f-4eed5df466c1",
   "metadata": {},
   "outputs": [
    {
     "name": "stdout",
     "output_type": "stream",
     "text": [
      "3D array:\n",
      " [[[0]\n",
      "  [1]]\n",
      "\n",
      " [[2]\n",
      "  [3]]\n",
      "\n",
      " [[4]\n",
      "  [5]]]\n",
      "\n",
      "1D array:\n",
      " [0 1 2 3]\n",
      "\n",
      "Result:\n",
      " [[[0 1 2 3]\n",
      "  [1 2 3 4]]\n",
      "\n",
      " [[2 3 4 5]\n",
      "  [3 4 5 6]]]\n"
     ]
    }
   ],
   "source": [
    "np.random.randint(1, 100, size=(7, 6, 5))\n",
    "arr1 = np.arange(4).reshape(4,)\n",
    "result = arr1+ arr2[:2,:3,:4]\n",
    "print(\"3D array:\\n\",arr2)\n",
    "print(\"\\n1D array:\\n\",arr1)\n",
    "print(\"\\nResult:\\n\",result)"
   ]
  },
  {
   "cell_type": "markdown",
   "id": "55d9d9ff-2ba6-4737-ac91-c29df7ff69b1",
   "metadata": {},
   "source": [
    "### 9. Create a 2D array and use both slicing and broadcasting to set the last column to the sum of the first two columns for each row."
   ]
  },
  {
   "cell_type": "code",
   "execution_count": 32,
   "id": "b50ae640-5f2c-43c2-bba9-b031c4dc8679",
   "metadata": {},
   "outputs": [
    {
     "name": "stdout",
     "output_type": "stream",
     "text": [
      "2D array:\n",
      " [[ 0  1  2]\n",
      " [ 3  4  5]\n",
      " [ 6  7  8]\n",
      " [ 9 10 11]]\n",
      "\n",
      "Result:\n",
      " [[[0 1 2 3]\n",
      "  [1 2 3 4]]\n",
      "\n",
      " [[2 3 4 5]\n",
      "  [3 4 5 6]]]\n"
     ]
    }
   ],
   "source": [
    "arr2 = np.arange(12).reshape(4, 3)\n",
    "print(\"2D array:\\n\",arr2)\n",
    "arr2[:, -1] = arr2[:, 0] + arr2[:, 1]\n",
    "print(\"\\nResult:\\n\",result)"
   ]
  },
  {
   "cell_type": "markdown",
   "id": "49cf2d90-4715-4e54-9e0e-cd76fc74afa5",
   "metadata": {},
   "source": [
    "### 10. Given a 3D array of shape (2, 3, 4), add a 2D array of shape (3, 4) to each 2D slice along the first axis."
   ]
  },
  {
   "cell_type": "code",
   "execution_count": 33,
   "id": "b7e74819-a4be-4db1-ac88-33496963f4e4",
   "metadata": {},
   "outputs": [
    {
     "name": "stdout",
     "output_type": "stream",
     "text": [
      "3D array:\n",
      " [[[ 0  1  2  3]\n",
      "  [ 4  5  6  7]\n",
      "  [ 8  9 10 11]]\n",
      "\n",
      " [[12 13 14 15]\n",
      "  [16 17 18 19]\n",
      "  [20 21 22 23]]]\n",
      "\n",
      "2D array:\n",
      " [[ 0  1  2  3]\n",
      " [ 4  5  6  7]\n",
      " [ 8  9 10 11]]\n",
      "\n",
      "Result after broadcasting subtraction:\n",
      " [[[ 0  2  4  6]\n",
      "  [ 8 10 12 14]\n",
      "  [16 18 20 22]]\n",
      "\n",
      " [[12 14 16 18]\n",
      "  [20 22 24 26]\n",
      "  [28 30 32 34]]]\n"
     ]
    }
   ],
   "source": [
    "arr1 = np.arange(24).reshape(2, 3, 4)\n",
    "print(\"3D array:\\n\", arr1)\n",
    "arr2 = np.arange(12).reshape(3, 4)\n",
    "print(\"\\n2D array:\\n\", arr2)\n",
    "result = arr1 + arr2\n",
    "print(\"\\nResult after broadcasting subtraction:\\n\", result)"
   ]
  },
  {
   "cell_type": "markdown",
   "id": "b7997348-24d7-47b9-93bc-de369866aaa6",
   "metadata": {},
   "source": [
    "## Advanced Problems"
   ]
  },
  {
   "cell_type": "markdown",
   "id": "f1e163e1-c856-49b8-8c40-eae05b40ad35",
   "metadata": {},
   "source": [
    "### 1. Given a 2D array of shape (6, 6), replace all elements greater than 13 with the value 0."
   ]
  },
  {
   "cell_type": "code",
   "execution_count": 34,
   "id": "fdb760de-f2b9-4f36-ad24-f6eebbdee3bd",
   "metadata": {},
   "outputs": [
    {
     "name": "stdout",
     "output_type": "stream",
     "text": [
      "2D array:\n",
      " [[ 0  1  2  3  4  5]\n",
      " [ 6  7  8  9 10 11]\n",
      " [12 13 14 15 16 17]\n",
      " [18 19 20 21 22 23]\n",
      " [24 25 26 27 28 29]\n",
      " [30 31 32 33 34 35]]\n",
      "\n",
      "Result:\n",
      " [[ 0  1  2  3  4  5]\n",
      " [ 6  7  8  9 10 11]\n",
      " [12 13  0  0  0  0]\n",
      " [ 0  0  0  0  0  0]\n",
      " [ 0  0  0  0  0  0]\n",
      " [ 0  0  0  0  0  0]]\n"
     ]
    }
   ],
   "source": [
    "arr1 = np.arange(36).reshape(6, 6)\n",
    "print(\"2D array:\\n\", arr1)\n",
    "arr1[arr1>13] = 0\n",
    "print(\"\\nResult:\\n\", arr1)"
   ]
  },
  {
   "cell_type": "markdown",
   "id": "afa1a0a1-a03a-4187-b107-127787ee664b",
   "metadata": {},
   "source": [
    "### 2. From a 1D array of random integers, extract all elements that are greater than 10"
   ]
  },
  {
   "cell_type": "code",
   "execution_count": 35,
   "id": "8297670f-033d-4480-9b8a-4278e8f6ed8b",
   "metadata": {},
   "outputs": [
    {
     "name": "stdout",
     "output_type": "stream",
     "text": [
      "1D array:\n",
      " [ 1  9  5 14 17 15  6  0  4 11]\n",
      "\n",
      "Result:\n",
      " [14 17 15 11]\n"
     ]
    }
   ],
   "source": [
    "arr1 = np.random.randint(0,20, size=10)\n",
    "print(\"1D array:\\n\", arr1)\n",
    "result = arr1[arr1>10]\n",
    "print(\"\\nResult:\\n\", result)"
   ]
  },
  {
   "cell_type": "markdown",
   "id": "037b4983-c55d-4e9f-8c21-91802eb19af1",
   "metadata": {},
   "source": [
    "### 3. From a 1D array of random integers, extract all elements that are greater than 8."
   ]
  },
  {
   "cell_type": "code",
   "execution_count": 36,
   "id": "9759c53a-f46b-4903-8b17-51e5150c2d0f",
   "metadata": {},
   "outputs": [
    {
     "name": "stdout",
     "output_type": "stream",
     "text": [
      "1D array:\n",
      " [16  5  1 15 13  1 12  2 18 17]\n",
      "\n",
      "Result:\n",
      " [16 15 13 12 18 17]\n"
     ]
    }
   ],
   "source": [
    "arr1 = np.random.randint(0,20, size=10)\n",
    "print(\"1D array:\\n\", arr1)\n",
    "result = arr1[arr1>8]\n",
    "print(\"\\nResult:\\n\", result)"
   ]
  },
  {
   "cell_type": "markdown",
   "id": "89da54a1-720e-4c75-bba1-bf191f6c74fd",
   "metadata": {},
   "source": [
    "### 4. Given a 2D array, extract the diagonal elements and create a 1D array."
   ]
  },
  {
   "cell_type": "code",
   "execution_count": 37,
   "id": "20c7953a-6c94-4877-aa36-0a162ae91d46",
   "metadata": {},
   "outputs": [
    {
     "name": "stdout",
     "output_type": "stream",
     "text": [
      "2D array:\n",
      " [[ 2  5  8]\n",
      " [14  6 17]\n",
      " [19 13 10]]\n",
      "\n",
      "Result:\n",
      " [ 2  6 10]\n"
     ]
    }
   ],
   "source": [
    "arr1 = np.random.randint(0,20, size=(3,3))\n",
    "print(\"2D array:\\n\", arr1)\n",
    "result = np.diag(arr1)\n",
    "print(\"\\nResult:\\n\", result)"
   ]
  },
  {
   "cell_type": "markdown",
   "id": "23595e21-7a53-4104-8eed-badfb7729532",
   "metadata": {},
   "source": [
    "# Mini Project : Image Processing with NumPy"
   ]
  },
  {
   "cell_type": "markdown",
   "id": "f1396df6-c263-4e56-b026-213627e4592d",
   "metadata": {},
   "source": [
    "### It will create a random image of shape (100, 100, 3) representing an RGB image."
   ]
  },
  {
   "cell_type": "code",
   "execution_count": 38,
   "id": "b517e65e-71f9-4cfd-9036-9f098ce6b06d",
   "metadata": {},
   "outputs": [
    {
     "data": {
      "image/png": "[encoded data removed]",
      "text/plain": [
       "<Figure size 640x480 with 1 Axes>"
      ]
     },
     "metadata": {},
     "output_type": "display_data"
    }
   ],
   "source": [
    "import matplotlib.pyplot as plt\n",
    "image_array = np.random.randint(0, 256, (100, 100, 3), dtype=np.uint8)\n",
    "plt.imshow(image_array)\n",
    "plt.title(\"Original Image\")\n",
    "plt.axis('off')\n",
    "plt.show()"
   ]
  },
  {
   "cell_type": "markdown",
   "id": "eff0c55b-741d-48be-9919-271b8e388eaf",
   "metadata": {},
   "source": [
    "### Convert the RGB image to a grayscale image by averaging the R, G, and B values."
   ]
  },
  {
   "cell_type": "code",
   "execution_count": 39,
   "id": "cb9efa5b-9ecc-487f-8803-9ad999e70dce",
   "metadata": {},
   "outputs": [
    {
     "data": {
      "image/png": "[encoded data removed]",
      "text/plain": [
       "<Figure size 640x480 with 1 Axes>"
      ]
     },
     "metadata": {},
     "output_type": "display_data"
    }
   ],
   "source": [
    "grayscale_image = np.mean(image_array, axis=2).astype(np.uint8)\n",
    "plt.imshow(grayscale_image, cmap='gray')\n",
    "plt.title(\"Grayscale Image\")\n",
    "plt.axis('off')\n",
    "plt.show()"
   ]
  },
  {
   "cell_type": "markdown",
   "id": "f34295e0-abf8-48b1-a086-6d3210d7ded4",
   "metadata": {},
   "source": [
    "### Increase the brightness of the image using broadcasting."
   ]
  },
  {
   "cell_type": "code",
   "execution_count": 40,
   "id": "52686a43-ffbc-45aa-92e6-e50769d061c0",
   "metadata": {},
   "outputs": [
    {
     "data": {
      "image/png": "[encoded data removed]",
      "text/plain": [
       "<Figure size 640x480 with 1 Axes>"
      ]
     },
     "metadata": {},
     "output_type": "display_data"
    }
   ],
   "source": [
    "brightness_increased_image = np.clip(grayscale_image + 50, 0, 255) # add constant value to image to increase brightness\n",
    "plt.imshow(brightness_increased_image, cmap='gray')\n",
    "plt.title(\"Brightness Increased Image\")\n",
    "plt.axis('off')\n",
    "plt.show()"
   ]
  },
  {
   "cell_type": "markdown",
   "id": "cf7538c0-0589-485c-8647-7f37916583e9",
   "metadata": {},
   "source": [
    "### Extract a sub-image from the original image using slicing."
   ]
  },
  {
   "cell_type": "code",
   "execution_count": 41,
   "id": "636d1878-bafd-4165-b3cc-5816c20118f2",
   "metadata": {},
   "outputs": [
    {
     "data": {
      "image/png": "[encoded data removed]",
      "text/plain": [
       "<Figure size 640x480 with 1 Axes>"
      ]
     },
     "metadata": {},
     "output_type": "display_data"
    }
   ],
   "source": [
    "sub_image = grayscale_image[20:80, 20:80]\n",
    "plt.imshow(sub_image, cmap='gray')\n",
    "plt.title(\"Sub-image\")\n",
    "plt.axis('off')\n",
    "plt.show()"
   ]
  },
  {
   "cell_type": "code",
   "execution_count": null,
   "id": "6ef92d27-1d94-4ae8-8b2a-07078372b811",
   "metadata": {},
   "outputs": [],
   "source": []
  }
 ],
 "metadata": {
  "kernelspec": {
   "display_name": "Python 3 (ipykernel)",
   "language": "python",
   "name": "python3"
  },
  "language_info": {
   "codemirror_mode": {
    "name": "ipython",
    "version": 3
   },
   "file_extension": ".py",
   "mimetype": "text/x-python",
   "name": "python",
   "nbconvert_exporter": "python",
   "pygments_lexer": "ipython3",
   "version": "3.11.7"
  }
 },
 "nbformat": 4,
 "nbformat_minor": 5
}
