{
 "cells": [
  {
   "cell_type": "markdown",
   "id": "6c196488-f96b-436c-b1eb-b394baee9e23",
   "metadata": {},
   "source": [
    "#  Task 12: Introduction to Pandas (Series, DataFrame basics)"
   ]
  },
  {
   "cell_type": "code",
   "execution_count": 1,
   "id": "eba4f30f-c16a-4c2b-aa57-f5752bf7b5ff",
   "metadata": {},
   "outputs": [],
   "source": [
    "import pandas as pd\n",
    "import numpy as np"
   ]
  },
  {
   "cell_type": "markdown",
   "id": "f6b35e30-01e1-4c29-9a54-c12f7a21cdb9",
   "metadata": {},
   "source": [
    "## Pandas Series"
   ]
  },
  {
   "cell_type": "markdown",
   "id": "2c5efd5d-beb7-4487-920b-b29863192e02",
   "metadata": {},
   "source": [
    "### 1. Creating a Pandas Series"
   ]
  },
  {
   "cell_type": "code",
   "execution_count": 2,
   "id": "4898d072-012a-4956-b906-2158e282e467",
   "metadata": {},
   "outputs": [
    {
     "name": "stdout",
     "output_type": "stream",
     "text": [
      "Series data:\n",
      " 0    10\n",
      "1    20\n",
      "2    30\n",
      "3    40\n",
      "4    50\n",
      "dtype: int64\n"
     ]
    }
   ],
   "source": [
    "# Create a Series from a Numpy array\n",
    "data = [10,20,30,40,50]\n",
    "serial_data = pd.Series(data)\n",
    "print(\"Series data:\\n\",serial_data)"
   ]
  },
  {
   "cell_type": "code",
   "execution_count": 3,
   "id": "91431637-5692-452a-be71-edf7439b1c28",
   "metadata": {},
   "outputs": [
    {
     "name": "stdout",
     "output_type": "stream",
     "text": [
      "\n",
      "Series from numpy array:\n",
      "0    10\n",
      "1    20\n",
      "2    30\n",
      "3    40\n",
      "4    50\n",
      "dtype: int32\n"
     ]
    }
   ],
   "source": [
    "# Create a Series from a Numpy array\n",
    "data_arr = np.array([10, 20, 30, 40, 50])\n",
    "series_arr = pd.Series(data_arr)\n",
    "print(\"\\nSeries from numpy array:\")\n",
    "print(series_arr)"
   ]
  },
  {
   "cell_type": "code",
   "execution_count": 4,
   "id": "07b35625-ad31-4e5b-8f03-ce30bc1d1372",
   "metadata": {},
   "outputs": [
    {
     "name": "stdout",
     "output_type": "stream",
     "text": [
      "\n",
      "Series from dictionary:\n",
      "a    10\n",
      "b    20\n",
      "c    30\n",
      "d    40\n",
      "e    50\n",
      "dtype: int64\n"
     ]
    }
   ],
   "source": [
    "# Create a Series from a dictionary\n",
    "data_dict = {'a': 10, 'b': 20, 'c': 30, 'd': 40, 'e': 50}\n",
    "series_dict = pd.Series(data_dict)\n",
    "print(\"\\nSeries from dictionary:\")\n",
    "print(series_dict)"
   ]
  },
  {
   "cell_type": "markdown",
   "id": "781c95cc-0c35-416f-9bf6-02f6931409e7",
   "metadata": {},
   "source": [
    "### 2. Assign a custom index to the Series"
   ]
  },
  {
   "cell_type": "code",
   "execution_count": 5,
   "id": "a541358b-4165-41a3-8ade-8f8be05b3fe9",
   "metadata": {},
   "outputs": [
    {
     "name": "stdout",
     "output_type": "stream",
     "text": [
      "\n",
      "Series with custom index:\n",
      "a    10\n",
      "b    20\n",
      "c    30\n",
      "d    40\n",
      "e    50\n",
      "dtype: int64\n"
     ]
    }
   ],
   "source": [
    "series_index = pd.Series([10, 20, 30, 40, 50], index=['a', 'b', 'c', 'd', 'e'])\n",
    "print(\"\\nSeries with custom index:\")\n",
    "print(series_index)"
   ]
  },
  {
   "cell_type": "markdown",
   "id": "16bbe90f-fbe9-473a-bc91-a67e9ec52de0",
   "metadata": {},
   "source": [
    "### 3. Perform basic arithmetic operations on Series"
   ]
  },
  {
   "cell_type": "code",
   "execution_count": 6,
   "id": "499252e0-444c-4e58-b2e5-4b30f37cf6e9",
   "metadata": {},
   "outputs": [
    {
     "name": "stdout",
     "output_type": "stream",
     "text": [
      "\n",
      "Series addition:\n",
      "a    15\n",
      "b    25\n",
      "c    35\n",
      "d    45\n",
      "e    55\n",
      "dtype: int64\n",
      "\n",
      "Series subtraction:\n",
      "a     20\n",
      "b     40\n",
      "c     60\n",
      "d     80\n",
      "e    100\n",
      "dtype: int64\n",
      "\n",
      "Series multiplication:\n",
      "a     5\n",
      "b    15\n",
      "c    25\n",
      "d    35\n",
      "e    45\n",
      "dtype: int64\n",
      "\n",
      "Series division:\n",
      "a     5.0\n",
      "b    10.0\n",
      "c    15.0\n",
      "d    20.0\n",
      "e    25.0\n",
      "dtype: float64\n"
     ]
    }
   ],
   "source": [
    "print(\"\\nSeries addition:\")\n",
    "print(series_index + 5)\n",
    "print(\"\\nSeries subtraction:\")\n",
    "print(series_index * 2)\n",
    "print(\"\\nSeries multiplication:\")\n",
    "print(series_index - 5)\n",
    "print(\"\\nSeries division:\")\n",
    "print(series_index / 2)"
   ]
  },
  {
   "cell_type": "markdown",
   "id": "6297f747-f701-427c-9a9e-8f272add4d09",
   "metadata": {},
   "source": [
    "### 4. Access Elements Using Index Labels and Positions"
   ]
  },
  {
   "cell_type": "code",
   "execution_count": 7,
   "id": "b16b6565-4433-47d4-b072-5dfd7f55fec6",
   "metadata": {},
   "outputs": [
    {
     "name": "stdout",
     "output_type": "stream",
     "text": [
      "\n",
      "Access element using index label 'c':\n",
      "30\n",
      "\n",
      "Access element using position 2:\n",
      "30\n"
     ]
    }
   ],
   "source": [
    "print(\"\\nAccess element using index label 'c':\")\n",
    "print(series_index['c'])\n",
    "print(\"\\nAccess element using position 2:\")\n",
    "print(series_index.iloc[2])"
   ]
  },
  {
   "cell_type": "markdown",
   "id": "ce8af129-4d96-4bb6-9555-1e8820b42534",
   "metadata": {},
   "source": [
    "### 5. Filter the series to include only values Greater than o Less than"
   ]
  },
  {
   "cell_type": "code",
   "execution_count": 8,
   "id": "e1205ea4-7200-4c70-97bd-fd1e9a1a2f5a",
   "metadata": {},
   "outputs": [
    {
     "name": "stdout",
     "output_type": "stream",
     "text": [
      "\n",
      "Filter values greater than 30:\n",
      "d    40\n",
      "e    50\n",
      "dtype: int64\n",
      "\n",
      "Filter values less than 30:\n",
      "a    10\n",
      "b    20\n",
      "dtype: int64\n"
     ]
    }
   ],
   "source": [
    "print(\"\\nFilter values greater than 30:\")\n",
    "print(series_index[series_index > 30])\n",
    "print(\"\\nFilter values less than 30:\")\n",
    "print(series_index[series_index < 30])"
   ]
  },
  {
   "cell_type": "markdown",
   "id": "3a536f3b-7707-46f0-bcab-8ab1d1e67d56",
   "metadata": {},
   "source": [
    "## Pandas DataFrame"
   ]
  },
  {
   "cell_type": "markdown",
   "id": "160426c8-6648-4a63-a5a9-f37f1e29d380",
   "metadata": {},
   "source": [
    "### 1. Create a DataFrame from a Dictionary of Lists"
   ]
  },
  {
   "cell_type": "code",
   "execution_count": 9,
   "id": "f0e8da61-73cc-42b2-a79d-f78f7d2e231a",
   "metadata": {},
   "outputs": [
    {
     "name": "stdout",
     "output_type": "stream",
     "text": [
      "\n",
      "DataFrame from dictionary of lists:\n",
      "       Name  Age     City\n",
      "0       Ali   19      Rwp\n",
      "1    Haider   21      Isl\n",
      "2      Asad   20   Lahore\n",
      "3  Ahtasham   28  Karachi\n"
     ]
    }
   ],
   "source": [
    "data_dict = {\n",
    "    'Name': ['Ali', 'Haider', 'Asad', 'Ahtasham'],\n",
    "    'Age': [19, 21, 20, 28],\n",
    "    'City': ['Rwp', 'Isl', 'Lahore', 'Karachi']\n",
    "}\n",
    "df = pd.DataFrame(data_dict)\n",
    "print(\"\\nDataFrame from dictionary of lists:\")\n",
    "print(df)"
   ]
  },
  {
   "cell_type": "markdown",
   "id": "cb4b794e-1550-48e4-9332-e7efe868b9c4",
   "metadata": {},
   "source": [
    "### 2. Create a DataFrame from a NumPy Array"
   ]
  },
  {
   "cell_type": "code",
   "execution_count": 10,
   "id": "da441f51-005e-48a0-8d79-4eb0b1a47214",
   "metadata": {},
   "outputs": [
    {
     "name": "stdout",
     "output_type": "stream",
     "text": [
      "\n",
      "DataFrame from numpy array:\n",
      "         Age City\n",
      "Ali       20  RWP\n",
      "Haider    21  ISL\n",
      "Asad      21  LHR\n",
      "Ahtasham  22  KAR\n"
     ]
    }
   ],
   "source": [
    "data_array = np.array([\n",
    "    [20, 'RWP'],\n",
    "    [21, 'ISL'],\n",
    "    [21, 'LHR'],\n",
    "    [22, 'KAR']\n",
    "])\n",
    "df = pd.DataFrame(data_array, columns=['Age', 'City'], index=['Ali', 'Haider', 'Asad', 'Ahtasham'])\n",
    "print(\"\\nDataFrame from numpy array:\")\n",
    "print(df)"
   ]
  },
  {
   "cell_type": "markdown",
   "id": "bb21bc03-dcc4-431a-bbe2-3d2be0eb4160",
   "metadata": {},
   "source": [
    "### 3. Load a DataFrame from a CSV File"
   ]
  },
  {
   "cell_type": "code",
   "execution_count": 11,
   "id": "da0a8198-bc24-4f8c-aee1-fd4946135026",
   "metadata": {},
   "outputs": [
    {
     "name": "stdout",
     "output_type": "stream",
     "text": [
      "   Time        V1        V2        V3        V4\n",
      "0     0 -1.359807 -0.072781  2.536347  1.378155\n",
      "1     0  1.191857  0.266151  0.166480  0.448154\n",
      "2     1 -1.358354 -1.340163  1.773209  0.379780\n",
      "3     1 -0.966272 -0.185226  1.792993 -0.863291\n",
      "4     2 -1.158233  0.877737  1.548718  0.403034\n"
     ]
    }
   ],
   "source": [
    "df = pd.read_csv(\"data.csv\")\n",
    "print(df)"
   ]
  },
  {
   "cell_type": "markdown",
   "id": "58352e28-ead1-4801-be58-0398e035151f",
   "metadata": {},
   "source": [
    "### 4. Display the First and Last Five Rows of the DataFrame"
   ]
  },
  {
   "cell_type": "code",
   "execution_count": 12,
   "id": "6bcaceca-647e-400f-8e1a-9661169f9556",
   "metadata": {},
   "outputs": [
    {
     "name": "stdout",
     "output_type": "stream",
     "text": [
      "First 3 rows of data:\n",
      "    Time        V1        V2        V3        V4\n",
      "0     0 -1.359807 -0.072781  2.536347  1.378155\n",
      "1     0  1.191857  0.266151  0.166480  0.448154\n",
      "2     1 -1.358354 -1.340163  1.773209  0.379780\n",
      "\n",
      "last 2 rows of data:\n",
      "    Time        V1        V2        V3        V4\n",
      "3     1 -0.966272 -0.185226  1.792993 -0.863291\n",
      "4     2 -1.158233  0.877737  1.548718  0.403034\n"
     ]
    }
   ],
   "source": [
    "print(\"First 3 rows of data:\\n\",df.head(3))\n",
    "print(\"\\nlast 2 rows of data:\\n\",df.tail(2))"
   ]
  },
  {
   "cell_type": "markdown",
   "id": "5b696494-016d-44dc-a460-a1d1ef0beed5",
   "metadata": {},
   "source": [
    "### 5. Get a Summary of the DataFrame"
   ]
  },
  {
   "cell_type": "code",
   "execution_count": 13,
   "id": "be93fe8b-19f5-4f14-b39f-346bfae7908e",
   "metadata": {},
   "outputs": [
    {
     "name": "stdout",
     "output_type": "stream",
     "text": [
      "Summary of dataframe:\n",
      "           Time        V1        V2        V3        V4\n",
      "count  5.00000  5.000000  5.000000  5.000000  5.000000\n",
      "mean   0.80000 -0.730162 -0.090857  1.563549  0.349166\n",
      "std    0.83666  1.086765  0.811731  0.865297  0.797262\n",
      "min    0.00000 -1.359807 -1.340163  0.166480 -0.863291\n",
      "25%    0.00000 -1.358354 -0.185226  1.548718  0.379780\n",
      "50%    1.00000 -1.158233 -0.072781  1.773209  0.403034\n",
      "75%    1.00000 -0.966272  0.266151  1.792993  0.448154\n",
      "max    2.00000  1.191857  0.877737  2.536347  1.378155\n",
      "\n",
      "Mean of dataframe:\n",
      " Time    0.800000\n",
      "V1     -0.730162\n",
      "V2     -0.090857\n",
      "V3      1.563549\n",
      "V4      0.349166\n",
      "dtype: float64\n",
      "\n",
      "Median of dataframe:\n",
      " Time    1.000000\n",
      "V1     -1.158233\n",
      "V2     -0.072781\n",
      "V3      1.773209\n",
      "V4      0.403034\n",
      "dtype: float64\n",
      "\n",
      "Mode of dataframe:\n",
      "    Time        V1        V2        V3        V4\n",
      "0   0.0 -1.359807 -1.340163  0.166480 -0.863291\n",
      "1   1.0 -1.358354 -0.185226  1.548718  0.379780\n",
      "2   NaN -1.158233 -0.072781  1.773209  0.403034\n",
      "3   NaN -0.966272  0.266151  1.792993  0.448154\n",
      "4   NaN  1.191857  0.877737  2.536347  1.378155\n"
     ]
    }
   ],
   "source": [
    "print(\"Summary of dataframe:\\n\",df.describe())\n",
    "print(\"\\nMean of dataframe:\\n\",df.mean())\n",
    "print(\"\\nMedian of dataframe:\\n\",df.median())\n",
    "print(\"\\nMode of dataframe:\\n\",df.mode())"
   ]
  },
  {
   "cell_type": "markdown",
   "id": "ae09d106-7c03-4379-aec7-95d0da0187f6",
   "metadata": {},
   "source": [
    "### 6. Extract a Specific Column as a Series"
   ]
  },
  {
   "cell_type": "code",
   "execution_count": 14,
   "id": "e2f10162-0043-46d8-a95e-02bcf5b7bc25",
   "metadata": {},
   "outputs": [
    {
     "name": "stdout",
     "output_type": "stream",
     "text": [
      "Extract a Column 'Time' from dataframe:\n",
      " 0    0\n",
      "1    0\n",
      "2    1\n",
      "3    1\n",
      "4    2\n",
      "Name: Time, dtype: int64\n"
     ]
    }
   ],
   "source": [
    "print(\"Extract a Column 'Time' from dataframe:\\n\",df['Time'])"
   ]
  },
  {
   "cell_type": "markdown",
   "id": "c0151c5e-ff03-4722-82c9-ac7467991f69",
   "metadata": {},
   "source": [
    "### 7. Filter Rows Based on Column Values"
   ]
  },
  {
   "cell_type": "code",
   "execution_count": 15,
   "id": "353e602e-d50d-4f4f-97ff-632afaedd68c",
   "metadata": {},
   "outputs": [
    {
     "name": "stdout",
     "output_type": "stream",
     "text": [
      "Value Greater than zero:\n",
      "    Time        V1        V2        V3        V4\n",
      "2     1 -1.358354 -1.340163  1.773209  0.379780\n",
      "3     1 -0.966272 -0.185226  1.792993 -0.863291\n",
      "4     2 -1.158233  0.877737  1.548718  0.403034\n"
     ]
    }
   ],
   "source": [
    "print(\"Value Greater than zero:\\n\",df[df['Time'] > 0])"
   ]
  },
  {
   "cell_type": "markdown",
   "id": "2a5afeaa-b117-4bb2-bfde-bb5460aebf2f",
   "metadata": {},
   "source": [
    "### 8. Select Rows Based on Multiple Conditions"
   ]
  },
  {
   "cell_type": "code",
   "execution_count": 16,
   "id": "1f95b6f0-0ade-48c7-8462-6b5d97a651ff",
   "metadata": {},
   "outputs": [
    {
     "name": "stdout",
     "output_type": "stream",
     "text": [
      "Value less than zero of V1 and greater than zero of V2:\n",
      "    Time        V1        V2        V3        V4\n",
      "4     2 -1.158233  0.877737  1.548718  0.403034\n"
     ]
    }
   ],
   "source": [
    "print(\"Value less than zero of V1 and greater than zero of V2:\\n\",df[(df['V1'] < 0) & (df['V2'] > 0)])"
   ]
  },
  {
   "cell_type": "markdown",
   "id": "bd1f061e-26f6-4577-b930-786d5c0c4d61",
   "metadata": {},
   "source": [
    "### 9. Add a New Column to the DataFrame"
   ]
  },
  {
   "cell_type": "code",
   "execution_count": 17,
   "id": "23d41074-aac5-46fd-a5bd-4b7e847d0d97",
   "metadata": {},
   "outputs": [
    {
     "name": "stdout",
     "output_type": "stream",
     "text": [
      "\n",
      "DataFrame after addition column 'V5':\n",
      "   Time        V1        V2        V3        V4  V5\n",
      "0     0 -1.359807 -0.072781  2.536347  1.378155   1\n",
      "1     0  1.191857  0.266151  0.166480  0.448154   2\n",
      "2     1 -1.358354 -1.340163  1.773209  0.379780   3\n",
      "3     1 -0.966272 -0.185226  1.792993 -0.863291   4\n",
      "4     2 -1.158233  0.877737  1.548718  0.403034   5\n"
     ]
    }
   ],
   "source": [
    "df['V5'] = [1,2,3,4,5]\n",
    "print(\"\\nDataFrame after addition column 'V5':\")\n",
    "print(df)"
   ]
  },
  {
   "cell_type": "markdown",
   "id": "722aee6c-f553-4a57-8829-b5a85d5e2fe3",
   "metadata": {},
   "source": [
    "### 10. Delete a column from the DataFrame\n"
   ]
  },
  {
   "cell_type": "code",
   "execution_count": 18,
   "id": "3fee65aa-d72a-47b9-b68f-56811f209bde",
   "metadata": {},
   "outputs": [
    {
     "name": "stdout",
     "output_type": "stream",
     "text": [
      "\n",
      "DataFrame after deleting column 'V5':\n",
      "   Time        V1        V2        V3        V4\n",
      "0     0 -1.359807 -0.072781  2.536347  1.378155\n",
      "1     0  1.191857  0.266151  0.166480  0.448154\n",
      "2     1 -1.358354 -1.340163  1.773209  0.379780\n",
      "3     1 -0.966272 -0.185226  1.792993 -0.863291\n",
      "4     2 -1.158233  0.877737  1.548718  0.403034\n"
     ]
    }
   ],
   "source": [
    "df = df.drop(columns=['V5'])\n",
    "print(\"\\nDataFrame after deleting column 'V5':\")\n",
    "print(df)"
   ]
  },
  {
   "cell_type": "markdown",
   "id": "b0fab672-9e41-4f51-bba2-f6c7587d7142",
   "metadata": {},
   "source": [
    "### 11. Rename Columns in the DataFrame"
   ]
  },
  {
   "cell_type": "code",
   "execution_count": 19,
   "id": "cb9720df-76a7-4474-af1f-547ba033b94f",
   "metadata": {},
   "outputs": [
    {
     "name": "stdout",
     "output_type": "stream",
     "text": [
      "\n",
      "DataFrame after renaming column 'Time':\n",
      "   Value        V1        V2        V3        V4\n",
      "0      0 -1.359807 -0.072781  2.536347  1.378155\n",
      "1      0  1.191857  0.266151  0.166480  0.448154\n",
      "2      1 -1.358354 -1.340163  1.773209  0.379780\n",
      "3      1 -0.966272 -0.185226  1.792993 -0.863291\n",
      "4      2 -1.158233  0.877737  1.548718  0.403034\n"
     ]
    }
   ],
   "source": [
    "df = df.rename(columns={'Time' : 'Value'})\n",
    "print(\"\\nDataFrame after renaming column 'Time':\")\n",
    "print(df)"
   ]
  },
  {
   "cell_type": "markdown",
   "id": "0d40fa0a-b556-4352-b555-565509d30690",
   "metadata": {},
   "source": [
    "# Mini Project: Employee Data Analysis"
   ]
  },
  {
   "cell_type": "markdown",
   "id": "3c0f1e7d-f785-4b64-a9b2-a68eb52d7daa",
   "metadata": {},
   "source": [
    "### 1. Create a DataFrame with employee data"
   ]
  },
  {
   "cell_type": "code",
   "execution_count": 20,
   "id": "48dd93e7-f704-41f8-ad8e-86728820529d",
   "metadata": {},
   "outputs": [
    {
     "name": "stdout",
     "output_type": "stream",
     "text": [
      "Employee DataFrame:\n",
      "       Name  Age     Department  Salary  Years of Experience\n",
      "0       Ali   25             HR   20000                    2\n",
      "1     Ahmed   30  Manufacturing   10000                    5\n",
      "2      Asad   35      Marketing   40000                    8\n",
      "3     Aslam   40       Business   60000                   10\n",
      "4  Ahtasham   45      Designing   90000                    6\n"
     ]
    }
   ],
   "source": [
    "employee_data = {\n",
    "    'Name': ['Ali', 'Ahmed', 'Asad', 'Aslam', 'Ahtasham'],\n",
    "    'Age': [25, 30, 35, 40, 45],\n",
    "    'Department': ['HR', 'Manufacturing', 'Marketing', 'Business', 'Designing'],\n",
    "    'Salary': [20000, 10000, 40000, 60000, 90000],\n",
    "    'Years of Experience': [2, 5, 8, 10, 6]\n",
    "}\n",
    "df = pd.DataFrame(employee_data)\n",
    "print(\"Employee DataFrame:\")\n",
    "print(df)"
   ]
  },
  {
   "cell_type": "markdown",
   "id": "3a0a5203-cb58-4805-9f29-40cdfba11aac",
   "metadata": {},
   "source": [
    "### 2. Display Basic Information"
   ]
  },
  {
   "cell_type": "code",
   "execution_count": 21,
   "id": "5b4ee026-b94d-4b62-b9a2-6c2fa4ff7565",
   "metadata": {},
   "outputs": [
    {
     "name": "stdout",
     "output_type": "stream",
     "text": [
      "\n",
      "First few rows of the DataFrame:\n",
      "       Name  Age     Department  Salary  Years of Experience\n",
      "0       Ali   25             HR   20000                    2\n",
      "1     Ahmed   30  Manufacturing   10000                    5\n",
      "2      Asad   35      Marketing   40000                    8\n",
      "3     Aslam   40       Business   60000                   10\n",
      "4  Ahtasham   45      Designing   90000                    6\n",
      "\n",
      "Last few rows of the DataFrame:\n",
      "       Name  Age     Department  Salary  Years of Experience\n",
      "0       Ali   25             HR   20000                    2\n",
      "1     Ahmed   30  Manufacturing   10000                    5\n",
      "2      Asad   35      Marketing   40000                    8\n",
      "3     Aslam   40       Business   60000                   10\n",
      "4  Ahtasham   45      Designing   90000                    6\n",
      "\n",
      "Summary of the DataFrame:\n",
      "             Age        Salary  Years of Experience\n",
      "count   5.000000      5.000000              5.00000\n",
      "mean   35.000000  44000.000000              6.20000\n",
      "std     7.905694  32093.613072              3.03315\n",
      "min    25.000000  10000.000000              2.00000\n",
      "25%    30.000000  20000.000000              5.00000\n",
      "50%    35.000000  40000.000000              6.00000\n",
      "75%    40.000000  60000.000000              8.00000\n",
      "max    45.000000  90000.000000             10.00000\n"
     ]
    }
   ],
   "source": [
    "print(\"\\nFirst few rows of the DataFrame:\")\n",
    "print(df.head())\n",
    "\n",
    "print(\"\\nLast few rows of the DataFrame:\")\n",
    "print(df.tail())\n",
    "\n",
    "print(\"\\nSummary of the DataFrame:\")\n",
    "print(df.describe())"
   ]
  },
  {
   "cell_type": "markdown",
   "id": "4e97bb41-017e-4c14-8800-47f63efcd593",
   "metadata": {},
   "source": [
    "### 3. Data Selection and Filtering"
   ]
  },
  {
   "cell_type": "code",
   "execution_count": 22,
   "id": "e4f23947-7d10-45f1-afb9-6ed3d21197a9",
   "metadata": {},
   "outputs": [
    {
     "name": "stdout",
     "output_type": "stream",
     "text": [
      "\n",
      "Names of the employees:\n",
      "0         Ali\n",
      "1       Ahmed\n",
      "2        Asad\n",
      "3       Aslam\n",
      "4    Ahtasham\n",
      "Name: Name, dtype: object\n",
      "\n",
      "Employees with salary greater than 40000:\n",
      "       Name  Age Department  Salary  Years of Experience\n",
      "3     Aslam   40   Business   60000                   10\n",
      "4  Ahtasham   45  Designing   90000                    6\n",
      "\n",
      "Engineering employees with more than 5 years of experience:\n",
      "Empty DataFrame\n",
      "Columns: [Name, Age, Department, Salary, Years of Experience]\n",
      "Index: []\n"
     ]
    }
   ],
   "source": [
    "print(\"\\nNames of the employees:\")\n",
    "print(df['Name'])\n",
    "\n",
    "high_salary = df[df['Salary'] > 40000]\n",
    "print(\"\\nEmployees with salary greater than 40000:\")\n",
    "print(high_salary)\n",
    "\n",
    "eng_emp = df[(df['Department'] == 'Engineering') & (df['Years of Experience'] > 5)]\n",
    "print(\"\\nEngineering employees with more than 5 years of experience:\")\n",
    "print(eng_emp)"
   ]
  },
  {
   "cell_type": "markdown",
   "id": "a4e46516-ec44-4b9b-aee6-27cacaabc104",
   "metadata": {},
   "source": [
    "### 4. Data Manipulation"
   ]
  },
  {
   "cell_type": "code",
   "execution_count": 23,
   "id": "84fea8bd-c8e9-4e00-a780-cff68438c4c3",
   "metadata": {},
   "outputs": [
    {
     "name": "stdout",
     "output_type": "stream",
     "text": [
      "\n",
      "DataFrame after adding 'Bonus' column:\n",
      "       Name  Age     Department  Salary  Years of Experience    Bonus\n",
      "0       Ali   25             HR   20000                    2   4000.0\n",
      "1     Ahmed   30  Manufacturing   10000                    5   2000.0\n",
      "2      Asad   35      Marketing   40000                    8   8000.0\n",
      "3     Aslam   40       Business   60000                   10  12000.0\n",
      "4  Ahtasham   45      Designing   90000                    6  18000.0\n",
      "\n",
      "DataFrame after renaming column:\n",
      "       Name  Age     Department  Salary  Experience    Bonus\n",
      "0       Ali   25             HR   20000           2   4000.0\n",
      "1     Ahmed   30  Manufacturing   10000           5   2000.0\n",
      "2      Asad   35      Marketing   40000           8   8000.0\n",
      "3     Aslam   40       Business   60000          10  12000.0\n",
      "4  Ahtasham   45      Designing   90000           6  18000.0\n",
      "\n",
      "DataFrame after deleting 'Bonus' column:\n",
      "       Name  Age     Department  Salary  Experience\n",
      "0       Ali   25             HR   20000           2\n",
      "1     Ahmed   30  Manufacturing   10000           5\n",
      "2      Asad   35      Marketing   40000           8\n",
      "3     Aslam   40       Business   60000          10\n",
      "4  Ahtasham   45      Designing   90000           6\n"
     ]
    }
   ],
   "source": [
    "df['Bonus'] = df['Salary'] * 0.2\n",
    "print(\"\\nDataFrame after adding 'Bonus' column:\")\n",
    "print(df)\n",
    "\n",
    "df = df.rename(columns={'Years of Experience': 'Experience'})\n",
    "print(\"\\nDataFrame after renaming column:\")\n",
    "print(df)\n",
    "\n",
    "df = df.drop(columns=['Bonus'])\n",
    "print(\"\\nDataFrame after deleting 'Bonus' column:\")\n",
    "print(df)"
   ]
  }
 ],
 "metadata": {
  "kernelspec": {
   "display_name": "Python 3 (ipykernel)",
   "language": "python",
   "name": "python3"
  },
  "language_info": {
   "codemirror_mode": {
    "name": "ipython",
    "version": 3
   },
   "file_extension": ".py",
   "mimetype": "text/x-python",
   "name": "python",
   "nbconvert_exporter": "python",
   "pygments_lexer": "ipython3",
   "version": "3.11.7"
  }
 },
 "nbformat": 4,
 "nbformat_minor": 5
}
