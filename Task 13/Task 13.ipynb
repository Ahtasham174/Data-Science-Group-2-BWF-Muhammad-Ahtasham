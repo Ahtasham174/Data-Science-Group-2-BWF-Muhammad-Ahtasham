{
 "cells": [
  {
   "cell_type": "markdown",
   "id": "382f4d87-2f7a-4141-8272-cbfa29369664",
   "metadata": {},
   "source": [
    "# Task 13: Data manipulation with Pandas (indexing, selection, grouping)"
   ]
  },
  {
   "cell_type": "markdown",
   "id": "366e3801-1404-476e-9bad-f7f76ebf9a43",
   "metadata": {},
   "source": [
    "# Dataset 1 --> data.csv"
   ]
  },
  {
   "cell_type": "code",
   "execution_count": 1,
   "id": "0d764a4d-b30b-42b1-ac53-939a94a75c15",
   "metadata": {},
   "outputs": [],
   "source": [
    "import pandas as pd\n",
    "import numpy as np"
   ]
  },
  {
   "cell_type": "markdown",
   "id": "70a2b387-48a4-4587-b854-d586b9069e59",
   "metadata": {},
   "source": [
    "### Load the CSV file into a DataFrame"
   ]
  },
  {
   "cell_type": "code",
   "execution_count": 2,
   "id": "ca90939b-192d-4ab1-98d5-3c7a85146d17",
   "metadata": {},
   "outputs": [],
   "source": [
    "file_path = 'data.csv'\n",
    "df = pd.read_csv(file_path)"
   ]
  },
  {
   "cell_type": "markdown",
   "id": "3a1aa730-6231-4e1d-949e-dedc49694b66",
   "metadata": {},
   "source": [
    "### Set 'Date' as the index"
   ]
  },
  {
   "cell_type": "code",
   "execution_count": 3,
   "id": "2d2e5b8b-c868-4f9d-ba05-7f21393f8a63",
   "metadata": {},
   "outputs": [
    {
     "name": "stdout",
     "output_type": "stream",
     "text": [
      "DataFrame with 'Date' as index:\n",
      "               Duration  Pulse  Maxpulse  Calories\n",
      "Date                                             \n",
      "'2020/12/01'        60    110       130     409.1\n",
      "'2020/12/02'        60    117       145     479.0\n",
      "'2020/12/03'        60    103       135     340.0\n",
      "'2020/12/04'        45    109       175     282.4\n",
      "'2020/12/05'        45    117       148     406.0\n",
      "'2020/12/06'        60    102       127     300.0\n",
      "'2020/12/07'        60    110       136     374.0\n",
      "'2020/12/08'       450    104       134     253.3\n",
      "'2020/12/09'        30    109       133     195.1\n",
      "'2020/12/10'        60     98       124     269.0\n",
      "'2020/12/11'        60    103       147     329.3\n",
      "'2020/12/12'        60    100       120     250.7\n",
      "'2020/12/12'        60    100       120     250.7\n",
      "'2020/12/13'        60    106       128     345.3\n",
      "'2020/12/14'        60    104       132     379.3\n",
      "'2020/12/15'        60     98       123     275.0\n",
      "'2020/12/16'        60     98       120     215.2\n",
      "'2020/12/17'        60    100       120     300.0\n",
      "'2020/12/18'        45     90       112       NaN\n",
      "'2020/12/19'        60    103       123     323.0\n",
      "'2020/12/20'        45     97       125     243.0\n",
      "'2020/12/21'        60    108       131     364.2\n",
      "NaN                 45    100       119     282.0\n",
      "'2020/12/23'        60    130       101     300.0\n",
      "'2020/12/24'        45    105       132     246.0\n",
      "'2020/12/25'        60    102       126     334.5\n",
      "20201226            60    100       120     250.0\n",
      "'2020/12/27'        60     92       118     241.0\n",
      "'2020/12/28'        60    103       132       NaN\n",
      "'2020/12/29'        60    100       132     280.0\n",
      "'2020/12/30'        60    102       129     380.3\n",
      "'2020/12/31'        60     92       115     243.0\n"
     ]
    }
   ],
   "source": [
    "df.set_index('Date', inplace=True)\n",
    "print(\"DataFrame with 'Date' as index:\\n\", df)"
   ]
  },
  {
   "cell_type": "markdown",
   "id": "b0f83a0b-f947-4af3-903c-781899f9b95c",
   "metadata": {},
   "source": [
    "### Display the first and last five rows"
   ]
  },
  {
   "cell_type": "code",
   "execution_count": 4,
   "id": "54e4caa5-5c36-4503-8fc8-2fb547425f28",
   "metadata": {},
   "outputs": [
    {
     "name": "stdout",
     "output_type": "stream",
     "text": [
      "First five rows:\n",
      "               Duration  Pulse  Maxpulse  Calories\n",
      "Date                                             \n",
      "'2020/12/01'        60    110       130     409.1\n",
      "'2020/12/02'        60    117       145     479.0\n",
      "'2020/12/03'        60    103       135     340.0\n",
      "'2020/12/04'        45    109       175     282.4\n",
      "'2020/12/05'        45    117       148     406.0\n",
      "Last five rows:\n",
      "               Duration  Pulse  Maxpulse  Calories\n",
      "Date                                             \n",
      "'2020/12/27'        60     92       118     241.0\n",
      "'2020/12/28'        60    103       132       NaN\n",
      "'2020/12/29'        60    100       132     280.0\n",
      "'2020/12/30'        60    102       129     380.3\n",
      "'2020/12/31'        60     92       115     243.0\n"
     ]
    }
   ],
   "source": [
    "print(\"First five rows:\\n\", df.head())\n",
    "print(\"Last five rows:\\n\", df.tail())"
   ]
  },
  {
   "cell_type": "markdown",
   "id": "75f0b69c-f114-4356-9cf9-6d7787a92da3",
   "metadata": {},
   "source": [
    "### Set 'Duration' as the index"
   ]
  },
  {
   "cell_type": "code",
   "execution_count": 5,
   "id": "715a6b16-5c11-486c-895e-40b64ba83da8",
   "metadata": {},
   "outputs": [
    {
     "name": "stdout",
     "output_type": "stream",
     "text": [
      "DataFrame with 'Duration' as index:\n",
      "           Pulse  Maxpulse  Calories\n",
      "Duration                           \n",
      "60          110       130     409.1\n",
      "60          117       145     479.0\n",
      "60          103       135     340.0\n",
      "45          109       175     282.4\n",
      "45          117       148     406.0\n",
      "60          102       127     300.0\n",
      "60          110       136     374.0\n",
      "450         104       134     253.3\n",
      "30          109       133     195.1\n",
      "60           98       124     269.0\n",
      "60          103       147     329.3\n",
      "60          100       120     250.7\n",
      "60          100       120     250.7\n",
      "60          106       128     345.3\n",
      "60          104       132     379.3\n",
      "60           98       123     275.0\n",
      "60           98       120     215.2\n",
      "60          100       120     300.0\n",
      "45           90       112       NaN\n",
      "60          103       123     323.0\n",
      "45           97       125     243.0\n",
      "60          108       131     364.2\n",
      "45          100       119     282.0\n",
      "60          130       101     300.0\n",
      "45          105       132     246.0\n",
      "60          102       126     334.5\n",
      "60          100       120     250.0\n",
      "60           92       118     241.0\n",
      "60          103       132       NaN\n",
      "60          100       132     280.0\n",
      "60          102       129     380.3\n",
      "60           92       115     243.0\n"
     ]
    }
   ],
   "source": [
    "df.set_index('Duration', inplace=True)\n",
    "print(\"DataFrame with 'Duration' as index:\\n\", df)"
   ]
  },
  {
   "cell_type": "markdown",
   "id": "9ba3b4fd-f775-4064-a15a-b6b9fd3727b2",
   "metadata": {},
   "source": [
    "### Select and display 'Pulse' column"
   ]
  },
  {
   "cell_type": "code",
   "execution_count": 6,
   "id": "2a399198-9d4e-4234-a371-7f64dd37a896",
   "metadata": {},
   "outputs": [
    {
     "name": "stdout",
     "output_type": "stream",
     "text": [
      "Pulse Column:\n",
      " Duration\n",
      "60     110\n",
      "60     117\n",
      "60     103\n",
      "45     109\n",
      "45     117\n",
      "60     102\n",
      "60     110\n",
      "450    104\n",
      "30     109\n",
      "60      98\n",
      "60     103\n",
      "60     100\n",
      "60     100\n",
      "60     106\n",
      "60     104\n",
      "60      98\n",
      "60      98\n",
      "60     100\n",
      "45      90\n",
      "60     103\n",
      "45      97\n",
      "60     108\n",
      "45     100\n",
      "60     130\n",
      "45     105\n",
      "60     102\n",
      "60     100\n",
      "60      92\n",
      "60     103\n",
      "60     100\n",
      "60     102\n",
      "60      92\n",
      "Name: Pulse, dtype: int64\n"
     ]
    }
   ],
   "source": [
    "pulse_column = df['Pulse']\n",
    "print(\"Pulse Column:\\n\", pulse_column)"
   ]
  },
  {
   "cell_type": "markdown",
   "id": "83d728e4-f461-4ee4-8708-fb4c08a0759f",
   "metadata": {},
   "source": [
    "### Select and display 'Pulse' and 'Calories' columns"
   ]
  },
  {
   "cell_type": "code",
   "execution_count": 7,
   "id": "e9b5f931-1ead-4192-833a-d4979ddac67d",
   "metadata": {},
   "outputs": [
    {
     "name": "stdout",
     "output_type": "stream",
     "text": [
      "Pulse and Calories Columns:\n",
      "           Pulse  Calories\n",
      "Duration                 \n",
      "60          110     409.1\n",
      "60          117     479.0\n",
      "60          103     340.0\n",
      "45          109     282.4\n",
      "45          117     406.0\n",
      "60          102     300.0\n",
      "60          110     374.0\n",
      "450         104     253.3\n",
      "30          109     195.1\n",
      "60           98     269.0\n",
      "60          103     329.3\n",
      "60          100     250.7\n",
      "60          100     250.7\n",
      "60          106     345.3\n",
      "60          104     379.3\n",
      "60           98     275.0\n",
      "60           98     215.2\n",
      "60          100     300.0\n",
      "45           90       NaN\n",
      "60          103     323.0\n",
      "45           97     243.0\n",
      "60          108     364.2\n",
      "45          100     282.0\n",
      "60          130     300.0\n",
      "45          105     246.0\n",
      "60          102     334.5\n",
      "60          100     250.0\n",
      "60           92     241.0\n",
      "60          103       NaN\n",
      "60          100     280.0\n",
      "60          102     380.3\n",
      "60           92     243.0\n"
     ]
    }
   ],
   "source": [
    "pulse_calories_columns = df[['Pulse', 'Calories']]\n",
    "print(\"Pulse and Calories Columns:\\n\", pulse_calories_columns)"
   ]
  },
  {
   "cell_type": "markdown",
   "id": "0e465be5-d550-4889-9c98-d65ad4b23636",
   "metadata": {},
   "source": [
    "### Select a subset of rows and columns using .iloc"
   ]
  },
  {
   "cell_type": "code",
   "execution_count": 8,
   "id": "0dcf6aa1-e93c-44ad-af6a-cde4d28e64c6",
   "metadata": {},
   "outputs": [
    {
     "name": "stdout",
     "output_type": "stream",
     "text": [
      "Subset of Rows and Columns using .iloc:\n",
      "           Maxpulse  Calories\n",
      "Duration                    \n",
      "60             130     409.1\n",
      "60             145     479.0\n",
      "60             135     340.0\n"
     ]
    }
   ],
   "source": [
    "subset_iloc = df.iloc[:3, [1, 2]]\n",
    "print(\"Subset of Rows and Columns using .iloc:\\n\", subset_iloc)"
   ]
  },
  {
   "cell_type": "markdown",
   "id": "4c6463b6-aa63-4bc8-8629-cda6c7983ef0",
   "metadata": {},
   "source": [
    "### Filter rows where 'Calories' > 400"
   ]
  },
  {
   "cell_type": "code",
   "execution_count": 9,
   "id": "cfae0e67-0216-4f47-a434-89af4da03512",
   "metadata": {},
   "outputs": [
    {
     "name": "stdout",
     "output_type": "stream",
     "text": [
      "Filtered Rows with Calories > 400:\n",
      "           Pulse  Maxpulse  Calories\n",
      "Duration                           \n",
      "60          110       130     409.1\n",
      "60          117       145     479.0\n",
      "45          117       148     406.0\n"
     ]
    }
   ],
   "source": [
    "\n",
    "filtered_calories = df[df['Calories'] > 400]\n",
    "print(\"Filtered Rows with Calories > 400:\\n\", filtered_calories)"
   ]
  },
  {
   "cell_type": "markdown",
   "id": "095ff577-3fbd-45d2-b601-3257faab6fba",
   "metadata": {},
   "source": [
    "### Filter rows where 'Pulse' > 100 and 'Maxpulse' < 150"
   ]
  },
  {
   "cell_type": "code",
   "execution_count": 10,
   "id": "6c76c34c-da87-4754-843f-de0728b09b72",
   "metadata": {},
   "outputs": [
    {
     "name": "stdout",
     "output_type": "stream",
     "text": [
      "Filtered Rows with Pulse > 100 and Maxpulse < 150:\n",
      "           Pulse  Maxpulse  Calories\n",
      "Duration                           \n",
      "60          110       130     409.1\n",
      "60          117       145     479.0\n",
      "60          103       135     340.0\n",
      "45          117       148     406.0\n",
      "60          102       127     300.0\n",
      "60          110       136     374.0\n",
      "450         104       134     253.3\n",
      "30          109       133     195.1\n",
      "60          103       147     329.3\n",
      "60          106       128     345.3\n",
      "60          104       132     379.3\n",
      "60          103       123     323.0\n",
      "60          108       131     364.2\n",
      "60          130       101     300.0\n",
      "45          105       132     246.0\n",
      "60          102       126     334.5\n",
      "60          103       132       NaN\n",
      "60          102       129     380.3\n"
     ]
    }
   ],
   "source": [
    "filtered_pulse_maxpulse = df[(df['Pulse'] > 100) & (df['Maxpulse'] < 150)]\n",
    "print(\"Filtered Rows with Pulse > 100 and Maxpulse < 150:\\n\", filtered_pulse_maxpulse)"
   ]
  },
  {
   "cell_type": "markdown",
   "id": "4ee0e1c6-3761-4f8d-aa19-ce077bc077e0",
   "metadata": {},
   "source": [
    "### Use query method to filter rows where 'Calories' > 400"
   ]
  },
  {
   "cell_type": "code",
   "execution_count": 11,
   "id": "67b81d63-1b74-41a1-9a53-6c7c084080cd",
   "metadata": {},
   "outputs": [
    {
     "name": "stdout",
     "output_type": "stream",
     "text": [
      "Filtered Rows using query method:\n",
      "           Pulse  Maxpulse  Calories\n",
      "Duration                           \n",
      "60          110       130     409.1\n",
      "60          117       145     479.0\n",
      "45          117       148     406.0\n"
     ]
    }
   ],
   "source": [
    "query_filtered = df.query('Calories > 400')\n",
    "print(\"Filtered Rows using query method:\\n\", query_filtered)"
   ]
  },
  {
   "cell_type": "markdown",
   "id": "7cf4ef29-bcc6-490f-aba4-5cea97104776",
   "metadata": {},
   "source": [
    "### Use isin to filter rows where 'Pulse' is in a list of values"
   ]
  },
  {
   "cell_type": "code",
   "execution_count": 12,
   "id": "e2e0f7bd-d3f8-4487-9790-33c7e88f54d4",
   "metadata": {},
   "outputs": [
    {
     "name": "stdout",
     "output_type": "stream",
     "text": [
      "Filtered Rows using isin for Pulse:\n",
      "           Pulse  Maxpulse  Calories\n",
      "Duration                           \n",
      "60          110       130     409.1\n",
      "60          110       136     374.0\n",
      "60          100       120     250.7\n",
      "60          100       120     250.7\n",
      "60          100       120     300.0\n",
      "45          100       119     282.0\n",
      "60          100       120     250.0\n",
      "60          100       132     280.0\n"
     ]
    }
   ],
   "source": [
    "pulse_values_list = [100, 110, 120]\n",
    "filtered_isin = df[df['Pulse'].isin(pulse_values_list)]\n",
    "print(\"Filtered Rows using isin for Pulse:\\n\", filtered_isin)"
   ]
  },
  {
   "cell_type": "markdown",
   "id": "fb6ec1e9-9dc0-434f-818d-7379987fea24",
   "metadata": {},
   "source": [
    "### Group by 'Duration' and calculate mean for each group"
   ]
  },
  {
   "cell_type": "code",
   "execution_count": 13,
   "id": "b3f78bf2-521e-4661-af92-06e9b1386268",
   "metadata": {},
   "outputs": [
    {
     "name": "stdout",
     "output_type": "stream",
     "text": [
      "Grouped by Duration and Mean:\n",
      "             Pulse    Maxpulse   Calories\n",
      "Duration                                \n",
      "30        109.000  133.000000  195.10000\n",
      "45        103.000  135.166667  291.88000\n",
      "60        103.375  126.416667  314.46087\n",
      "450       104.000  134.000000  253.30000\n"
     ]
    }
   ],
   "source": [
    "grouped_mean_duration = df.groupby('Duration').mean()\n",
    "print(\"Grouped by Duration and Mean:\\n\", grouped_mean_duration)"
   ]
  },
  {
   "cell_type": "markdown",
   "id": "d34c9783-ffc4-4344-8016-e12562febd41",
   "metadata": {},
   "source": [
    "### Group by 'Duration' and 'Pulse' and calculate sum for each group"
   ]
  },
  {
   "cell_type": "code",
   "execution_count": 14,
   "id": "f6d0623d-73f8-41ee-8e28-89380e8b02e8",
   "metadata": {},
   "outputs": [
    {
     "name": "stdout",
     "output_type": "stream",
     "text": [
      "Grouped by Duration and Pulse and Sum:\n",
      "                 Maxpulse  Calories\n",
      "Duration Pulse                    \n",
      "30       109         133     195.1\n",
      "45       90          112       0.0\n",
      "         97          125     243.0\n",
      "         100         119     282.0\n",
      "         105         132     246.0\n",
      "         109         175     282.4\n",
      "         117         148     406.0\n",
      "60       92          233     484.0\n",
      "         98          367     759.2\n",
      "         100         612    1331.4\n",
      "         102         382    1014.8\n",
      "         103         537     992.3\n",
      "         104         132     379.3\n",
      "         106         128     345.3\n",
      "         108         131     364.2\n",
      "         110         266     783.1\n",
      "         117         145     479.0\n",
      "         130         101     300.0\n",
      "450      104         134     253.3\n"
     ]
    }
   ],
   "source": [
    "grouped_sum_duration_pulse = df.groupby(['Duration', 'Pulse']).sum()\n",
    "print(\"Grouped by Duration and Pulse and Sum:\\n\", grouped_sum_duration_pulse)"
   ]
  },
  {
   "cell_type": "markdown",
   "id": "638e9173-9033-4528-b451-b9cf4d324b9b",
   "metadata": {},
   "source": [
    "### Use agg method to apply multiple aggregation functions"
   ]
  },
  {
   "cell_type": "code",
   "execution_count": 15,
   "id": "a65e4bf6-20fb-4fb2-b74b-8031abdd860d",
   "metadata": {},
   "outputs": [
    {
     "name": "stdout",
     "output_type": "stream",
     "text": [
      "Aggregated Data:\n",
      "          Pulse          Maxpulse   Calories\n",
      "           sum     mean      max       mean\n",
      "Duration                                   \n",
      "30         109  109.000      133  195.10000\n",
      "45         618  103.000      175  291.88000\n",
      "60        2481  103.375      147  314.46087\n",
      "450        104  104.000      134  253.30000\n"
     ]
    }
   ],
   "source": [
    "aggregated = df.groupby('Duration').agg({\n",
    "    'Pulse': ['sum', 'mean'],\n",
    "    'Maxpulse': 'max',\n",
    "    'Calories': 'mean'\n",
    "})\n",
    "print(\"Aggregated Data:\\n\", aggregated)"
   ]
  },
  {
   "cell_type": "markdown",
   "id": "e06b2edc-814f-46dd-b850-fdfc0b392d6c",
   "metadata": {},
   "source": [
    "### Calculate the size of each group based on 'Duration'"
   ]
  },
  {
   "cell_type": "code",
   "execution_count": 16,
   "id": "514f0466-ca56-4582-9277-dddba8e8faed",
   "metadata": {},
   "outputs": [
    {
     "name": "stdout",
     "output_type": "stream",
     "text": [
      "Size of Each Group:\n",
      " Duration\n",
      "30      1\n",
      "45      6\n",
      "60     24\n",
      "450     1\n",
      "dtype: int64\n"
     ]
    }
   ],
   "source": [
    "group_size = df.groupby('Duration').size()\n",
    "print(\"Size of Each Group:\\n\", group_size)"
   ]
  },
  {
   "cell_type": "markdown",
   "id": "60444799-4f2b-4181-940a-4cc58b4ce4f7",
   "metadata": {},
   "source": [
    "### Select specific columns and rename them"
   ]
  },
  {
   "cell_type": "code",
   "execution_count": 17,
   "id": "89eace77-7522-4c53-91f6-91ec4f790f04",
   "metadata": {},
   "outputs": [
    {
     "name": "stdout",
     "output_type": "stream",
     "text": [
      "Selected and Renamed Columns:\n",
      "           HeartRate  PeakHeartRate\n",
      "Duration                          \n",
      "60              110            130\n",
      "60              117            145\n",
      "60              103            135\n",
      "45              109            175\n",
      "45              117            148\n",
      "60              102            127\n",
      "60              110            136\n",
      "450             104            134\n",
      "30              109            133\n",
      "60               98            124\n",
      "60              103            147\n",
      "60              100            120\n",
      "60              100            120\n",
      "60              106            128\n",
      "60              104            132\n",
      "60               98            123\n",
      "60               98            120\n",
      "60              100            120\n",
      "45               90            112\n",
      "60              103            123\n",
      "45               97            125\n",
      "60              108            131\n",
      "45              100            119\n",
      "60              130            101\n",
      "45              105            132\n",
      "60              102            126\n",
      "60              100            120\n",
      "60               92            118\n",
      "60              103            132\n",
      "60              100            132\n",
      "60              102            129\n",
      "60               92            115\n"
     ]
    }
   ],
   "source": [
    "renamed_columns = df[['Pulse', 'Maxpulse']].rename(columns={\n",
    "    'Pulse': 'HeartRate',\n",
    "    'Maxpulse': 'PeakHeartRate'\n",
    "})\n",
    "print(\"Selected and Renamed Columns:\\n\", renamed_columns)"
   ]
  },
  {
   "cell_type": "markdown",
   "id": "3d30a9cb-3734-406d-8ee3-0473adf14e38",
   "metadata": {},
   "source": [
    "# Dataset 2 --> output.csv"
   ]
  },
  {
   "cell_type": "markdown",
   "id": "7a76b180-a895-4ed9-bba7-5b91261f2f0d",
   "metadata": {},
   "source": [
    "### Load the CSV file into a DataFrame"
   ]
  },
  {
   "cell_type": "code",
   "execution_count": 18,
   "id": "c2018b1e-54c2-460a-883d-dc70cfe5d712",
   "metadata": {},
   "outputs": [],
   "source": [
    "file_path = 'output.csv'\n",
    "df = pd.read_csv(file_path)"
   ]
  },
  {
   "cell_type": "markdown",
   "id": "e1ece6cb-b7de-4779-b68b-be76f569e008",
   "metadata": {},
   "source": [
    "### Display the first and last five rows"
   ]
  },
  {
   "cell_type": "code",
   "execution_count": 19,
   "id": "f0512fef-99f4-454a-b5d9-c31e19719ba8",
   "metadata": {},
   "outputs": [
    {
     "name": "stdout",
     "output_type": "stream",
     "text": [
      "First five rows:\n",
      "    Feature1  Feature2  Feature3 Feature4  Feature5  Feature6  Feature7  \\\n",
      "0      44.0  0.797417 -0.958091      NaN       NaN     158.0  1.490148   \n",
      "1      47.0  0.026838 -0.244178        D       NaN       NaN  2.151535   \n",
      "2      64.0  0.199990 -1.014799        B       0.0     474.0  1.410613   \n",
      "3      67.0  0.474124  0.448040        B       NaN     166.0  0.635091   \n",
      "4       NaN  0.598516  0.087839      NaN       0.0       NaN  0.392104   \n",
      "\n",
      "   Feature8  Feature9  Feature10  Feature11 Feature12  Feature13  Feature14  \\\n",
      "0  5.166124  2.277942        NaN          5         X          1  Category1   \n",
      "1  0.450312 -3.395356        NaN          3         X          0  Category1   \n",
      "2  6.786555 -3.070746        NaN          7         Z          0  Category1   \n",
      "3  1.937158 -0.246269   6.004975         20         X          0  Category1   \n",
      "4  4.010937  3.215086   2.891199          3         Z          0  Category1   \n",
      "\n",
      "  Feature15  Feature16  Feature17 Feature18 Feature19 Feature20  \n",
      "0   Option4   8.824345  11.711130       Yes       Low       NaN  \n",
      "1   Option2        NaN  13.355832       Yes       Low       cat  \n",
      "2   Option2        NaN  13.449484       Yes    Medium       dog  \n",
      "3   Option2        NaN   7.687652       Yes       Low       cat  \n",
      "4   Option3  11.259371   6.807770       Yes       Low       cat  \n",
      "Last five rows:\n",
      "       Feature1  Feature2  Feature3 Feature4  Feature5  Feature6  Feature7  \\\n",
      "4995       NaN  0.819440  0.415931        C       0.0       NaN  1.765590   \n",
      "4996       NaN  0.032140 -1.445420        C       1.0       NaN  0.806246   \n",
      "4997      92.0  0.263300  0.986722        C       NaN      78.0  1.326853   \n",
      "4998      91.0  0.640986 -1.199847        A       0.0      51.0  0.312256   \n",
      "4999       NaN  0.901570  1.836382      NaN       0.0       NaN  2.087461   \n",
      "\n",
      "      Feature8  Feature9  Feature10  Feature11 Feature12  Feature13  \\\n",
      "4995  1.929735 -1.951884        NaN          1         Z          1   \n",
      "4996  8.765315 -1.866815        NaN          1         Y          0   \n",
      "4997  4.489722  1.720671   6.877962          1         X          0   \n",
      "4998  2.773963 -3.320704   6.138322          2         X          0   \n",
      "4999  6.854886 -0.259228   6.068139          6         X          0   \n",
      "\n",
      "      Feature14 Feature15  Feature16  Feature17 Feature18 Feature19  \\\n",
      "4995  Category2   Option4        NaN  14.821501        No       Low   \n",
      "4996  Category3   Option4   6.368173   5.308922       Yes    Medium   \n",
      "4997  Category1   Option4   5.682022   9.508951       Yes    Medium   \n",
      "4998  Category1   Option3   4.574748   8.705127        No    Medium   \n",
      "4999  Category2   Option2  12.801075  14.686372       Yes      High   \n",
      "\n",
      "       Feature20  \n",
      "4995         NaN  \n",
      "4996         NaN  \n",
      "4997         NaN  \n",
      "4998  some other  \n",
      "4999  some other  \n"
     ]
    }
   ],
   "source": [
    "print(\"First five rows:\\n\", df.head())\n",
    "print(\"Last five rows:\\n\", df.tail())"
   ]
  },
  {
   "cell_type": "markdown",
   "id": "3d063eef-363d-4e64-992c-5d50437768be",
   "metadata": {},
   "source": [
    "### Set 'Feature4' as the index"
   ]
  },
  {
   "cell_type": "code",
   "execution_count": 20,
   "id": "90d6387e-bb25-40f7-a05c-e0d4275604ad",
   "metadata": {},
   "outputs": [
    {
     "name": "stdout",
     "output_type": "stream",
     "text": [
      "DataFrame with 'Feature4' as index:\n",
      "           Feature1  Feature2  Feature3  Feature5  Feature6  Feature7  \\\n",
      "Feature4                                                               \n",
      "NaN           44.0  0.797417 -0.958091       NaN     158.0  1.490148   \n",
      "D             47.0  0.026838 -0.244178       NaN       NaN  2.151535   \n",
      "B             64.0  0.199990 -1.014799       0.0     474.0  1.410613   \n",
      "B             67.0  0.474124  0.448040       NaN     166.0  0.635091   \n",
      "NaN            NaN  0.598516  0.087839       0.0       NaN  0.392104   \n",
      "...            ...       ...       ...       ...       ...       ...   \n",
      "C              NaN  0.819440  0.415931       0.0       NaN  1.765590   \n",
      "C              NaN  0.032140 -1.445420       1.0       NaN  0.806246   \n",
      "C             92.0  0.263300  0.986722       NaN      78.0  1.326853   \n",
      "A             91.0  0.640986 -1.199847       0.0      51.0  0.312256   \n",
      "NaN            NaN  0.901570  1.836382       0.0       NaN  2.087461   \n",
      "\n",
      "          Feature8  Feature9  Feature10  Feature11 Feature12  Feature13  \\\n",
      "Feature4                                                                  \n",
      "NaN       5.166124  2.277942        NaN          5         X          1   \n",
      "D         0.450312 -3.395356        NaN          3         X          0   \n",
      "B         6.786555 -3.070746        NaN          7         Z          0   \n",
      "B         1.937158 -0.246269   6.004975         20         X          0   \n",
      "NaN       4.010937  3.215086   2.891199          3         Z          0   \n",
      "...            ...       ...        ...        ...       ...        ...   \n",
      "C         1.929735 -1.951884        NaN          1         Z          1   \n",
      "C         8.765315 -1.866815        NaN          1         Y          0   \n",
      "C         4.489722  1.720671   6.877962          1         X          0   \n",
      "A         2.773963 -3.320704   6.138322          2         X          0   \n",
      "NaN       6.854886 -0.259228   6.068139          6         X          0   \n",
      "\n",
      "          Feature14 Feature15  Feature16  Feature17 Feature18 Feature19  \\\n",
      "Feature4                                                                  \n",
      "NaN       Category1   Option4   8.824345  11.711130       Yes       Low   \n",
      "D         Category1   Option2        NaN  13.355832       Yes       Low   \n",
      "B         Category1   Option2        NaN  13.449484       Yes    Medium   \n",
      "B         Category1   Option2        NaN   7.687652       Yes       Low   \n",
      "NaN       Category1   Option3  11.259371   6.807770       Yes       Low   \n",
      "...             ...       ...        ...        ...       ...       ...   \n",
      "C         Category2   Option4        NaN  14.821501        No       Low   \n",
      "C         Category3   Option4   6.368173   5.308922       Yes    Medium   \n",
      "C         Category1   Option4   5.682022   9.508951       Yes    Medium   \n",
      "A         Category1   Option3   4.574748   8.705127        No    Medium   \n",
      "NaN       Category2   Option2  12.801075  14.686372       Yes      High   \n",
      "\n",
      "           Feature20  \n",
      "Feature4              \n",
      "NaN              NaN  \n",
      "D                cat  \n",
      "B                dog  \n",
      "B                cat  \n",
      "NaN              cat  \n",
      "...              ...  \n",
      "C                NaN  \n",
      "C                NaN  \n",
      "C                NaN  \n",
      "A         some other  \n",
      "NaN       some other  \n",
      "\n",
      "[5000 rows x 19 columns]\n"
     ]
    }
   ],
   "source": [
    "df.set_index('Feature4', inplace=True)\n",
    "print(\"DataFrame with 'Feature4' as index:\\n\", df)"
   ]
  },
  {
   "cell_type": "markdown",
   "id": "9c5bccdd-9f65-4056-b464-349ee119b6b2",
   "metadata": {},
   "source": [
    "### Select and display 'Feature2' column"
   ]
  },
  {
   "cell_type": "code",
   "execution_count": 21,
   "id": "9b119758-a843-4f9e-8559-c0f690104052",
   "metadata": {},
   "outputs": [
    {
     "name": "stdout",
     "output_type": "stream",
     "text": [
      "Feature2 Column:\n",
      " Feature4\n",
      "NaN    0.797417\n",
      "D      0.026838\n",
      "B      0.199990\n",
      "B      0.474124\n",
      "NaN    0.598516\n",
      "         ...   \n",
      "C      0.819440\n",
      "C      0.032140\n",
      "C      0.263300\n",
      "A      0.640986\n",
      "NaN    0.901570\n",
      "Name: Feature2, Length: 5000, dtype: float64\n"
     ]
    }
   ],
   "source": [
    "feature2_column = df['Feature2']\n",
    "print(\"Feature2 Column:\\n\", feature2_column)"
   ]
  },
  {
   "cell_type": "markdown",
   "id": "ab5f1f24-9d58-45a4-b1c8-5b3dabba6ab1",
   "metadata": {},
   "source": [
    "### Select and display 'Feature2' and 'Feature5' columns"
   ]
  },
  {
   "cell_type": "code",
   "execution_count": 22,
   "id": "cb577ffa-a967-400b-945c-274adac95af5",
   "metadata": {},
   "outputs": [
    {
     "name": "stdout",
     "output_type": "stream",
     "text": [
      "Feature2 and Feature5 Columns:\n",
      "           Feature2  Feature5\n",
      "Feature4                    \n",
      "NaN       0.797417       NaN\n",
      "D         0.026838       NaN\n",
      "B         0.199990       0.0\n",
      "B         0.474124       NaN\n",
      "NaN       0.598516       0.0\n",
      "...            ...       ...\n",
      "C         0.819440       0.0\n",
      "C         0.032140       1.0\n",
      "C         0.263300       NaN\n",
      "A         0.640986       0.0\n",
      "NaN       0.901570       0.0\n",
      "\n",
      "[5000 rows x 2 columns]\n"
     ]
    }
   ],
   "source": [
    "feature2_5_columns = df[['Feature2', 'Feature5']]\n",
    "print(\"Feature2 and Feature5 Columns:\\n\", feature2_5_columns)"
   ]
  },
  {
   "cell_type": "markdown",
   "id": "f9ff48bc-06c1-45f1-981e-711d5e19e7a3",
   "metadata": {},
   "source": [
    "### Select a subset of rows using .loc (using actual index labels)"
   ]
  },
  {
   "cell_type": "code",
   "execution_count": 23,
   "id": "eccbc01c-8727-4537-ac7d-46417df87e05",
   "metadata": {},
   "outputs": [
    {
     "name": "stdout",
     "output_type": "stream",
     "text": [
      "Subset of Rows using .loc:\n",
      "           Feature1  Feature2  Feature3  Feature5    Feature6  Feature7  \\\n",
      "Feature4                                                                 \n",
      "A              NaN  0.087169 -0.293628       0.0  587.000000  2.428588   \n",
      "A              NaN  0.204467 -0.988010       NaN         NaN  3.601679   \n",
      "A              NaN  1.119411  0.899467       0.0  156.505327  0.367481   \n",
      "A              NaN  0.689365  0.046061       1.0  818.000000  0.384104   \n",
      "A             88.0  0.113432  0.255512       NaN  552.000000  0.709581   \n",
      "...            ...       ...       ...       ...         ...       ...   \n",
      "B              NaN  0.618159  0.512165       0.0  923.000000  2.090462   \n",
      "B              NaN  0.549802 -0.185693       0.0         NaN  0.969918   \n",
      "B             58.0  0.613667  1.505314       0.0         NaN  1.333325   \n",
      "B              NaN  0.245673  1.273752       0.0  133.000000  1.245834   \n",
      "B              3.0  0.816137 -0.204571       0.0  531.000000  4.383736   \n",
      "\n",
      "           Feature8  Feature9  Feature10  Feature11 Feature12  Feature13  \\\n",
      "Feature4                                                                   \n",
      "A          3.271965  0.972953        NaN          3         Y          0   \n",
      "A          2.179749 -0.631827   3.983001          5         Z          0   \n",
      "A          1.984581 -1.886895        NaN          4         X          1   \n",
      "A          2.441538 -0.145815   2.945466          5         Y          0   \n",
      "A         10.423696  0.021349        NaN          6         X          0   \n",
      "...             ...       ...        ...        ...       ...        ...   \n",
      "B          2.856839  0.665688   8.031006          3         Y          0   \n",
      "B          6.768639  2.225356   2.945912          6         Y          1   \n",
      "B          1.560089  1.760352   6.982378         13         X          0   \n",
      "B          3.300026 -0.131068        NaN          6         Z          0   \n",
      "B          1.775034 -1.286075        NaN          2         X          1   \n",
      "\n",
      "          Feature14 Feature15  Feature16  Feature17 Feature18 Feature19  \\\n",
      "Feature4                                                                  \n",
      "A         Category1   Option3        NaN  12.457649       Yes    Medium   \n",
      "A         Category1   Option4   9.249617  11.700173        No      High   \n",
      "A         Category1   Option4        NaN   8.002058       Yes      High   \n",
      "A         Category1   Option1        NaN  12.869515       Yes       Low   \n",
      "A         Category2   Option4  11.788476   5.845521       Yes      High   \n",
      "...             ...       ...        ...        ...       ...       ...   \n",
      "B         Category1   Option2        NaN   6.630506       Yes    Medium   \n",
      "B         Category1   Option1   9.252532  12.424919        No    Medium   \n",
      "B         Category1   Option3        NaN   7.078266        No       Low   \n",
      "B         Category3   Option4  10.862303   8.754387       Yes    Medium   \n",
      "B         Category2   Option1  11.420359  13.591732       Yes       Low   \n",
      "\n",
      "           Feature20  \n",
      "Feature4              \n",
      "A         some other  \n",
      "A                NaN  \n",
      "A                dog  \n",
      "A                cat  \n",
      "A                dog  \n",
      "...              ...  \n",
      "B                cat  \n",
      "B                NaN  \n",
      "B                cat  \n",
      "B                dog  \n",
      "B                NaN  \n",
      "\n",
      "[1632 rows x 19 columns]\n"
     ]
    }
   ],
   "source": [
    "subset_loc = df.loc[['A', 'B']]\n",
    "print(\"Subset of Rows using .loc:\\n\", subset_loc)"
   ]
  },
  {
   "cell_type": "markdown",
   "id": "bf0a554a-a392-419d-a1dd-78babdddbee2",
   "metadata": {},
   "source": [
    "### Select a subset of rows and columns using .iloc"
   ]
  },
  {
   "cell_type": "code",
   "execution_count": 24,
   "id": "4a624d8d-0fda-4664-8932-3e9697417993",
   "metadata": {},
   "outputs": [
    {
     "name": "stdout",
     "output_type": "stream",
     "text": [
      "Subset of Rows and Columns using .iloc:\n",
      "           Feature2  Feature3  Feature7\n",
      "Feature4                              \n",
      "NaN       0.797417 -0.958091  1.490148\n",
      "D         0.026838 -0.244178  2.151535\n",
      "B         0.199990 -1.014799  1.410613\n",
      "B         0.474124  0.448040  0.635091\n",
      "NaN       0.598516  0.087839  0.392104\n"
     ]
    }
   ],
   "source": [
    "subset_iloc = df.iloc[:5, [1, 2, 5]]\n",
    "print(\"Subset of Rows and Columns using .iloc:\\n\", subset_iloc)"
   ]
  },
  {
   "cell_type": "markdown",
   "id": "87b2f5a4-c04d-4385-bf66-34f54ca97c7e",
   "metadata": {},
   "source": [
    "### Filter rows where 'Feature5' > 50"
   ]
  },
  {
   "cell_type": "code",
   "execution_count": 25,
   "id": "ee6106a3-b552-4b21-967e-db00aba99c93",
   "metadata": {},
   "outputs": [
    {
     "name": "stdout",
     "output_type": "stream",
     "text": [
      "Filtered Rows with Feature5 > 50:\n",
      " Empty DataFrame\n",
      "Columns: [Feature1, Feature2, Feature3, Feature5, Feature6, Feature7, Feature8, Feature9, Feature10, Feature11, Feature12, Feature13, Feature14, Feature15, Feature16, Feature17, Feature18, Feature19, Feature20]\n",
      "Index: []\n"
     ]
    }
   ],
   "source": [
    "filtered_feature5 = df[df['Feature5'] > 50]\n",
    "print(\"Filtered Rows with Feature5 > 50:\\n\", filtered_feature5)"
   ]
  },
  {
   "cell_type": "markdown",
   "id": "1096ab20-ee4a-4969-8497-bea7dcaec7c4",
   "metadata": {},
   "source": [
    "### Filter rows where 'Feature2' > 20 and 'Feature3' < 100"
   ]
  },
  {
   "cell_type": "code",
   "execution_count": 26,
   "id": "f88d77f7-7c9e-4f6a-9cc6-9b290c91ca97",
   "metadata": {},
   "outputs": [
    {
     "name": "stdout",
     "output_type": "stream",
     "text": [
      "Filtered Rows with Feature2 > 20 and Feature3 < 100:\n",
      " Empty DataFrame\n",
      "Columns: [Feature1, Feature2, Feature3, Feature5, Feature6, Feature7, Feature8, Feature9, Feature10, Feature11, Feature12, Feature13, Feature14, Feature15, Feature16, Feature17, Feature18, Feature19, Feature20]\n",
      "Index: []\n"
     ]
    }
   ],
   "source": [
    "filtered_feature2_3 = df[(df['Feature2'] > 20) & (df['Feature3'] < 100)]\n",
    "print(\"Filtered Rows with Feature2 > 20 and Feature3 < 100:\\n\", filtered_feature2_3)"
   ]
  },
  {
   "cell_type": "markdown",
   "id": "ca992a99-9052-46d8-a315-eaf9e681e210",
   "metadata": {},
   "source": [
    "### Use query method to filter rows where 'Feature7' > 150"
   ]
  },
  {
   "cell_type": "code",
   "execution_count": 27,
   "id": "04bbb58e-461c-4254-b7d7-114cd73cb8d5",
   "metadata": {},
   "outputs": [
    {
     "name": "stdout",
     "output_type": "stream",
     "text": [
      "Filtered Rows using query method:\n",
      " Empty DataFrame\n",
      "Columns: [Feature1, Feature2, Feature3, Feature5, Feature6, Feature7, Feature8, Feature9, Feature10, Feature11, Feature12, Feature13, Feature14, Feature15, Feature16, Feature17, Feature18, Feature19, Feature20]\n",
      "Index: []\n"
     ]
    }
   ],
   "source": [
    "query_filtered = df.query('Feature7 > 150')\n",
    "print(\"Filtered Rows using query method:\\n\", query_filtered)"
   ]
  },
  {
   "cell_type": "markdown",
   "id": "c3ce5e60-638d-41ea-b242-c98848805013",
   "metadata": {},
   "source": [
    "### Use isin to filter rows where 'Feature12' is in a list of values"
   ]
  },
  {
   "cell_type": "code",
   "execution_count": 28,
   "id": "4f343e35-6a99-4565-9597-d3fc0a5cc143",
   "metadata": {},
   "outputs": [
    {
     "name": "stdout",
     "output_type": "stream",
     "text": [
      "Filtered Rows using isin for Feature12:\n",
      " Empty DataFrame\n",
      "Columns: [Feature1, Feature2, Feature3, Feature5, Feature6, Feature7, Feature8, Feature9, Feature10, Feature11, Feature12, Feature13, Feature14, Feature15, Feature16, Feature17, Feature18, Feature19, Feature20]\n",
      "Index: []\n"
     ]
    }
   ],
   "source": [
    "feature12_values_list = ['value1', 'value2']\n",
    "filtered_isin = df[df['Feature12'].isin(feature12_values_list)]\n",
    "print(\"Filtered Rows using isin for Feature12:\\n\", filtered_isin)"
   ]
  },
  {
   "cell_type": "markdown",
   "id": "9e50b559-cb20-4dc7-b630-ec97556695f4",
   "metadata": {},
   "source": [
    "### Group by 'Feature1' and 'Feature2' and calculate sum for each group"
   ]
  },
  {
   "cell_type": "code",
   "execution_count": 29,
   "id": "73cf7dd9-f9aa-453d-8c11-5b0911bd65b8",
   "metadata": {},
   "outputs": [
    {
     "name": "stdout",
     "output_type": "stream",
     "text": [
      "Grouped by Feature1 and Feature2 and Sum:\n",
      "                     Feature3  Feature5    Feature6  Feature7   Feature8  \\\n",
      "Feature1 Feature2                                                         \n",
      "0.0      -0.190275  1.024529       0.0  112.684295  0.812273   0.656600   \n",
      "          0.058606 -0.928581       0.0    0.000000  0.511888   4.098720   \n",
      "          0.106766 -1.490766       0.0    0.000000  2.308925  10.002186   \n",
      "          0.162696  1.883988       1.0  358.000000  1.035700   7.842196   \n",
      "          0.194193 -0.608219       0.0  726.000000  0.564594   6.532264   \n",
      "...                      ...       ...         ...       ...        ...   \n",
      "99.0      0.806087  0.673348       0.0  847.528266  2.311998   3.654311   \n",
      "          0.807822  0.764659       0.0  352.000000  1.158098   2.892907   \n",
      "          0.941835 -1.249558       0.0    0.000000  0.397433   1.313112   \n",
      "          0.990978 -1.648870       0.0    0.000000  0.237551   4.386257   \n",
      "          1.252842 -0.076669       0.0   -5.590177  2.946744   5.794648   \n",
      "\n",
      "                    Feature9  Feature10  Feature11 Feature12  Feature13  \\\n",
      "Feature1 Feature2                                                         \n",
      "0.0      -0.190275 -0.191013   0.000000          2         Y          0   \n",
      "          0.058606  1.659263   5.050425          7         Y          1   \n",
      "          0.106766 -0.468309   4.010879          1         Y          0   \n",
      "          0.162696  0.694603   5.892869          3         Y          0   \n",
      "          0.194193 -1.472030   4.990148          8         X          1   \n",
      "...                      ...        ...        ...       ...        ...   \n",
      "99.0      0.806087 -1.468642   3.955486         26         X          2   \n",
      "          0.807822  0.286615   0.000000          4         Z          0   \n",
      "          0.941835 -0.332610   0.000000          7         X          1   \n",
      "          0.990978 -0.650188   3.807587          2         Y          1   \n",
      "          1.252842  0.530753   0.000000          3         Y          0   \n",
      "\n",
      "                    Feature14 Feature15  Feature16  Feature17 Feature18  \\\n",
      "Feature1 Feature2                                                         \n",
      "0.0      -0.190275  Category3   Option1   8.345735  13.659030       Yes   \n",
      "          0.058606  Category3   Option4  10.146683   9.211458       Yes   \n",
      "          0.106766  Category1   Option3  10.521694   6.033924        No   \n",
      "          0.162696  Category1   Option1   8.950566   7.911709       Yes   \n",
      "          0.194193  Category1   Option4   8.559621   8.411097       Yes   \n",
      "...                       ...       ...        ...        ...       ...   \n",
      "99.0      0.806087  Category1   Option4   9.428664   7.671943       Yes   \n",
      "          0.807822  Category2   Option4   8.907529   7.730676       Yes   \n",
      "          0.941835  Category1   Option4   0.000000   7.522265       Yes   \n",
      "          0.990978  Category1   Option1   5.151979   5.759695       Yes   \n",
      "          1.252842  Category3   Option4   0.000000  10.788614       Yes   \n",
      "\n",
      "                   Feature19 Feature20  \n",
      "Feature1 Feature2                       \n",
      "0.0      -0.190275      High       cat  \n",
      "          0.058606    Medium       dog  \n",
      "          0.106766       Low         0  \n",
      "          0.162696      High       cat  \n",
      "          0.194193    Medium         0  \n",
      "...                      ...       ...  \n",
      "99.0      0.806087       Low       dog  \n",
      "          0.807822    Medium       cat  \n",
      "          0.941835       Low       dog  \n",
      "          0.990978      High       cat  \n",
      "          1.252842         0       cat  \n",
      "\n",
      "[2296 rows x 17 columns]\n"
     ]
    }
   ],
   "source": [
    "grouped_sum_feature1_2 = df.groupby(['Feature1', 'Feature2']).sum()\n",
    "print(\"Grouped by Feature1 and Feature2 and Sum:\\n\", grouped_sum_feature1_2)"
   ]
  },
  {
   "cell_type": "markdown",
   "id": "8da65e1d-b5d9-4c6d-9852-54d35de8cbda",
   "metadata": {},
   "source": [
    "### Use agg method to apply multiple aggregation functions"
   ]
  },
  {
   "cell_type": "code",
   "execution_count": 30,
   "id": "20aa0a64-f492-4c7d-9506-8f3629260e58",
   "metadata": {},
   "outputs": [
    {
     "name": "stdout",
     "output_type": "stream",
     "text": [
      "Aggregated Data:\n",
      "            Feature2            Feature3  Feature5\n",
      "                sum      mean       max      mean\n",
      "Feature1                                         \n",
      "0.0       18.871881  0.571875  2.020432  0.166667\n",
      "1.0        9.733999  0.608375  1.428359  0.000000\n",
      "2.0       10.301820  0.447905  1.551123  0.157895\n",
      "3.0       16.557802  0.551927  2.490175  0.043478\n",
      "4.0       11.337844  0.419920  1.507062  0.000000\n",
      "...             ...       ...       ...       ...\n",
      "95.0       7.755779  0.484736  1.378524  0.000000\n",
      "96.0      10.133454  0.633341  1.462408  0.125000\n",
      "97.0      10.398584  0.547294  2.120759  0.000000\n",
      "98.0      12.186794  0.487472  1.589750  0.000000\n",
      "99.0      10.063578  0.503179  1.442582  0.000000\n",
      "\n",
      "[100 rows x 4 columns]\n"
     ]
    }
   ],
   "source": [
    "aggregated = df.groupby('Feature1').agg({\n",
    "    'Feature2': ['sum', 'mean'],\n",
    "    'Feature3': 'max',\n",
    "    'Feature5': 'mean'\n",
    "})\n",
    "print(\"Aggregated Data:\\n\", aggregated)"
   ]
  },
  {
   "cell_type": "markdown",
   "id": "33b4b3bf-5198-4267-9f7b-545e94b9e8af",
   "metadata": {},
   "source": [
    "### Calculate the size of each group based on 'Feature1'"
   ]
  },
  {
   "cell_type": "code",
   "execution_count": 31,
   "id": "3dc78717-3800-443f-a664-f810edc8e936",
   "metadata": {},
   "outputs": [
    {
     "name": "stdout",
     "output_type": "stream",
     "text": [
      "Size of Each Group:\n",
      " Feature1\n",
      "0.0     33\n",
      "1.0     16\n",
      "2.0     23\n",
      "3.0     30\n",
      "4.0     27\n",
      "        ..\n",
      "95.0    16\n",
      "96.0    16\n",
      "97.0    19\n",
      "98.0    25\n",
      "99.0    20\n",
      "Length: 100, dtype: int64\n"
     ]
    }
   ],
   "source": [
    "group_size = df.groupby('Feature1').size()\n",
    "print(\"Size of Each Group:\\n\", group_size)"
   ]
  },
  {
   "cell_type": "markdown",
   "id": "61731613-f495-48c4-9772-2a269047319c",
   "metadata": {},
   "source": [
    "### Select specific columns and rename them"
   ]
  },
  {
   "cell_type": "code",
   "execution_count": 32,
   "id": "b87a9f6b-42ca-4330-9454-e72d360794be",
   "metadata": {},
   "outputs": [
    {
     "name": "stdout",
     "output_type": "stream",
     "text": [
      "Selected and Renamed Columns:\n",
      "           NewFeature2  NewFeature3\n",
      "Feature4                          \n",
      "NaN          0.797417    -0.958091\n",
      "D            0.026838    -0.244178\n",
      "B            0.199990    -1.014799\n",
      "B            0.474124     0.448040\n",
      "NaN          0.598516     0.087839\n",
      "...               ...          ...\n",
      "C            0.819440     0.415931\n",
      "C            0.032140    -1.445420\n",
      "C            0.263300     0.986722\n",
      "A            0.640986    -1.199847\n",
      "NaN          0.901570     1.836382\n",
      "\n",
      "[5000 rows x 2 columns]\n"
     ]
    }
   ],
   "source": [
    "renamed_columns = df[['Feature2', 'Feature3']].rename(columns={\n",
    "    'Feature2': 'NewFeature2',\n",
    "    'Feature3': 'NewFeature3'\n",
    "})\n",
    "print(\"Selected and Renamed Columns:\\n\", renamed_columns)"
   ]
  },
  {
   "cell_type": "markdown",
   "id": "c8f9fc82-280d-4327-9871-5c8a5a3529c5",
   "metadata": {},
   "source": [
    "# Dataset 3 --> police.csv"
   ]
  },
  {
   "cell_type": "markdown",
   "id": "8a7c5d03-de80-49e2-956e-3029d9ca8d94",
   "metadata": {},
   "source": [
    "### Load the CSV file into a DataFrame"
   ]
  },
  {
   "cell_type": "code",
   "execution_count": 33,
   "id": "48169d49-af41-406d-8873-75e1056e9b4e",
   "metadata": {},
   "outputs": [],
   "source": [
    "file_path = 'police.csv'\n",
    "df = pd.read_csv(file_path)"
   ]
  },
  {
   "cell_type": "markdown",
   "id": "1c87c705-3e0f-4415-ba93-c6366c1c956e",
   "metadata": {},
   "source": [
    "### Function to safely convert dates"
   ]
  },
  {
   "cell_type": "code",
   "execution_count": 34,
   "id": "c352415f-943c-4eae-a481-03c0f95be20b",
   "metadata": {},
   "outputs": [],
   "source": [
    "def safe_date_conversion(date_str):\n",
    "    for fmt in (\"%d/%m/%Y\", \"%d-%m-%Y\", \"%Y-%d-%m\", \"%m/%d/%Y\"):\n",
    "        try:\n",
    "            return pd.to_datetime(date_str, format=fmt)\n",
    "        except (ValueError, TypeError):\n",
    "            continue\n",
    "    return pd.NaT  # If all conversions fail, return NaT"
   ]
  },
  {
   "cell_type": "markdown",
   "id": "3cf511e9-405e-42d1-b50e-02c66c2314f5",
   "metadata": {},
   "source": [
    "### Apply the function to convert dates"
   ]
  },
  {
   "cell_type": "code",
   "execution_count": 35,
   "id": "5e7314b7-f68e-4fda-862b-afa1c5fe6da2",
   "metadata": {},
   "outputs": [],
   "source": [
    "df['stop_date'] = df['stop_date'].apply(safe_date_conversion)"
   ]
  },
  {
   "cell_type": "markdown",
   "id": "14b18355-823a-44a3-b855-6ec374392a72",
   "metadata": {},
   "source": [
    "### Remove rows where date conversion failed"
   ]
  },
  {
   "cell_type": "code",
   "execution_count": 36,
   "id": "ce445f92-ab10-4c03-8809-c66e0d9bf465",
   "metadata": {},
   "outputs": [],
   "source": [
    "df.dropna(subset=['stop_date'], inplace=True)"
   ]
  },
  {
   "cell_type": "markdown",
   "id": "5a282dbe-25b8-4918-bae1-4f7d7c799504",
   "metadata": {},
   "source": [
    "### Ensure 'stop_date' is in datetime format and set as index"
   ]
  },
  {
   "cell_type": "code",
   "execution_count": 37,
   "id": "9894fa79-e05f-4cdf-a536-3e6aba19420f",
   "metadata": {},
   "outputs": [],
   "source": [
    "df.set_index('stop_date', inplace=True)"
   ]
  },
  {
   "cell_type": "markdown",
   "id": "e53bb420-5117-46c3-9377-4c073b7e1c37",
   "metadata": {},
   "source": [
    "### Display the first and last five rows of the DataFrame"
   ]
  },
  {
   "cell_type": "code",
   "execution_count": 38,
   "id": "198d7652-d29b-4835-9698-839742d43f42",
   "metadata": {},
   "outputs": [
    {
     "name": "stdout",
     "output_type": "stream",
     "text": [
      "First five rows:\n",
      "            stop_time  county_name driver_gender  driver_age_raw  driver_age  \\\n",
      "stop_date                                                                     \n",
      "2005-02-01     01:55          NaN             M          1985.0        20.0   \n",
      "2005-01-04     17:30          NaN             M          1969.0        36.0   \n",
      "2005-06-06     13:20          NaN             F          1986.0        19.0   \n",
      "2005-07-08     16:50          NaN             M          1953.0        52.0   \n",
      "2005-08-08     02:09          NaN             M          1955.0        50.0   \n",
      "\n",
      "           driver_race            violation_raw         violation  \\\n",
      "stop_date                                                           \n",
      "2005-02-01       White                 Speeding          Speeding   \n",
      "2005-01-04       White                 Speeding          Speeding   \n",
      "2005-06-06       White                 Speeding          Speeding   \n",
      "2005-07-08       White  Other Traffic Violation  Moving violation   \n",
      "2005-08-08       Black  Other Traffic Violation  Moving violation   \n",
      "\n",
      "            search_conducted search_type   stop_outcome is_arrested  \\\n",
      "stop_date                                                             \n",
      "2005-02-01             False         NaN       Citation       False   \n",
      "2005-01-04             False         NaN       Citation       False   \n",
      "2005-06-06             False         NaN       Citation       False   \n",
      "2005-07-08             False         NaN       Citation       False   \n",
      "2005-08-08             False         NaN  Arrest Driver        True   \n",
      "\n",
      "           stop_duration  drugs_related_stop  \n",
      "stop_date                                     \n",
      "2005-02-01      0-15 Min               False  \n",
      "2005-01-04      0-15 Min               False  \n",
      "2005-06-06      0-15 Min               False  \n",
      "2005-07-08      0-15 Min               False  \n",
      "2005-08-08       30+ Min               False  \n",
      "Last five rows:\n",
      "            stop_time  county_name driver_gender  driver_age_raw  driver_age  \\\n",
      "stop_date                                                                     \n",
      "2015-12-12     22:20          NaN             M          1992.0        23.0   \n",
      "2015-12-12     22:49          NaN             M          1985.0        30.0   \n",
      "2015-12-12     23:33          NaN             F          1996.0        19.0   \n",
      "2015-12-12     23:34          NaN             M          1996.0        19.0   \n",
      "2015-12-12     23:48          NaN             F          1986.0        29.0   \n",
      "\n",
      "           driver_race                   violation_raw         violation  \\\n",
      "stop_date                                                                  \n",
      "2015-12-12       White         Other Traffic Violation  Moving violation   \n",
      "2015-12-12       White                        Speeding          Speeding   \n",
      "2015-12-12       White  Equipment/Inspection Violation         Equipment   \n",
      "2015-12-12       White                        Speeding          Speeding   \n",
      "2015-12-12       White                        Speeding          Speeding   \n",
      "\n",
      "            search_conducted search_type stop_outcome is_arrested  \\\n",
      "stop_date                                                           \n",
      "2015-12-12             False         NaN     Citation       False   \n",
      "2015-12-12             False         NaN     Citation       False   \n",
      "2015-12-12             False         NaN     Citation       False   \n",
      "2015-12-12             False         NaN      Warning       False   \n",
      "2015-12-12             False         NaN     Citation       False   \n",
      "\n",
      "           stop_duration  drugs_related_stop  \n",
      "stop_date                                     \n",
      "2015-12-12      0-15 Min               False  \n",
      "2015-12-12      0-15 Min               False  \n",
      "2015-12-12      0-15 Min               False  \n",
      "2015-12-12      0-15 Min               False  \n",
      "2015-12-12      0-15 Min               False  \n"
     ]
    }
   ],
   "source": [
    "print(\"First five rows:\\n\", df.head())\n",
    "print(\"Last five rows:\\n\", df.tail())"
   ]
  },
  {
   "cell_type": "code",
   "execution_count": null,
   "id": "c9d08ddf-be34-49b5-85d8-306d884f11be",
   "metadata": {},
   "outputs": [],
   "source": []
  },
  {
   "cell_type": "code",
   "execution_count": 39,
   "id": "4c8216b0-9db8-4a1a-9e3b-b7ab397cdfa8",
   "metadata": {},
   "outputs": [
    {
     "name": "stdout",
     "output_type": "stream",
     "text": [
      "Violation Column:\n",
      " stop_date\n",
      "2005-02-01            Speeding\n",
      "2005-01-04            Speeding\n",
      "2005-06-06            Speeding\n",
      "2005-07-08    Moving violation\n",
      "2005-08-08    Moving violation\n",
      "                    ...       \n",
      "2015-12-12    Moving violation\n",
      "2015-12-12            Speeding\n",
      "2015-12-12           Equipment\n",
      "2015-12-12            Speeding\n",
      "2015-12-12            Speeding\n",
      "Name: violation, Length: 36585, dtype: object\n"
     ]
    }
   ],
   "source": [
    "# Select and display 'violation' column\n",
    "violation_column = df['violation']\n",
    "print(\"Violation Column:\\n\", violation_column)"
   ]
  },
  {
   "cell_type": "code",
   "execution_count": null,
   "id": "55c7708e-6af4-466a-9840-312c3546c8a9",
   "metadata": {},
   "outputs": [],
   "source": []
  },
  {
   "cell_type": "code",
   "execution_count": 40,
   "id": "c20d12ee-686e-43af-baea-26909aa9fed9",
   "metadata": {},
   "outputs": [
    {
     "name": "stdout",
     "output_type": "stream",
     "text": [
      "Selected Columns (driver_gender and stop_outcome):\n",
      "            driver_gender   stop_outcome\n",
      "stop_date                              \n",
      "2005-02-01             M       Citation\n",
      "2005-01-04             M       Citation\n",
      "2005-06-06             F       Citation\n",
      "2005-07-08             M       Citation\n",
      "2005-08-08             M  Arrest Driver\n",
      "...                  ...            ...\n",
      "2015-12-12             M       Citation\n",
      "2015-12-12             M       Citation\n",
      "2015-12-12             F       Citation\n",
      "2015-12-12             M        Warning\n",
      "2015-12-12             F       Citation\n",
      "\n",
      "[36585 rows x 2 columns]\n"
     ]
    }
   ],
   "source": [
    "# Select and display 'driver_gender' and 'stop_outcome' columns\n",
    "selected_columns = df[['driver_gender', 'stop_outcome']]\n",
    "print(\"Selected Columns (driver_gender and stop_outcome):\\n\", selected_columns)"
   ]
  },
  {
   "cell_type": "code",
   "execution_count": null,
   "id": "86743353-45c1-4d33-8c41-9953e0fe984c",
   "metadata": {},
   "outputs": [],
   "source": []
  },
  {
   "cell_type": "code",
   "execution_count": 41,
   "id": "7622b228-84b5-466d-a399-84d3ffdfe517",
   "metadata": {},
   "outputs": [
    {
     "name": "stdout",
     "output_type": "stream",
     "text": [
      "Subset of Rows using .loc:\n",
      "            stop_time  county_name driver_gender  driver_age_raw  driver_age  \\\n",
      "stop_date                                                                     \n",
      "2005-02-01     01:55          NaN             M          1985.0        20.0   \n",
      "2005-01-04     17:30          NaN             M          1969.0        36.0   \n",
      "2005-06-06     13:20          NaN             F          1986.0        19.0   \n",
      "\n",
      "           driver_race violation_raw violation  search_conducted search_type  \\\n",
      "stop_date                                                                      \n",
      "2005-02-01       White      Speeding  Speeding             False         NaN   \n",
      "2005-01-04       White      Speeding  Speeding             False         NaN   \n",
      "2005-06-06       White      Speeding  Speeding             False         NaN   \n",
      "\n",
      "           stop_outcome is_arrested stop_duration  drugs_related_stop  \n",
      "stop_date                                                              \n",
      "2005-02-01     Citation       False      0-15 Min               False  \n",
      "2005-01-04     Citation       False      0-15 Min               False  \n",
      "2005-06-06     Citation       False      0-15 Min               False  \n"
     ]
    }
   ],
   "source": [
    "# Select a subset of rows using .loc\n",
    "# Use dates that are present in the dataset\n",
    "available_dates = df.index.unique()[:3].strftime('%Y-%m-%d').tolist()\n",
    "subset_loc = df.loc[available_dates]\n",
    "print(\"Subset of Rows using .loc:\\n\", subset_loc)"
   ]
  },
  {
   "cell_type": "markdown",
   "id": "411896d1-2aea-4f5b-9687-8448cd0dd2ca",
   "metadata": {},
   "source": [
    "### Select a subset of rows and columns using .iloc"
   ]
  },
  {
   "cell_type": "code",
   "execution_count": 42,
   "id": "aa5193ca-8553-41cc-adf9-4e866377b035",
   "metadata": {},
   "outputs": [
    {
     "name": "stdout",
     "output_type": "stream",
     "text": [
      "Subset of Rows and Columns using .iloc:\n",
      "             county_name  driver_age_raw driver_race\n",
      "stop_date                                          \n",
      "2005-02-01          NaN          1985.0       White\n",
      "2005-01-04          NaN          1969.0       White\n",
      "2005-06-06          NaN          1986.0       White\n"
     ]
    }
   ],
   "source": [
    "subset_iloc = df.iloc[:3, [1, 3, 5]]\n",
    "print(\"Subset of Rows and Columns using .iloc:\\n\", subset_iloc)"
   ]
  },
  {
   "cell_type": "markdown",
   "id": "fb7a7d53-54ff-42ed-b8b2-e8cc0d2a5531",
   "metadata": {},
   "source": [
    "### Filter rows where 'driver_gender' is 'F'"
   ]
  },
  {
   "cell_type": "code",
   "execution_count": 43,
   "id": "ff6e5d1d-85de-4324-a74f-08f9503a3276",
   "metadata": {},
   "outputs": [
    {
     "name": "stdout",
     "output_type": "stream",
     "text": [
      "Filtered Rows with driver_gender == 'F':\n",
      "            stop_time  county_name driver_gender  driver_age_raw  driver_age  \\\n",
      "stop_date                                                                     \n",
      "2005-06-06     13:20          NaN             F          1986.0        19.0   \n",
      "2005-01-10     17:05          NaN             F          1960.0        45.0   \n",
      "2005-01-10     19:15          NaN             F          1981.0        24.0   \n",
      "2005-01-10     23:10          NaN             F          1986.0        19.0   \n",
      "2005-02-10     00:00          NaN             F          1982.0        23.0   \n",
      "...              ...          ...           ...             ...         ...   \n",
      "2015-12-12     11:48          NaN             F          1995.0        20.0   \n",
      "2015-12-12     20:18          NaN             F          1989.0        26.0   \n",
      "2015-12-12     21:44          NaN             F          1995.0        20.0   \n",
      "2015-12-12     23:33          NaN             F          1996.0        19.0   \n",
      "2015-12-12     23:48          NaN             F          1986.0        29.0   \n",
      "\n",
      "           driver_race                   violation_raw  violation  \\\n",
      "stop_date                                                           \n",
      "2005-06-06       White                        Speeding   Speeding   \n",
      "2005-01-10       White                        Speeding   Speeding   \n",
      "2005-01-10       White                        Speeding   Speeding   \n",
      "2005-01-10       White                        Speeding   Speeding   \n",
      "2005-02-10       White                        Speeding   Speeding   \n",
      "...                ...                             ...        ...   \n",
      "2015-12-12       White                        Speeding   Speeding   \n",
      "2015-12-12       White                        Speeding   Speeding   \n",
      "2015-12-12       White                        Speeding   Speeding   \n",
      "2015-12-12       White  Equipment/Inspection Violation  Equipment   \n",
      "2015-12-12       White                        Speeding   Speeding   \n",
      "\n",
      "            search_conducted search_type stop_outcome is_arrested  \\\n",
      "stop_date                                                           \n",
      "2005-06-06             False         NaN     Citation       False   \n",
      "2005-01-10             False         NaN     Citation       False   \n",
      "2005-01-10             False         NaN     Citation       False   \n",
      "2005-01-10             False         NaN     Citation       False   \n",
      "2005-02-10             False         NaN     Citation       False   \n",
      "...                      ...         ...          ...         ...   \n",
      "2015-12-12             False         NaN     Citation       False   \n",
      "2015-12-12             False         NaN     Citation       False   \n",
      "2015-12-12             False         NaN     Citation       False   \n",
      "2015-12-12             False         NaN     Citation       False   \n",
      "2015-12-12             False         NaN     Citation       False   \n",
      "\n",
      "           stop_duration  drugs_related_stop  \n",
      "stop_date                                     \n",
      "2005-06-06      0-15 Min               False  \n",
      "2005-01-10      0-15 Min               False  \n",
      "2005-01-10      0-15 Min               False  \n",
      "2005-01-10      0-15 Min               False  \n",
      "2005-02-10      0-15 Min               False  \n",
      "...                  ...                 ...  \n",
      "2015-12-12      0-15 Min               False  \n",
      "2015-12-12      0-15 Min               False  \n",
      "2015-12-12      0-15 Min               False  \n",
      "2015-12-12      0-15 Min               False  \n",
      "2015-12-12      0-15 Min               False  \n",
      "\n",
      "[9506 rows x 14 columns]\n"
     ]
    }
   ],
   "source": [
    "filtered_gender = df[df['driver_gender'] == 'F']\n",
    "print(\"Filtered Rows with driver_gender == 'F':\\n\", filtered_gender)"
   ]
  },
  {
   "cell_type": "markdown",
   "id": "c77c0eb1-e270-489a-99fe-ecd48c4ceb4b",
   "metadata": {},
   "source": [
    "### Group by 'violation' and calculate the mean of each group"
   ]
  },
  {
   "cell_type": "code",
   "execution_count": 44,
   "id": "3271e512-31d4-406b-b13d-b0f921703ddb",
   "metadata": {},
   "outputs": [
    {
     "name": "stdout",
     "output_type": "stream",
     "text": [
      "Grouped by Violation and Mean:\n",
      "                      county_name  driver_age_raw  driver_age  \\\n",
      "violation                                                      \n",
      "Equipment                    NaN     1978.169895   31.979947   \n",
      "Moving violation             NaN     1967.321821   35.917289   \n",
      "Other                        NaN     1921.379392   39.584352   \n",
      "Registration/plates          NaN     1976.485502   32.746835   \n",
      "Seat belt                    NaN     1982.384468   31.755513   \n",
      "Speeding                     NaN     1974.054087   33.474198   \n",
      "\n",
      "                     search_conducted  drugs_related_stop  \n",
      "violation                                                  \n",
      "Equipment                    0.068121            0.020036  \n",
      "Moving violation             0.059935            0.017965  \n",
      "Other                        0.047647            0.005956  \n",
      "Registration/plates          0.092937            0.012639  \n",
      "Seat belt                    0.037392            0.019175  \n",
      "Speeding                     0.020450            0.004791  \n"
     ]
    }
   ],
   "source": [
    "grouped_mean_violation = df.groupby('violation').mean(numeric_only=True)\n",
    "print(\"Grouped by Violation and Mean:\\n\", grouped_mean_violation)"
   ]
  },
  {
   "cell_type": "markdown",
   "id": "eab74017-ac80-470c-876e-59775e4bb53c",
   "metadata": {},
   "source": [
    "### Group by 'driver_gender' and 'violation' and calculate the sum of each group"
   ]
  },
  {
   "cell_type": "code",
   "execution_count": 45,
   "id": "f9119865-96e4-46f0-b81c-da70abe63a3b",
   "metadata": {},
   "outputs": [
    {
     "name": "stdout",
     "output_type": "stream",
     "text": [
      "Grouped by driver_gender and violation and Sum:\n",
      "                                    county_name  driver_age_raw  driver_age  \\\n",
      "driver_gender violation                                                      \n",
      "F             Equipment                    0.0       2058838.0     33339.0   \n",
      "              Moving violation             0.0       2575808.0     44436.0   \n",
      "              Other                        0.0        551429.0      9630.0   \n",
      "              Registration/plates          0.0        757845.0     12385.0   \n",
      "              Seat belt                    0.0        464284.0      7018.0   \n",
      "              Speeding                     0.0      12374053.0    203890.0   \n",
      "M             Equipment                    0.0       6825123.0    110187.0   \n",
      "              Moving violation             0.0      10127189.0    186584.0   \n",
      "              Other                        0.0       2674567.0     55130.0   \n",
      "              Registration/plates          0.0       1900528.0     31594.0   \n",
      "              Seat belt                    0.0       1603343.0     26103.0   \n",
      "              Speeding                     0.0      25946269.0    444748.0   \n",
      "\n",
      "                                   search_conducted  drugs_related_stop  \n",
      "driver_gender violation                                                  \n",
      "F             Equipment                          45                   6  \n",
      "              Moving violation                   60                  16  \n",
      "              Other                              13                   2  \n",
      "              Registration/plates                24                   1  \n",
      "              Seat belt                           4                   3  \n",
      "              Speeding                           59                  12  \n",
      "M             Equipment                         261                  84  \n",
      "              Moving violation                  327                 100  \n",
      "              Other                              67                   8  \n",
      "              Registration/plates               101                  16  \n",
      "              Seat belt                          35                  17  \n",
      "              Speeding                          338                  81  \n"
     ]
    }
   ],
   "source": [
    "grouped_sum_gender_violation = df.groupby(['driver_gender', 'violation']).sum(numeric_only=True)\n",
    "print(\"Grouped by driver_gender and violation and Sum:\\n\", grouped_sum_gender_violation)"
   ]
  },
  {
   "cell_type": "markdown",
   "id": "a3c0beb5-511e-4990-bb21-b1f3b4262de1",
   "metadata": {},
   "source": [
    "### Use agg method to apply multiple aggregation functions to grouped data"
   ]
  },
  {
   "cell_type": "code",
   "execution_count": 46,
   "id": "26385512-c477-47fa-902d-cf6da443dcc7",
   "metadata": {},
   "outputs": [
    {
     "name": "stdout",
     "output_type": "stream",
     "text": [
      "Aggregated Data:\n",
      "                     driver_age       search_conducted drugs_related_stop\n",
      "                          mean   max              sum                sum\n",
      "violation                                                               \n",
      "Equipment            31.979947  85.0              306                 90\n",
      "Moving violation     35.917289  99.0              387                116\n",
      "Other                39.584352  78.0               80                 10\n",
      "Registration/plates  32.746835  74.0              125                 17\n",
      "Seat belt            31.755513  77.0               39                 20\n",
      "Speeding             33.474198  88.0              397                 93\n"
     ]
    }
   ],
   "source": [
    "aggregated = df.groupby('violation').agg({\n",
    "    'driver_age': ['mean', 'max'],\n",
    "    'search_conducted': 'sum',\n",
    "    'drugs_related_stop': 'sum'\n",
    "})\n",
    "print(\"Aggregated Data:\\n\", aggregated)"
   ]
  },
  {
   "cell_type": "markdown",
   "id": "58efac8f-259d-44a1-b45d-cd3b63bffa2d",
   "metadata": {},
   "source": [
    "### Calculate the size of each group based on 'driver_race'"
   ]
  },
  {
   "cell_type": "code",
   "execution_count": 47,
   "id": "13b8ff28-e349-4c40-9430-3bf2fddf4a9c",
   "metadata": {},
   "outputs": [
    {
     "name": "stdout",
     "output_type": "stream",
     "text": [
      "Size of Each Group (driver_race):\n",
      " driver_race\n",
      "Asian         914\n",
      "Black        4875\n",
      "Hispanic     3627\n",
      "Other          99\n",
      "White       24914\n",
      "dtype: int64\n"
     ]
    }
   ],
   "source": [
    "group_size_race = df.groupby('driver_race').size()\n",
    "print(\"Size of Each Group (driver_race):\\n\", group_size_race)"
   ]
  },
  {
   "cell_type": "markdown",
   "id": "27e4dcc7-5365-4fea-9e61-81d2e8f2d5e1",
   "metadata": {},
   "source": [
    "### Select rows based on multiple conditions"
   ]
  },
  {
   "cell_type": "code",
   "execution_count": 48,
   "id": "660201c8-c4fc-46ac-9081-7bcfba6226a3",
   "metadata": {},
   "outputs": [
    {
     "name": "stdout",
     "output_type": "stream",
     "text": [
      "Filtered Rows with driver_age > 30 and search_conducted == True:\n",
      "            stop_time  county_name driver_gender  driver_age_raw  driver_age  \\\n",
      "stop_date                                                                     \n",
      "2005-04-10     01:20          NaN             M          1956.0        49.0   \n",
      "2005-07-10     12:00          NaN             M          1947.0        58.0   \n",
      "2005-10-10     16:00          NaN             M          1955.0        50.0   \n",
      "2005-11-10     03:15          NaN             M          1964.0        41.0   \n",
      "2005-11-10     13:40          NaN             M          1963.0        42.0   \n",
      "...              ...          ...           ...             ...         ...   \n",
      "2015-01-12     06:47          NaN             M          1960.0        55.0   \n",
      "2015-02-12     09:35          NaN             M          1983.0        32.0   \n",
      "2015-07-12     14:10          NaN             M          1976.0        39.0   \n",
      "2015-12-12     16:46          NaN             M          1978.0        37.0   \n",
      "2015-12-12     20:00          NaN             M          1973.0        42.0   \n",
      "\n",
      "           driver_race            violation_raw            violation  \\\n",
      "stop_date                                                              \n",
      "2005-04-10       White  Other Traffic Violation     Moving violation   \n",
      "2005-07-10       Black  Other Traffic Violation     Moving violation   \n",
      "2005-10-10       White         Call for Service                Other   \n",
      "2005-11-10       White                 Speeding             Speeding   \n",
      "2005-11-10       White  Other Traffic Violation     Moving violation   \n",
      "...                ...                      ...                  ...   \n",
      "2015-01-12       White  Other Traffic Violation     Moving violation   \n",
      "2015-02-12       Black  Other Traffic Violation     Moving violation   \n",
      "2015-07-12       White  Other Traffic Violation     Moving violation   \n",
      "2015-12-12       White   Registration Violation  Registration/plates   \n",
      "2015-12-12       Black  Other Traffic Violation     Moving violation   \n",
      "\n",
      "            search_conducted                   search_type      stop_outcome  \\\n",
      "stop_date                                                                      \n",
      "2005-04-10              True            Incident to Arrest     Arrest Driver   \n",
      "2005-07-10              True  Incident to Arrest,Inventory     Arrest Driver   \n",
      "2005-10-10              True            Incident to Arrest     Arrest Driver   \n",
      "2005-11-10              True            Incident to Arrest     Arrest Driver   \n",
      "2005-11-10              True                Probable Cause          Citation   \n",
      "...                      ...                           ...               ...   \n",
      "2015-01-12              True                Probable Cause          Citation   \n",
      "2015-02-12              True                     Inventory          Citation   \n",
      "2015-07-12              True                Probable Cause  Arrest Passenger   \n",
      "2015-12-12              True      Inventory,Probable Cause          Citation   \n",
      "2015-12-12              True            Incident to Arrest     Arrest Driver   \n",
      "\n",
      "           is_arrested stop_duration  drugs_related_stop  \n",
      "stop_date                                                 \n",
      "2005-04-10        True       30+ Min                True  \n",
      "2005-07-10        True     16-30 Min               False  \n",
      "2005-10-10        True     16-30 Min               False  \n",
      "2005-11-10        True       30+ Min               False  \n",
      "2005-11-10       False      0-15 Min                True  \n",
      "...                ...           ...                 ...  \n",
      "2015-01-12       False     16-30 Min                True  \n",
      "2015-02-12       False       30+ Min               False  \n",
      "2015-07-12        True       30+ Min                True  \n",
      "2015-12-12       False       30+ Min               False  \n",
      "2015-12-12        True     16-30 Min               False  \n",
      "\n",
      "[527 rows x 14 columns]\n"
     ]
    }
   ],
   "source": [
    "filtered_multiple_conditions = df[(df['driver_age'] > 30) & (df['search_conducted'] == True)]\n",
    "print(\"Filtered Rows with driver_age > 30 and search_conducted == True:\\n\", filtered_multiple_conditions)"
   ]
  },
  {
   "cell_type": "markdown",
   "id": "969002c2-f74b-4524-b08d-44517500c724",
   "metadata": {},
   "source": [
    "### Use query method to filter rows where 'stop_duration' is '0-15 Min'"
   ]
  },
  {
   "cell_type": "code",
   "execution_count": 49,
   "id": "8f9567a5-84e4-4a14-a714-a345fd3cbe31",
   "metadata": {},
   "outputs": [
    {
     "name": "stdout",
     "output_type": "stream",
     "text": [
      "Filtered Rows using query method (stop_duration == '0-15 Min'):\n",
      "            stop_time  county_name driver_gender  driver_age_raw  driver_age  \\\n",
      "stop_date                                                                     \n",
      "2005-02-01     01:55          NaN             M          1985.0        20.0   \n",
      "2005-01-04     17:30          NaN             M          1969.0        36.0   \n",
      "2005-06-06     13:20          NaN             F          1986.0        19.0   \n",
      "2005-07-08     16:50          NaN             M          1953.0        52.0   \n",
      "2005-01-10     01:00          NaN             M          1985.0        20.0   \n",
      "...              ...          ...           ...             ...         ...   \n",
      "2015-12-12     22:20          NaN             M          1992.0        23.0   \n",
      "2015-12-12     22:49          NaN             M          1985.0        30.0   \n",
      "2015-12-12     23:33          NaN             F          1996.0        19.0   \n",
      "2015-12-12     23:34          NaN             M          1996.0        19.0   \n",
      "2015-12-12     23:48          NaN             F          1986.0        29.0   \n",
      "\n",
      "           driver_race                   violation_raw         violation  \\\n",
      "stop_date                                                                  \n",
      "2005-02-01       White                        Speeding          Speeding   \n",
      "2005-01-04       White                        Speeding          Speeding   \n",
      "2005-06-06       White                        Speeding          Speeding   \n",
      "2005-07-08       White         Other Traffic Violation  Moving violation   \n",
      "2005-01-10       White                        Speeding          Speeding   \n",
      "...                ...                             ...               ...   \n",
      "2015-12-12       White         Other Traffic Violation  Moving violation   \n",
      "2015-12-12       White                        Speeding          Speeding   \n",
      "2015-12-12       White  Equipment/Inspection Violation         Equipment   \n",
      "2015-12-12       White                        Speeding          Speeding   \n",
      "2015-12-12       White                        Speeding          Speeding   \n",
      "\n",
      "            search_conducted search_type stop_outcome is_arrested  \\\n",
      "stop_date                                                           \n",
      "2005-02-01             False         NaN     Citation       False   \n",
      "2005-01-04             False         NaN     Citation       False   \n",
      "2005-06-06             False         NaN     Citation       False   \n",
      "2005-07-08             False         NaN     Citation       False   \n",
      "2005-01-10             False         NaN     Citation       False   \n",
      "...                      ...         ...          ...         ...   \n",
      "2015-12-12             False         NaN     Citation       False   \n",
      "2015-12-12             False         NaN     Citation       False   \n",
      "2015-12-12             False         NaN     Citation       False   \n",
      "2015-12-12             False         NaN      Warning       False   \n",
      "2015-12-12             False         NaN     Citation       False   \n",
      "\n",
      "           stop_duration  drugs_related_stop  \n",
      "stop_date                                     \n",
      "2005-02-01      0-15 Min               False  \n",
      "2005-01-04      0-15 Min               False  \n",
      "2005-06-06      0-15 Min               False  \n",
      "2005-07-08      0-15 Min               False  \n",
      "2005-01-10      0-15 Min               False  \n",
      "...                  ...                 ...  \n",
      "2015-12-12      0-15 Min               False  \n",
      "2015-12-12      0-15 Min               False  \n",
      "2015-12-12      0-15 Min               False  \n",
      "2015-12-12      0-15 Min               False  \n",
      "2015-12-12      0-15 Min               False  \n",
      "\n",
      "[27630 rows x 14 columns]\n"
     ]
    }
   ],
   "source": [
    "query_filtered = df.query('stop_duration == \"0-15 Min\"')\n",
    "print(\"Filtered Rows using query method (stop_duration == '0-15 Min'):\\n\", query_filtered)"
   ]
  },
  {
   "cell_type": "markdown",
   "id": "a7737deb-c861-4ec9-a0cf-bbdf889fbf9a",
   "metadata": {},
   "source": [
    "### Use isin to filter rows where 'violation' is in a list of values"
   ]
  },
  {
   "cell_type": "code",
   "execution_count": 50,
   "id": "9079304f-227b-474b-888b-43b7ffd55874",
   "metadata": {},
   "outputs": [
    {
     "name": "stdout",
     "output_type": "stream",
     "text": [
      "Filtered Rows using isin for violation:\n",
      "            stop_time  county_name driver_gender  driver_age_raw  driver_age  \\\n",
      "stop_date                                                                     \n",
      "2005-02-01     01:55          NaN             M          1985.0        20.0   \n",
      "2005-01-04     17:30          NaN             M          1969.0        36.0   \n",
      "2005-06-06     13:20          NaN             F          1986.0        19.0   \n",
      "2005-01-10     00:00          NaN             M          1988.0        17.0   \n",
      "2005-01-10     00:00          NaN             M          1988.0        17.0   \n",
      "...              ...          ...           ...             ...         ...   \n",
      "2015-12-12     21:44          NaN             F          1995.0        20.0   \n",
      "2015-12-12     22:49          NaN             M          1985.0        30.0   \n",
      "2015-12-12     23:33          NaN             F          1996.0        19.0   \n",
      "2015-12-12     23:34          NaN             M          1996.0        19.0   \n",
      "2015-12-12     23:48          NaN             F          1986.0        29.0   \n",
      "\n",
      "           driver_race                   violation_raw  violation  \\\n",
      "stop_date                                                           \n",
      "2005-02-01       White                        Speeding   Speeding   \n",
      "2005-01-04       White                        Speeding   Speeding   \n",
      "2005-06-06       White                        Speeding   Speeding   \n",
      "2005-01-10       White  Equipment/Inspection Violation  Equipment   \n",
      "2005-01-10       White  Equipment/Inspection Violation  Equipment   \n",
      "...                ...                             ...        ...   \n",
      "2015-12-12       White                        Speeding   Speeding   \n",
      "2015-12-12       White                        Speeding   Speeding   \n",
      "2015-12-12       White  Equipment/Inspection Violation  Equipment   \n",
      "2015-12-12       White                        Speeding   Speeding   \n",
      "2015-12-12       White                        Speeding   Speeding   \n",
      "\n",
      "            search_conducted     search_type   stop_outcome is_arrested  \\\n",
      "stop_date                                                                 \n",
      "2005-02-01             False             NaN       Citation       False   \n",
      "2005-01-04             False             NaN       Citation       False   \n",
      "2005-06-06             False             NaN       Citation       False   \n",
      "2005-01-10              True  Probable Cause  Arrest Driver        True   \n",
      "2005-01-10              True  Probable Cause       Citation       False   \n",
      "...                      ...             ...            ...         ...   \n",
      "2015-12-12             False             NaN       Citation       False   \n",
      "2015-12-12             False             NaN       Citation       False   \n",
      "2015-12-12             False             NaN       Citation       False   \n",
      "2015-12-12             False             NaN        Warning       False   \n",
      "2015-12-12             False             NaN       Citation       False   \n",
      "\n",
      "           stop_duration  drugs_related_stop  \n",
      "stop_date                                     \n",
      "2005-02-01      0-15 Min               False  \n",
      "2005-01-04      0-15 Min               False  \n",
      "2005-06-06      0-15 Min               False  \n",
      "2005-01-10     16-30 Min                True  \n",
      "2005-01-10       30+ Min                True  \n",
      "...                  ...                 ...  \n",
      "2015-12-12      0-15 Min               False  \n",
      "2015-12-12      0-15 Min               False  \n",
      "2015-12-12      0-15 Min               False  \n",
      "2015-12-12      0-15 Min               False  \n",
      "2015-12-12      0-15 Min               False  \n",
      "\n",
      "[23905 rows x 14 columns]\n"
     ]
    }
   ],
   "source": [
    "violation_values_list = ['Speeding', 'Equipment']\n",
    "filtered_isin = df[df['violation'].isin(violation_values_list)]\n",
    "print(\"Filtered Rows using isin for violation:\\n\", filtered_isin)"
   ]
  },
  {
   "cell_type": "markdown",
   "id": "76dbc23b-8969-446a-bad5-bbf919d2c230",
   "metadata": {},
   "source": [
    "### Select specific columns and rename them"
   ]
  },
  {
   "cell_type": "code",
   "execution_count": 51,
   "id": "6ab0dfd8-b178-4049-9e43-4ef61d499417",
   "metadata": {},
   "outputs": [
    {
     "name": "stdout",
     "output_type": "stream",
     "text": [
      "Selected and Renamed Columns:\n",
      "              Age           Offense  Duration\n",
      "stop_date                                   \n",
      "2005-02-01  20.0          Speeding  0-15 Min\n",
      "2005-01-04  36.0          Speeding  0-15 Min\n",
      "2005-06-06  19.0          Speeding  0-15 Min\n",
      "2005-07-08  52.0  Moving violation  0-15 Min\n",
      "2005-08-08  50.0  Moving violation   30+ Min\n",
      "...          ...               ...       ...\n",
      "2015-12-12  23.0  Moving violation  0-15 Min\n",
      "2015-12-12  30.0          Speeding  0-15 Min\n",
      "2015-12-12  19.0         Equipment  0-15 Min\n",
      "2015-12-12  19.0          Speeding  0-15 Min\n",
      "2015-12-12  29.0          Speeding  0-15 Min\n",
      "\n",
      "[36585 rows x 3 columns]\n"
     ]
    }
   ],
   "source": [
    "renamed_columns = df[['driver_age', 'violation', 'stop_duration']].rename(columns={\n",
    "    'driver_age': 'Age',\n",
    "    'violation': 'Offense',\n",
    "    'stop_duration': 'Duration'\n",
    "})\n",
    "print(\"Selected and Renamed Columns:\\n\", renamed_columns)"
   ]
  },
  {
   "cell_type": "markdown",
   "id": "608e58d3-e7d8-4b50-9a28-ee7e54d23ba7",
   "metadata": {},
   "source": [
    "### Reset the index"
   ]
  },
  {
   "cell_type": "code",
   "execution_count": 52,
   "id": "aec207a2-6f65-4e9a-bd72-a6a8751086f0",
   "metadata": {},
   "outputs": [
    {
     "name": "stdout",
     "output_type": "stream",
     "text": [
      "DataFrame after resetting the index:\n",
      "    stop_date stop_time  county_name driver_gender  driver_age_raw  driver_age  \\\n",
      "0 2005-02-01     01:55          NaN             M          1985.0        20.0   \n",
      "1 2005-01-04     17:30          NaN             M          1969.0        36.0   \n",
      "2 2005-06-06     13:20          NaN             F          1986.0        19.0   \n",
      "3 2005-07-08     16:50          NaN             M          1953.0        52.0   \n",
      "4 2005-08-08     02:09          NaN             M          1955.0        50.0   \n",
      "\n",
      "  driver_race            violation_raw         violation  search_conducted  \\\n",
      "0       White                 Speeding          Speeding             False   \n",
      "1       White                 Speeding          Speeding             False   \n",
      "2       White                 Speeding          Speeding             False   \n",
      "3       White  Other Traffic Violation  Moving violation             False   \n",
      "4       Black  Other Traffic Violation  Moving violation             False   \n",
      "\n",
      "  search_type   stop_outcome is_arrested stop_duration  drugs_related_stop  \n",
      "0         NaN       Citation       False      0-15 Min               False  \n",
      "1         NaN       Citation       False      0-15 Min               False  \n",
      "2         NaN       Citation       False      0-15 Min               False  \n",
      "3         NaN       Citation       False      0-15 Min               False  \n",
      "4         NaN  Arrest Driver        True       30+ Min               False  \n"
     ]
    }
   ],
   "source": [
    "df_reset = df.reset_index()\n",
    "print(\"DataFrame after resetting the index:\\n\", df_reset.head())"
   ]
  },
  {
   "cell_type": "markdown",
   "id": "ca151f0a-624f-4889-9d89-2b1c83801f7f",
   "metadata": {},
   "source": [
    "### Sort the DataFrame by 'driver_age'"
   ]
  },
  {
   "cell_type": "code",
   "execution_count": 53,
   "id": "43be2a48-c7cd-4d35-9d40-79836f9a91a7",
   "metadata": {},
   "outputs": [
    {
     "name": "stdout",
     "output_type": "stream",
     "text": [
      "DataFrame sorted by driver_age:\n",
      "            stop_time  county_name driver_gender  driver_age_raw  driver_age  \\\n",
      "stop_date                                                                     \n",
      "2007-04-07     00:40          NaN             F          1992.0        15.0   \n",
      "2007-11-06     12:30          NaN             M          1992.0        15.0   \n",
      "2010-10-11     19:39          NaN             F          1995.0        15.0   \n",
      "2015-06-09     10:48          NaN             M          1999.0        16.0   \n",
      "2010-01-06     06:50          NaN             F          1994.0        16.0   \n",
      "\n",
      "           driver_race                   violation_raw         violation  \\\n",
      "stop_date                                                                  \n",
      "2007-04-07       White         Other Traffic Violation  Moving violation   \n",
      "2007-11-06       White                        Speeding          Speeding   \n",
      "2010-10-11       White         Other Traffic Violation  Moving violation   \n",
      "2015-06-09       White                        Speeding          Speeding   \n",
      "2010-01-06       White  Equipment/Inspection Violation         Equipment   \n",
      "\n",
      "            search_conducted search_type   stop_outcome is_arrested  \\\n",
      "stop_date                                                             \n",
      "2007-04-07             False         NaN  Arrest Driver        True   \n",
      "2007-11-06             False         NaN       Citation       False   \n",
      "2010-10-11             False         NaN       Citation       False   \n",
      "2015-06-09             False         NaN       Citation       False   \n",
      "2010-01-06             False         NaN        Warning       False   \n",
      "\n",
      "           stop_duration  drugs_related_stop  \n",
      "stop_date                                     \n",
      "2007-04-07      0-15 Min               False  \n",
      "2007-11-06      0-15 Min               False  \n",
      "2010-10-11     16-30 Min               False  \n",
      "2015-06-09      0-15 Min               False  \n",
      "2010-01-06      0-15 Min               False  \n"
     ]
    }
   ],
   "source": [
    "sorted_df = df.sort_values(by='driver_age')\n",
    "print(\"DataFrame sorted by driver_age:\\n\", sorted_df.head())"
   ]
  },
  {
   "cell_type": "markdown",
   "id": "73743fc6-9a0b-43e3-b55a-6c31e9b4734e",
   "metadata": {},
   "source": [
    "### Add a new column calculated from existing columns"
   ]
  },
  {
   "cell_type": "code",
   "execution_count": 54,
   "id": "23d7e4d9-4292-497b-ae0c-dc36a96473a4",
   "metadata": {},
   "outputs": [
    {
     "name": "stdout",
     "output_type": "stream",
     "text": [
      "DataFrame with new 'age_category' column:\n",
      "            stop_time  county_name driver_gender  driver_age_raw  driver_age  \\\n",
      "stop_date                                                                     \n",
      "2005-02-01     01:55          NaN             M          1985.0        20.0   \n",
      "2005-01-04     17:30          NaN             M          1969.0        36.0   \n",
      "2005-06-06     13:20          NaN             F          1986.0        19.0   \n",
      "2005-07-08     16:50          NaN             M          1953.0        52.0   \n",
      "2005-08-08     02:09          NaN             M          1955.0        50.0   \n",
      "\n",
      "           driver_race            violation_raw         violation  \\\n",
      "stop_date                                                           \n",
      "2005-02-01       White                 Speeding          Speeding   \n",
      "2005-01-04       White                 Speeding          Speeding   \n",
      "2005-06-06       White                 Speeding          Speeding   \n",
      "2005-07-08       White  Other Traffic Violation  Moving violation   \n",
      "2005-08-08       Black  Other Traffic Violation  Moving violation   \n",
      "\n",
      "            search_conducted search_type   stop_outcome is_arrested  \\\n",
      "stop_date                                                             \n",
      "2005-02-01             False         NaN       Citation       False   \n",
      "2005-01-04             False         NaN       Citation       False   \n",
      "2005-06-06             False         NaN       Citation       False   \n",
      "2005-07-08             False         NaN       Citation       False   \n",
      "2005-08-08             False         NaN  Arrest Driver        True   \n",
      "\n",
      "           stop_duration  drugs_related_stop age_category  \n",
      "stop_date                                                  \n",
      "2005-02-01      0-15 Min               False         0-20  \n",
      "2005-01-04      0-15 Min               False        21-40  \n",
      "2005-06-06      0-15 Min               False         0-20  \n",
      "2005-07-08      0-15 Min               False        41-60  \n",
      "2005-08-08       30+ Min               False        41-60  \n"
     ]
    }
   ],
   "source": [
    "df['age_category'] = pd.cut(df['driver_age'], bins=[0, 20, 40, 60, 100], labels=['0-20', '21-40', '41-60', '61+'])\n",
    "print(\"DataFrame with new 'age_category' column:\\n\", df.head())"
   ]
  },
  {
   "cell_type": "markdown",
   "id": "86dba43e-c355-46cd-b5a5-105305668096",
   "metadata": {},
   "source": [
    "### Drop rows with missing values"
   ]
  },
  {
   "cell_type": "code",
   "execution_count": 55,
   "id": "191795f1-e6ed-4954-afc7-9ea996bad390",
   "metadata": {},
   "outputs": [
    {
     "name": "stdout",
     "output_type": "stream",
     "text": [
      "DataFrame after dropping rows with missing values:\n",
      " Empty DataFrame\n",
      "Columns: [stop_time, county_name, driver_gender, driver_age_raw, driver_age, driver_race, violation_raw, violation, search_conducted, search_type, stop_outcome, is_arrested, stop_duration, drugs_related_stop, age_category]\n",
      "Index: []\n"
     ]
    }
   ],
   "source": [
    "df_dropped_na = df.dropna()\n",
    "print(\"DataFrame after dropping rows with missing values:\\n\", df_dropped_na.head())"
   ]
  },
  {
   "cell_type": "markdown",
   "id": "ef2f01d7-5758-4f98-939e-a93a5ebf8915",
   "metadata": {},
   "source": [
    "### Fill missing values in a specific column with a default value"
   ]
  },
  {
   "cell_type": "code",
   "execution_count": 56,
   "id": "05f6ea8b-a973-4072-8530-920f8d6578ee",
   "metadata": {},
   "outputs": [
    {
     "name": "stdout",
     "output_type": "stream",
     "text": [
      "DataFrame after filling missing values in 'driver_age':\n",
      "            stop_time  county_name driver_gender  driver_age_raw  driver_age  \\\n",
      "stop_date                                                                     \n",
      "2005-02-01     01:55          NaN             M          1985.0        20.0   \n",
      "2005-01-04     17:30          NaN             M          1969.0        36.0   \n",
      "2005-06-06     13:20          NaN             F          1986.0        19.0   \n",
      "2005-07-08     16:50          NaN             M          1953.0        52.0   \n",
      "2005-08-08     02:09          NaN             M          1955.0        50.0   \n",
      "\n",
      "           driver_race            violation_raw         violation  \\\n",
      "stop_date                                                           \n",
      "2005-02-01       White                 Speeding          Speeding   \n",
      "2005-01-04       White                 Speeding          Speeding   \n",
      "2005-06-06       White                 Speeding          Speeding   \n",
      "2005-07-08       White  Other Traffic Violation  Moving violation   \n",
      "2005-08-08       Black  Other Traffic Violation  Moving violation   \n",
      "\n",
      "            search_conducted search_type   stop_outcome is_arrested  \\\n",
      "stop_date                                                             \n",
      "2005-02-01             False         NaN       Citation       False   \n",
      "2005-01-04             False         NaN       Citation       False   \n",
      "2005-06-06             False         NaN       Citation       False   \n",
      "2005-07-08             False         NaN       Citation       False   \n",
      "2005-08-08             False         NaN  Arrest Driver        True   \n",
      "\n",
      "           stop_duration  drugs_related_stop age_category  \n",
      "stop_date                                                  \n",
      "2005-02-01      0-15 Min               False         0-20  \n",
      "2005-01-04      0-15 Min               False        21-40  \n",
      "2005-06-06      0-15 Min               False         0-20  \n",
      "2005-07-08      0-15 Min               False        41-60  \n",
      "2005-08-08       30+ Min               False        41-60  \n"
     ]
    }
   ],
   "source": [
    "df_filled_na = df.fillna({'driver_age': 30})\n",
    "print(\"DataFrame after filling missing values in 'driver_age':\\n\", df_filled_na.head())"
   ]
  },
  {
   "cell_type": "markdown",
   "id": "ada20479-d4ee-4418-a396-d80a66f9f477",
   "metadata": {},
   "source": [
    "### Calculate the correlation between numeric columns"
   ]
  },
  {
   "cell_type": "code",
   "execution_count": 57,
   "id": "4d01860f-9c5b-4ee7-a2da-69889031c47d",
   "metadata": {},
   "outputs": [
    {
     "name": "stdout",
     "output_type": "stream",
     "text": [
      "Correlation matrix between numeric columns:\n",
      "                     county_name  driver_age_raw  driver_age  search_conducted  \\\n",
      "county_name                 NaN             NaN         NaN               NaN   \n",
      "driver_age_raw              NaN        1.000000   -0.972259          0.016203   \n",
      "driver_age                  NaN       -0.972259    1.000000         -0.054095   \n",
      "search_conducted            NaN        0.016203   -0.054095          1.000000   \n",
      "drugs_related_stop          NaN        0.011305   -0.043702          0.502294   \n",
      "\n",
      "                    drugs_related_stop  \n",
      "county_name                        NaN  \n",
      "driver_age_raw                0.011305  \n",
      "driver_age                   -0.043702  \n",
      "search_conducted              0.502294  \n",
      "drugs_related_stop            1.000000  \n"
     ]
    }
   ],
   "source": [
    "correlation_matrix = df.corr(numeric_only=True)\n",
    "print(\"Correlation matrix between numeric columns:\\n\", correlation_matrix)"
   ]
  },
  {
   "cell_type": "markdown",
   "id": "a78994bf-3a45-4337-89e9-fb86b631c7a6",
   "metadata": {},
   "source": [
    "### Pivot the DataFrame"
   ]
  },
  {
   "cell_type": "code",
   "execution_count": 58,
   "id": "be58df23-a290-45e5-9b5b-10e326e154f1",
   "metadata": {},
   "outputs": [
    {
     "name": "stdout",
     "output_type": "stream",
     "text": [
      "Pivot table of driver_age by violation and driver_gender:\n",
      " driver_gender                F          M\n",
      "violation                                \n",
      "Equipment            32.056731  31.956787\n",
      "Moving violation     34.102840  36.378241\n",
      "Other                34.516129  40.626382\n",
      "Registration/plates  32.336815  32.910417\n",
      "Seat belt            29.991453  32.265760\n",
      "Speeding             32.601535  33.890726\n"
     ]
    }
   ],
   "source": [
    "pivot_df = df.pivot_table(values='driver_age', index='violation', columns='driver_gender', aggfunc='mean')\n",
    "print(\"Pivot table of driver_age by violation and driver_gender:\\n\", pivot_df)"
   ]
  }
 ],
 "metadata": {
  "kernelspec": {
   "display_name": "Python 3 (ipykernel)",
   "language": "python",
   "name": "python3"
  },
  "language_info": {
   "codemirror_mode": {
    "name": "ipython",
    "version": 3
   },
   "file_extension": ".py",
   "mimetype": "text/x-python",
   "name": "python",
   "nbconvert_exporter": "python",
   "pygments_lexer": "ipython3",
   "version": "3.11.7"
  }
 },
 "nbformat": 4,
 "nbformat_minor": 5
}
