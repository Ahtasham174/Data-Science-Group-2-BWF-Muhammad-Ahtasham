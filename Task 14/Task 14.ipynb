{
 "cells": [
  {
   "cell_type": "markdown",
   "id": "cd90bdd2-c773-4f5d-99bb-e3b0ce608922",
   "metadata": {},
   "source": [
    "# Task 14: Data cleaning and preprocessing with Pandas"
   ]
  },
  {
   "cell_type": "code",
   "execution_count": 44,
   "id": "6eacc6a0-17e2-42b3-89d2-12b59a736438",
   "metadata": {},
   "outputs": [
    {
     "data": {
      "text/plain": [
       "airpol       object\n",
       "cpa08        object\n",
       "induse       object\n",
       "origin       object\n",
       "unit         object\n",
       "geo\\time     object\n",
       "2018        float64\n",
       "2017        float64\n",
       "2016        float64\n",
       "2015        float64\n",
       "2014        float64\n",
       "2013        float64\n",
       "2012        float64\n",
       "2011        float64\n",
       "2010        float64\n",
       "2009        float64\n",
       "2008        float64\n",
       "dtype: object"
      ]
     },
     "execution_count": 44,
     "metadata": {},
     "output_type": "execute_result"
    }
   ],
   "source": [
    "import pandas as pd \n",
    "df=pd.read_csv(\"emissions_EU28.csv\")\n",
    "df.dtypes"
   ]
  },
  {
   "cell_type": "markdown",
   "id": "234599b7-5bba-4f96-a035-95fc8622d87d",
   "metadata": {},
   "source": [
    "### Import Pandas and Load the Dataset"
   ]
  },
  {
   "cell_type": "code",
   "execution_count": 76,
   "id": "67134059-6a2a-4018-9a38-1296988a33f5",
   "metadata": {},
   "outputs": [
    {
     "name": "stdout",
     "output_type": "stream",
     "text": [
      "Original DataFrame:\n",
      "  airpol    cpa08 induse origin    unit geo\\time         2018         2017  \\\n",
      "0    ACG  CPA_A01     P3    DOM  KG_HAB     EU28        3.952        4.034   \n",
      "1    ACG  CPA_A01     P3    DOM       T     EU28  2027709.000  2065165.000   \n",
      "2    ACG  CPA_A01     P3    DOM   THS_T     EU28     2027.709     2065.165   \n",
      "3    ACG  CPA_A01     P3    ROW  KG_HAB     EU28        0.932        0.930   \n",
      "4    ACG  CPA_A01     P3    ROW       T     EU28   477994.000   476142.000   \n",
      "\n",
      "          2016         2015         2014         2013         2012  \\\n",
      "0        3.952        3.901        3.824        4.182        4.260   \n",
      "1  2018821.000  1986991.000  1942285.000  2116310.000  2149511.000   \n",
      "2     2018.821     1986.991     1942.285     2116.310     2149.511   \n",
      "3        0.862        0.898        0.732        0.706        0.762   \n",
      "4   440390.000   457340.000   371967.000   357358.000   384481.000   \n",
      "\n",
      "          2011         2010         2009         2008  \n",
      "0        3.965        3.955        4.025        4.082  \n",
      "1  1996301.000  1992765.000  2023324.000  2046045.000  \n",
      "2     1996.301     1992.765     2023.324     2046.045  \n",
      "3        0.857        0.853        0.774        0.991  \n",
      "4   431637.000   429703.000   389072.000   496690.000  \n"
     ]
    }
   ],
   "source": [
    "import pandas as pd\n",
    "df = pd.read_csv('emissions_EU28.csv')\n",
    "print(\"Original DataFrame:\")\n",
    "print(df.head())"
   ]
  },
  {
   "cell_type": "markdown",
   "id": "89886346-c8b4-4911-8422-c252d508ac78",
   "metadata": {},
   "source": [
    "### 1. Identify Missing Values"
   ]
  },
  {
   "cell_type": "code",
   "execution_count": 46,
   "id": "344a2297-6093-45f9-8f21-3439be74032b",
   "metadata": {},
   "outputs": [
    {
     "name": "stdout",
     "output_type": "stream",
     "text": [
      "\n",
      "Missing values in each column:\n",
      "airpol      0\n",
      "cpa08       0\n",
      "induse      0\n",
      "origin      0\n",
      "unit        0\n",
      "geo\\time    0\n",
      "2018        0\n",
      "2017        0\n",
      "2016        0\n",
      "2015        0\n",
      "2014        0\n",
      "2013        0\n",
      "2012        0\n",
      "2011        0\n",
      "2010        0\n",
      "2009        0\n",
      "2008        0\n",
      "dtype: int64\n"
     ]
    }
   ],
   "source": [
    "# Identify missing values in the DataFrame\n",
    "print(\"\\nMissing values in each column:\")\n",
    "print(df.isnull().sum())"
   ]
  },
  {
   "cell_type": "markdown",
   "id": "70b8f046-84cf-4ed6-aa8e-c5c8a91c084b",
   "metadata": {},
   "source": [
    "### 2. Drop Rows with Any Missing Values"
   ]
  },
  {
   "cell_type": "code",
   "execution_count": 47,
   "id": "82df5cc8-fdc0-4830-9169-4adaf544b1ee",
   "metadata": {},
   "outputs": [
    {
     "name": "stdout",
     "output_type": "stream",
     "text": [
      "\n",
      "DataFrame after dropping rows with missing values:\n",
      "  airpol    cpa08 induse origin    unit geo\\time         2018         2017  \\\n",
      "0    ACG  CPA_A01     P3    DOM  KG_HAB     EU28        3.952        4.034   \n",
      "1    ACG  CPA_A01     P3    DOM       T     EU28  2027709.000  2065165.000   \n",
      "2    ACG  CPA_A01     P3    DOM   THS_T     EU28     2027.709     2065.165   \n",
      "3    ACG  CPA_A01     P3    ROW  KG_HAB     EU28        0.932        0.930   \n",
      "4    ACG  CPA_A01     P3    ROW       T     EU28   477994.000   476142.000   \n",
      "\n",
      "          2016         2015         2014         2013         2012  \\\n",
      "0        3.952        3.901        3.824        4.182        4.260   \n",
      "1  2018821.000  1986991.000  1942285.000  2116310.000  2149511.000   \n",
      "2     2018.821     1986.991     1942.285     2116.310     2149.511   \n",
      "3        0.862        0.898        0.732        0.706        0.762   \n",
      "4   440390.000   457340.000   371967.000   357358.000   384481.000   \n",
      "\n",
      "          2011         2010         2009         2008  \n",
      "0        3.965        3.955        4.025        4.082  \n",
      "1  1996301.000  1992765.000  2023324.000  2046045.000  \n",
      "2     1996.301     1992.765     2023.324     2046.045  \n",
      "3        0.857        0.853        0.774        0.991  \n",
      "4   431637.000   429703.000   389072.000   496690.000  \n"
     ]
    }
   ],
   "source": [
    "# Drop rows with any missing values\n",
    "df_no_missing_rows = df.dropna()\n",
    "print(\"\\nDataFrame after dropping rows with missing values:\")\n",
    "print(df_no_missing_rows.head())\n"
   ]
  },
  {
   "cell_type": "markdown",
   "id": "8f399449-e974-40b9-b36e-f753c0f0fec3",
   "metadata": {},
   "source": [
    "### 3. Drop Columns with Any Missing Values"
   ]
  },
  {
   "cell_type": "code",
   "execution_count": 48,
   "id": "e6d83e5f-8868-44f0-a37d-abf9c775ef98",
   "metadata": {},
   "outputs": [
    {
     "name": "stdout",
     "output_type": "stream",
     "text": [
      "\n",
      "DataFrame after dropping columns with missing values:\n",
      "  airpol    cpa08 induse origin    unit geo\\time         2018         2017  \\\n",
      "0    ACG  CPA_A01     P3    DOM  KG_HAB     EU28        3.952        4.034   \n",
      "1    ACG  CPA_A01     P3    DOM       T     EU28  2027709.000  2065165.000   \n",
      "2    ACG  CPA_A01     P3    DOM   THS_T     EU28     2027.709     2065.165   \n",
      "3    ACG  CPA_A01     P3    ROW  KG_HAB     EU28        0.932        0.930   \n",
      "4    ACG  CPA_A01     P3    ROW       T     EU28   477994.000   476142.000   \n",
      "\n",
      "          2016         2015         2014         2013         2012  \\\n",
      "0        3.952        3.901        3.824        4.182        4.260   \n",
      "1  2018821.000  1986991.000  1942285.000  2116310.000  2149511.000   \n",
      "2     2018.821     1986.991     1942.285     2116.310     2149.511   \n",
      "3        0.862        0.898        0.732        0.706        0.762   \n",
      "4   440390.000   457340.000   371967.000   357358.000   384481.000   \n",
      "\n",
      "          2011         2010         2009         2008  \n",
      "0        3.965        3.955        4.025        4.082  \n",
      "1  1996301.000  1992765.000  2023324.000  2046045.000  \n",
      "2     1996.301     1992.765     2023.324     2046.045  \n",
      "3        0.857        0.853        0.774        0.991  \n",
      "4   431637.000   429703.000   389072.000   496690.000  \n"
     ]
    }
   ],
   "source": [
    "# Drop columns with any missing values\n",
    "df_no_missing_cols = df.dropna(axis=1)\n",
    "print(\"\\nDataFrame after dropping columns with missing values:\")\n",
    "print(df_no_missing_cols.head())\n"
   ]
  },
  {
   "cell_type": "markdown",
   "id": "abe407ec-05a8-4689-9fa7-3cb48e341a42",
   "metadata": {},
   "source": [
    "### 4. Fill Missing Values with a Specific Value"
   ]
  },
  {
   "cell_type": "code",
   "execution_count": 49,
   "id": "19e245bb-ce7f-476b-b50f-3526a5b6ad67",
   "metadata": {},
   "outputs": [
    {
     "name": "stdout",
     "output_type": "stream",
     "text": [
      "\n",
      "DataFrame after filling missing values with 0:\n",
      "  airpol    cpa08 induse origin    unit geo\\time         2018         2017  \\\n",
      "0    ACG  CPA_A01     P3    DOM  KG_HAB     EU28        3.952        4.034   \n",
      "1    ACG  CPA_A01     P3    DOM       T     EU28  2027709.000  2065165.000   \n",
      "2    ACG  CPA_A01     P3    DOM   THS_T     EU28     2027.709     2065.165   \n",
      "3    ACG  CPA_A01     P3    ROW  KG_HAB     EU28        0.932        0.930   \n",
      "4    ACG  CPA_A01     P3    ROW       T     EU28   477994.000   476142.000   \n",
      "\n",
      "          2016         2015         2014         2013         2012  \\\n",
      "0        3.952        3.901        3.824        4.182        4.260   \n",
      "1  2018821.000  1986991.000  1942285.000  2116310.000  2149511.000   \n",
      "2     2018.821     1986.991     1942.285     2116.310     2149.511   \n",
      "3        0.862        0.898        0.732        0.706        0.762   \n",
      "4   440390.000   457340.000   371967.000   357358.000   384481.000   \n",
      "\n",
      "          2011         2010         2009         2008  \n",
      "0        3.965        3.955        4.025        4.082  \n",
      "1  1996301.000  1992765.000  2023324.000  2046045.000  \n",
      "2     1996.301     1992.765     2023.324     2046.045  \n",
      "3        0.857        0.853        0.774        0.991  \n",
      "4   431637.000   429703.000   389072.000   496690.000  \n"
     ]
    }
   ],
   "source": [
    "# Fill missing values with a specific value\n",
    "df_filled_value = df.fillna(0)\n",
    "print(\"\\nDataFrame after filling missing values with 0:\")\n",
    "print(df_filled_value.head())\n"
   ]
  },
  {
   "cell_type": "markdown",
   "id": "c626565e-3dde-4b9a-a0f4-9e4513e6cc34",
   "metadata": {},
   "source": [
    "### 5. Fill Missing Values Using Forward Fill and Backward Fill Methods"
   ]
  },
  {
   "cell_type": "code",
   "execution_count": 50,
   "id": "1668b924-0140-4228-9602-4d402dbfc783",
   "metadata": {},
   "outputs": [
    {
     "name": "stderr",
     "output_type": "stream",
     "text": [
      "C:\\Users\\Muhammad Ahtasham\\AppData\\Local\\Temp\\ipykernel_1712\\3275574354.py:2: FutureWarning: DataFrame.fillna with 'method' is deprecated and will raise in a future version. Use obj.ffill() or obj.bfill() instead.\n",
      "  df_forward_fill = df.fillna(method='ffill')\n",
      "C:\\Users\\Muhammad Ahtasham\\AppData\\Local\\Temp\\ipykernel_1712\\3275574354.py:7: FutureWarning: DataFrame.fillna with 'method' is deprecated and will raise in a future version. Use obj.ffill() or obj.bfill() instead.\n",
      "  df_backward_fill = df.fillna(method='bfill')\n"
     ]
    },
    {
     "name": "stdout",
     "output_type": "stream",
     "text": [
      "\n",
      "DataFrame after forward fill:\n",
      "  airpol    cpa08 induse origin    unit geo\\time         2018         2017  \\\n",
      "0    ACG  CPA_A01     P3    DOM  KG_HAB     EU28        3.952        4.034   \n",
      "1    ACG  CPA_A01     P3    DOM       T     EU28  2027709.000  2065165.000   \n",
      "2    ACG  CPA_A01     P3    DOM   THS_T     EU28     2027.709     2065.165   \n",
      "3    ACG  CPA_A01     P3    ROW  KG_HAB     EU28        0.932        0.930   \n",
      "4    ACG  CPA_A01     P3    ROW       T     EU28   477994.000   476142.000   \n",
      "\n",
      "          2016         2015         2014         2013         2012  \\\n",
      "0        3.952        3.901        3.824        4.182        4.260   \n",
      "1  2018821.000  1986991.000  1942285.000  2116310.000  2149511.000   \n",
      "2     2018.821     1986.991     1942.285     2116.310     2149.511   \n",
      "3        0.862        0.898        0.732        0.706        0.762   \n",
      "4   440390.000   457340.000   371967.000   357358.000   384481.000   \n",
      "\n",
      "          2011         2010         2009         2008  \n",
      "0        3.965        3.955        4.025        4.082  \n",
      "1  1996301.000  1992765.000  2023324.000  2046045.000  \n",
      "2     1996.301     1992.765     2023.324     2046.045  \n",
      "3        0.857        0.853        0.774        0.991  \n",
      "4   431637.000   429703.000   389072.000   496690.000  \n",
      "\n",
      "DataFrame after backward fill:\n",
      "  airpol    cpa08 induse origin    unit geo\\time         2018         2017  \\\n",
      "0    ACG  CPA_A01     P3    DOM  KG_HAB     EU28        3.952        4.034   \n",
      "1    ACG  CPA_A01     P3    DOM       T     EU28  2027709.000  2065165.000   \n",
      "2    ACG  CPA_A01     P3    DOM   THS_T     EU28     2027.709     2065.165   \n",
      "3    ACG  CPA_A01     P3    ROW  KG_HAB     EU28        0.932        0.930   \n",
      "4    ACG  CPA_A01     P3    ROW       T     EU28   477994.000   476142.000   \n",
      "\n",
      "          2016         2015         2014         2013         2012  \\\n",
      "0        3.952        3.901        3.824        4.182        4.260   \n",
      "1  2018821.000  1986991.000  1942285.000  2116310.000  2149511.000   \n",
      "2     2018.821     1986.991     1942.285     2116.310     2149.511   \n",
      "3        0.862        0.898        0.732        0.706        0.762   \n",
      "4   440390.000   457340.000   371967.000   357358.000   384481.000   \n",
      "\n",
      "          2011         2010         2009         2008  \n",
      "0        3.965        3.955        4.025        4.082  \n",
      "1  1996301.000  1992765.000  2023324.000  2046045.000  \n",
      "2     1996.301     1992.765     2023.324     2046.045  \n",
      "3        0.857        0.853        0.774        0.991  \n",
      "4   431637.000   429703.000   389072.000   496690.000  \n"
     ]
    }
   ],
   "source": [
    "# Forward fill missing values\n",
    "df_forward_fill = df.fillna(method='ffill')\n",
    "print(\"\\nDataFrame after forward fill:\")\n",
    "print(df_forward_fill.head())\n",
    "\n",
    "# Backward fill missing values\n",
    "df_backward_fill = df.fillna(method='bfill')\n",
    "print(\"\\nDataFrame after backward fill:\")\n",
    "print(df_backward_fill.head())\n"
   ]
  },
  {
   "cell_type": "markdown",
   "id": "029dabf7-9141-4a98-ac16-4a43c763a405",
   "metadata": {},
   "source": [
    "### 6. Interpolate Missing Values"
   ]
  },
  {
   "cell_type": "code",
   "execution_count": 51,
   "id": "21fdfaea-f777-4709-9435-764650bb3357",
   "metadata": {},
   "outputs": [
    {
     "name": "stdout",
     "output_type": "stream",
     "text": [
      "\n",
      "DataFrame after interpolating missing values:\n",
      "  airpol    cpa08 induse origin    unit geo\\time         2018         2017  \\\n",
      "0    ACG  CPA_A01     P3    DOM  KG_HAB     EU28        3.952        4.034   \n",
      "1    ACG  CPA_A01     P3    DOM       T     EU28  2027709.000  2065165.000   \n",
      "2    ACG  CPA_A01     P3    DOM   THS_T     EU28     2027.709     2065.165   \n",
      "3    ACG  CPA_A01     P3    ROW  KG_HAB     EU28        0.932        0.930   \n",
      "4    ACG  CPA_A01     P3    ROW       T     EU28   477994.000   476142.000   \n",
      "\n",
      "          2016         2015         2014         2013         2012  \\\n",
      "0        3.952        3.901        3.824        4.182        4.260   \n",
      "1  2018821.000  1986991.000  1942285.000  2116310.000  2149511.000   \n",
      "2     2018.821     1986.991     1942.285     2116.310     2149.511   \n",
      "3        0.862        0.898        0.732        0.706        0.762   \n",
      "4   440390.000   457340.000   371967.000   357358.000   384481.000   \n",
      "\n",
      "          2011         2010         2009         2008  \n",
      "0        3.965        3.955        4.025        4.082  \n",
      "1  1996301.000  1992765.000  2023324.000  2046045.000  \n",
      "2     1996.301     1992.765     2023.324     2046.045  \n",
      "3        0.857        0.853        0.774        0.991  \n",
      "4   431637.000   429703.000   389072.000   496690.000  \n"
     ]
    },
    {
     "name": "stderr",
     "output_type": "stream",
     "text": [
      "C:\\Users\\Muhammad Ahtasham\\AppData\\Local\\Temp\\ipykernel_1712\\3997603240.py:2: FutureWarning: DataFrame.interpolate with object dtype is deprecated and will raise in a future version. Call obj.infer_objects(copy=False) before interpolating instead.\n",
      "  df_interpolated = df.interpolate()\n"
     ]
    }
   ],
   "source": [
    "# Interpolate missing values\n",
    "df_interpolated = df.interpolate()\n",
    "print(\"\\nDataFrame after interpolating missing values:\")\n",
    "print(df_interpolated.head())\n"
   ]
  },
  {
   "cell_type": "markdown",
   "id": "f450656a-7162-4d0a-accc-44eb9bd28df8",
   "metadata": {},
   "source": [
    "### 7. Convert a Column to a Different Data Type"
   ]
  },
  {
   "cell_type": "code",
   "execution_count": 52,
   "id": "c29473cb-6fd3-412c-9175-a0eebc76ea6a",
   "metadata": {},
   "outputs": [
    {
     "name": "stdout",
     "output_type": "stream",
     "text": [
      "\n",
      "DataFrame after converting '2018' column to integer type:\n",
      "airpol       object\n",
      "cpa08        object\n",
      "induse       object\n",
      "origin       object\n",
      "unit         object\n",
      "geo\\time     object\n",
      "2018          int64\n",
      "2017        float64\n",
      "2016        float64\n",
      "2015        float64\n",
      "2014        float64\n",
      "2013        float64\n",
      "2012        float64\n",
      "2011        float64\n",
      "2010        float64\n",
      "2009        float64\n",
      "2008        float64\n",
      "dtype: object\n"
     ]
    }
   ],
   "source": [
    "# Convert a column to a different data type\n",
    "df['2018'] = df['2018'].astype('int64')\n",
    "print(\"\\nDataFrame after converting '2018' column to integer type:\")\n",
    "print(df.dtypes)\n"
   ]
  },
  {
   "cell_type": "markdown",
   "id": "cd20408d-257b-4f8c-866a-ca9f165335f2",
   "metadata": {},
   "source": [
    "### 8. Apply a Function to Transform the Values of a Column"
   ]
  },
  {
   "cell_type": "code",
   "execution_count": 53,
   "id": "ce6432a2-27ad-4e4e-8f9c-ae1c4dcf0497",
   "metadata": {},
   "outputs": [
    {
     "name": "stdout",
     "output_type": "stream",
     "text": [
      "\n",
      "DataFrame after applying a function to '2018' column:\n",
      "  airpol    cpa08 induse origin    unit geo\\time     2018         2017  \\\n",
      "0    ACG  CPA_A01     P3    DOM  KG_HAB     EU28        6        4.034   \n",
      "1    ACG  CPA_A01     P3    DOM       T     EU28  4055418  2065165.000   \n",
      "2    ACG  CPA_A01     P3    DOM   THS_T     EU28     4054     2065.165   \n",
      "3    ACG  CPA_A01     P3    ROW  KG_HAB     EU28        0        0.930   \n",
      "4    ACG  CPA_A01     P3    ROW       T     EU28   955988   476142.000   \n",
      "\n",
      "          2016         2015         2014         2013         2012  \\\n",
      "0        3.952        3.901        3.824        4.182        4.260   \n",
      "1  2018821.000  1986991.000  1942285.000  2116310.000  2149511.000   \n",
      "2     2018.821     1986.991     1942.285     2116.310     2149.511   \n",
      "3        0.862        0.898        0.732        0.706        0.762   \n",
      "4   440390.000   457340.000   371967.000   357358.000   384481.000   \n",
      "\n",
      "          2011         2010         2009         2008  \n",
      "0        3.965        3.955        4.025        4.082  \n",
      "1  1996301.000  1992765.000  2023324.000  2046045.000  \n",
      "2     1996.301     1992.765     2023.324     2046.045  \n",
      "3        0.857        0.853        0.774        0.991  \n",
      "4   431637.000   429703.000   389072.000   496690.000  \n"
     ]
    }
   ],
   "source": [
    "# Apply a function to transform the values of a column\n",
    "df['2018'] = df['2018'].apply(lambda x: x * 2)\n",
    "print(\"\\nDataFrame after applying a function to '2018' column:\")\n",
    "print(df.head())\n"
   ]
  },
  {
   "cell_type": "markdown",
   "id": "c25356ca-7159-4d46-9891-84179be65cdc",
   "metadata": {},
   "source": [
    "### 9. Normalize a Column Using Min-Max Scaling"
   ]
  },
  {
   "cell_type": "code",
   "execution_count": 54,
   "id": "85ae01e1-6cf8-470c-ab76-3c0120840661",
   "metadata": {},
   "outputs": [
    {
     "name": "stdout",
     "output_type": "stream",
     "text": [
      "\n",
      "DataFrame after Min-Max scaling of '2018' column:\n",
      "  airpol    cpa08 induse origin    unit geo\\time     2018         2017  \\\n",
      "0    ACG  CPA_A01     P3    DOM  KG_HAB     EU28        6        4.034   \n",
      "1    ACG  CPA_A01     P3    DOM       T     EU28  4055418  2065165.000   \n",
      "2    ACG  CPA_A01     P3    DOM   THS_T     EU28     4054     2065.165   \n",
      "3    ACG  CPA_A01     P3    ROW  KG_HAB     EU28        0        0.930   \n",
      "4    ACG  CPA_A01     P3    ROW       T     EU28   955988   476142.000   \n",
      "\n",
      "          2016         2015         2014         2013         2012  \\\n",
      "0        3.952        3.901        3.824        4.182        4.260   \n",
      "1  2018821.000  1986991.000  1942285.000  2116310.000  2149511.000   \n",
      "2     2018.821     1986.991     1942.285     2116.310     2149.511   \n",
      "3        0.862        0.898        0.732        0.706        0.762   \n",
      "4   440390.000   457340.000   371967.000   357358.000   384481.000   \n",
      "\n",
      "          2011         2010         2009         2008  2018_normalized  \n",
      "0        3.965        3.955        4.025        4.082         0.002689  \n",
      "1  1996301.000  1992765.000  2023324.000  2046045.000         0.003056  \n",
      "2     1996.301     1992.765     2023.324     2046.045         0.002690  \n",
      "3        0.857        0.853        0.774        0.991         0.002689  \n",
      "4   431637.000   429703.000   389072.000   496690.000         0.002776  \n"
     ]
    }
   ],
   "source": [
    "# Normalize a column using Min-Max scaling\n",
    "df['2018_normalized'] = (df['2018'] - df['2018'].min()) / (df['2018'].max() - df['2018'].min())\n",
    "print(\"\\nDataFrame after Min-Max scaling of '2018' column:\")\n",
    "print(df.head())\n"
   ]
  },
  {
   "cell_type": "markdown",
   "id": "68adb0be-16dc-45c8-a363-d97bf940e7c2",
   "metadata": {},
   "source": [
    "### 10. Standardize a Column (Z-Score Normalization)"
   ]
  },
  {
   "cell_type": "code",
   "execution_count": 55,
   "id": "caccc5a9-b8ae-49ac-adb7-722e397a6739",
   "metadata": {},
   "outputs": [
    {
     "name": "stdout",
     "output_type": "stream",
     "text": [
      "\n",
      "DataFrame after z-score normalization of '2018' column:\n",
      "  airpol    cpa08 induse origin    unit geo\\time     2018         2017  \\\n",
      "0    ACG  CPA_A01     P3    DOM  KG_HAB     EU28        6        4.034   \n",
      "1    ACG  CPA_A01     P3    DOM       T     EU28  4055418  2065165.000   \n",
      "2    ACG  CPA_A01     P3    DOM   THS_T     EU28     4054     2065.165   \n",
      "3    ACG  CPA_A01     P3    ROW  KG_HAB     EU28        0        0.930   \n",
      "4    ACG  CPA_A01     P3    ROW       T     EU28   955988   476142.000   \n",
      "\n",
      "          2016         2015         2014         2013         2012  \\\n",
      "0        3.952        3.901        3.824        4.182        4.260   \n",
      "1  2018821.000  1986991.000  1942285.000  2116310.000  2149511.000   \n",
      "2     2018.821     1986.991     1942.285     2116.310     2149.511   \n",
      "3        0.862        0.898        0.732        0.706        0.762   \n",
      "4   440390.000   457340.000   371967.000   357358.000   384481.000   \n",
      "\n",
      "          2011         2010         2009         2008  2018_normalized  \\\n",
      "0        3.965        3.955        4.025        4.082         0.002689   \n",
      "1  1996301.000  1992765.000  2023324.000  2046045.000         0.003056   \n",
      "2     1996.301     1992.765     2023.324     2046.045         0.002690   \n",
      "3        0.857        0.853        0.774        0.991         0.002689   \n",
      "4   431637.000   429703.000   389072.000   496690.000         0.002776   \n",
      "\n",
      "   2018_standardized  \n",
      "0          -0.033285  \n",
      "1           0.001351  \n",
      "2          -0.033251  \n",
      "3          -0.033285  \n",
      "4          -0.025120  \n"
     ]
    }
   ],
   "source": [
    "# Standardize a column (z-score normalization)\n",
    "df['2018_standardized'] = (df['2018'] - df['2018'].mean()) / df['2018'].std()\n",
    "print(\"\\nDataFrame after z-score normalization of '2018' column:\")\n",
    "print(df.head())\n"
   ]
  },
  {
   "cell_type": "markdown",
   "id": "9a0485fa-34fe-4c6a-a208-2eaf5c6f23b4",
   "metadata": {},
   "source": [
    "### 11. Identify Duplicate Rows in the DataFrame"
   ]
  },
  {
   "cell_type": "code",
   "execution_count": 56,
   "id": "cccca5b9-42cf-45d4-a081-e106ad90118e",
   "metadata": {},
   "outputs": [
    {
     "name": "stdout",
     "output_type": "stream",
     "text": [
      "\n",
      "Duplicate rows in the DataFrame:\n",
      "Empty DataFrame\n",
      "Columns: [airpol, cpa08, induse, origin, unit, geo\\time, 2018, 2017, 2016, 2015, 2014, 2013, 2012, 2011, 2010, 2009, 2008, 2018_normalized, 2018_standardized]\n",
      "Index: []\n"
     ]
    }
   ],
   "source": [
    "# Identify duplicate rows in the DataFrame\n",
    "duplicates = df.duplicated()\n",
    "print(\"\\nDuplicate rows in the DataFrame:\")\n",
    "print(df[duplicates])\n"
   ]
  },
  {
   "cell_type": "markdown",
   "id": "b260b373-a77a-4b24-ad66-4da9d89ca489",
   "metadata": {},
   "source": [
    "### 12. Drop Duplicate Rows"
   ]
  },
  {
   "cell_type": "code",
   "execution_count": 57,
   "id": "0eab204c-98ac-4197-b5a4-0f0b9d25a077",
   "metadata": {},
   "outputs": [
    {
     "name": "stdout",
     "output_type": "stream",
     "text": [
      "\n",
      "DataFrame after dropping duplicate rows:\n",
      "  airpol    cpa08 induse origin    unit geo\\time     2018         2017  \\\n",
      "0    ACG  CPA_A01     P3    DOM  KG_HAB     EU28        6        4.034   \n",
      "1    ACG  CPA_A01     P3    DOM       T     EU28  4055418  2065165.000   \n",
      "2    ACG  CPA_A01     P3    DOM   THS_T     EU28     4054     2065.165   \n",
      "3    ACG  CPA_A01     P3    ROW  KG_HAB     EU28        0        0.930   \n",
      "4    ACG  CPA_A01     P3    ROW       T     EU28   955988   476142.000   \n",
      "\n",
      "          2016         2015         2014         2013         2012  \\\n",
      "0        3.952        3.901        3.824        4.182        4.260   \n",
      "1  2018821.000  1986991.000  1942285.000  2116310.000  2149511.000   \n",
      "2     2018.821     1986.991     1942.285     2116.310     2149.511   \n",
      "3        0.862        0.898        0.732        0.706        0.762   \n",
      "4   440390.000   457340.000   371967.000   357358.000   384481.000   \n",
      "\n",
      "          2011         2010         2009         2008  2018_normalized  \\\n",
      "0        3.965        3.955        4.025        4.082         0.002689   \n",
      "1  1996301.000  1992765.000  2023324.000  2046045.000         0.003056   \n",
      "2     1996.301     1992.765     2023.324     2046.045         0.002690   \n",
      "3        0.857        0.853        0.774        0.991         0.002689   \n",
      "4   431637.000   429703.000   389072.000   496690.000         0.002776   \n",
      "\n",
      "   2018_standardized  \n",
      "0          -0.033285  \n",
      "1           0.001351  \n",
      "2          -0.033251  \n",
      "3          -0.033285  \n",
      "4          -0.025120  \n"
     ]
    }
   ],
   "source": [
    "# Drop duplicate rows\n",
    "df_no_duplicates = df.drop_duplicates()\n",
    "print(\"\\nDataFrame after dropping duplicate rows:\")\n",
    "print(df_no_duplicates.head())\n"
   ]
  },
  {
   "cell_type": "markdown",
   "id": "59743b3b-448e-4495-ad70-339458066687",
   "metadata": {},
   "source": [
    "### 13. Drop Duplicate Rows Based on Specific Columns"
   ]
  },
  {
   "cell_type": "code",
   "execution_count": 58,
   "id": "274fe1cc-02e3-484f-9562-6c664959cbf4",
   "metadata": {},
   "outputs": [
    {
     "name": "stdout",
     "output_type": "stream",
     "text": [
      "\n",
      "DataFrame after dropping duplicate rows based on 'airpol' and 'cpa08':\n",
      "    airpol       cpa08 induse origin    unit geo\\time  2018   2017   2016  \\\n",
      "0      ACG     CPA_A01     P3    DOM  KG_HAB     EU28     6  4.034  3.952   \n",
      "108    ACG     CPA_A02     P3    DOM  KG_HAB     EU28     0  0.019  0.018   \n",
      "216    ACG     CPA_A03     P3    DOM  KG_HAB     EU28     0  0.104  0.111   \n",
      "324    ACG       CPA_B     P3    DOM  KG_HAB     EU28     0  0.019  0.017   \n",
      "432    ACG  CPA_C10-12     P3    DOM  KG_HAB     EU28    10  5.429  6.062   \n",
      "\n",
      "      2015   2014   2013   2012   2011   2010   2009   2008  2018_normalized  \\\n",
      "0    3.901  3.824  4.182  4.260  3.965  3.955  4.025  4.082         0.002689   \n",
      "108  0.021  0.017  0.017  0.017  0.018  0.020  0.021  0.022         0.002689   \n",
      "216  0.088  0.097  0.108  0.108  0.111  0.130  0.137  0.130         0.002689   \n",
      "324  0.023  0.016  0.020  0.017  0.022  0.032  0.035  0.039         0.002689   \n",
      "432  5.752  5.873  6.135  6.249  6.170  6.442  6.808  6.603         0.002689   \n",
      "\n",
      "     2018_standardized  \n",
      "0            -0.033285  \n",
      "108          -0.033285  \n",
      "216          -0.033285  \n",
      "324          -0.033285  \n",
      "432          -0.033285  \n"
     ]
    }
   ],
   "source": [
    "# Drop duplicate rows based on specific columns\n",
    "df_no_dup_specific = df.drop_duplicates(subset=['airpol', 'cpa08'])\n",
    "print(\"\\nDataFrame after dropping duplicate rows based on 'airpol' and 'cpa08':\")\n",
    "print(df_no_dup_specific.head())\n"
   ]
  },
  {
   "cell_type": "markdown",
   "id": "bde84416-450d-4a31-9be5-126144afcb49",
   "metadata": {},
   "source": [
    "### 14. Convert All String Values in a Column to Lowercase"
   ]
  },
  {
   "cell_type": "code",
   "execution_count": 59,
   "id": "b530d72e-0eb3-4d10-b259-85cbfc67fc65",
   "metadata": {},
   "outputs": [
    {
     "name": "stdout",
     "output_type": "stream",
     "text": [
      "\n",
      "DataFrame after converting 'airpol' column to lowercase:\n",
      "  airpol    cpa08 induse origin    unit geo\\time     2018         2017  \\\n",
      "0    acg  CPA_A01     P3    DOM  KG_HAB     EU28        6        4.034   \n",
      "1    acg  CPA_A01     P3    DOM       T     EU28  4055418  2065165.000   \n",
      "2    acg  CPA_A01     P3    DOM   THS_T     EU28     4054     2065.165   \n",
      "3    acg  CPA_A01     P3    ROW  KG_HAB     EU28        0        0.930   \n",
      "4    acg  CPA_A01     P3    ROW       T     EU28   955988   476142.000   \n",
      "\n",
      "          2016         2015         2014         2013         2012  \\\n",
      "0        3.952        3.901        3.824        4.182        4.260   \n",
      "1  2018821.000  1986991.000  1942285.000  2116310.000  2149511.000   \n",
      "2     2018.821     1986.991     1942.285     2116.310     2149.511   \n",
      "3        0.862        0.898        0.732        0.706        0.762   \n",
      "4   440390.000   457340.000   371967.000   357358.000   384481.000   \n",
      "\n",
      "          2011         2010         2009         2008  2018_normalized  \\\n",
      "0        3.965        3.955        4.025        4.082         0.002689   \n",
      "1  1996301.000  1992765.000  2023324.000  2046045.000         0.003056   \n",
      "2     1996.301     1992.765     2023.324     2046.045         0.002690   \n",
      "3        0.857        0.853        0.774        0.991         0.002689   \n",
      "4   431637.000   429703.000   389072.000   496690.000         0.002776   \n",
      "\n",
      "   2018_standardized  \n",
      "0          -0.033285  \n",
      "1           0.001351  \n",
      "2          -0.033251  \n",
      "3          -0.033285  \n",
      "4          -0.025120  \n"
     ]
    }
   ],
   "source": [
    "# Convert all string values in a column to lowercase\n",
    "df['airpol'] = df['airpol'].str.lower()\n",
    "print(\"\\nDataFrame after converting 'airpol' column to lowercase:\")\n",
    "print(df.head())\n"
   ]
  },
  {
   "cell_type": "markdown",
   "id": "4483aa99-f105-49d5-8070-f51f7aa3fed0",
   "metadata": {},
   "source": [
    "### 15. Remove Leading and Trailing Spaces from String Values in a Column"
   ]
  },
  {
   "cell_type": "code",
   "execution_count": 60,
   "id": "2fb74cc4-826f-450d-b5a1-5c3ba977c88b",
   "metadata": {},
   "outputs": [
    {
     "name": "stdout",
     "output_type": "stream",
     "text": [
      "\n",
      "DataFrame after removing leading and trailing spaces from 'airpol' column:\n",
      "  airpol    cpa08 induse origin    unit geo\\time     2018         2017  \\\n",
      "0    acg  CPA_A01     P3    DOM  KG_HAB     EU28        6        4.034   \n",
      "1    acg  CPA_A01     P3    DOM       T     EU28  4055418  2065165.000   \n",
      "2    acg  CPA_A01     P3    DOM   THS_T     EU28     4054     2065.165   \n",
      "3    acg  CPA_A01     P3    ROW  KG_HAB     EU28        0        0.930   \n",
      "4    acg  CPA_A01     P3    ROW       T     EU28   955988   476142.000   \n",
      "\n",
      "          2016         2015         2014         2013         2012  \\\n",
      "0        3.952        3.901        3.824        4.182        4.260   \n",
      "1  2018821.000  1986991.000  1942285.000  2116310.000  2149511.000   \n",
      "2     2018.821     1986.991     1942.285     2116.310     2149.511   \n",
      "3        0.862        0.898        0.732        0.706        0.762   \n",
      "4   440390.000   457340.000   371967.000   357358.000   384481.000   \n",
      "\n",
      "          2011         2010         2009         2008  2018_normalized  \\\n",
      "0        3.965        3.955        4.025        4.082         0.002689   \n",
      "1  1996301.000  1992765.000  2023324.000  2046045.000         0.003056   \n",
      "2     1996.301     1992.765     2023.324     2046.045         0.002690   \n",
      "3        0.857        0.853        0.774        0.991         0.002689   \n",
      "4   431637.000   429703.000   389072.000   496690.000         0.002776   \n",
      "\n",
      "   2018_standardized  \n",
      "0          -0.033285  \n",
      "1           0.001351  \n",
      "2          -0.033251  \n",
      "3          -0.033285  \n",
      "4          -0.025120  \n"
     ]
    }
   ],
   "source": [
    "# Remove leading and trailing spaces from string values in a column\n",
    "df['airpol'] = df['airpol'].str.strip()\n",
    "print(\"\\nDataFrame after removing leading and trailing spaces from 'airpol' column:\")\n",
    "print(df.head())\n"
   ]
  },
  {
   "cell_type": "markdown",
   "id": "2643f5f8-3056-479e-aec0-8d81177546be",
   "metadata": {},
   "source": [
    "### 16. Replace a Specific Substring in a Column with Another Substring"
   ]
  },
  {
   "cell_type": "code",
   "execution_count": 61,
   "id": "08f37667-a08b-401f-85e3-f96c041aab43",
   "metadata": {},
   "outputs": [
    {
     "name": "stdout",
     "output_type": "stream",
     "text": [
      "\n",
      "DataFrame after replacing 'co2' with 'CO2' in 'airpol' column:\n",
      "  airpol    cpa08 induse origin    unit geo\\time     2018         2017  \\\n",
      "0    acg  CPA_A01     P3    DOM  KG_HAB     EU28        6        4.034   \n",
      "1    acg  CPA_A01     P3    DOM       T     EU28  4055418  2065165.000   \n",
      "2    acg  CPA_A01     P3    DOM   THS_T     EU28     4054     2065.165   \n",
      "3    acg  CPA_A01     P3    ROW  KG_HAB     EU28        0        0.930   \n",
      "4    acg  CPA_A01     P3    ROW       T     EU28   955988   476142.000   \n",
      "\n",
      "          2016         2015         2014         2013         2012  \\\n",
      "0        3.952        3.901        3.824        4.182        4.260   \n",
      "1  2018821.000  1986991.000  1942285.000  2116310.000  2149511.000   \n",
      "2     2018.821     1986.991     1942.285     2116.310     2149.511   \n",
      "3        0.862        0.898        0.732        0.706        0.762   \n",
      "4   440390.000   457340.000   371967.000   357358.000   384481.000   \n",
      "\n",
      "          2011         2010         2009         2008  2018_normalized  \\\n",
      "0        3.965        3.955        4.025        4.082         0.002689   \n",
      "1  1996301.000  1992765.000  2023324.000  2046045.000         0.003056   \n",
      "2     1996.301     1992.765     2023.324     2046.045         0.002690   \n",
      "3        0.857        0.853        0.774        0.991         0.002689   \n",
      "4   431637.000   429703.000   389072.000   496690.000         0.002776   \n",
      "\n",
      "   2018_standardized  \n",
      "0          -0.033285  \n",
      "1           0.001351  \n",
      "2          -0.033251  \n",
      "3          -0.033285  \n",
      "4          -0.025120  \n"
     ]
    }
   ],
   "source": [
    "# Replace a specific substring in a column with another substring\n",
    "df['airpol'] = df['airpol'].str.replace('co2', 'CO2')\n",
    "print(\"\\nDataFrame after replacing 'co2' with 'CO2' in 'airpol' column:\")\n",
    "print(df.head())\n"
   ]
  },
  {
   "cell_type": "markdown",
   "id": "01b2d49d-ff75-4044-afda-6330a7b3745c",
   "metadata": {},
   "source": [
    "### 17. Extract a Substring from Each Value in a Column"
   ]
  },
  {
   "cell_type": "code",
   "execution_count": 62,
   "id": "b2e731ba-951b-4a25-a9a8-4026fa09ed6f",
   "metadata": {},
   "outputs": [
    {
     "name": "stdout",
     "output_type": "stream",
     "text": [
      "\n",
      "DataFrame after extracting first 3 characters of 'airpol' column:\n",
      "  airpol    cpa08 induse origin    unit geo\\time     2018         2017  \\\n",
      "0    acg  CPA_A01     P3    DOM  KG_HAB     EU28        6        4.034   \n",
      "1    acg  CPA_A01     P3    DOM       T     EU28  4055418  2065165.000   \n",
      "2    acg  CPA_A01     P3    DOM   THS_T     EU28     4054     2065.165   \n",
      "3    acg  CPA_A01     P3    ROW  KG_HAB     EU28        0        0.930   \n",
      "4    acg  CPA_A01     P3    ROW       T     EU28   955988   476142.000   \n",
      "\n",
      "          2016         2015         2014         2013         2012  \\\n",
      "0        3.952        3.901        3.824        4.182        4.260   \n",
      "1  2018821.000  1986991.000  1942285.000  2116310.000  2149511.000   \n",
      "2     2018.821     1986.991     1942.285     2116.310     2149.511   \n",
      "3        0.862        0.898        0.732        0.706        0.762   \n",
      "4   440390.000   457340.000   371967.000   357358.000   384481.000   \n",
      "\n",
      "          2011         2010         2009         2008  2018_normalized  \\\n",
      "0        3.965        3.955        4.025        4.082         0.002689   \n",
      "1  1996301.000  1992765.000  2023324.000  2046045.000         0.003056   \n",
      "2     1996.301     1992.765     2023.324     2046.045         0.002690   \n",
      "3        0.857        0.853        0.774        0.991         0.002689   \n",
      "4   431637.000   429703.000   389072.000   496690.000         0.002776   \n",
      "\n",
      "   2018_standardized airpol_substring  \n",
      "0          -0.033285              acg  \n",
      "1           0.001351              acg  \n",
      "2          -0.033251              acg  \n",
      "3          -0.033285              acg  \n",
      "4          -0.025120              acg  \n"
     ]
    }
   ],
   "source": [
    "# Extract a substring from each value in a column\n",
    "df['airpol_substring'] = df['airpol'].str[:3]\n",
    "print(\"\\nDataFrame after extracting first 3 characters of 'airpol' column:\")\n",
    "print(df.head())\n"
   ]
  },
  {
   "cell_type": "markdown",
   "id": "0e7a9a38-cf2f-4a73-9927-00fcb0a6cf49",
   "metadata": {},
   "source": [
    "### 18. Convert a Column to Datetime Format"
   ]
  },
  {
   "cell_type": "code",
   "execution_count": 63,
   "id": "2e4d05b3-edb0-43f1-8416-299b04ddde04",
   "metadata": {},
   "outputs": [
    {
     "name": "stdout",
     "output_type": "stream",
     "text": [
      "\n",
      "DataFrame after adding 'date' column:\n",
      "  airpol    cpa08 induse origin    unit geo\\time     2018         2017  \\\n",
      "0    acg  CPA_A01     P3    DOM  KG_HAB     EU28        6        4.034   \n",
      "1    acg  CPA_A01     P3    DOM       T     EU28  4055418  2065165.000   \n",
      "2    acg  CPA_A01     P3    DOM   THS_T     EU28     4054     2065.165   \n",
      "3    acg  CPA_A01     P3    ROW  KG_HAB     EU28        0        0.930   \n",
      "4    acg  CPA_A01     P3    ROW       T     EU28   955988   476142.000   \n",
      "\n",
      "          2016         2015  ...         2013         2012         2011  \\\n",
      "0        3.952        3.901  ...        4.182        4.260        3.965   \n",
      "1  2018821.000  1986991.000  ...  2116310.000  2149511.000  1996301.000   \n",
      "2     2018.821     1986.991  ...     2116.310     2149.511     1996.301   \n",
      "3        0.862        0.898  ...        0.706        0.762        0.857   \n",
      "4   440390.000   457340.000  ...   357358.000   384481.000   431637.000   \n",
      "\n",
      "          2010         2009         2008  2018_normalized  2018_standardized  \\\n",
      "0        3.955        4.025        4.082         0.002689          -0.033285   \n",
      "1  1992765.000  2023324.000  2046045.000         0.003056           0.001351   \n",
      "2     1992.765     2023.324     2046.045         0.002690          -0.033251   \n",
      "3        0.853        0.774        0.991         0.002689          -0.033285   \n",
      "4   429703.000   389072.000   496690.000         0.002776          -0.025120   \n",
      "\n",
      "   airpol_substring       date  \n",
      "0               acg 2020-01-01  \n",
      "1               acg 2020-01-01  \n",
      "2               acg 2020-01-01  \n",
      "3               acg 2020-01-01  \n",
      "4               acg 2020-01-01  \n",
      "\n",
      "[5 rows x 21 columns]\n"
     ]
    }
   ],
   "source": [
    "# Create a date column for demonstration\n",
    "df['date'] = pd.to_datetime('2020-01-01')\n",
    "print(\"\\nDataFrame after adding 'date' column:\")\n",
    "print(df.head())\n"
   ]
  },
  {
   "cell_type": "markdown",
   "id": "10401f92-1634-43c3-849c-1c1530e35d65",
   "metadata": {},
   "source": [
    "### 19. Extract Year, Month, and Day from a Datetime Column"
   ]
  },
  {
   "cell_type": "code",
   "execution_count": 64,
   "id": "e546bdce-f309-4717-8536-f872199c5324",
   "metadata": {},
   "outputs": [
    {
     "name": "stdout",
     "output_type": "stream",
     "text": [
      "\n",
      "DataFrame after extracting year, month, and day from 'date' column:\n",
      "  airpol    cpa08 induse origin    unit geo\\time     2018         2017  \\\n",
      "0    acg  CPA_A01     P3    DOM  KG_HAB     EU28        6        4.034   \n",
      "1    acg  CPA_A01     P3    DOM       T     EU28  4055418  2065165.000   \n",
      "2    acg  CPA_A01     P3    DOM   THS_T     EU28     4054     2065.165   \n",
      "3    acg  CPA_A01     P3    ROW  KG_HAB     EU28        0        0.930   \n",
      "4    acg  CPA_A01     P3    ROW       T     EU28   955988   476142.000   \n",
      "\n",
      "          2016         2015  ...         2010         2009         2008  \\\n",
      "0        3.952        3.901  ...        3.955        4.025        4.082   \n",
      "1  2018821.000  1986991.000  ...  1992765.000  2023324.000  2046045.000   \n",
      "2     2018.821     1986.991  ...     1992.765     2023.324     2046.045   \n",
      "3        0.862        0.898  ...        0.853        0.774        0.991   \n",
      "4   440390.000   457340.000  ...   429703.000   389072.000   496690.000   \n",
      "\n",
      "   2018_normalized  2018_standardized  airpol_substring       date  year  \\\n",
      "0         0.002689          -0.033285               acg 2020-01-01  2020   \n",
      "1         0.003056           0.001351               acg 2020-01-01  2020   \n",
      "2         0.002690          -0.033251               acg 2020-01-01  2020   \n",
      "3         0.002689          -0.033285               acg 2020-01-01  2020   \n",
      "4         0.002776          -0.025120               acg 2020-01-01  2020   \n",
      "\n",
      "   month day  \n",
      "0      1   1  \n",
      "1      1   1  \n",
      "2      1   1  \n",
      "3      1   1  \n",
      "4      1   1  \n",
      "\n",
      "[5 rows x 24 columns]\n"
     ]
    }
   ],
   "source": [
    "# Extract year, month, and day from a datetime column\n",
    "df['year'] = df['date'].dt.year\n",
    "df['month'] = df['date'].dt.month\n",
    "df['day'] = df['date'].dt.day\n",
    "print(\"\\nDataFrame after extracting year, month, and day from 'date' column:\")\n",
    "print(df.head())\n"
   ]
  },
  {
   "cell_type": "markdown",
   "id": "09e9b623-cebb-444e-b232-0397f150280b",
   "metadata": {},
   "source": [
    "### 20. Filter Rows Based on a Date Range"
   ]
  },
  {
   "cell_type": "code",
   "execution_count": 66,
   "id": "91748566-1ac6-45fc-b442-8697f4b499a7",
   "metadata": {},
   "outputs": [
    {
     "name": "stdout",
     "output_type": "stream",
     "text": [
      "\n",
      "DataFrame after filtering rows based on date range 2010-2018:\n",
      "Empty DataFrame\n",
      "Columns: [airpol, cpa08, induse, origin, unit, geo\\time, 2018, 2017, 2016, 2015, 2014, 2013, 2012, 2011, 2010, 2009, 2008, 2018_normalized, 2018_standardized, airpol_substring, date, year, month, day]\n",
      "Index: []\n",
      "\n",
      "[0 rows x 24 columns]\n"
     ]
    }
   ],
   "source": [
    "# Filter rows based on a date range\n",
    "df_date_filtered = df[(df['date'] >= '2010-01-01') & (df['date'] <= '2018-12-31')]\n",
    "print(\"\\nDataFrame after filtering rows based on date range 2010-2018:\")\n",
    "print(df_date_filtered.head())\n"
   ]
  },
  {
   "cell_type": "markdown",
   "id": "d1eca131-c580-407a-a816-d3fd5c2a5c90",
   "metadata": {},
   "source": [
    "### 21. Convert a Categorical Column to Numerical Using One-Hot Encoding"
   ]
  },
  {
   "cell_type": "code",
   "execution_count": 67,
   "id": "fcb12bc3-cfc8-42be-8460-1374fc11337b",
   "metadata": {},
   "outputs": [
    {
     "name": "stdout",
     "output_type": "stream",
     "text": [
      "\n",
      "DataFrame after one-hot encoding 'airpol' column:\n",
      "     cpa08 induse origin    unit geo\\time     2018         2017         2016  \\\n",
      "0  CPA_A01     P3    DOM  KG_HAB     EU28        6        4.034        3.952   \n",
      "1  CPA_A01     P3    DOM       T     EU28  4055418  2065165.000  2018821.000   \n",
      "2  CPA_A01     P3    DOM   THS_T     EU28     4054     2065.165     2018.821   \n",
      "3  CPA_A01     P3    ROW  KG_HAB     EU28        0        0.930        0.862   \n",
      "4  CPA_A01     P3    ROW       T     EU28   955988   476142.000   440390.000   \n",
      "\n",
      "          2015         2014  ...  airpol_nh3_so2e  airpol_nmvoc  airpol_nox  \\\n",
      "0        3.901        3.824  ...            False         False       False   \n",
      "1  1986991.000  1942285.000  ...            False         False       False   \n",
      "2     1986.991     1942.285  ...            False         False       False   \n",
      "3        0.898        0.732  ...            False         False       False   \n",
      "4   457340.000   371967.000  ...            False         False       False   \n",
      "\n",
      "   airpol_nox_nmvoce  airpol_nox_so2e  airpol_o3pr  airpol_pfc_CO2e  \\\n",
      "0              False            False        False            False   \n",
      "1              False            False        False            False   \n",
      "2              False            False        False            False   \n",
      "3              False            False        False            False   \n",
      "4              False            False        False            False   \n",
      "\n",
      "   airpol_pm10 airpol_pm2_5 airpol_sox_so2e  \n",
      "0        False        False           False  \n",
      "1        False        False           False  \n",
      "2        False        False           False  \n",
      "3        False        False           False  \n",
      "4        False        False           False  \n",
      "\n",
      "[5 rows x 47 columns]\n"
     ]
    }
   ],
   "source": [
    "# Convert a categorical column to numerical using one-hot encoding\n",
    "df_one_hot_encoded = pd.get_dummies(df, columns=['airpol'])\n",
    "print(\"\\nDataFrame after one-hot encoding 'airpol' column:\")\n",
    "print(df_one_hot_encoded.head())\n"
   ]
  },
  {
   "cell_type": "markdown",
   "id": "2f340bea-aa52-4cde-92e6-4282dea818cb",
   "metadata": {},
   "source": [
    "### 22. Convert a Categorical Column to Numerical Using Label Encoding"
   ]
  },
  {
   "cell_type": "code",
   "execution_count": 68,
   "id": "c1b76af8-cfb5-442c-b969-6dcf0cbd7875",
   "metadata": {},
   "outputs": [
    {
     "name": "stdout",
     "output_type": "stream",
     "text": [
      "\n",
      "DataFrame after label encoding 'airpol' column:\n",
      "  airpol    cpa08 induse origin    unit geo\\time     2018         2017  \\\n",
      "0    acg  CPA_A01     P3    DOM  KG_HAB     EU28        6        4.034   \n",
      "1    acg  CPA_A01     P3    DOM       T     EU28  4055418  2065165.000   \n",
      "2    acg  CPA_A01     P3    DOM   THS_T     EU28     4054     2065.165   \n",
      "3    acg  CPA_A01     P3    ROW  KG_HAB     EU28        0        0.930   \n",
      "4    acg  CPA_A01     P3    ROW       T     EU28   955988   476142.000   \n",
      "\n",
      "          2016         2015  ...         2009         2008  2018_normalized  \\\n",
      "0        3.952        3.901  ...        4.025        4.082         0.002689   \n",
      "1  2018821.000  1986991.000  ...  2023324.000  2046045.000         0.003056   \n",
      "2     2018.821     1986.991  ...     2023.324     2046.045         0.002690   \n",
      "3        0.862        0.898  ...        0.774        0.991         0.002689   \n",
      "4   440390.000   457340.000  ...   389072.000   496690.000         0.002776   \n",
      "\n",
      "   2018_standardized  airpol_substring       date  year  month  day  \\\n",
      "0          -0.033285               acg 2020-01-01  2020      1    1   \n",
      "1           0.001351               acg 2020-01-01  2020      1    1   \n",
      "2          -0.033251               acg 2020-01-01  2020      1    1   \n",
      "3          -0.033285               acg 2020-01-01  2020      1    1   \n",
      "4          -0.025120               acg 2020-01-01  2020      1    1   \n",
      "\n",
      "  airpol_encoded  \n",
      "0              2  \n",
      "1              2  \n",
      "2              2  \n",
      "3              2  \n",
      "4              2  \n",
      "\n",
      "[5 rows x 25 columns]\n"
     ]
    }
   ],
   "source": [
    "# Convert a categorical column to numerical using label encoding\n",
    "df['airpol_encoded'] = df['airpol'].astype('category').cat.codes\n",
    "print(\"\\nDataFrame after label encoding 'airpol' column:\")\n",
    "print(df.head())\n"
   ]
  },
  {
   "cell_type": "markdown",
   "id": "03ce9cd2-cdcd-4ce4-a10a-bcb50d42a153",
   "metadata": {},
   "source": [
    "### 23. Group Values in a Categorical Column and Create a New Column with Grouped Categories"
   ]
  },
  {
   "cell_type": "code",
   "execution_count": 69,
   "id": "d2baf1a7-a995-4e38-b023-bebddaa2f8bb",
   "metadata": {},
   "outputs": [
    {
     "name": "stdout",
     "output_type": "stream",
     "text": [
      "\n",
      "DataFrame after grouping 'airpol' column:\n",
      "  airpol    cpa08 induse origin    unit geo\\time     2018         2017  \\\n",
      "0    acg  CPA_A01     P3    DOM  KG_HAB     EU28        6        4.034   \n",
      "1    acg  CPA_A01     P3    DOM       T     EU28  4055418  2065165.000   \n",
      "2    acg  CPA_A01     P3    DOM   THS_T     EU28     4054     2065.165   \n",
      "3    acg  CPA_A01     P3    ROW  KG_HAB     EU28        0        0.930   \n",
      "4    acg  CPA_A01     P3    ROW       T     EU28   955988   476142.000   \n",
      "\n",
      "          2016         2015  ...         2008  2018_normalized  \\\n",
      "0        3.952        3.901  ...        4.082         0.002689   \n",
      "1  2018821.000  1986991.000  ...  2046045.000         0.003056   \n",
      "2     2018.821     1986.991  ...     2046.045         0.002690   \n",
      "3        0.862        0.898  ...        0.991         0.002689   \n",
      "4   440390.000   457340.000  ...   496690.000         0.002776   \n",
      "\n",
      "   2018_standardized  airpol_substring       date  year  month  day  \\\n",
      "0          -0.033285               acg 2020-01-01  2020      1    1   \n",
      "1           0.001351               acg 2020-01-01  2020      1    1   \n",
      "2          -0.033251               acg 2020-01-01  2020      1    1   \n",
      "3          -0.033285               acg 2020-01-01  2020      1    1   \n",
      "4          -0.025120               acg 2020-01-01  2020      1    1   \n",
      "\n",
      "   airpol_encoded airpol_grouped  \n",
      "0               2         group2  \n",
      "1               2         group2  \n",
      "2               2         group2  \n",
      "3               2         group2  \n",
      "4               2         group2  \n",
      "\n",
      "[5 rows x 26 columns]\n"
     ]
    }
   ],
   "source": [
    "# Group values in a categorical column and create a new column with grouped categories\n",
    "def group_airpol(x):\n",
    "    if x in ['co2', 'ch4']:\n",
    "        return 'group1'\n",
    "    else:\n",
    "        return 'group2'\n",
    "\n",
    "df['airpol_grouped'] = df['airpol'].apply(group_airpol)\n",
    "print(\"\\nDataFrame after grouping 'airpol' column:\")\n",
    "print(df.head())\n"
   ]
  },
  {
   "cell_type": "markdown",
   "id": "daa99445-4d11-4cad-8e6a-e38e440f8c54",
   "metadata": {},
   "source": [
    "### 24. Merge Two DataFrames Based on a Common Column"
   ]
  },
  {
   "cell_type": "code",
   "execution_count": 70,
   "id": "082cba58-d79c-4ef0-8e5d-91c56683628f",
   "metadata": {},
   "outputs": [
    {
     "name": "stdout",
     "output_type": "stream",
     "text": [
      "\n",
      "Merged DataFrame based on 'airpol' column:\n",
      "  airpol    cpa08 induse origin    unit geo\\time     2018         2017  \\\n",
      "0    ch4  CPA_A01     P3    DOM  KG_HAB     EU28        8        5.053   \n",
      "1    ch4  CPA_A01     P3    DOM       T     EU28  5113510  2586624.000   \n",
      "2    ch4  CPA_A01     P3    DOM   THS_T     EU28     5112     2586.624   \n",
      "3    ch4  CPA_A01     P3    ROW  KG_HAB     EU28        2        1.200   \n",
      "4    ch4  CPA_A01     P3    ROW       T     EU28  1238778   614328.000   \n",
      "\n",
      "          2016         2015  ...  2018_normalized  2018_standardized  \\\n",
      "0        4.948        4.888  ...         0.002689          -0.033285   \n",
      "1  2527350.000  2489581.000  ...         0.003151           0.010388   \n",
      "2     2527.350     2489.581  ...         0.002690          -0.033242   \n",
      "3        1.110        1.173  ...         0.002689          -0.033285   \n",
      "4   566745.000   597375.000  ...         0.002801          -0.022705   \n",
      "\n",
      "   airpol_substring       date  year  month  day  airpol_encoded  \\\n",
      "0               ch4 2020-01-01  2020      1    1               3   \n",
      "1               ch4 2020-01-01  2020      1    1               3   \n",
      "2               ch4 2020-01-01  2020      1    1               3   \n",
      "3               ch4 2020-01-01  2020      1    1               3   \n",
      "4               ch4 2020-01-01  2020      1    1               3   \n",
      "\n",
      "   airpol_grouped description  \n",
      "0          group1     Methane  \n",
      "1          group1     Methane  \n",
      "2          group1     Methane  \n",
      "3          group1     Methane  \n",
      "4          group1     Methane  \n",
      "\n",
      "[5 rows x 27 columns]\n"
     ]
    }
   ],
   "source": [
    "# Create another DataFrame to merge\n",
    "df2 = pd.DataFrame({\n",
    "    'airpol': ['co2', 'ch4', 'n2o', 'co', 'nh3'],\n",
    "    'description': ['Carbon Dioxide', 'Methane', 'Nitrous Oxide', 'Carbon Monoxide', 'Ammonia']\n",
    "})\n",
    "\n",
    "# Merge two DataFrames based on a common column\n",
    "df_merged = pd.merge(df, df2, on='airpol')\n",
    "print(\"\\nMerged DataFrame based on 'airpol' column:\")\n",
    "print(df_merged.head())\n"
   ]
  },
  {
   "cell_type": "markdown",
   "id": "10fb1039-c003-4547-b3c7-a046b5227d62",
   "metadata": {},
   "source": [
    "### 25. Concatenate Two DataFrames Vertically"
   ]
  },
  {
   "cell_type": "code",
   "execution_count": 71,
   "id": "ec473470-2c13-4627-88f6-afeb7ab60203",
   "metadata": {},
   "outputs": [
    {
     "name": "stdout",
     "output_type": "stream",
     "text": [
      "\n",
      "DataFrame after vertical concatenation:\n",
      "  airpol    cpa08 induse origin    unit geo\\time     2018         2017  \\\n",
      "0    acg  CPA_A01     P3    DOM  KG_HAB     EU28        6        4.034   \n",
      "1    acg  CPA_A01     P3    DOM       T     EU28  4055418  2065165.000   \n",
      "2    acg  CPA_A01     P3    DOM   THS_T     EU28     4054     2065.165   \n",
      "3    acg  CPA_A01     P3    ROW  KG_HAB     EU28        0        0.930   \n",
      "4    acg  CPA_A01     P3    ROW       T     EU28   955988   476142.000   \n",
      "\n",
      "          2016         2015  ...         2008  2018_normalized  \\\n",
      "0        3.952        3.901  ...        4.082         0.002689   \n",
      "1  2018821.000  1986991.000  ...  2046045.000         0.003056   \n",
      "2     2018.821     1986.991  ...     2046.045         0.002690   \n",
      "3        0.862        0.898  ...        0.991         0.002689   \n",
      "4   440390.000   457340.000  ...   496690.000         0.002776   \n",
      "\n",
      "   2018_standardized  airpol_substring       date  year  month  day  \\\n",
      "0          -0.033285               acg 2020-01-01  2020      1    1   \n",
      "1           0.001351               acg 2020-01-01  2020      1    1   \n",
      "2          -0.033251               acg 2020-01-01  2020      1    1   \n",
      "3          -0.033285               acg 2020-01-01  2020      1    1   \n",
      "4          -0.025120               acg 2020-01-01  2020      1    1   \n",
      "\n",
      "   airpol_encoded airpol_grouped  \n",
      "0               2         group2  \n",
      "1               2         group2  \n",
      "2               2         group2  \n",
      "3               2         group2  \n",
      "4               2         group2  \n",
      "\n",
      "[5 rows x 26 columns]\n"
     ]
    }
   ],
   "source": [
    "# Concatenate two DataFrames vertically\n",
    "df_concat_vert = pd.concat([df, df], axis=0)\n",
    "print(\"\\nDataFrame after vertical concatenation:\")\n",
    "print(df_concat_vert.head())\n"
   ]
  },
  {
   "cell_type": "markdown",
   "id": "2d290b0c-d24a-42ad-833c-b2a4d266d059",
   "metadata": {},
   "source": [
    "### 26. Concatenate Two DataFrames Horizontally"
   ]
  },
  {
   "cell_type": "code",
   "execution_count": 72,
   "id": "ea153658-dfd6-4692-b0ca-f54d9b072c95",
   "metadata": {},
   "outputs": [
    {
     "name": "stdout",
     "output_type": "stream",
     "text": [
      "\n",
      "DataFrame after horizontal concatenation:\n",
      "   airpol    cpa08 induse origin    unit geo\\time     2018         2017  \\\n",
      "0     acg  CPA_A01     P3    DOM  KG_HAB     EU28        6        4.034   \n",
      "1     acg  CPA_A01     P3    DOM       T     EU28  4055418  2065165.000   \n",
      "2     acg  CPA_A01     P3    DOM   THS_T     EU28     4054     2065.165   \n",
      "3     acg  CPA_A01     P3    ROW  KG_HAB     EU28        0        0.930   \n",
      "4     acg  CPA_A01     P3    ROW       T     EU28   955988   476142.000   \n",
      "\n",
      "          2016         2015  ...  2018_standardized  airpol_substring  \\\n",
      "0        3.952        3.901  ...          -0.033285               acg   \n",
      "1  2018821.000  1986991.000  ...           0.001351               acg   \n",
      "2     2018.821     1986.991  ...          -0.033251               acg   \n",
      "3        0.862        0.898  ...          -0.033285               acg   \n",
      "4   440390.000   457340.000  ...          -0.025120               acg   \n",
      "\n",
      "        date  year  month  day  airpol_encoded  airpol_grouped  airpol  \\\n",
      "0 2020-01-01  2020      1    1               2          group2     co2   \n",
      "1 2020-01-01  2020      1    1               2          group2     ch4   \n",
      "2 2020-01-01  2020      1    1               2          group2     n2o   \n",
      "3 2020-01-01  2020      1    1               2          group2      co   \n",
      "4 2020-01-01  2020      1    1               2          group2     nh3   \n",
      "\n",
      "       description  \n",
      "0   Carbon Dioxide  \n",
      "1          Methane  \n",
      "2    Nitrous Oxide  \n",
      "3  Carbon Monoxide  \n",
      "4          Ammonia  \n",
      "\n",
      "[5 rows x 28 columns]\n"
     ]
    }
   ],
   "source": [
    "df_concat_horiz = pd.concat([df, df2], axis=1)\n",
    "print(\"\\nDataFrame after horizontal concatenation:\")\n",
    "print(df_concat_horiz.head())"
   ]
  },
  {
   "cell_type": "markdown",
   "id": "0c0b3cc5-ee39-4328-873e-576c2226ba9c",
   "metadata": {},
   "source": [
    "### 27. Create a New Column Based on Existing Columns"
   ]
  },
  {
   "cell_type": "code",
   "execution_count": 73,
   "id": "6fe1cfb9-3533-4fe7-ab8d-e038e5ca01da",
   "metadata": {},
   "outputs": [
    {
     "name": "stdout",
     "output_type": "stream",
     "text": [
      "\n",
      "DataFrame after creating 'total_emissions' column:\n",
      "  airpol    cpa08 induse origin    unit geo\\time     2018         2017  \\\n",
      "0    acg  CPA_A01     P3    DOM  KG_HAB     EU28        6        4.034   \n",
      "1    acg  CPA_A01     P3    DOM       T     EU28  4055418  2065165.000   \n",
      "2    acg  CPA_A01     P3    DOM   THS_T     EU28     4054     2065.165   \n",
      "3    acg  CPA_A01     P3    ROW  KG_HAB     EU28        0        0.930   \n",
      "4    acg  CPA_A01     P3    ROW       T     EU28   955988   476142.000   \n",
      "\n",
      "          2016         2015  ...  2018_normalized  2018_standardized  \\\n",
      "0        3.952        3.901  ...         0.002689          -0.033285   \n",
      "1  2018821.000  1986991.000  ...         0.003056           0.001351   \n",
      "2     2018.821     1986.991  ...         0.002690          -0.033251   \n",
      "3        0.862        0.898  ...         0.002689          -0.033285   \n",
      "4   440390.000   457340.000  ...         0.002776          -0.025120   \n",
      "\n",
      "   airpol_substring       date  year  month  day  airpol_encoded  \\\n",
      "0               acg 2020-01-01  2020      1    1               2   \n",
      "1               acg 2020-01-01  2020      1    1               2   \n",
      "2               acg 2020-01-01  2020      1    1               2   \n",
      "3               acg 2020-01-01  2020      1    1               2   \n",
      "4               acg 2020-01-01  2020      1    1               2   \n",
      "\n",
      "   airpol_grouped total_emissions  \n",
      "0          group2    2.171100e+01  \n",
      "1          group2    1.206868e+07  \n",
      "2          group2    1.206726e+04  \n",
      "3          group2    3.422000e+00  \n",
      "4          group2    2.701827e+06  \n",
      "\n",
      "[5 rows x 27 columns]\n"
     ]
    }
   ],
   "source": [
    "df['total_emissions'] = df[['2018', '2017', '2016', '2015', '2014']].sum(axis=1)\n",
    "print(\"\\nDataFrame after creating 'total_emissions' column:\")\n",
    "print(df.head())"
   ]
  },
  {
   "cell_type": "markdown",
   "id": "dfc588b5-70f7-4258-a921-f309469506af",
   "metadata": {},
   "source": [
    "### 28. Discretize a Continuous Column into Bins"
   ]
  },
  {
   "cell_type": "code",
   "execution_count": 74,
   "id": "47cc2dd0-023f-46b4-9a4e-36ebbac896ec",
   "metadata": {},
   "outputs": [
    {
     "name": "stdout",
     "output_type": "stream",
     "text": [
      "\n",
      "DataFrame after discretizing '2018' column into bins:\n",
      "  airpol    cpa08 induse origin    unit geo\\time     2018         2017  \\\n",
      "0    acg  CPA_A01     P3    DOM  KG_HAB     EU28        6        4.034   \n",
      "1    acg  CPA_A01     P3    DOM       T     EU28  4055418  2065165.000   \n",
      "2    acg  CPA_A01     P3    DOM   THS_T     EU28     4054     2065.165   \n",
      "3    acg  CPA_A01     P3    ROW  KG_HAB     EU28        0        0.930   \n",
      "4    acg  CPA_A01     P3    ROW       T     EU28   955988   476142.000   \n",
      "\n",
      "          2016         2015  ...  2018_standardized  airpol_substring  \\\n",
      "0        3.952        3.901  ...          -0.033285               acg   \n",
      "1  2018821.000  1986991.000  ...           0.001351               acg   \n",
      "2     2018.821     1986.991  ...          -0.033251               acg   \n",
      "3        0.862        0.898  ...          -0.033285               acg   \n",
      "4   440390.000   457340.000  ...          -0.025120               acg   \n",
      "\n",
      "        date  year  month  day  airpol_encoded  airpol_grouped  \\\n",
      "0 2020-01-01  2020      1    1               2          group2   \n",
      "1 2020-01-01  2020      1    1               2          group2   \n",
      "2 2020-01-01  2020      1    1               2          group2   \n",
      "3 2020-01-01  2020      1    1               2          group2   \n",
      "4 2020-01-01  2020      1    1               2          group2   \n",
      "\n",
      "   total_emissions emission_bins  \n",
      "0     2.171100e+01           Low  \n",
      "1     1.206868e+07           Low  \n",
      "2     1.206726e+04           Low  \n",
      "3     3.422000e+00           Low  \n",
      "4     2.701827e+06           Low  \n",
      "\n",
      "[5 rows x 28 columns]\n"
     ]
    }
   ],
   "source": [
    "df['emission_bins'] = pd.cut(df['2018'], bins=3, labels=['Low', 'Medium', 'High'])\n",
    "print(\"\\nDataFrame after discretizing '2018' column into bins:\")\n",
    "print(df.head())"
   ]
  },
  {
   "cell_type": "markdown",
   "id": "981bc125-9368-4c97-ba75-f54f6bba8031",
   "metadata": {},
   "source": [
    "### 29. Create Polynomial Features from Existing Numerical Columns"
   ]
  },
  {
   "cell_type": "code",
   "execution_count": 75,
   "id": "28f9a0e0-e5f7-494e-91ea-70cd32575633",
   "metadata": {},
   "outputs": [
    {
     "name": "stdout",
     "output_type": "stream",
     "text": [
      "\n",
      "DataFrame with polynomial features:\n",
      "     1       2018         2017        2018^2     2018*2017        2017^2\n",
      "0  1.0        6.0        4.034  3.600000e+01  2.420400e+01  1.627316e+01\n",
      "1  1.0  4055418.0  2065165.000  1.644642e+13  8.375107e+12  4.264906e+12\n",
      "2  1.0     4054.0     2065.165  1.643492e+07  8.372179e+06  4.264906e+06\n",
      "3  1.0        0.0        0.930  0.000000e+00  0.000000e+00  8.649000e-01\n",
      "4  1.0   955988.0   476142.000  9.139131e+11  4.551860e+11  2.267112e+11\n"
     ]
    }
   ],
   "source": [
    "from sklearn.preprocessing import PolynomialFeatures\n",
    "\n",
    "poly = PolynomialFeatures(degree=2)\n",
    "poly_features = poly.fit_transform(df[['2018', '2017']])\n",
    "\n",
    "df_poly = pd.DataFrame(poly_features, columns=['1', '2018', '2017', '2018^2', '2018*2017', '2017^2'])\n",
    "print(\"\\nDataFrame with polynomial features:\")\n",
    "print(df_poly.head())"
   ]
  },
  {
   "cell_type": "code",
   "execution_count": null,
   "id": "cea883e1-a009-42f0-9ae2-023cc38618b1",
   "metadata": {},
   "outputs": [],
   "source": []
  }
 ],
 "metadata": {
  "kernelspec": {
   "display_name": "Python 3 (ipykernel)",
   "language": "python",
   "name": "python3"
  },
  "language_info": {
   "codemirror_mode": {
    "name": "ipython",
    "version": 3
   },
   "file_extension": ".py",
   "mimetype": "text/x-python",
   "name": "python",
   "nbconvert_exporter": "python",
   "pygments_lexer": "ipython3",
   "version": "3.11.7"
  }
 },
 "nbformat": 4,
 "nbformat_minor": 5
}
