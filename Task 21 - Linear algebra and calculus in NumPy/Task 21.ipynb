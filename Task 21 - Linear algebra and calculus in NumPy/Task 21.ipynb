{
 "cells": [
  {
   "cell_type": "markdown",
   "id": "5d5142a7-fcd5-46cd-99b6-223612eccc34",
   "metadata": {},
   "source": [
    "# Task 21-> Linear algebra and calculus in NumPy\n",
    "# Linear Algebra Tasks"
   ]
  },
  {
   "cell_type": "code",
   "execution_count": 1,
   "id": "8b9f8ada-4bd5-4e5f-89e1-c575a7dfbc0f",
   "metadata": {},
   "outputs": [],
   "source": [
    "import numpy as np"
   ]
  },
  {
   "cell_type": "markdown",
   "id": "69767f36-9bb8-46dd-ba63-264c75c6d80c",
   "metadata": {},
   "source": [
    "## Matrix Creation and Manipulation"
   ]
  },
  {
   "cell_type": "markdown",
   "id": "0d9bb1aa-bdff-462f-b0b3-4ace8bfc4404",
   "metadata": {},
   "source": [
    "### Zero Matrix: A matrix where all elements are zero."
   ]
  },
  {
   "cell_type": "code",
   "execution_count": 2,
   "id": "8c79303d-43d2-4394-9361-91cf9e66c3fc",
   "metadata": {},
   "outputs": [
    {
     "name": "stdout",
     "output_type": "stream",
     "text": [
      "Zero Matrix:\n",
      " [[0. 0. 0.]\n",
      " [0. 0. 0.]\n",
      " [0. 0. 0.]]\n"
     ]
    }
   ],
   "source": [
    "zero_matrix = np.zeros((3, 3))\n",
    "print(\"Zero Matrix:\\n\", zero_matrix)"
   ]
  },
  {
   "cell_type": "markdown",
   "id": "e5465a81-09ae-4ebe-b722-7975a0d43bd8",
   "metadata": {},
   "source": [
    "### Identity Matrix: A square matrix with ones on the diagonal and zeros elsewhere."
   ]
  },
  {
   "cell_type": "code",
   "execution_count": 3,
   "id": "5d6b39d1-7cb3-4c54-a765-5acaab5121ea",
   "metadata": {},
   "outputs": [
    {
     "name": "stdout",
     "output_type": "stream",
     "text": [
      "Identity Matrix:\n",
      " [[1. 0. 0.]\n",
      " [0. 1. 0.]\n",
      " [0. 0. 1.]]\n"
     ]
    }
   ],
   "source": [
    "identity_matrix = np.eye(3)\n",
    "print(\"Identity Matrix:\\n\", identity_matrix)"
   ]
  },
  {
   "cell_type": "markdown",
   "id": "8ad5b71e-f399-492e-a5c2-a33a97a88924",
   "metadata": {},
   "source": [
    "### Random Matrix: A matrix with random elements."
   ]
  },
  {
   "cell_type": "code",
   "execution_count": 4,
   "id": "c8ec40b2-d1f3-4f95-866e-b20e6f837d20",
   "metadata": {},
   "outputs": [
    {
     "name": "stdout",
     "output_type": "stream",
     "text": [
      "Random Matrix:\n",
      " [[0.98522297 0.76381071 0.71943211]\n",
      " [0.27073441 0.36270211 0.09003325]\n",
      " [0.16279314 0.74871057 0.48954089]]\n"
     ]
    }
   ],
   "source": [
    "random_matrix = np.random.rand(3, 3)\n",
    "print(\"Random Matrix:\\n\", random_matrix)"
   ]
  },
  {
   "cell_type": "markdown",
   "id": "4aa08886-cf23-443f-8f27-597c76c577f8",
   "metadata": {},
   "source": [
    "### Practice Problems:\n",
    "\n",
    "#### Create a 4x4 zero matrix."
   ]
  },
  {
   "cell_type": "code",
   "execution_count": 5,
   "id": "96f88fbb-c4c7-4d4a-9364-864c18c2af48",
   "metadata": {},
   "outputs": [
    {
     "name": "stdout",
     "output_type": "stream",
     "text": [
      "[[0. 0. 0. 0.]\n",
      " [0. 0. 0. 0.]\n",
      " [0. 0. 0. 0.]\n",
      " [0. 0. 0. 0.]]\n"
     ]
    }
   ],
   "source": [
    "zero_matrix_4x4 = np.zeros((4, 4))\n",
    "print(zero_matrix_4x4)"
   ]
  },
  {
   "cell_type": "markdown",
   "id": "ecbe3b31-45fe-4c8e-b707-3d20ade0a12d",
   "metadata": {},
   "source": [
    "#### Create a 5x5 identity matrix."
   ]
  },
  {
   "cell_type": "code",
   "execution_count": 6,
   "id": "8b8ba400-3122-48a7-9432-f856fdc9a7ea",
   "metadata": {},
   "outputs": [
    {
     "name": "stdout",
     "output_type": "stream",
     "text": [
      "[[1. 0. 0. 0. 0.]\n",
      " [0. 1. 0. 0. 0.]\n",
      " [0. 0. 1. 0. 0.]\n",
      " [0. 0. 0. 1. 0.]\n",
      " [0. 0. 0. 0. 1.]]\n"
     ]
    }
   ],
   "source": [
    "identity_matrix_5x5 = np.eye(5)\n",
    "print(identity_matrix_5x5)"
   ]
  },
  {
   "cell_type": "markdown",
   "id": "e18a4aaf-7651-4b30-8c46-0f8511340fce",
   "metadata": {},
   "source": [
    "#### Generate a 3x3 matrix with random integers between 0 and 10."
   ]
  },
  {
   "cell_type": "code",
   "execution_count": 7,
   "id": "d173d783-10b8-42fb-b62a-7a5176ff2a9a",
   "metadata": {},
   "outputs": [
    {
     "name": "stdout",
     "output_type": "stream",
     "text": [
      "[[1 7 8]\n",
      " [1 1 5]\n",
      " [3 2 4]]\n"
     ]
    }
   ],
   "source": [
    "random_matrix_3x3 = np.random.randint(0, 11, (3, 3))\n",
    "print(random_matrix_3x3)\r\n"
   ]
  },
  {
   "cell_type": "markdown",
   "id": "4779cef7-3f14-4bec-afda-52afd3c63f44",
   "metadata": {},
   "source": [
    "### Create a 2x3 zero matrix."
   ]
  },
  {
   "cell_type": "code",
   "execution_count": 8,
   "id": "d8133795-02f6-4830-b2fb-16683f1f2ce5",
   "metadata": {},
   "outputs": [
    {
     "name": "stdout",
     "output_type": "stream",
     "text": [
      "[[0. 0. 0.]\n",
      " [0. 0. 0.]]\n"
     ]
    }
   ],
   "source": [
    "zero_matrix_2x3 = np.zeros((2, 3))\n",
    "print(zero_matrix_2x3)"
   ]
  },
  {
   "cell_type": "markdown",
   "id": "73311c86-d628-4264-b62a-4794898f31be",
   "metadata": {},
   "source": [
    "#### Generate a 6x6 matrix with random values between 0 and 1."
   ]
  },
  {
   "cell_type": "code",
   "execution_count": 9,
   "id": "3183c987-21a8-4077-bda7-5ef2d695b53b",
   "metadata": {},
   "outputs": [
    {
     "name": "stdout",
     "output_type": "stream",
     "text": [
      "[[0.30098176 0.27728786 0.59707207 0.35849931 0.53400981 0.38099542]\n",
      " [0.7568733  0.24394874 0.85368922 0.05491599 0.67054743 0.68571539]\n",
      " [0.51519248 0.89511588 0.42961534 0.7884417  0.71469828 0.43565083]\n",
      " [0.03335184 0.53594105 0.14522036 0.2176454  0.15403015 0.13577776]\n",
      " [0.96041264 0.58899153 0.04627009 0.534331   0.3771161  0.72485908]\n",
      " [0.1020893  0.42702527 0.62112021 0.26232405 0.75809525 0.95896584]]\n"
     ]
    }
   ],
   "source": [
    "random_matrix_6x6 = np.random.rand(6, 6)\n",
    "print(random_matrix_6x6)"
   ]
  },
  {
   "cell_type": "markdown",
   "id": "9e806cc3-441f-405a-8754-b335ead9eedd",
   "metadata": {},
   "source": [
    "## Basic Matrix Operations"
   ]
  },
  {
   "cell_type": "markdown",
   "id": "d6c4c8fc-c97b-4aa1-8f89-f887e41dd9a2",
   "metadata": {},
   "source": [
    "### Addition of Matrices"
   ]
  },
  {
   "cell_type": "code",
   "execution_count": 10,
   "id": "06543955-c903-4c72-8df1-3e8821594df4",
   "metadata": {},
   "outputs": [
    {
     "name": "stdout",
     "output_type": "stream",
     "text": [
      "Addition:\n",
      " [[ 6  8]\n",
      " [10 12]]\n"
     ]
    }
   ],
   "source": [
    "A = np.array([[1, 2], [3, 4]])\n",
    "B = np.array([[5, 6], [7, 8]])\n",
    "\n",
    "addition = A + B\n",
    "print(\"Addition:\\n\", addition)"
   ]
  },
  {
   "cell_type": "markdown",
   "id": "5093917c-ea80-4aa4-baa7-dfbded0bfe92",
   "metadata": {},
   "source": [
    "### Subtraction of Matrices"
   ]
  },
  {
   "cell_type": "code",
   "execution_count": 11,
   "id": "0f7f19dc-f49f-4e33-af3c-c9916fa21169",
   "metadata": {},
   "outputs": [
    {
     "name": "stdout",
     "output_type": "stream",
     "text": [
      "Subtraction:\n",
      " [[-4 -4]\n",
      " [-4 -4]]\n"
     ]
    }
   ],
   "source": [
    "subtraction = A - B\n",
    "print(\"Subtraction:\\n\", subtraction)"
   ]
  },
  {
   "cell_type": "markdown",
   "id": "c366777a-ea9e-4bc5-aa38-226785cc1106",
   "metadata": {},
   "source": [
    "### Multiplication (element-wise) of Matrices"
   ]
  },
  {
   "cell_type": "code",
   "execution_count": 12,
   "id": "de135d29-855b-44fc-bd95-ed13ff3888af",
   "metadata": {},
   "outputs": [
    {
     "name": "stdout",
     "output_type": "stream",
     "text": [
      "Element-wise Multiplication:\n",
      " [[ 5 12]\n",
      " [21 32]]\n"
     ]
    }
   ],
   "source": [
    "multiplication_elementwise = A * B\n",
    "print(\"Element-wise Multiplication:\\n\", multiplication_elementwise)"
   ]
  },
  {
   "cell_type": "markdown",
   "id": "ccb7aaae-996a-4e83-a53f-bc3d469789b8",
   "metadata": {},
   "source": [
    "### Matrix Multiplication (dot product) of Matrices\n"
   ]
  },
  {
   "cell_type": "code",
   "execution_count": 13,
   "id": "37e373e1-b31e-468e-a3f2-ab1b5b3d7687",
   "metadata": {},
   "outputs": [
    {
     "name": "stdout",
     "output_type": "stream",
     "text": [
      "Matrix Multiplication:\n",
      " [[19 22]\n",
      " [43 50]]\n"
     ]
    }
   ],
   "source": [
    "multiplication_dot = np.dot(A, B)\n",
    "print(\"Matrix Multiplication:\\n\", multiplication_dot)"
   ]
  },
  {
   "cell_type": "markdown",
   "id": "c49eb032-1a7b-4ffa-8eba-f0ca23f4cb6e",
   "metadata": {},
   "source": [
    "### Practice Problems:\n",
    "\n",
    "#### Add two 3x3 matrices"
   ]
  },
  {
   "cell_type": "code",
   "execution_count": 14,
   "id": "ff7f7fda-581d-4a8d-a81a-888b086487f0",
   "metadata": {},
   "outputs": [
    {
     "name": "stdout",
     "output_type": "stream",
     "text": [
      "[[0.13034227 0.59734357 0.63957895]\n",
      " [0.17113983 1.04694551 1.31933975]\n",
      " [1.60074621 0.46487057 0.33859704]]\n"
     ]
    }
   ],
   "source": [
    "A = np.random.rand(3, 3)\n",
    "B = np.random.rand(3, 3)\n",
    "addition_result = A + B\n",
    "print(addition_result)"
   ]
  },
  {
   "cell_type": "markdown",
   "id": "2a9b14aa-804a-4814-907a-e32b00e67829",
   "metadata": {},
   "source": [
    "#### Subtract a 2x2 matrix from another 2x2 matrix."
   ]
  },
  {
   "cell_type": "code",
   "execution_count": 15,
   "id": "3c48f8e6-893e-4bd3-a39c-99f8919ba7ce",
   "metadata": {},
   "outputs": [
    {
     "name": "stdout",
     "output_type": "stream",
     "text": [
      "[[-0.56081401 -0.13683887]\n",
      " [ 0.23234452  0.74149217]]\n"
     ]
    }
   ],
   "source": [
    "A = np.random.rand(2, 2)\n",
    "B = np.random.rand(2, 2)\n",
    "subtraction_result = A - B\n",
    "print(subtraction_result)"
   ]
  },
  {
   "cell_type": "markdown",
   "id": "f1b05066-3542-484d-9301-460decf7436d",
   "metadata": {},
   "source": [
    "#### Perform element-wise multiplication of two 4x4 matrices."
   ]
  },
  {
   "cell_type": "code",
   "execution_count": 16,
   "id": "f2989f6b-d3df-4fb2-8bd8-f355fdf2d572",
   "metadata": {},
   "outputs": [
    {
     "name": "stdout",
     "output_type": "stream",
     "text": [
      "[[0.3710826  0.04605086 0.58705177 0.48183767]\n",
      " [0.00650152 0.45867164 0.30841286 0.23527287]\n",
      " [0.06998351 0.21701783 0.0563074  0.13777982]\n",
      " [0.17437087 0.57802952 0.02410639 0.10374231]]\n"
     ]
    }
   ],
   "source": [
    "A = np.random.rand(4, 4)\n",
    "B = np.random.rand(4, 4)\n",
    "elementwise_multiplication_result = A * B\n",
    "print(elementwise_multiplication_result)"
   ]
  },
  {
   "cell_type": "markdown",
   "id": "b920a4b7-41d9-4b18-89a0-1cf154b526b9",
   "metadata": {},
   "source": [
    "#### Compute the dot product of two matrices: 2x3 and 3x2."
   ]
  },
  {
   "cell_type": "code",
   "execution_count": 17,
   "id": "db60f2c1-b9cb-419f-ad97-5c30de3c45b9",
   "metadata": {},
   "outputs": [
    {
     "name": "stdout",
     "output_type": "stream",
     "text": [
      "[[1.38458983 1.50841838]\n",
      " [1.13991784 1.19268624]]\n"
     ]
    }
   ],
   "source": [
    "A = np.random.rand(2, 3)\n",
    "B = np.random.rand(3, 2)\n",
    "dot_product_result = np.dot(A, B)\n",
    "print(dot_product_result)"
   ]
  },
  {
   "cell_type": "markdown",
   "id": "f45abd80-593e-4b9c-a8e6-cd721a411370",
   "metadata": {},
   "source": [
    "#### Multiply a 3x3 matrix by a 3x3 identity matrix."
   ]
  },
  {
   "cell_type": "code",
   "execution_count": 18,
   "id": "a295ff08-1023-46f0-95ac-06861c9ff22b",
   "metadata": {},
   "outputs": [
    {
     "name": "stdout",
     "output_type": "stream",
     "text": [
      "[[0.34687205 0.21536484 0.10040841]\n",
      " [0.15303808 0.57069057 0.98640951]\n",
      " [0.068653   0.29050825 0.50705476]]\n"
     ]
    }
   ],
   "source": [
    "A = np.random.rand(3, 3)\n",
    "identity_matrix = np.eye(3)\n",
    "multiplication_result = np.dot(A, identity_matrix)\n",
    "print(multiplication_result)"
   ]
  },
  {
   "cell_type": "code",
   "execution_count": null,
   "id": "5de05247-f6df-4e0d-bb6f-507643697f99",
   "metadata": {},
   "outputs": [],
   "source": []
  },
  {
   "cell_type": "code",
   "execution_count": null,
   "id": "a5f84299-b45b-44fc-b7cc-1754bfcb39bd",
   "metadata": {},
   "outputs": [],
   "source": []
  },
  {
   "cell_type": "markdown",
   "id": "256d426f-ac0e-4e4c-bcc8-4c440248d667",
   "metadata": {},
   "source": [
    "## Transpose, Determinant, and Inverse"
   ]
  },
  {
   "cell_type": "markdown",
   "id": "ee221056-62fd-4e44-b855-f7ba0752ed4f",
   "metadata": {},
   "source": [
    "### Transpose of Matrices"
   ]
  },
  {
   "cell_type": "code",
   "execution_count": 19,
   "id": "ccae9889-d72f-4afd-94df-906a88c45592",
   "metadata": {},
   "outputs": [
    {
     "name": "stdout",
     "output_type": "stream",
     "text": [
      "Transpose:\n",
      " [[1 4 7]\n",
      " [2 5 8]\n",
      " [3 6 9]]\n"
     ]
    }
   ],
   "source": [
    "C = np.array([[1, 2, 3], [4, 5, 6], [7, 8, 9]])\n",
    "\n",
    "transpose = np.transpose(C)\n",
    "print(\"Transpose:\\n\", transpose)"
   ]
  },
  {
   "cell_type": "markdown",
   "id": "2eb925a4-57e4-4fb2-b30c-70898c8156b9",
   "metadata": {},
   "source": [
    "### Determinant of Matrices"
   ]
  },
  {
   "cell_type": "code",
   "execution_count": 20,
   "id": "9c42bf54-4530-43c3-818d-a4036613b1b8",
   "metadata": {},
   "outputs": [
    {
     "name": "stdout",
     "output_type": "stream",
     "text": [
      "Determinant:\n",
      " -9.51619735392994e-16\n"
     ]
    }
   ],
   "source": [
    "determinant = np.linalg.det(C)\n",
    "print(\"Determinant:\\n\", determinant)"
   ]
  },
  {
   "cell_type": "markdown",
   "id": "b8588ebf-ac65-4896-8e43-68a5edceaf43",
   "metadata": {},
   "source": [
    "### Inverse of Matrices\n"
   ]
  },
  {
   "cell_type": "code",
   "execution_count": 21,
   "id": "c9eea1dd-3e13-4c80-b5f0-e4e2596373a0",
   "metadata": {},
   "outputs": [
    {
     "name": "stdout",
     "output_type": "stream",
     "text": [
      "Inverse:\n",
      " [[ 3.15251974e+15 -6.30503948e+15  3.15251974e+15]\n",
      " [-6.30503948e+15  1.26100790e+16 -6.30503948e+15]\n",
      " [ 3.15251974e+15 -6.30503948e+15  3.15251974e+15]]\n"
     ]
    }
   ],
   "source": [
    "try:\n",
    "    inverse = np.linalg.inv(C)\n",
    "    print(\"Inverse:\\n\", inverse)\n",
    "except np.linalg.LinAlgError:\n",
    "    print(\"Matrix is singular and cannot be inverted.\")"
   ]
  },
  {
   "cell_type": "markdown",
   "id": "0fdcf082-35a7-4ea2-899e-56952c176e0c",
   "metadata": {},
   "source": [
    "### Practice Problems:\n",
    "\n",
    "#### Transpose a 3x3 matrix."
   ]
  },
  {
   "cell_type": "code",
   "execution_count": 22,
   "id": "7ab5d556-981b-4b36-a404-98d3bf79327e",
   "metadata": {},
   "outputs": [
    {
     "name": "stdout",
     "output_type": "stream",
     "text": [
      "[[0.32736508 0.11866095 0.03524555]\n",
      " [0.2143446  0.28864214 0.58951292]\n",
      " [0.83360887 0.47641757 0.69435352]]\n"
     ]
    }
   ],
   "source": [
    "A = np.random.rand(3, 3)\n",
    "transpose_result = np.transpose(A)\n",
    "print(transpose_result)"
   ]
  },
  {
   "cell_type": "markdown",
   "id": "8ce7ba4b-b09f-4c79-b11c-02093c3dfecc",
   "metadata": {},
   "source": [
    "#### Find the determinant of a 2x2 matrix."
   ]
  },
  {
   "cell_type": "code",
   "execution_count": 23,
   "id": "0dd8175e-f476-4ecd-bb5b-4ae6113bc8aa",
   "metadata": {},
   "outputs": [
    {
     "name": "stdout",
     "output_type": "stream",
     "text": [
      "-2.0000000000000004\n"
     ]
    }
   ],
   "source": [
    "A = np.array([[1, 2], [3, 4]])\n",
    "determinant_result = np.linalg.det(A)\n",
    "print(determinant_result)"
   ]
  },
  {
   "cell_type": "markdown",
   "id": "8de2c0e9-2e50-49f3-a449-d5f6c21adc49",
   "metadata": {},
   "source": [
    "#### Compute the inverse of a 3x3 invertible matrix."
   ]
  },
  {
   "cell_type": "code",
   "execution_count": 24,
   "id": "5d416475-2cf5-486f-9476-64a0c620ad3a",
   "metadata": {},
   "outputs": [
    {
     "name": "stdout",
     "output_type": "stream",
     "text": [
      "[[-24.  18.   5.]\n",
      " [ 20. -15.  -4.]\n",
      " [ -5.   4.   1.]]\n"
     ]
    }
   ],
   "source": [
    "A = np.array([[1, 2, 3], [0, 1, 4], [5, 6, 0]])\n",
    "inverse_result = np.linalg.inv(A)\n",
    "print(inverse_result)"
   ]
  },
  {
   "cell_type": "markdown",
   "id": "f8742acb-c2f2-49bc-abae-cd42d3f13130",
   "metadata": {},
   "source": [
    "#### Find the transpose of a 4x4 matrix."
   ]
  },
  {
   "cell_type": "code",
   "execution_count": 25,
   "id": "ec8a8fab-2b9c-477e-bc07-321f99451d11",
   "metadata": {},
   "outputs": [
    {
     "name": "stdout",
     "output_type": "stream",
     "text": [
      "[[0.92833688 0.6030786  0.75202915 0.44163062]\n",
      " [0.96098257 0.04067485 0.53849177 0.51443744]\n",
      " [0.24828907 0.48426245 0.49246544 0.86539503]\n",
      " [0.92230451 0.71959399 0.75640081 0.86882727]]\n"
     ]
    }
   ],
   "source": [
    "A = np.random.rand(4, 4)\n",
    "transpose_result = np.transpose(A)\n",
    "print(transpose_result)"
   ]
  },
  {
   "cell_type": "markdown",
   "id": "642d9eec-fd9c-44e8-89d3-5d033f0d015a",
   "metadata": {},
   "source": [
    "#### Determine if a 3x3 matrix is invertible and, if so, find its inverse."
   ]
  },
  {
   "cell_type": "code",
   "execution_count": 26,
   "id": "f62569dd-bfa1-4878-b000-27c52e46e9e5",
   "metadata": {},
   "outputs": [
    {
     "name": "stdout",
     "output_type": "stream",
     "text": [
      "[[ 0.  0.  1.]\n",
      " [-2.  1.  3.]\n",
      " [ 3. -1. -5.]]\n"
     ]
    }
   ],
   "source": [
    "A = np.array([[2, 1, 1], [1, 3, 2], [1, 0, 0]])\n",
    "try:\n",
    "    inverse_result = np.linalg.inv(A)\n",
    "    print(inverse_result)\n",
    "except np.linalg.LinAlgError:\n",
    "    print(\"Matrix is singular and cannot be inverted.\")"
   ]
  },
  {
   "cell_type": "markdown",
   "id": "0f99fb37-a10d-43b2-8c54-486b47259bc1",
   "metadata": {},
   "source": [
    "## Solving Linear Equations"
   ]
  },
  {
   "cell_type": "markdown",
   "id": "601d601e-a389-4efe-9c0e-819a2771f18d",
   "metadata": {},
   "source": [
    "### Use NumPy to solve a system of linear equations:"
   ]
  },
  {
   "cell_type": "code",
   "execution_count": 27,
   "id": "556fd1f0-8ed9-479d-8aca-26c58fab035e",
   "metadata": {},
   "outputs": [
    {
     "name": "stdout",
     "output_type": "stream",
     "text": [
      "The system does not have a unique solution.\n"
     ]
    }
   ],
   "source": [
    "# Example system: 2x + 3y = 5, 4x + 6y = 10\n",
    "A = np.array([[2, 3], [4, 6]])\n",
    "b = np.array([5, 10])\n",
    "\n",
    "try:\n",
    "    solution = np.linalg.solve(A, b)\n",
    "    print(\"Solution:\\n\", solution)\n",
    "except np.linalg.LinAlgError:\n",
    "    print(\"The system does not have a unique solution.\")"
   ]
  },
  {
   "cell_type": "markdown",
   "id": "fcc5d224-ab49-47dd-8e4d-4873f302416b",
   "metadata": {},
   "source": [
    "### Practice Problems:\n",
    "\n",
    "#### Solve the system: x+y=2, x−y=0."
   ]
  },
  {
   "cell_type": "code",
   "execution_count": 28,
   "id": "0d3bb695-34d4-4bd3-a63d-046bd46a619b",
   "metadata": {},
   "outputs": [
    {
     "name": "stdout",
     "output_type": "stream",
     "text": [
      "[1. 1.]\n"
     ]
    }
   ],
   "source": [
    "A = np.array([[1, 1], [1, -1]])\n",
    "b = np.array([2, 0])\n",
    "solution = np.linalg.solve(A, b)\n",
    "print(solution)"
   ]
  },
  {
   "cell_type": "markdown",
   "id": "a024305a-4637-4a20-8adc-59d964fd93a3",
   "metadata": {},
   "source": [
    "#### Solve the system: 3x+4y=7, 2x−y=3."
   ]
  },
  {
   "cell_type": "code",
   "execution_count": 29,
   "id": "1518e43b-adfa-482f-9ae5-7577403c7645",
   "metadata": {},
   "outputs": [
    {
     "name": "stdout",
     "output_type": "stream",
     "text": [
      "[1.72727273 0.45454545]\n"
     ]
    }
   ],
   "source": [
    "A = np.array([[3, 4], [2, -1]])\n",
    "b = np.array([7, 3])\n",
    "solution = np.linalg.solve(A, b)\n",
    "print(solution)"
   ]
  },
  {
   "cell_type": "markdown",
   "id": "15292390-53d4-4907-9055-5755b7897121",
   "metadata": {},
   "source": [
    "#### Solve the system: x−2y+z=1, 2x+y+z=3, 3x−y+2z=2."
   ]
  },
  {
   "cell_type": "code",
   "execution_count": 30,
   "id": "21a96789-d1d5-4a8f-9455-2f6dce7f90a6",
   "metadata": {},
   "outputs": [
    {
     "name": "stdout",
     "output_type": "stream",
     "text": [
      "[-1.62129587e+16  5.40431955e+15  2.70215978e+16]\n"
     ]
    }
   ],
   "source": [
    "A = np.array([[1, -2, 1], [2, 1, 1], [3, -1, 2]])\n",
    "b = np.array([1, 3, 2])\n",
    "solution = np.linalg.solve(A, b)\n",
    "print(solution)"
   ]
  },
  {
   "cell_type": "markdown",
   "id": "9a787663-cc78-4b24-afb9-e794a30b3c16",
   "metadata": {},
   "source": [
    "#### Solve the system: 2x+3y=1, 4x−y=6."
   ]
  },
  {
   "cell_type": "code",
   "execution_count": 31,
   "id": "2724d14c-b7e2-4e0b-b763-b2942b5d14a6",
   "metadata": {},
   "outputs": [
    {
     "name": "stdout",
     "output_type": "stream",
     "text": [
      "[ 1.35714286 -0.57142857]\n"
     ]
    }
   ],
   "source": [
    "A = np.array([[2, 3], [4, -1]])\n",
    "b = np.array([1, 6])\n",
    "solution = np.linalg.solve(A, b)\n",
    "print(solution)"
   ]
  },
  {
   "cell_type": "markdown",
   "id": "a17bfc52-56a0-446f-888e-a3edc32d624d",
   "metadata": {},
   "source": [
    "#### Solve the system: x+y+z=6, 2x−y+z=3, x+2y−z=2."
   ]
  },
  {
   "cell_type": "code",
   "execution_count": 32,
   "id": "b31d86d0-ec19-40c5-96b9-fb46d964731b",
   "metadata": {},
   "outputs": [
    {
     "name": "stdout",
     "output_type": "stream",
     "text": [
      "[1. 2. 3.]\n"
     ]
    }
   ],
   "source": [
    "A = np.array([[1, 1, 1], [2, -1, 1], [1, 2, -1]])\n",
    "b = np.array([6, 3, 2])\n",
    "solution = np.linalg.solve(A, b)\n",
    "print(solution)"
   ]
  },
  {
   "cell_type": "markdown",
   "id": "89c96df8-8b8d-4ada-84a5-f6bf5f5613e9",
   "metadata": {},
   "source": [
    "### Implement matrix factorization methods (LU decomposition, QR decomposition):\n",
    "### 1. LU Decomposition"
   ]
  },
  {
   "cell_type": "code",
   "execution_count": 33,
   "id": "9d45274f-ae78-47ba-976c-396c1944078a",
   "metadata": {},
   "outputs": [
    {
     "name": "stdout",
     "output_type": "stream",
     "text": [
      "P:\n",
      " [[0. 1. 0.]\n",
      " [1. 0. 0.]\n",
      " [0. 0. 1.]]\n",
      "L:\n",
      " [[ 1.   0.   0. ]\n",
      " [ 0.5  1.   0. ]\n",
      " [-0.5  1.   1. ]]\n",
      "U:\n",
      " [[ 4. -6.  0.]\n",
      " [ 0.  4.  1.]\n",
      " [ 0.  0.  1.]]\n"
     ]
    }
   ],
   "source": [
    "from scipy.linalg import lu, qr\n",
    "D = np.array([[2, 1, 1], [4, -6, 0], [-2, 7, 2]])\n",
    "\n",
    "P, L, U = lu(D)\n",
    "print(\"P:\\n\", P)\n",
    "print(\"L:\\n\", L)\n",
    "print(\"U:\\n\", U)"
   ]
  },
  {
   "cell_type": "markdown",
   "id": "74402fa2-edc4-4fff-9e56-7fc5ce8de4af",
   "metadata": {},
   "source": [
    "### 2. QR Decomposition\n"
   ]
  },
  {
   "cell_type": "code",
   "execution_count": 34,
   "id": "5c141cc4-042e-428c-b19c-d0c51c955808",
   "metadata": {},
   "outputs": [
    {
     "name": "stdout",
     "output_type": "stream",
     "text": [
      "Q:\n",
      " [[-4.08248290e-01  7.07106781e-01 -5.77350269e-01]\n",
      " [-8.16496581e-01  1.64776939e-16  5.77350269e-01]\n",
      " [ 4.08248290e-01  7.07106781e-01  5.77350269e-01]]\n",
      "R:\n",
      " [[-4.89897949  7.34846923  0.40824829]\n",
      " [ 0.          5.65685425  2.12132034]\n",
      " [ 0.          0.          0.57735027]]\n"
     ]
    }
   ],
   "source": [
    "Q, R = qr(D)\n",
    "print(\"Q:\\n\", Q)\n",
    "print(\"R:\\n\", R)"
   ]
  },
  {
   "cell_type": "markdown",
   "id": "71d96c38-0cc4-4f6c-8255-8fe607412862",
   "metadata": {},
   "source": [
    "### Practice Problems:\n",
    "\n",
    "#### Perform LU decomposition on a 2x2 matrix."
   ]
  },
  {
   "cell_type": "code",
   "execution_count": 35,
   "id": "4f2d119a-1b50-41f4-a912-9fd75bd8e4c4",
   "metadata": {},
   "outputs": [
    {
     "name": "stdout",
     "output_type": "stream",
     "text": [
      "P:\n",
      " [[0. 1.]\n",
      " [1. 0.]]\n",
      "L:\n",
      " [[1.         0.        ]\n",
      " [0.66666667 1.        ]]\n",
      "U:\n",
      " [[6. 3.]\n",
      " [0. 1.]]\n"
     ]
    }
   ],
   "source": [
    "A = np.array([[4, 3], [6, 3]])\n",
    "P, L, U = lu(A)\n",
    "print(\"P:\\n\", P)\n",
    "print(\"L:\\n\", L)\n",
    "print(\"U:\\n\", U)"
   ]
  },
  {
   "cell_type": "markdown",
   "id": "48f58ce3-8ab5-421d-a99c-ade749389b7f",
   "metadata": {},
   "source": [
    "#### Perform QR decomposition on a 3x3 matrix."
   ]
  },
  {
   "cell_type": "code",
   "execution_count": 36,
   "id": "872e980c-b64a-4b05-b1d9-26807ec5d19d",
   "metadata": {},
   "outputs": [
    {
     "name": "stdout",
     "output_type": "stream",
     "text": [
      "Q:\n",
      " [[-5.46607955e-01  4.43670361e-01  7.10194588e-01]\n",
      " [-8.37388306e-01 -2.88844151e-01 -4.64058058e-01]\n",
      " [-7.53253237e-04 -8.48366470e-01  5.29408883e-01]]\n",
      "R:\n",
      " [[-0.33550795 -0.95439181 -0.68950641]\n",
      " [ 0.         -0.09654819 -0.55984529]\n",
      " [ 0.          0.          0.71582063]]\n"
     ]
    }
   ],
   "source": [
    "A = np.random.rand(3, 3)\n",
    "Q, R = qr(A)\n",
    "print(\"Q:\\n\", Q)\n",
    "print(\"R:\\n\", R)"
   ]
  },
  {
   "cell_type": "markdown",
   "id": "aab5a3b5-455f-42d3-9334-dcac3e331c0f",
   "metadata": {},
   "source": [
    "#### Verify the result of LU decomposition by reconstructing the original matrix."
   ]
  },
  {
   "cell_type": "code",
   "execution_count": 37,
   "id": "4baa859c-8bdd-4c8b-b775-d824d1924794",
   "metadata": {},
   "outputs": [
    {
     "name": "stdout",
     "output_type": "stream",
     "text": [
      "[[4. 3.]\n",
      " [6. 3.]]\n"
     ]
    }
   ],
   "source": [
    "A = np.array([[4, 3], [6, 3]])\n",
    "P, L, U = lu(A)\n",
    "reconstructed_A = np.dot(P, np.dot(L, U))\n",
    "print(reconstructed_A)"
   ]
  },
  {
   "cell_type": "markdown",
   "id": "ce453316-3a4b-4d7f-b746-0ab277baaa24",
   "metadata": {},
   "source": [
    "#### Verify the result of QR decomposition by reconstructing the original matrix."
   ]
  },
  {
   "cell_type": "code",
   "execution_count": 38,
   "id": "6f0c6183-8f01-4db5-9c15-91da3c6ff66d",
   "metadata": {},
   "outputs": [
    {
     "name": "stdout",
     "output_type": "stream",
     "text": [
      "[[0.71178125 0.11867374 0.34113682]\n",
      " [0.08255353 0.22268258 0.95755013]\n",
      " [0.94116198 0.2676143  0.10832707]]\n"
     ]
    }
   ],
   "source": [
    "A = np.random.rand(3, 3)\n",
    "Q, R = qr(A)\n",
    "reconstructed_A = np.dot(Q, R)\n",
    "print(reconstructed_A)"
   ]
  },
  {
   "cell_type": "markdown",
   "id": "7fe4b56a-6056-440a-bcc7-4245f0f95a5a",
   "metadata": {},
   "source": [
    "#### Apply LU decomposition on a 4x4 matrix."
   ]
  },
  {
   "cell_type": "code",
   "execution_count": 39,
   "id": "a3b226e5-3291-49ef-9f06-d24254f05109",
   "metadata": {},
   "outputs": [
    {
     "name": "stdout",
     "output_type": "stream",
     "text": [
      "P:\n",
      " [[0. 1. 0. 0.]\n",
      " [0. 0. 1. 0.]\n",
      " [1. 0. 0. 0.]\n",
      " [0. 0. 0. 1.]]\n",
      "L:\n",
      " [[1.         0.         0.         0.        ]\n",
      " [0.83040914 1.         0.         0.        ]\n",
      " [0.23427281 0.07033877 1.         0.        ]\n",
      " [0.11893396 0.30338411 0.81082823 1.        ]]\n",
      "U:\n",
      " [[ 0.84015235  0.64925577  0.53259767  0.17233097]\n",
      " [ 0.          0.27573333 -0.2500363   0.21195055]\n",
      " [ 0.          0.          0.35828492  0.66782396]\n",
      " [ 0.          0.          0.         -0.29533392]]\n"
     ]
    }
   ],
   "source": [
    "A = np.random.rand(4, 4)\n",
    "P, L, U = lu(A)\n",
    "print(\"P:\\n\", P)\n",
    "print(\"L:\\n\", L)\n",
    "print(\"U:\\n\", U)"
   ]
  },
  {
   "cell_type": "markdown",
   "id": "aa89e1ea-54e6-45d2-8c1a-a60df0cce5fe",
   "metadata": {},
   "source": [
    "## Eigenvalues and Eigenvectors"
   ]
  },
  {
   "cell_type": "markdown",
   "id": "dd1aa9ec-09b9-4524-8d50-7a22596f0fcb",
   "metadata": {},
   "source": [
    "### Calculate the eigenvalues and eigenvectors of a given matrix:"
   ]
  },
  {
   "cell_type": "code",
   "execution_count": 40,
   "id": "fb285331-21e8-449c-96e8-21e2d5bb5830",
   "metadata": {},
   "outputs": [
    {
     "name": "stdout",
     "output_type": "stream",
     "text": [
      "Eigenvalues:\n",
      " [3. 2.]\n",
      "Eigenvectors:\n",
      " [[0.89442719 0.70710678]\n",
      " [0.4472136  0.70710678]]\n"
     ]
    }
   ],
   "source": [
    "E = np.array([[4, -2], [1, 1]])\n",
    "\n",
    "eigenvalues, eigenvectors = np.linalg.eig(E)\n",
    "print(\"Eigenvalues:\\n\", eigenvalues)\n",
    "print(\"Eigenvectors:\\n\", eigenvectors)"
   ]
  },
  {
   "cell_type": "markdown",
   "id": "db87a642-c376-4680-b827-24248408c21f",
   "metadata": {},
   "source": [
    "### Practice Problems:\n",
    "\n",
    "#### Find the eigenvalues of a 2x2 matrix."
   ]
  },
  {
   "cell_type": "code",
   "execution_count": 41,
   "id": "debcaa50-4f2a-4fcf-8693-3858de9c8564",
   "metadata": {},
   "outputs": [
    {
     "name": "stdout",
     "output_type": "stream",
     "text": [
      "[3. 1.]\n"
     ]
    }
   ],
   "source": [
    "A = np.array([[2, 1], [1, 2]])\n",
    "eigenvalues, _ = np.linalg.eig(A)\n",
    "print(eigenvalues)"
   ]
  },
  {
   "cell_type": "markdown",
   "id": "df58ef22-56f2-4c01-aa51-0258174c8d95",
   "metadata": {},
   "source": [
    "#### Find the eigenvectors of a 3x3 matrix."
   ]
  },
  {
   "cell_type": "code",
   "execution_count": 42,
   "id": "040276e1-785e-4a8c-a411-a3ea4bb90069",
   "metadata": {},
   "outputs": [
    {
     "name": "stdout",
     "output_type": "stream",
     "text": [
      "[[ 0.22578016 -0.75769839 -0.49927017]\n",
      " [ 0.52634845  0.63212771 -0.46674201]\n",
      " [-0.81974424 -0.16219652 -0.72998712]]\n"
     ]
    }
   ],
   "source": [
    "A = np.array([[1, 2, 3], [0, 1, 4], [5, 6, 0]])\n",
    "_, eigenvectors = np.linalg.eig(A)\n",
    "print(eigenvectors)"
   ]
  },
  {
   "cell_type": "markdown",
   "id": "4d7bed2e-7f1c-4bb9-b095-f5fe417a694a",
   "metadata": {},
   "source": [
    "#### Verify eigenvalues and eigenvectors by reconstructing the original matrix."
   ]
  },
  {
   "cell_type": "code",
   "execution_count": 43,
   "id": "354e747d-867e-4afe-b2ef-700dfade91a4",
   "metadata": {},
   "outputs": [
    {
     "name": "stdout",
     "output_type": "stream",
     "text": [
      "[[ 4. -2.]\n",
      " [ 1.  1.]]\n"
     ]
    }
   ],
   "source": [
    "A = np.array([[4, -2], [1, 1]])\n",
    "eigenvalues, eigenvectors = np.linalg.eig(A)\n",
    "reconstructed_A = np.dot(eigenvectors, np.dot(np.diag(eigenvalues), np.linalg.inv(eigenvectors)))\n",
    "print(reconstructed_A)"
   ]
  },
  {
   "cell_type": "markdown",
   "id": "9bac6c8e-09df-4468-b2c5-99bb8eece38f",
   "metadata": {},
   "source": [
    "#### Compute the eigenvalues of a symmetric matrix."
   ]
  },
  {
   "cell_type": "code",
   "execution_count": 44,
   "id": "c3a287b3-84dd-44e7-8465-15ae7f3b5bb4",
   "metadata": {},
   "outputs": [
    {
     "name": "stdout",
     "output_type": "stream",
     "text": [
      "[3. 1.]\n"
     ]
    }
   ],
   "source": [
    "A = np.array([[2, 1], [1, 2]])\n",
    "eigenvalues, _ = np.linalg.eig(A)\n",
    "print(eigenvalues)"
   ]
  },
  {
   "cell_type": "markdown",
   "id": "4d78dc32-3fad-4e41-a08a-9a5c26fe966f",
   "metadata": {},
   "source": [
    "#### Compute the eigenvectors of a diagonal matrix."
   ]
  },
  {
   "cell_type": "code",
   "execution_count": 45,
   "id": "3aaacdc4-9538-4684-b0ac-dfc28e89343e",
   "metadata": {},
   "outputs": [
    {
     "name": "stdout",
     "output_type": "stream",
     "text": [
      "[[1. 0. 0.]\n",
      " [0. 1. 0.]\n",
      " [0. 0. 1.]]\n"
     ]
    }
   ],
   "source": [
    "A = np.diag([1, 2, 3])\n",
    "_, eigenvectors = np.linalg.eig(A)\n",
    "print(eigenvectors)"
   ]
  },
  {
   "cell_type": "markdown",
   "id": "eca2df32-ce50-4d2a-aa30-db1e8f8f886f",
   "metadata": {},
   "source": [
    "## Vector Operations\n",
    "### Perform basic vector operations (addition, dot product, cross product):"
   ]
  },
  {
   "cell_type": "markdown",
   "id": "98c1f7c1-688c-4e09-8f4a-20c1ace11e69",
   "metadata": {},
   "source": [
    "### 1. Addition"
   ]
  },
  {
   "cell_type": "code",
   "execution_count": 46,
   "id": "ffe6f089-311f-496c-8011-b38d713cfb10",
   "metadata": {},
   "outputs": [
    {
     "name": "stdout",
     "output_type": "stream",
     "text": [
      "Addition:\n",
      " [5 7 9]\n"
     ]
    }
   ],
   "source": [
    "v1 = np.array([1, 2, 3])\n",
    "v2 = np.array([4, 5, 6])\n",
    "addition = v1 + v2\n",
    "print(\"Addition:\\n\", addition)"
   ]
  },
  {
   "cell_type": "markdown",
   "id": "e10b3118-78e2-46cb-8986-578ec8a91786",
   "metadata": {},
   "source": [
    "### 2. Dot Product\n"
   ]
  },
  {
   "cell_type": "code",
   "execution_count": 47,
   "id": "9b68023e-9cfa-495c-ab73-7085184f8ef8",
   "metadata": {},
   "outputs": [
    {
     "name": "stdout",
     "output_type": "stream",
     "text": [
      "Dot Product:\n",
      " 32\n"
     ]
    }
   ],
   "source": [
    "dot_product = np.dot(v1, v2)\n",
    "print(\"Dot Product:\\n\", dot_product)"
   ]
  },
  {
   "cell_type": "markdown",
   "id": "efc13dfc-e620-4056-aaad-d974d4d54d52",
   "metadata": {},
   "source": [
    "### 3. Cross Product\n"
   ]
  },
  {
   "cell_type": "code",
   "execution_count": 48,
   "id": "4b58d3aa-e85d-4fb6-9b6c-17f9479a90f2",
   "metadata": {},
   "outputs": [
    {
     "name": "stdout",
     "output_type": "stream",
     "text": [
      "Cross Product:\n",
      " [-3  6 -3]\n"
     ]
    }
   ],
   "source": [
    "cross_product = np.cross(v1, v2)\n",
    "print(\"Cross Product:\\n\", cross_product)"
   ]
  },
  {
   "cell_type": "markdown",
   "id": "d0593f3c-6a58-4622-9676-8b312e9efb57",
   "metadata": {},
   "source": [
    "### Practice Problems:\n",
    "\n",
    "#### Add two 3D vectors."
   ]
  },
  {
   "cell_type": "code",
   "execution_count": 49,
   "id": "740e442a-3a8c-41f1-9da5-0dadf96f592a",
   "metadata": {},
   "outputs": [
    {
     "name": "stdout",
     "output_type": "stream",
     "text": [
      "[5 7 9]\n"
     ]
    }
   ],
   "source": [
    "v1 = np.array([1, 2, 3])\n",
    "v2 = np.array([4, 5, 6])\n",
    "addition_result = v1 + v2\n",
    "print(addition_result)"
   ]
  },
  {
   "cell_type": "markdown",
   "id": "b75ba103-3ba2-459f-9696-626c254966fd",
   "metadata": {},
   "source": [
    "#### Compute the dot product of two 4D vectors."
   ]
  },
  {
   "cell_type": "code",
   "execution_count": 50,
   "id": "513c2836-76dd-4b0d-a547-adeafd85ece6",
   "metadata": {},
   "outputs": [
    {
     "name": "stdout",
     "output_type": "stream",
     "text": [
      "20\n"
     ]
    }
   ],
   "source": [
    "v1 = np.array([1, 2, 3, 4])\n",
    "v2 = np.array([4, 3, 2, 1])\n",
    "dot_product_result = np.dot(v1, v2)\n",
    "print(dot_product_result)"
   ]
  },
  {
   "cell_type": "markdown",
   "id": "b04463e7-e14b-4dfe-a4ee-5f6852390a03",
   "metadata": {},
   "source": [
    "#### Find the cross product of two 3D vectors."
   ]
  },
  {
   "cell_type": "code",
   "execution_count": 51,
   "id": "70f9c71a-20d5-469b-a131-ba17c1856d5f",
   "metadata": {},
   "outputs": [
    {
     "name": "stdout",
     "output_type": "stream",
     "text": [
      "[-3  6 -3]\n"
     ]
    }
   ],
   "source": [
    "v1 = np.array([1, 2, 3])\n",
    "v2 = np.array([4, 5, 6])\n",
    "cross_product_result = np.cross(v1, v2)\n",
    "print(cross_product_result)"
   ]
  },
  {
   "cell_type": "markdown",
   "id": "735559d7-cc98-4ea4-9df8-a32c70ddf652",
   "metadata": {},
   "source": [
    "#### Compute the dot product of two 2D vectors."
   ]
  },
  {
   "cell_type": "code",
   "execution_count": 52,
   "id": "0716216d-b240-4791-8c51-5549a265e7f5",
   "metadata": {},
   "outputs": [
    {
     "name": "stdout",
     "output_type": "stream",
     "text": [
      "11\n"
     ]
    }
   ],
   "source": [
    "v1 = np.array([1, 2])\n",
    "v2 = np.array([3, 4])\n",
    "dot_product_result = np.dot(v1, v2)\n",
    "print(dot_product_result)"
   ]
  },
  {
   "cell_type": "markdown",
   "id": "5c8ab5da-a6d0-41a4-99d5-b52858d9d4dc",
   "metadata": {},
   "source": [
    "#### Add a zero vector to a 3D vector."
   ]
  },
  {
   "cell_type": "code",
   "execution_count": 53,
   "id": "51151f62-657a-4866-8bc0-435b4e9202b6",
   "metadata": {},
   "outputs": [
    {
     "name": "stdout",
     "output_type": "stream",
     "text": [
      "[1. 2. 3.]\n"
     ]
    }
   ],
   "source": [
    "v1 = np.array([1, 2, 3])\n",
    "zero_vector = np.zeros(3)\n",
    "addition_result = v1 + zero_vector\n",
    "print(addition_result)"
   ]
  },
  {
   "cell_type": "markdown",
   "id": "c7e7e9ce-f820-49b0-aca5-8775e21120dd",
   "metadata": {},
   "source": [
    "### Normalize a vector and compute vector norms:\n",
    "### 1. Norm (magnitude)"
   ]
  },
  {
   "cell_type": "code",
   "execution_count": 54,
   "id": "8530f091-f552-49ba-968a-bc2bffc71780",
   "metadata": {},
   "outputs": [
    {
     "name": "stdout",
     "output_type": "stream",
     "text": [
      "Norm:\n",
      " 7.0710678118654755\n"
     ]
    }
   ],
   "source": [
    "v = np.array([3, 4, 5])\n",
    "norm = np.linalg.norm(v)\n",
    "print(\"Norm:\\n\", norm)"
   ]
  },
  {
   "cell_type": "markdown",
   "id": "9b2ce257-901a-4271-81ad-0daa27a7ee9c",
   "metadata": {},
   "source": [
    "### 2. Normalized vector\n"
   ]
  },
  {
   "cell_type": "code",
   "execution_count": 55,
   "id": "ba8fd800-96be-4970-8078-5fef48b67ee7",
   "metadata": {},
   "outputs": [
    {
     "name": "stdout",
     "output_type": "stream",
     "text": [
      "Normalized Vector:\n",
      " [0.42426407 0.56568542 0.70710678]\n"
     ]
    }
   ],
   "source": [
    "normalized_v = v / norm\n",
    "print(\"Normalized Vector:\\n\", normalized_v)"
   ]
  },
  {
   "cell_type": "markdown",
   "id": "d08e30c9-7821-46f7-9e52-ea0aecf2daaa",
   "metadata": {},
   "source": [
    "### Practice Problems:\n",
    "\n",
    "#### Compute the norm of a 2D vector."
   ]
  },
  {
   "cell_type": "code",
   "execution_count": 56,
   "id": "0828d85e-d1d5-4702-908c-3e22bc63326a",
   "metadata": {},
   "outputs": [
    {
     "name": "stdout",
     "output_type": "stream",
     "text": [
      "5.0\n"
     ]
    }
   ],
   "source": [
    "v = np.array([3, 4])\n",
    "norm_result = np.linalg.norm(v)\n",
    "print(norm_result)"
   ]
  },
  {
   "cell_type": "markdown",
   "id": "35fb8ebf-02f1-4c5c-b096-b2dac01a315a",
   "metadata": {},
   "source": [
    "#### Normalize a 4D vector."
   ]
  },
  {
   "cell_type": "code",
   "execution_count": 57,
   "id": "e8fcea54-77a6-47b5-b8a5-eed3ce37ff9e",
   "metadata": {},
   "outputs": [
    {
     "name": "stdout",
     "output_type": "stream",
     "text": [
      "[0.18257419 0.36514837 0.54772256 0.73029674]\n"
     ]
    }
   ],
   "source": [
    "v = np.array([1, 2, 3, 4])\n",
    "norm = np.linalg.norm(v)\n",
    "normalized_v = v / norm\n",
    "print(normalized_v)"
   ]
  },
  {
   "cell_type": "markdown",
   "id": "660ce38b-50e0-4638-9dda-2c6e908b626a",
   "metadata": {},
   "source": [
    "#### Find the norm of a vector with negative components."
   ]
  },
  {
   "cell_type": "code",
   "execution_count": 58,
   "id": "99851a66-5f80-42e7-9602-ed0f12ee49c8",
   "metadata": {},
   "outputs": [
    {
     "name": "stdout",
     "output_type": "stream",
     "text": [
      "5.0\n"
     ]
    }
   ],
   "source": [
    "v = np.array([-3, -4])\n",
    "norm_result = np.linalg.norm(v)\n",
    "print(norm_result)"
   ]
  },
  {
   "cell_type": "markdown",
   "id": "8e3a1040-11f3-4b95-919a-81d8b1658a40",
   "metadata": {},
   "source": [
    "#### Normalize a zero vector and handle any errors."
   ]
  },
  {
   "cell_type": "code",
   "execution_count": 59,
   "id": "3ab066c1-8a71-4212-af44-2ad68b58b182",
   "metadata": {},
   "outputs": [
    {
     "name": "stdout",
     "output_type": "stream",
     "text": [
      "[0. 0. 0.]\n"
     ]
    }
   ],
   "source": [
    "v = np.zeros(3)\n",
    "norm = np.linalg.norm(v)\n",
    "normalized_v = v / norm if norm != 0 else np.zeros_like(v)\n",
    "print(normalized_v)"
   ]
  },
  {
   "cell_type": "markdown",
   "id": "1252621c-f3ca-4e32-8ace-47e224f8b7d7",
   "metadata": {},
   "source": [
    "#### Compute the norm of a unit vector."
   ]
  },
  {
   "cell_type": "code",
   "execution_count": 60,
   "id": "ab3e39be-32f6-4799-bb71-ab57f9367cb9",
   "metadata": {},
   "outputs": [
    {
     "name": "stdout",
     "output_type": "stream",
     "text": [
      "1.0\n"
     ]
    }
   ],
   "source": [
    "v = np.array([1/np.sqrt(3), 1/np.sqrt(3), 1/np.sqrt(3)])\n",
    "norm_result = np.linalg.norm(v)\n",
    "print(norm_result)"
   ]
  },
  {
   "cell_type": "markdown",
   "id": "f5b8a130-d87b-4020-9175-4fa6be259bc0",
   "metadata": {},
   "source": [
    "### Matrix Decomposition\n",
    "### Understand and implement Principal Component Analysis (PCA) using SVD:"
   ]
  },
  {
   "cell_type": "markdown",
   "id": "1b32e830-b98e-4166-9791-3e483b4dca74",
   "metadata": {},
   "source": [
    "### 1. PCA using SVD\n"
   ]
  },
  {
   "cell_type": "code",
   "execution_count": 61,
   "id": "c6b3eb84-a067-444f-8153-893bbe65b348",
   "metadata": {},
   "outputs": [
    {
     "name": "stdout",
     "output_type": "stream",
     "text": [
      "Transformed Data:\n",
      " [[ 0.16903988 -0.38660349]\n",
      " [ 0.23288686  0.07016475]\n",
      " [ 0.52227245  0.1015772 ]\n",
      " [-0.28854069 -0.29908826]\n",
      " [-0.33312492  0.01136668]\n",
      " [-0.05251928  0.48328433]\n",
      " [-0.51049669 -0.13602644]\n",
      " [ 0.58478517 -0.15099583]\n",
      " [-0.09065785  0.20462378]\n",
      " [-0.23364494  0.10169727]]\n"
     ]
    }
   ],
   "source": [
    "from sklearn.decomposition import PCA\n",
    "data = np.random.rand(10, 3)  # Random 10x3 data matrix\n",
    "\n",
    "pca = PCA(n_components=2)\n",
    "pca.fit(data)\n",
    "transformed_data = pca.transform(data)\n",
    "print(\"Transformed Data:\\n\", transformed_data)"
   ]
  },
  {
   "cell_type": "markdown",
   "id": "b967a8a2-0749-4ba8-9462-764e6670376c",
   "metadata": {},
   "source": [
    "### 2. Verify using SVD\n"
   ]
  },
  {
   "cell_type": "code",
   "execution_count": 62,
   "id": "ce0e5b4a-21a4-49d6-869e-865534d71d74",
   "metadata": {},
   "outputs": [
    {
     "name": "stdout",
     "output_type": "stream",
     "text": [
      "SVD Transformed Data:\n",
      " [[-0.16903988  0.38660349]\n",
      " [-0.23288686 -0.07016475]\n",
      " [-0.52227245 -0.1015772 ]\n",
      " [ 0.28854069  0.29908826]\n",
      " [ 0.33312492 -0.01136668]\n",
      " [ 0.05251928 -0.48328433]\n",
      " [ 0.51049669  0.13602644]\n",
      " [-0.58478517  0.15099583]\n",
      " [ 0.09065785 -0.20462378]\n",
      " [ 0.23364494 -0.10169727]]\n"
     ]
    }
   ],
   "source": [
    "U, S, Vt = np.linalg.svd(data - np.mean(data, axis=0), full_matrices=False)\n",
    "SVD_transformed = np.dot(U[:, :2], np.diag(S[:2]))\n",
    "print(\"SVD Transformed Data:\\n\", SVD_transformed)"
   ]
  },
  {
   "cell_type": "markdown",
   "id": "908c9ad2-d234-4a25-8c6a-ed703fe24ed2",
   "metadata": {},
   "source": [
    "### Practice Problems:\n",
    "\n",
    "#### Apply PCA to reduce a 5x5 matrix to 2 dimensions."
   ]
  },
  {
   "cell_type": "code",
   "execution_count": 63,
   "id": "48a0a015-d0df-402e-a283-c432094d552e",
   "metadata": {},
   "outputs": [
    {
     "name": "stdout",
     "output_type": "stream",
     "text": [
      "[[-0.50896091  0.22527563]\n",
      " [ 0.27068937  0.46643099]\n",
      " [ 0.76067116 -0.11997586]\n",
      " [-0.04943641 -0.45037731]\n",
      " [-0.4729632  -0.12135345]]\n"
     ]
    }
   ],
   "source": [
    "from sklearn.decomposition import PCA\n",
    "data = np.random.rand(5, 5)\n",
    "pca = PCA(n_components=2)\n",
    "transformed_data = pca.fit_transform(data)\n",
    "print(transformed_data)"
   ]
  },
  {
   "cell_type": "markdown",
   "id": "94e5a2bf-3928-49d4-91cb-1fedb65dcad2",
   "metadata": {},
   "source": [
    "#### Perform PCA on a dataset with 50 samples and 10 features."
   ]
  },
  {
   "cell_type": "code",
   "execution_count": 64,
   "id": "331f8d89-a178-40f3-80aa-7630ece87f3b",
   "metadata": {},
   "outputs": [
    {
     "name": "stdout",
     "output_type": "stream",
     "text": [
      "[[ 0.04022695 -0.29168908]\n",
      " [-0.58145371 -0.48094805]\n",
      " [ 0.54074709  0.1393404 ]\n",
      " [-0.37731397  0.14782047]\n",
      " [-0.01718075 -0.29688808]\n",
      " [ 0.44004326 -0.55919359]\n",
      " [ 0.80876209  0.19119802]\n",
      " [-0.05812033 -0.09567211]\n",
      " [-0.59474206  0.14520157]\n",
      " [ 0.82504758  0.21358213]\n",
      " [ 0.32280211 -0.37571921]\n",
      " [ 0.31780817 -0.69019812]\n",
      " [ 0.40958344 -0.2845807 ]\n",
      " [ 0.36309089 -0.35284864]\n",
      " [ 0.41997212  0.17915534]\n",
      " [-0.74032553  0.30514068]\n",
      " [-0.27023224  0.28754188]\n",
      " [-0.12992883  0.5690381 ]\n",
      " [ 0.23779568  0.15863594]\n",
      " [-0.55089745 -0.45460331]\n",
      " [-0.08741333 -0.3183214 ]\n",
      " [ 0.03101224  0.12327557]\n",
      " [ 0.04840724 -0.27163021]\n",
      " [-0.19180594 -0.33697709]\n",
      " [ 0.4338226  -0.34721556]\n",
      " [-0.10921538  0.01182782]\n",
      " [-0.39822982  0.52422478]\n",
      " [-0.16830705  0.14781557]\n",
      " [-0.19083625 -0.39257837]\n",
      " [-0.46653174  0.42392025]\n",
      " [-0.66727533 -0.42457487]\n",
      " [ 0.0696097  -0.22025846]\n",
      " [ 0.29390292 -0.21865553]\n",
      " [-0.58964208  0.12483335]\n",
      " [-0.07545757 -0.61189556]\n",
      " [ 0.02424143  0.13262795]\n",
      " [ 0.40361342  0.47017261]\n",
      " [ 0.36511041 -0.18055302]\n",
      " [-0.26551054  0.12164497]\n",
      " [-0.4912753   0.00260607]\n",
      " [ 0.21898984  0.53638273]\n",
      " [ 0.57533076  0.29385123]\n",
      " [-0.19515346  0.33936981]\n",
      " [ 0.26123103  0.64828548]\n",
      " [-0.22535511 -0.65472685]\n",
      " [ 0.04363171  0.06043135]\n",
      " [ 0.05932802  0.74339718]\n",
      " [ 0.32240854  0.10861982]\n",
      " [-0.23067178  0.59249112]\n",
      " [-0.20364371  0.11729563]]\n"
     ]
    }
   ],
   "source": [
    "data = np.random.rand(50, 10)\n",
    "pca = PCA(n_components=2)\n",
    "transformed_data = pca.fit_transform(data)\n",
    "print(transformed_data)"
   ]
  },
  {
   "cell_type": "markdown",
   "id": "b165c238-4484-404a-9218-d110033f264d",
   "metadata": {},
   "source": [
    "#### Verify PCA results using SVD for a 3x3 matrix."
   ]
  },
  {
   "cell_type": "code",
   "execution_count": 65,
   "id": "40087ea8-10ca-42e7-9352-7e10e727a854",
   "metadata": {},
   "outputs": [
    {
     "name": "stdout",
     "output_type": "stream",
     "text": [
      "PCA Transformed:\n",
      " [[-0.4500133  -0.18138628]\n",
      " [ 0.51559552 -0.1199814 ]\n",
      " [-0.06558223  0.30136768]]\n",
      "SVD Transformed:\n",
      " [[-0.4500133  -0.18138628]\n",
      " [ 0.51559552 -0.1199814 ]\n",
      " [-0.06558223  0.30136768]]\n"
     ]
    }
   ],
   "source": [
    "data = np.random.rand(3, 3)\n",
    "pca = PCA(n_components=2)\n",
    "pca_transformed = pca.fit_transform(data)\n",
    "U, S, Vt = np.linalg.svd(data - np.mean(data, axis=0), full_matrices=False)\n",
    "SVD_transformed = np.dot(U[:, :2], np.diag(S[:2]))\n",
    "print(\"PCA Transformed:\\n\", pca_transformed)\n",
    "print(\"SVD Transformed:\\n\", SVD_transformed)"
   ]
  },
  {
   "cell_type": "markdown",
   "id": "daa51a24-8cdf-462b-87a3-7b36f78911d9",
   "metadata": {},
   "source": [
    "#### Use PCA to reduce a 20x4 dataset to 3 dimensions."
   ]
  },
  {
   "cell_type": "code",
   "execution_count": 66,
   "id": "85ad62a0-a23d-4db7-82ad-8c8ae9814f90",
   "metadata": {},
   "outputs": [
    {
     "name": "stdout",
     "output_type": "stream",
     "text": [
      "[[-0.0404417   0.25382376  0.34694718]\n",
      " [-0.41389531 -0.41700773 -0.31641901]\n",
      " [-0.02235466 -0.09318777 -0.05900755]\n",
      " [-0.30894577 -0.04527538  0.06426898]\n",
      " [-0.21544323 -0.18276719 -0.23529391]\n",
      " [ 0.3324777  -0.24627771 -0.35270184]\n",
      " [ 0.3928357  -0.35694787  0.51838654]\n",
      " [ 0.25594579 -0.01170353 -0.2274103 ]\n",
      " [ 0.24520238 -0.3808384   0.12754307]\n",
      " [-0.14487409  0.42122653 -0.15030572]\n",
      " [-0.4105091  -0.18198243  0.33295899]\n",
      " [ 0.12017187 -0.08003832  0.06341057]\n",
      " [ 0.40309724  0.09370061  0.07468291]\n",
      " [-0.38818857  0.11900347  0.26090644]\n",
      " [-0.3848827  -0.13598741 -0.18316057]\n",
      " [ 0.39680465  0.33842319 -0.05188595]\n",
      " [ 0.58549194  0.03749003 -0.11820273]\n",
      " [ 0.07009708  0.13617109 -0.05757075]\n",
      " [-0.4326215   0.21340321  0.02093225]\n",
      " [-0.03996772  0.51877188 -0.05807861]]\n"
     ]
    }
   ],
   "source": [
    "data = np.random.rand(20, 4)\n",
    "pca = PCA(n_components=3)\n",
    "transformed_data = pca.fit_transform(data)\n",
    "print(transformed_data)"
   ]
  },
  {
   "cell_type": "markdown",
   "id": "68709cff-a8fa-46ff-ba42-69aba7cb7ad5",
   "metadata": {},
   "source": [
    "#### Compare PCA and SVD results for a 10x10 matrix."
   ]
  },
  {
   "cell_type": "code",
   "execution_count": 67,
   "id": "b82b5314-e727-47ab-8013-58a70ebf1742",
   "metadata": {},
   "outputs": [
    {
     "name": "stdout",
     "output_type": "stream",
     "text": [
      "PCA Transformed:\n",
      " [[ 0.18660619 -0.37090733  0.46576394]\n",
      " [-0.6512785  -0.70576499 -0.46283885]\n",
      " [-0.97418182 -0.40448515 -0.02081481]\n",
      " [ 0.70512769  0.16548449 -0.35934621]\n",
      " [-0.85622624  0.47638751  0.37766272]\n",
      " [-0.12222244  0.72051919 -0.02119901]\n",
      " [-0.17314579  0.55649952  0.00605035]\n",
      " [ 0.27387394  0.13639437 -0.46260492]\n",
      " [ 1.0798054  -0.0747511   0.07206992]\n",
      " [ 0.53164157 -0.4993765   0.40525688]]\n",
      "SVD Transformed:\n",
      " [[-0.18660619  0.37090733  0.46576394]\n",
      " [ 0.6512785   0.70576499 -0.46283885]\n",
      " [ 0.97418182  0.40448515 -0.02081481]\n",
      " [-0.70512769 -0.16548449 -0.35934621]\n",
      " [ 0.85622624 -0.47638751  0.37766272]\n",
      " [ 0.12222244 -0.72051919 -0.02119901]\n",
      " [ 0.17314579 -0.55649952  0.00605035]\n",
      " [-0.27387394 -0.13639437 -0.46260492]\n",
      " [-1.0798054   0.0747511   0.07206992]\n",
      " [-0.53164157  0.4993765   0.40525688]]\n"
     ]
    }
   ],
   "source": [
    "data = np.random.rand(10, 10)\n",
    "pca = PCA(n_components=3)\n",
    "pca_transformed = pca.fit_transform(data)\n",
    "U, S, Vt = np.linalg.svd(data - np.mean(data, axis=0), full_matrices=False)\n",
    "SVD_transformed = np.dot(U[:, :3], np.diag(S[:3]))\n",
    "print(\"PCA Transformed:\\n\", pca_transformed)\n",
    "print(\"SVD Transformed:\\n\", SVD_transformed)"
   ]
  },
  {
   "cell_type": "markdown",
   "id": "7514987b-4467-46bb-813e-676b64c9bf8e",
   "metadata": {},
   "source": [
    "# Calculus Tasks\n",
    "## Numerical Differentiation\n",
    "### Use NumPy to compute the numerical derivative of a given function:"
   ]
  },
  {
   "cell_type": "markdown",
   "id": "2dd66995-f2f9-494f-9df6-857a40c4ac98",
   "metadata": {},
   "source": [
    "### 1. Forward Difference"
   ]
  },
  {
   "cell_type": "code",
   "execution_count": 68,
   "id": "fb6a66ec-4369-453c-b661-a84088f5b106",
   "metadata": {},
   "outputs": [
    {
     "data": {
      "text/plain": [
       "array([ 3.00001   ,  3.2020302 ,  3.4040504 ,  3.60607061,  3.80809081,\n",
       "        4.01011101,  4.21213121,  4.41415141,  4.61617162,  4.81819182,\n",
       "        5.02021202,  5.22223222,  5.42425242,  5.62627263,  5.82829283,\n",
       "        6.03031303,  6.23233323,  6.43435343,  6.63637364,  6.83839384,\n",
       "        7.04041404,  7.24243424,  7.44445444,  7.64647465,  7.84849485,\n",
       "        8.05051505,  8.25253525,  8.45455545,  8.65657566,  8.85859586,\n",
       "        9.06061606,  9.26263626,  9.46465646,  9.66667667,  9.86869687,\n",
       "       10.07071707, 10.27273727, 10.47475747, 10.67677768, 10.87879788,\n",
       "       11.08081808, 11.28283828, 11.48485848, 11.68687869, 11.88889889,\n",
       "       12.09091909, 12.29293929, 12.49495949, 12.6969797 , 12.8989999 ,\n",
       "       13.1010201 , 13.3030403 , 13.50506051, 13.70708071, 13.90910091,\n",
       "       14.11112111, 14.31314131, 14.51516151, 14.71718172, 14.91920192,\n",
       "       15.12122212, 15.32324232, 15.52526252, 15.72728273, 15.92930293,\n",
       "       16.13132313, 16.33334333, 16.53536354, 16.73738374, 16.93940394,\n",
       "       17.14142414, 17.34344434, 17.54546454, 17.74748475, 17.94950495,\n",
       "       18.15152515, 18.35354535, 18.55556556, 18.75758576, 18.95960596,\n",
       "       19.16162616, 19.36364636, 19.56566657, 19.76768677, 19.96970697,\n",
       "       20.17172717, 20.37374737, 20.57576758, 20.77778778, 20.97980798,\n",
       "       21.18182818, 21.38384838, 21.58586858, 21.78788879, 21.98990899,\n",
       "       22.19192919, 22.39394939, 22.5959696 , 22.7979898 , 23.00001   ])"
      ]
     },
     "execution_count": 68,
     "metadata": {},
     "output_type": "execute_result"
    }
   ],
   "source": [
    "def f(x):\n",
    "    return x**2 + 3*x + 5\n",
    "\n",
    "x = np.linspace(0, 10, 100)\n",
    "h = 1e-5\n",
    "\n",
    "forward_diff = (f(x + h) - f(x)) / h\n",
    "forward_diff"
   ]
  },
  {
   "cell_type": "markdown",
   "id": "acb4e638-7143-42c7-ae0f-4c35a003dcbd",
   "metadata": {},
   "source": [
    "### 2. Backward Difference"
   ]
  },
  {
   "cell_type": "code",
   "execution_count": 69,
   "id": "31365991-3337-49ff-bd29-db9e895186b3",
   "metadata": {},
   "outputs": [
    {
     "data": {
      "text/plain": [
       "array([ 2.99999   ,  3.2020102 ,  3.4040304 ,  3.60605061,  3.80807081,\n",
       "        4.01009101,  4.21211121,  4.41413141,  4.61615162,  4.81817182,\n",
       "        5.02019202,  5.22221222,  5.42423242,  5.62625263,  5.82827283,\n",
       "        6.03029303,  6.23231323,  6.43433343,  6.63635364,  6.83837384,\n",
       "        7.04039404,  7.24241424,  7.44443444,  7.64645465,  7.84847485,\n",
       "        8.05049505,  8.25251525,  8.45453545,  8.65655566,  8.85857586,\n",
       "        9.06059606,  9.26261626,  9.46463646,  9.66665667,  9.86867687,\n",
       "       10.07069707, 10.27271727, 10.47473747, 10.67675768, 10.87877788,\n",
       "       11.08079808, 11.28281828, 11.48483848, 11.68685869, 11.88887889,\n",
       "       12.09089909, 12.29291929, 12.49493949, 12.6969597 , 12.8989799 ,\n",
       "       13.1010001 , 13.3030203 , 13.5050405 , 13.70706071, 13.90908091,\n",
       "       14.11110111, 14.31312131, 14.51514151, 14.71716172, 14.91918192,\n",
       "       15.12120212, 15.32322232, 15.52524252, 15.72726273, 15.92928293,\n",
       "       16.13130313, 16.33332333, 16.53534353, 16.73736374, 16.93938394,\n",
       "       17.14140414, 17.34342434, 17.54544454, 17.74746475, 17.94948495,\n",
       "       18.15150515, 18.35352535, 18.55554555, 18.75756576, 18.95958596,\n",
       "       19.16160616, 19.36362636, 19.56564656, 19.76766677, 19.96968697,\n",
       "       20.17170717, 20.37372737, 20.57574757, 20.77776778, 20.97978798,\n",
       "       21.18180818, 21.38382838, 21.58584859, 21.78786879, 21.98988899,\n",
       "       22.19190919, 22.39392939, 22.59594959, 22.7979698 , 22.99999   ])"
      ]
     },
     "execution_count": 69,
     "metadata": {},
     "output_type": "execute_result"
    }
   ],
   "source": [
    "backward_diff = (f(x) - f(x - h)) / h\n",
    "backward_diff"
   ]
  },
  {
   "cell_type": "markdown",
   "id": "e0a15ff0-7881-4971-9c8f-a0dc272374c9",
   "metadata": {},
   "source": [
    "### 3. Central Difference\n"
   ]
  },
  {
   "cell_type": "code",
   "execution_count": 70,
   "id": "3acf394e-4b6c-423e-bb33-6454f7b96675",
   "metadata": {},
   "outputs": [
    {
     "data": {
      "text/plain": [
       "array([ 3.        ,  3.2020202 ,  3.4040404 ,  3.60606061,  3.80808081,\n",
       "        4.01010101,  4.21212121,  4.41414141,  4.61616162,  4.81818182,\n",
       "        5.02020202,  5.22222222,  5.42424242,  5.62626263,  5.82828283,\n",
       "        6.03030303,  6.23232323,  6.43434343,  6.63636364,  6.83838384,\n",
       "        7.04040404,  7.24242424,  7.44444444,  7.64646465,  7.84848485,\n",
       "        8.05050505,  8.25252525,  8.45454545,  8.65656566,  8.85858586,\n",
       "        9.06060606,  9.26262626,  9.46464646,  9.66666667,  9.86868687,\n",
       "       10.07070707, 10.27272727, 10.47474747, 10.67676768, 10.87878788,\n",
       "       11.08080808, 11.28282828, 11.48484848, 11.68686869, 11.88888889,\n",
       "       12.09090909, 12.29292929, 12.49494949, 12.6969697 , 12.8989899 ,\n",
       "       13.1010101 , 13.3030303 , 13.5050505 , 13.70707071, 13.90909091,\n",
       "       14.11111111, 14.31313131, 14.51515151, 14.71717172, 14.91919192,\n",
       "       15.12121212, 15.32323232, 15.52525252, 15.72727273, 15.92929293,\n",
       "       16.13131313, 16.33333333, 16.53535354, 16.73737374, 16.93939394,\n",
       "       17.14141414, 17.34343434, 17.54545454, 17.74747475, 17.94949495,\n",
       "       18.15151515, 18.35353535, 18.55555556, 18.75757576, 18.95959596,\n",
       "       19.16161616, 19.36363636, 19.56565657, 19.76767677, 19.96969697,\n",
       "       20.17171717, 20.37373737, 20.57575757, 20.77777778, 20.97979798,\n",
       "       21.18181818, 21.38383838, 21.58585858, 21.78787879, 21.98989899,\n",
       "       22.19191919, 22.39393939, 22.5959596 , 22.7979798 , 23.        ])"
      ]
     },
     "execution_count": 70,
     "metadata": {},
     "output_type": "execute_result"
    }
   ],
   "source": [
    "central_diff = (f(x + h) - f(x - h)) / (2 * h)\n",
    "central_diff"
   ]
  },
  {
   "cell_type": "markdown",
   "id": "8c478812-cef6-46c6-9423-17cf478f3584",
   "metadata": {},
   "source": [
    "### Practice Problems:\n",
    "\n",
    "#### Compute the forward difference derivative for  f(x)=x^3 at x=2"
   ]
  },
  {
   "cell_type": "code",
   "execution_count": 71,
   "id": "6316dc56-564a-4149-8706-a59cca4a4350",
   "metadata": {},
   "outputs": [
    {
     "name": "stdout",
     "output_type": "stream",
     "text": [
      "12.000060000261213\n"
     ]
    }
   ],
   "source": [
    "h = 1e-5\n",
    "x = 2\n",
    "forward_diff = ((x + h)**3 - x**3) / h\n",
    "print(forward_diff)"
   ]
  },
  {
   "cell_type": "markdown",
   "id": "ebc0245a-4e5f-433e-8815-e1b31a6b1250",
   "metadata": {},
   "source": [
    "#### Compute the backward difference derivative for f(x)=sin(x) at x=π/4."
   ]
  },
  {
   "cell_type": "code",
   "execution_count": 72,
   "id": "a2c39976-e42c-4df7-81dd-947d134ee766",
   "metadata": {},
   "outputs": [
    {
     "name": "stdout",
     "output_type": "stream",
     "text": [
      "0.7071103167111125\n"
     ]
    }
   ],
   "source": [
    "h = 1e-5\n",
    "x = np.pi / 4\n",
    "backward_diff = (np.sin(x) - np.sin(x - h)) / h\n",
    "print(backward_diff)"
   ]
  },
  {
   "cell_type": "markdown",
   "id": "e20b68a4-0f4c-491f-8136-2ff6d6d8854d",
   "metadata": {},
   "source": [
    "#### Compute the central difference derivative for f(x)=e^x at x=1."
   ]
  },
  {
   "cell_type": "code",
   "execution_count": 73,
   "id": "aed79902-4935-4c60-b029-2d14169fb9bc",
   "metadata": {},
   "outputs": [
    {
     "name": "stdout",
     "output_type": "stream",
     "text": [
      "2.718281828517632\n"
     ]
    }
   ],
   "source": [
    "h = 1e-5\n",
    "x = 1\n",
    "central_diff = (np.exp(x + h) - np.exp(x - h)) / (2 * h)\n",
    "print(central_diff)"
   ]
  },
  {
   "cell_type": "markdown",
   "id": "8c5eaaeb-3510-4720-959f-9019206ff009",
   "metadata": {},
   "source": [
    "#### Calculate the numerical derivative for f(x)=ln(x) using the forward difference method at x=2."
   ]
  },
  {
   "cell_type": "code",
   "execution_count": 74,
   "id": "691dab00-9c6c-4964-a6ed-750b477aac08",
   "metadata": {},
   "outputs": [
    {
     "name": "stdout",
     "output_type": "stream",
     "text": [
      "0.49999875001427435\n"
     ]
    }
   ],
   "source": [
    "h = 1e-5\n",
    "x = 2\n",
    "forward_diff = (np.log(x + h) - np.log(x)) / h\n",
    "print(forward_diff)"
   ]
  },
  {
   "cell_type": "markdown",
   "id": "02095ded-1a52-475b-91dd-5fdde698d8d1",
   "metadata": {},
   "source": [
    "#### Calculate the numerical derivative for f(x)=cos(x) using the central difference method at x=0."
   ]
  },
  {
   "cell_type": "code",
   "execution_count": 75,
   "id": "a741ee75-d100-4c53-9c3b-6f9b2c173065",
   "metadata": {},
   "outputs": [
    {
     "name": "stdout",
     "output_type": "stream",
     "text": [
      "0.0\n"
     ]
    }
   ],
   "source": [
    "h = 1e-5\n",
    "x = 0\n",
    "central_diff = (np.cos(x + h) - np.cos(x - h)) / (2 * h)\n",
    "print(central_diff)"
   ]
  },
  {
   "cell_type": "markdown",
   "id": "2bea82d3-3fc4-4230-b4f1-c99183b87a58",
   "metadata": {},
   "source": [
    "## Numerical Integration\n",
    "\n",
    "### Trapezoidal Rule\n",
    "The trapezoidal rule estimates the integral by approximating the region under the curve as a series of trapezoids."
   ]
  },
  {
   "cell_type": "code",
   "execution_count": 76,
   "id": "944d9bf9-3da2-46f9-b81c-05d4ffd449dd",
   "metadata": {},
   "outputs": [
    {
     "name": "stdout",
     "output_type": "stream",
     "text": [
      "The integral of sin(x) from 0 to 3.141592653589793 is approximately: 1.9998355038874436\n"
     ]
    }
   ],
   "source": [
    "def f(x):\n",
    "    return np.sin(x)\n",
    "\n",
    "a = 0  # Lower limit\n",
    "b = np.pi  # Upper limit\n",
    "n = 100  # Number of subintervals\n",
    "h = (b - a) / n\n",
    "\n",
    "x = np.linspace(a, b, n + 1)\n",
    "y = f(x)\n",
    "integral = (y[0] + y[n]) / 2  # First and last terms\n",
    "for i in range(1, n):\n",
    "    integral += y[i]\n",
    "integral *= h\n",
    "print(f\"The integral of sin(x) from {a} to {b} is approximately: {integral}\")"
   ]
  },
  {
   "cell_type": "markdown",
   "id": "9834a176-5728-4478-848b-a343ea212256",
   "metadata": {},
   "source": [
    "### Simpson's Rule\n",
    "Simpson's rule approximates the integral by fitting parabolas through the data points."
   ]
  },
  {
   "cell_type": "code",
   "execution_count": 77,
   "id": "af1dc816-2ee1-4229-b454-b986b695191c",
   "metadata": {},
   "outputs": [
    {
     "name": "stdout",
     "output_type": "stream",
     "text": [
      "The integral of sin(x) from 0 to 3.141592653589793 is approximately: 2.0000000108245044\n"
     ]
    }
   ],
   "source": [
    "#function to integrate\n",
    "def f(x):\n",
    "    return np.sin(x)\n",
    "\n",
    "a = 0  # Lower limit\n",
    "b = np.pi  # Upper limit\n",
    "n = 100  # Number of subintervals (must be even)\n",
    "if n % 2 != 0:\n",
    "    raise ValueError(\"Number of subintervals n must be even.\")\n",
    "\n",
    "h = (b - a) / n\n",
    "x = np.linspace(a, b, n + 1)\n",
    "y = f(x)\n",
    "\n",
    "integral = y[0] + y[n]  # First and last terms\n",
    "for i in range(1, n, 2):  # Odd indices\n",
    "    integral += 4 * y[i]\n",
    "for i in range(2, n - 1, 2):  # Even indices\n",
    "    integral += 2 * y[i]\n",
    "integral *= h / 3\n",
    "print(f\"The integral of sin(x) from {a} to {b} is approximately: {integral}\")"
   ]
  },
  {
   "cell_type": "markdown",
   "id": "f1b714db-f1bb-4ed2-8398-973f1e36d95e",
   "metadata": {},
   "source": [
    "### Practice Problems:\n",
    "\n",
    "#### Compute the numerical integral of f(x)=x^2 from 0 to 2 using the trapezoidal rule."
   ]
  },
  {
   "cell_type": "code",
   "execution_count": 78,
   "id": "c4045d86-0275-45b7-884f-1404c625f8ef",
   "metadata": {},
   "outputs": [
    {
     "name": "stdout",
     "output_type": "stream",
     "text": [
      "The integral of x^2 from 0 to 2 is approximately: 2.6668000000000003\n"
     ]
    }
   ],
   "source": [
    "def f(x):\n",
    "    return x**2\n",
    "\n",
    "a = 0\n",
    "b = 2\n",
    "n = 100\n",
    "\n",
    "h = (b - a) / n\n",
    "x = np.linspace(a, b, n + 1)\n",
    "y = f(x)\n",
    "\n",
    "integral = (y[0] + y[n]) / 2\n",
    "for i in range(1, n):\n",
    "    integral += y[i]\n",
    "\n",
    "integral *= h\n",
    "\n",
    "print(f\"The integral of x^2 from {a} to {b} is approximately: {integral}\")"
   ]
  },
  {
   "cell_type": "markdown",
   "id": "6c679b42-8787-4949-81c6-7cc9a494bae1",
   "metadata": {},
   "source": [
    "#### Compute the numerical integral of f(x)=sin(x) from 0 to π using Simpson's rule."
   ]
  },
  {
   "cell_type": "code",
   "execution_count": 79,
   "id": "8e0f4dd8-b913-455c-916e-dbcda58b9185",
   "metadata": {},
   "outputs": [
    {
     "name": "stdout",
     "output_type": "stream",
     "text": [
      "The integral of sin(x) from 0 to 3.141592653589793 is approximately: 2.0000000108245044\n"
     ]
    }
   ],
   "source": [
    "def f(x):\n",
    "    return np.sin(x)\n",
    "\n",
    "a = 0\n",
    "b = np.pi\n",
    "n = 100\n",
    "\n",
    "if n % 2 != 0:\n",
    "    raise ValueError(\"Number of subintervals n must be even.\")\n",
    "\n",
    "h = (b - a) / n\n",
    "x = np.linspace(a, b, n + 1)\n",
    "y = f(x)\n",
    "\n",
    "integral = y[0] + y[n]\n",
    "for i in range(1, n, 2):\n",
    "    integral += 4 * y[i]\n",
    "for i in range(2, n - 1, 2):\n",
    "    integral += 2 * y[i]\n",
    "\n",
    "integral *= h / 3\n",
    "\n",
    "print(f\"The integral of sin(x) from {a} to {b} is approximately: {integral}\")"
   ]
  },
  {
   "cell_type": "markdown",
   "id": "a21153ec-ae6e-4c82-87cc-f6699b588059",
   "metadata": {},
   "source": [
    "#### Calculate the integral of f(x)=e^x from 1 to 3 using the trapezoidal rule."
   ]
  },
  {
   "cell_type": "code",
   "execution_count": 80,
   "id": "0dea5387-55a2-4e4b-8a68-734f2af8deb0",
   "metadata": {},
   "outputs": [
    {
     "name": "stdout",
     "output_type": "stream",
     "text": [
      "The integral of e^x from 1 to 3 is approximately: 17.367833999372426\n"
     ]
    }
   ],
   "source": [
    "def f(x):\n",
    "    return np.exp(x)\n",
    "\n",
    "a = 1\n",
    "b = 3\n",
    "n = 100\n",
    "\n",
    "h = (b - a) / n\n",
    "x = np.linspace(a, b, n + 1)\n",
    "y = f(x)\n",
    "\n",
    "integral = (y[0] + y[n]) / 2\n",
    "for i in range(1, n):\n",
    "    integral += y[i]\n",
    "\n",
    "integral *= h\n",
    "\n",
    "print(f\"The integral of e^x from {a} to {b} is approximately: {integral}\")"
   ]
  },
  {
   "cell_type": "markdown",
   "id": "be710b3c-1cd1-44d9-b67a-15a5e09d0c33",
   "metadata": {},
   "source": [
    "#### Calculate the integral of f(x)=ln(x) from 1 to 2 using Simpson's rule."
   ]
  },
  {
   "cell_type": "code",
   "execution_count": 81,
   "id": "710250c2-ab55-4db7-8ffa-fca3d74e4af8",
   "metadata": {},
   "outputs": [
    {
     "name": "stdout",
     "output_type": "stream",
     "text": [
      "The integral of ln(x) from 1 to 2 is approximately: 0.38629436102268383\n"
     ]
    }
   ],
   "source": [
    "def f(x):\n",
    "    return np.log(x)\n",
    "\n",
    "a = 1\n",
    "b = 2\n",
    "n = 100\n",
    "\n",
    "if n % 2 != 0:\n",
    "    raise ValueError(\"Number of subintervals n must be even.\")\n",
    "\n",
    "h = (b - a) / n\n",
    "x = np.linspace(a, b, n + 1)\n",
    "y = f(x)\n",
    "\n",
    "integral = y[0] + y[n]\n",
    "for i in range(1, n, 2):\n",
    "    integral += 4 * y[i]\n",
    "for i in range(2, n - 1, 2):\n",
    "    integral += 2 * y[i]\n",
    "\n",
    "integral *= h / 3\n",
    "\n",
    "print(f\"The integral of ln(x) from {a} to {b} is approximately: {integral}\")"
   ]
  },
  {
   "cell_type": "markdown",
   "id": "ec3e4213-fd5f-4b9d-a4d8-a8b01d6060ac",
   "metadata": {},
   "source": [
    "#### Compute the numerical integral of f(x)=cos(x) from 0 to π/2 using the trapezoidal rule."
   ]
  },
  {
   "cell_type": "code",
   "execution_count": 82,
   "id": "0616b058-9a0d-411f-988a-4c3fc4fc465d",
   "metadata": {},
   "outputs": [
    {
     "name": "stdout",
     "output_type": "stream",
     "text": [
      "0.999999793971382\n"
     ]
    }
   ],
   "source": [
    "def f(x):\n",
    "    return np.cos(x)\n",
    "a, b = 0, np.pi / 2\n",
    "x = np.linspace(a, b, 1000)\n",
    "y = f(x)\n",
    "integral = np.trapz(y, x)\n",
    "print(integral)"
   ]
  },
  {
   "cell_type": "markdown",
   "id": "f7aecac5-bb50-4a5e-a5e9-8fc293ee1da6",
   "metadata": {},
   "source": [
    "## Partial Derivatives\n",
    "Partial derivatives involve differentiating a multivariable function with respect to one variable, holding the other variables constant.\n",
    "\n",
    "f(x,y)=x^2 +y^2 at (x,y)=(1,2)."
   ]
  },
  {
   "cell_type": "code",
   "execution_count": 83,
   "id": "de23e871-806d-4525-9cd1-e8d69ad38130",
   "metadata": {},
   "outputs": [
    {
     "name": "stdout",
     "output_type": "stream",
     "text": [
      "2.00001000001393 4.000010000027032\n"
     ]
    }
   ],
   "source": [
    "def f(x, y):\n",
    "    return x**2 + y**2\n",
    "\n",
    "x, y = 1, 2\n",
    "h = 1e-5\n",
    "df_dx = (f(x + h, y) - f(x, y)) / h\n",
    "df_dy = (f(x, y + h) - f(x, y)) / h\n",
    "print(df_dx, df_dy)"
   ]
  },
  {
   "cell_type": "markdown",
   "id": "6c1b1d50-5b67-49c5-9963-1b0adabad4a0",
   "metadata": {},
   "source": [
    "#### Calculate the partial derivatives of f(x,y)=x^2+y^2 at (x,y)=(1,2)."
   ]
  },
  {
   "cell_type": "code",
   "execution_count": 84,
   "id": "2d889031-df76-4dcb-a582-b8babab8b685",
   "metadata": {},
   "outputs": [
    {
     "name": "stdout",
     "output_type": "stream",
     "text": [
      "2.00001000001393 4.000010000027032\n"
     ]
    }
   ],
   "source": [
    "def f(x, y):\n",
    "    return x**2 + y**2\n",
    "x, y = 1, 2\n",
    "h = 1e-5\n",
    "df_dx = (f(x + h, y) - f(x, y)) / h\n",
    "df_dy = (f(x, y + h) - f(x, y)) / h\n",
    "print(df_dx, df_dy)"
   ]
  },
  {
   "cell_type": "markdown",
   "id": "54196236-4cf6-4e28-b25b-74768987018d",
   "metadata": {},
   "source": [
    "#### Compute the partial derivatives of f(x,y)=sin(x)cos(y) at (x,y)=(π/4,π/4)."
   ]
  },
  {
   "cell_type": "code",
   "execution_count": 85,
   "id": "4b6c4354-7850-42d8-851f-f88958f1e19a",
   "metadata": {},
   "outputs": [
    {
     "name": "stdout",
     "output_type": "stream",
     "text": [
      "0.49999749998086424 -0.5000024999979313\n"
     ]
    }
   ],
   "source": [
    "def f(x, y):\n",
    "    return np.sin(x) * np.cos(y)\n",
    "x, y = np.pi / 4, np.pi / 4\n",
    "h = 1e-5\n",
    "df_dx = (f(x + h, y) - f(x, y)) / h\n",
    "df_dy = (f(x, y + h) - f(x, y)) / h\n",
    "print(df_dx, df_dy)"
   ]
  },
  {
   "cell_type": "markdown",
   "id": "4b8fd609-c25b-43a6-a0cc-cdd750f9e8b4",
   "metadata": {},
   "source": [
    "#### Calculate the partial derivatives of f(x,y)=e^x+y at (x,y)=(0,0)."
   ]
  },
  {
   "cell_type": "code",
   "execution_count": 86,
   "id": "175e132e-72d0-4828-adcd-e226784cba03",
   "metadata": {},
   "outputs": [
    {
     "name": "stdout",
     "output_type": "stream",
     "text": [
      "1.000005000006965 1.000005000006965\n"
     ]
    }
   ],
   "source": [
    "def f(x, y):\n",
    "    return np.exp(x + y)\n",
    "x, y = 0, 0\n",
    "h = 1e-5\n",
    "df_dx = (f(x + h, y) - f(x, y)) / h\n",
    "df_dy = (f(x, y + h) - f(x, y)) / h\n",
    "print(df_dx, df_dy)"
   ]
  },
  {
   "cell_type": "markdown",
   "id": "fb1fe88c-9c78-4e03-82e2-8c8219a615ea",
   "metadata": {},
   "source": [
    "## Optimization\n",
    "Optimization involves finding the minimum or maximum of a function. Using scipy.optimize.minimize, we can solve optimization problems with constraints.\n",
    "\n",
    "f(x)=x^2+3x+2."
   ]
  },
  {
   "cell_type": "code",
   "execution_count": 87,
   "id": "1275f57f-d4d3-49c2-9713-a3824b1c2094",
   "metadata": {},
   "outputs": [
    {
     "name": "stdout",
     "output_type": "stream",
     "text": [
      "[-1.50000001]\n"
     ]
    }
   ],
   "source": [
    "from scipy.optimize import minimize\n",
    "\n",
    "def f(x):\n",
    "    return x**2 + 3*x + 2\n",
    "\n",
    "result = minimize(f, 0)\n",
    "print(result.x)"
   ]
  },
  {
   "cell_type": "markdown",
   "id": "aea12fe2-9ba7-49db-aca1-41781359bc98",
   "metadata": {},
   "source": [
    "### Practice Problems:\n",
    "\n",
    "#### Find the minimum of f(x)=x^2+3x+2."
   ]
  },
  {
   "cell_type": "code",
   "execution_count": 88,
   "id": "18df6770-430d-4118-9d68-18d0cdbd91cd",
   "metadata": {},
   "outputs": [
    {
     "name": "stdout",
     "output_type": "stream",
     "text": [
      "[-1.50000001]\n"
     ]
    }
   ],
   "source": [
    "from scipy.optimize import minimize\n",
    "def f(x):\n",
    "    return x**2 + 3*x + 2\n",
    "result = minimize(f, 0)\n",
    "print(result.x)"
   ]
  },
  {
   "cell_type": "markdown",
   "id": "4b4e9281-c65b-4962-bf90-dfee17067175",
   "metadata": {},
   "source": [
    "#### Minimize f(x,y)=(x−1)^ 2+ (y−2)^2 with initial guess (0, 0)."
   ]
  },
  {
   "cell_type": "code",
   "execution_count": 89,
   "id": "41bc2ddc-7c3a-44f2-8b18-5c7bc657b3c9",
   "metadata": {},
   "outputs": [
    {
     "name": "stdout",
     "output_type": "stream",
     "text": [
      "[0.99999999 1.99999999]\n"
     ]
    }
   ],
   "source": [
    "def f(x):\n",
    "    return (x[0] - 1)**2 + (x[1] - 2)**2\n",
    "result = minimize(f, [0, 0])\n",
    "print(result.x)"
   ]
  },
  {
   "cell_type": "markdown",
   "id": "9c491a3b-6e3f-49c0-bd8c-926f0bfb0c37",
   "metadata": {},
   "source": [
    "#### Find the minimum of f(x)=sin(x)+cos(x) within the interval [0, 2π]."
   ]
  },
  {
   "cell_type": "code",
   "execution_count": 90,
   "id": "3ea07e0b-7316-4e35-82b0-4a691c491f55",
   "metadata": {},
   "outputs": [
    {
     "name": "stdout",
     "output_type": "stream",
     "text": [
      "[3.92699082]\n"
     ]
    }
   ],
   "source": [
    "def f(x):\n",
    "    return np.sin(x) + np.cos(x)\n",
    "result = minimize(f, np.pi, bounds=[(0, 2*np.pi)])\n",
    "print(result.x)"
   ]
  }
 ],
 "metadata": {
  "kernelspec": {
   "display_name": "Python 3 (ipykernel)",
   "language": "python",
   "name": "python3"
  },
  "language_info": {
   "codemirror_mode": {
    "name": "ipython",
    "version": 3
   },
   "file_extension": ".py",
   "mimetype": "text/x-python",
   "name": "python",
   "nbconvert_exporter": "python",
   "pygments_lexer": "ipython3",
   "version": "3.11.7"
  }
 },
 "nbformat": 4,
 "nbformat_minor": 5
}
