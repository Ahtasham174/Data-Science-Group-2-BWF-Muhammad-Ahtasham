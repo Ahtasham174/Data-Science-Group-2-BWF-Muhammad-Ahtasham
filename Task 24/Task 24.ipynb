{
 "cells": [
  {
   "cell_type": "markdown",
   "id": "4513d6e8-431e-4c50-bec0-a77be3bdbef2",
   "metadata": {},
   "source": [
    "# Task 24-> Evaluation Techniques for Regression Models\n"
   ]
  },
  {
   "cell_type": "markdown",
   "id": "20575463-bb45-4cb2-abd3-ebb018c4e476",
   "metadata": {},
   "source": [
    "## Importing Libraries"
   ]
  },
  {
   "cell_type": "code",
   "execution_count": 1,
   "id": "a8bd2247-7457-40f0-8fa9-be113ea259ed",
   "metadata": {},
   "outputs": [],
   "source": [
    "import numpy as np\n",
    "import pandas as pd\n",
    "import matplotlib.pyplot as plt\n",
    "from sklearn.model_selection import train_test_split\n",
    "from sklearn.preprocessing import StandardScaler\n",
    "from sklearn.linear_model import LinearRegression, HuberRegressor\n",
    "from sklearn.metrics import mean_absolute_error, mean_squared_error, r2_score, explained_variance_score, mean_squared_log_error, median_absolute_error, mean_absolute_percentage_error as mape"
   ]
  },
  {
   "cell_type": "markdown",
   "id": "f67b11b6-d793-459c-ac00-76c2dabaabae",
   "metadata": {},
   "source": [
    "## Dataset with 10 features\n"
   ]
  },
  {
   "cell_type": "code",
   "execution_count": 2,
   "id": "3800f086-7d03-41d3-a5d7-8f5ea31c9703",
   "metadata": {},
   "outputs": [],
   "source": [
    "np.random.seed(0)\n",
    "data = {\n",
    "    'Feature1': np.random.randint(1, 100, 100),\n",
    "    'Feature2': np.random.rand(100) * 10,\n",
    "    'Feature3': np.random.rand(100) * 20,\n",
    "    'Feature4': np.random.randint(1, 50, 100),\n",
    "    'Feature5': np.random.rand(100) * 30,\n",
    "    'Feature6': np.random.randint(10, 100, 100),\n",
    "    'Feature7': np.random.rand(100) * 40,\n",
    "    'Feature8': np.random.rand(100) * 50,\n",
    "    'Feature9': np.random.randint(5, 60, 100),\n",
    "    'Feature10': np.random.rand(100) * 60,\n",
    "    'Target': np.random.rand(100) * 100\n",
    "}\n",
    "df = pd.DataFrame(data)"
   ]
  },
  {
   "cell_type": "markdown",
   "id": "30afddfa-a2f3-4230-a880-70fa5182d7fc",
   "metadata": {},
   "source": [
    "## First 5 rows of datset"
   ]
  },
  {
   "cell_type": "code",
   "execution_count": 3,
   "id": "b2e6f210-94f9-43bd-a7e9-fd8eb755f814",
   "metadata": {},
   "outputs": [
    {
     "data": {
      "text/html": [
       "<div>\n",
       "<style scoped>\n",
       "    .dataframe tbody tr th:only-of-type {\n",
       "        vertical-align: middle;\n",
       "    }\n",
       "\n",
       "    .dataframe tbody tr th {\n",
       "        vertical-align: top;\n",
       "    }\n",
       "\n",
       "    .dataframe thead th {\n",
       "        text-align: right;\n",
       "    }\n",
       "</style>\n",
       "<table border=\"1\" class=\"dataframe\">\n",
       "  <thead>\n",
       "    <tr style=\"text-align: right;\">\n",
       "      <th></th>\n",
       "      <th>Feature1</th>\n",
       "      <th>Feature2</th>\n",
       "      <th>Feature3</th>\n",
       "      <th>Feature4</th>\n",
       "      <th>Feature5</th>\n",
       "      <th>Feature6</th>\n",
       "      <th>Feature7</th>\n",
       "      <th>Feature8</th>\n",
       "      <th>Feature9</th>\n",
       "      <th>Feature10</th>\n",
       "      <th>Target</th>\n",
       "    </tr>\n",
       "  </thead>\n",
       "  <tbody>\n",
       "    <tr>\n",
       "      <th>0</th>\n",
       "      <td>45</td>\n",
       "      <td>9.495711</td>\n",
       "      <td>0.332559</td>\n",
       "      <td>14</td>\n",
       "      <td>15.280262</td>\n",
       "      <td>72</td>\n",
       "      <td>20.998818</td>\n",
       "      <td>34.017433</td>\n",
       "      <td>19</td>\n",
       "      <td>14.861101</td>\n",
       "      <td>14.031602</td>\n",
       "    </tr>\n",
       "    <tr>\n",
       "      <th>1</th>\n",
       "      <td>48</td>\n",
       "      <td>6.625269</td>\n",
       "      <td>4.614847</td>\n",
       "      <td>8</td>\n",
       "      <td>2.591309</td>\n",
       "      <td>82</td>\n",
       "      <td>30.023801</td>\n",
       "      <td>3.160381</td>\n",
       "      <td>23</td>\n",
       "      <td>19.094011</td>\n",
       "      <td>35.899528</td>\n",
       "    </tr>\n",
       "    <tr>\n",
       "      <th>2</th>\n",
       "      <td>65</td>\n",
       "      <td>0.135716</td>\n",
       "      <td>15.298234</td>\n",
       "      <td>17</td>\n",
       "      <td>19.801196</td>\n",
       "      <td>81</td>\n",
       "      <td>13.340299</td>\n",
       "      <td>30.362469</td>\n",
       "      <td>30</td>\n",
       "      <td>51.526648</td>\n",
       "      <td>93.711704</td>\n",
       "    </tr>\n",
       "    <tr>\n",
       "      <th>3</th>\n",
       "      <td>68</td>\n",
       "      <td>6.228461</td>\n",
       "      <td>18.882470</td>\n",
       "      <td>23</td>\n",
       "      <td>6.197838</td>\n",
       "      <td>55</td>\n",
       "      <td>36.966351</td>\n",
       "      <td>23.882325</td>\n",
       "      <td>49</td>\n",
       "      <td>27.510190</td>\n",
       "      <td>92.330531</td>\n",
       "    </tr>\n",
       "    <tr>\n",
       "      <th>4</th>\n",
       "      <td>68</td>\n",
       "      <td>6.736596</td>\n",
       "      <td>14.999985</td>\n",
       "      <td>16</td>\n",
       "      <td>25.418260</td>\n",
       "      <td>15</td>\n",
       "      <td>34.492742</td>\n",
       "      <td>14.199999</td>\n",
       "      <td>8</td>\n",
       "      <td>26.675237</td>\n",
       "      <td>28.283685</td>\n",
       "    </tr>\n",
       "  </tbody>\n",
       "</table>\n",
       "</div>"
      ],
      "text/plain": [
       "   Feature1  Feature2   Feature3  Feature4   Feature5  Feature6   Feature7  \\\n",
       "0        45  9.495711   0.332559        14  15.280262        72  20.998818   \n",
       "1        48  6.625269   4.614847         8   2.591309        82  30.023801   \n",
       "2        65  0.135716  15.298234        17  19.801196        81  13.340299   \n",
       "3        68  6.228461  18.882470        23   6.197838        55  36.966351   \n",
       "4        68  6.736596  14.999985        16  25.418260        15  34.492742   \n",
       "\n",
       "    Feature8  Feature9  Feature10     Target  \n",
       "0  34.017433        19  14.861101  14.031602  \n",
       "1   3.160381        23  19.094011  35.899528  \n",
       "2  30.362469        30  51.526648  93.711704  \n",
       "3  23.882325        49  27.510190  92.330531  \n",
       "4  14.199999         8  26.675237  28.283685  "
      ]
     },
     "execution_count": 3,
     "metadata": {},
     "output_type": "execute_result"
    }
   ],
   "source": [
    "df.head()"
   ]
  },
  {
   "cell_type": "markdown",
   "id": "4af74135-4823-4f31-9d56-eb90dde75097",
   "metadata": {},
   "source": [
    "## Split the data into features and target\n"
   ]
  },
  {
   "cell_type": "code",
   "execution_count": 4,
   "id": "7e10dd6a-5463-46c0-9113-1e95c775e9e6",
   "metadata": {},
   "outputs": [
    {
     "name": "stdout",
     "output_type": "stream",
     "text": [
      "Features:\n",
      "     Feature1  Feature2   Feature3  Feature4   Feature5  Feature6   Feature7  \\\n",
      "0         45  9.495711   0.332559        14  15.280262        72  20.998818   \n",
      "1         48  6.625269   4.614847         8   2.591309        82  30.023801   \n",
      "2         65  0.135716  15.298234        17  19.801196        81  13.340299   \n",
      "3         68  6.228461  18.882470        23   6.197838        55  36.966351   \n",
      "4         68  6.736596  14.999985        16  25.418260        15  34.492742   \n",
      "..       ...       ...        ...       ...        ...       ...        ...   \n",
      "95        86  9.825750   5.738301         9  19.200725        28  18.825958   \n",
      "96        49  3.732908  13.545266        21  11.043072        35  15.129807   \n",
      "97        50  4.200754   1.260766         8   9.382599        34  39.181077   \n",
      "98        70  0.505881  11.112985         4  24.055085        49   6.986335   \n",
      "99        42  3.654961   0.184801        22   2.113416        38  13.119520   \n",
      "\n",
      "     Feature8  Feature9  Feature10  \n",
      "0   34.017433        19  14.861101  \n",
      "1    3.160381        23  19.094011  \n",
      "2   30.362469        30  51.526648  \n",
      "3   23.882325        49  27.510190  \n",
      "4   14.199999         8  26.675237  \n",
      "..        ...       ...        ...  \n",
      "95   0.956145        12  41.649471  \n",
      "96  25.907491        32  55.170444  \n",
      "97  42.138843        29  42.627346  \n",
      "98  18.660798        29  10.620347  \n",
      "99  11.143191        17  29.011088  \n",
      "\n",
      "[100 rows x 10 columns]\n",
      "\n",
      "Target:\n",
      " 0     14.031602\n",
      "1     35.899528\n",
      "2     93.711704\n",
      "3     92.330531\n",
      "4     28.283685\n",
      "        ...    \n",
      "95    29.084091\n",
      "96    17.979529\n",
      "97    34.550566\n",
      "98    48.006089\n",
      "99    52.217587\n",
      "Name: Target, Length: 100, dtype: float64\n"
     ]
    }
   ],
   "source": [
    "X = df.drop('Target', axis=1)\n",
    "y = df['Target']\n",
    "print(\"Features:\\n\",X)\n",
    "print(\"\\nTarget:\\n\",y)"
   ]
  },
  {
   "cell_type": "markdown",
   "id": "cb95986d-b332-4d4f-882a-fe4fdc22cc8b",
   "metadata": {},
   "source": [
    "## Splitting dataset\n"
   ]
  },
  {
   "cell_type": "code",
   "execution_count": 5,
   "id": "f689b125-bd0f-4d19-8730-90a49b46c70b",
   "metadata": {},
   "outputs": [],
   "source": [
    "X_train, X_test, y_train, y_test = train_test_split(X, y, test_size=0.2, random_state=0)"
   ]
  },
  {
   "cell_type": "markdown",
   "id": "09ec72eb-de3f-438f-89b3-e3dde0a4270f",
   "metadata": {},
   "source": [
    "## Scale the features\n"
   ]
  },
  {
   "cell_type": "code",
   "execution_count": 6,
   "id": "1088a079-1113-4009-8bff-8a8167623f76",
   "metadata": {},
   "outputs": [
    {
     "data": {
      "text/plain": [
       "array([[-1.05739127, -1.82378401, -1.05066488,  1.06383179,  0.26725801,\n",
       "         0.4631099 , -1.49111215, -0.53673466,  2.20163814, -1.33283588],\n",
       "       [ 1.08126015,  1.46292215,  0.68715932, -1.31626646, -0.31160572,\n",
       "        -0.52118319, -1.5859666 ,  1.68414222,  1.98900508, -0.01761941],\n",
       "       [ 0.6229777 , -1.80831056,  0.83319474, -0.45077618,  0.69632201,\n",
       "         0.97494231, -0.6765815 ,  0.43100637,  0.21706292,  1.35047569],\n",
       "       [-0.44634801,  0.30218286, -0.00283351,  1.49657693,  1.87676271,\n",
       "         1.17180092, -0.42023792, -1.31898705,  1.28022821,  1.40589863],\n",
       "       [-1.28653249, -1.0458552 ,  0.9786762 ,  1.20808017, -1.44897209,\n",
       "         0.06939266,  1.16869072,  0.1805651 , -0.84610238,  0.56532748],\n",
       "       [ 1.19583076, -1.34427958, -1.61929883, -1.09989389,  1.30531034,\n",
       "        -0.71804181,  1.54141084, -0.43131917, -0.49171395,  0.9194405 ],\n",
       "       [-0.3317774 ,  1.37418477, -0.06995054,  0.05409314,  1.48710489,\n",
       "         0.4631099 ,  0.46748979, -0.31680442,  2.20163814,  1.57745111],\n",
       "       [ 1.6541132 ,  1.69902559, -1.04217424, -1.53263902, -1.29799536,\n",
       "         1.60488988, -0.78833502,  0.59543005, -0.70434701, -1.28583625],\n",
       "       [-1.82119535,  1.68600953, -0.66779585,  0.3425899 , -1.08791629,\n",
       "         0.06939266, -1.02957493, -0.05554521,  1.13847284, -0.67241937],\n",
       "       [ 1.42497198,  1.74900104, -0.79656824, -1.0277697 ,  0.6252387 ,\n",
       "        -1.11175905, -0.2187945 , -1.66338774, -1.05873544,  0.76646337],\n",
       "       [-1.82119535, -0.70827649,  0.42702257,  0.55896247,  1.41719011,\n",
       "        -1.7023349 , -1.48646828, -1.52303645,  1.56373896,  0.50928586],\n",
       "       [-0.94282066, -0.34785344,  0.71993584,  0.77533504, -0.54656098,\n",
       "        -1.0330156 , -0.77358931,  0.13519938, -0.49171395,  1.45790726],\n",
       "       [-0.21720678,  1.75438758, -0.83073654,  0.91958341,  1.3336985 ,\n",
       "        -1.74170662, -1.25499115, -0.28789932, -0.42083626,  1.54944768],\n",
       "       [-1.3629129 , -0.53857557,  0.2990555 , -1.46051483,  0.89214093,\n",
       "         1.25054437,  0.58193837, -0.50862468,  1.20935053, -0.82738229],\n",
       "       [-1.01920106,  0.01275045, -0.61903169,  0.91958341, -1.39963215,\n",
       "        -0.16683768, -0.30062191, -0.42124935,  0.50057366,  1.65645781],\n",
       "       [-0.02625577, -0.88628158, -0.23332779,  0.77533504, -1.18813591,\n",
       "        -0.52118319,  0.28719622, -0.19207683, -1.34224619, -0.18960926],\n",
       "       [-0.86644025,  1.5072515 ,  1.17200282,  0.55896247,  0.32836238,\n",
       "        -1.7023349 , -1.763533  ,  1.74497844, -0.98785776, -1.20278288],\n",
       "       [ 0.92849933, -1.55301887,  1.5136701 , -0.16227943, -1.13693562,\n",
       "        -0.24558113, -0.01888366,  0.99121679, -0.7752247 ,  1.29398799],\n",
       "       [ 1.53954259, -1.25261992, -1.48400393,  1.35232855,  1.58595898,\n",
       "        -1.54484801, -1.40362588,  1.68271303, -0.06644783, -0.82146673],\n",
       "       [-0.44634801, -1.65359903, -1.16284054, -1.17201808, -1.61332145,\n",
       "         0.81745541, -1.44059609, -0.10576073, -0.56259164,  1.82271315]])"
      ]
     },
     "execution_count": 6,
     "metadata": {},
     "output_type": "execute_result"
    }
   ],
   "source": [
    "scaler = StandardScaler()\n",
    "X_train_scaled = scaler.fit_transform(X_train)\n",
    "X_test_scaled = scaler.transform(X_test)\n",
    "X_test_scaled"
   ]
  },
  {
   "cell_type": "markdown",
   "id": "7ba05db6-61a9-4dda-ace6-036dcff85351",
   "metadata": {},
   "source": [
    "## Creating a simple linear regression model\n"
   ]
  },
  {
   "cell_type": "code",
   "execution_count": 7,
   "id": "f471b953-98c7-42a5-9f2f-cbabe3c8e63e",
   "metadata": {},
   "outputs": [
    {
     "data": {
      "text/html": [
       "<style>#sk-container-id-1 {color: black;background-color: white;}#sk-container-id-1 pre{padding: 0;}#sk-container-id-1 div.sk-toggleable {background-color: white;}#sk-container-id-1 label.sk-toggleable__label {cursor: pointer;display: block;width: 100%;margin-bottom: 0;padding: 0.3em;box-sizing: border-box;text-align: center;}#sk-container-id-1 label.sk-toggleable__label-arrow:before {content: \"▸\";float: left;margin-right: 0.25em;color: #696969;}#sk-container-id-1 label.sk-toggleable__label-arrow:hover:before {color: black;}#sk-container-id-1 div.sk-estimator:hover label.sk-toggleable__label-arrow:before {color: black;}#sk-container-id-1 div.sk-toggleable__content {max-height: 0;max-width: 0;overflow: hidden;text-align: left;background-color: #f0f8ff;}#sk-container-id-1 div.sk-toggleable__content pre {margin: 0.2em;color: black;border-radius: 0.25em;background-color: #f0f8ff;}#sk-container-id-1 input.sk-toggleable__control:checked~div.sk-toggleable__content {max-height: 200px;max-width: 100%;overflow: auto;}#sk-container-id-1 input.sk-toggleable__control:checked~label.sk-toggleable__label-arrow:before {content: \"▾\";}#sk-container-id-1 div.sk-estimator input.sk-toggleable__control:checked~label.sk-toggleable__label {background-color: #d4ebff;}#sk-container-id-1 div.sk-label input.sk-toggleable__control:checked~label.sk-toggleable__label {background-color: #d4ebff;}#sk-container-id-1 input.sk-hidden--visually {border: 0;clip: rect(1px 1px 1px 1px);clip: rect(1px, 1px, 1px, 1px);height: 1px;margin: -1px;overflow: hidden;padding: 0;position: absolute;width: 1px;}#sk-container-id-1 div.sk-estimator {font-family: monospace;background-color: #f0f8ff;border: 1px dotted black;border-radius: 0.25em;box-sizing: border-box;margin-bottom: 0.5em;}#sk-container-id-1 div.sk-estimator:hover {background-color: #d4ebff;}#sk-container-id-1 div.sk-parallel-item::after {content: \"\";width: 100%;border-bottom: 1px solid gray;flex-grow: 1;}#sk-container-id-1 div.sk-label:hover label.sk-toggleable__label {background-color: #d4ebff;}#sk-container-id-1 div.sk-serial::before {content: \"\";position: absolute;border-left: 1px solid gray;box-sizing: border-box;top: 0;bottom: 0;left: 50%;z-index: 0;}#sk-container-id-1 div.sk-serial {display: flex;flex-direction: column;align-items: center;background-color: white;padding-right: 0.2em;padding-left: 0.2em;position: relative;}#sk-container-id-1 div.sk-item {position: relative;z-index: 1;}#sk-container-id-1 div.sk-parallel {display: flex;align-items: stretch;justify-content: center;background-color: white;position: relative;}#sk-container-id-1 div.sk-item::before, #sk-container-id-1 div.sk-parallel-item::before {content: \"\";position: absolute;border-left: 1px solid gray;box-sizing: border-box;top: 0;bottom: 0;left: 50%;z-index: -1;}#sk-container-id-1 div.sk-parallel-item {display: flex;flex-direction: column;z-index: 1;position: relative;background-color: white;}#sk-container-id-1 div.sk-parallel-item:first-child::after {align-self: flex-end;width: 50%;}#sk-container-id-1 div.sk-parallel-item:last-child::after {align-self: flex-start;width: 50%;}#sk-container-id-1 div.sk-parallel-item:only-child::after {width: 0;}#sk-container-id-1 div.sk-dashed-wrapped {border: 1px dashed gray;margin: 0 0.4em 0.5em 0.4em;box-sizing: border-box;padding-bottom: 0.4em;background-color: white;}#sk-container-id-1 div.sk-label label {font-family: monospace;font-weight: bold;display: inline-block;line-height: 1.2em;}#sk-container-id-1 div.sk-label-container {text-align: center;}#sk-container-id-1 div.sk-container {/* jupyter's `normalize.less` sets `[hidden] { display: none; }` but bootstrap.min.css set `[hidden] { display: none !important; }` so we also need the `!important` here to be able to override the default hidden behavior on the sphinx rendered scikit-learn.org. See: https://github.com/scikit-learn/scikit-learn/issues/21755 */display: inline-block !important;position: relative;}#sk-container-id-1 div.sk-text-repr-fallback {display: none;}</style><div id=\"sk-container-id-1\" class=\"sk-top-container\"><div class=\"sk-text-repr-fallback\"><pre>LinearRegression()</pre><b>In a Jupyter environment, please rerun this cell to show the HTML representation or trust the notebook. <br />On GitHub, the HTML representation is unable to render, please try loading this page with nbviewer.org.</b></div><div class=\"sk-container\" hidden><div class=\"sk-item\"><div class=\"sk-estimator sk-toggleable\"><input class=\"sk-toggleable__control sk-hidden--visually\" id=\"sk-estimator-id-1\" type=\"checkbox\" checked><label for=\"sk-estimator-id-1\" class=\"sk-toggleable__label sk-toggleable__label-arrow\">LinearRegression</label><div class=\"sk-toggleable__content\"><pre>LinearRegression()</pre></div></div></div></div></div>"
      ],
      "text/plain": [
       "LinearRegression()"
      ]
     },
     "execution_count": 7,
     "metadata": {},
     "output_type": "execute_result"
    }
   ],
   "source": [
    "model = LinearRegression()\n",
    "model.fit(X_train, y_train)"
   ]
  },
  {
   "cell_type": "code",
   "execution_count": 8,
   "id": "290c5015-f721-4321-81ec-b73d394c78d4",
   "metadata": {},
   "outputs": [
    {
     "data": {
      "text/plain": [
       "array([31.07724357, 72.64653898, 48.15387809, 38.30370141, 51.73202503,\n",
       "       49.45677814, 59.05869855, 54.38658528, 52.2842486 , 53.17215464,\n",
       "       42.50509802, 52.98310498, 50.65419847, 49.1166532 , 51.00020353,\n",
       "       45.53483647, 58.143409  , 59.92832892, 40.84925354, 44.55012267])"
      ]
     },
     "execution_count": 8,
     "metadata": {},
     "output_type": "execute_result"
    }
   ],
   "source": [
    "y_pred = model.predict(X_test)\n",
    "y_pred"
   ]
  },
  {
   "attachments": {
    "d7d5a50a-195f-42f7-aa29-9b6465285a8f.png": {
     "image/png": "[encoded data removed]"
    }
   },
   "cell_type": "markdown",
   "id": "272c9a46-e39e-4473-8448-2f5cbcf829a7",
   "metadata": {},
   "source": [
    "## 1. Mean Absolute Error (MAE)\n",
    "MAE measures the average magnitude of errors in a set of predictions, without considering their direction. It’s the average over the test sample of the absolute differences between prediction and actual observation where all individual differences have equal weight. MAE is intuitive and easy to interpret but doesn't penalize larger errors more heavily.<br> <br>\n",
    "![image.png](attachment:d7d5a50a-195f-42f7-aa29-9b6465285a8f.png)"
   ]
  },
  {
   "cell_type": "markdown",
   "id": "37faffd7-bcc5-419b-aaaf-14a893b00ad4",
   "metadata": {},
   "source": [
    "### Calculating MAE\n"
   ]
  },
  {
   "cell_type": "code",
   "execution_count": 9,
   "id": "4ee7538b-a4f4-4dd8-91fb-e3d3ae5b5024",
   "metadata": {},
   "outputs": [
    {
     "name": "stdout",
     "output_type": "stream",
     "text": [
      "Mean Absolute Error: 32.16624757717575\n"
     ]
    }
   ],
   "source": [
    "mae = np.mean(np.abs(y_test - y_pred))\n",
    "print(f\"Mean Absolute Error: {mae}\")"
   ]
  },
  {
   "attachments": {
    "4f845272-ef14-4883-a74f-e22273a53df8.png": {
     "image/png": "[encoded data removed]"
    }
   },
   "cell_type": "markdown",
   "id": "e59c52ea-a953-4576-9d06-85391a4c7069",
   "metadata": {},
   "source": [
    "## 2. Mean Squared Error (MSE)\n",
    "MSE measures the average of the squares of the errors—that is, the average squared difference between the estimated values and the actual value. It’s useful for emphasizing larger errors due to squaring the differences. However, this squaring also makes the metric sensitive to outliers.<br><br>\n",
    "![image.png](attachment:4f845272-ef14-4883-a74f-e22273a53df8.png)"
   ]
  },
  {
   "cell_type": "markdown",
   "id": "19a279e1-6426-4fdf-89a7-065eb0d8f3bf",
   "metadata": {},
   "source": [
    "### Calculating MSE\n"
   ]
  },
  {
   "cell_type": "code",
   "execution_count": 10,
   "id": "37d039ec-e1f8-4d15-8d0c-466396f1b6ee",
   "metadata": {},
   "outputs": [
    {
     "name": "stdout",
     "output_type": "stream",
     "text": [
      "Mean Squared Error: 1211.1188566660805\n"
     ]
    }
   ],
   "source": [
    "mse = np.mean((y_test - y_pred) ** 2)\n",
    "print(f\"Mean Squared Error: {mse}\")"
   ]
  },
  {
   "attachments": {
    "8f9346c4-01c9-43b0-bb3d-2b5ea34de902.png": {
     "image/png": "[encoded data removed]"
    }
   },
   "cell_type": "markdown",
   "id": "96f0fddd-1f1b-42b8-94cc-f65099cb4ab7",
   "metadata": {},
   "source": [
    "## 3. Root Mean Squared Error (RMSE)\n",
    "RMSE is the square root of the average of squared differences between prediction and actual observation. It’s a good measure of how accurately the model predicts the response and is useful when large errors are particularly undesirable. RMSE is in the same units as the target variable.<br><br>\n",
    "![image.png](attachment:8f9346c4-01c9-43b0-bb3d-2b5ea34de902.png)"
   ]
  },
  {
   "cell_type": "markdown",
   "id": "ee2aad2f-3d54-45e2-8a60-53d6a94bf40d",
   "metadata": {},
   "source": [
    "### Calculating RMSE\n"
   ]
  },
  {
   "cell_type": "code",
   "execution_count": 11,
   "id": "555f5532-476f-4de7-bd49-2a051edf67ce",
   "metadata": {},
   "outputs": [
    {
     "name": "stdout",
     "output_type": "stream",
     "text": [
      "Root Mean Squared Error: 34.801132979632726\n"
     ]
    }
   ],
   "source": [
    "rmse = np.sqrt(np.mean((y_test - y_pred) ** 2))\n",
    "print(f\"Root Mean Squared Error: {rmse}\")"
   ]
  },
  {
   "attachments": {
    "bc33c430-ba54-408e-9392-eeb5f00105b1.png": {
     "image/png": "[encoded data removed]"
    }
   },
   "cell_type": "markdown",
   "id": "a1b1744a-b836-4f5a-a172-7d5b6fd069d6",
   "metadata": {},
   "source": [
    "## 4. R-squared (R²)\n",
    "R² is the proportion of the variance in the dependent variable that is predictable from the independent variables. It provides an indication of goodness of fit and ranges from 0 to 1. An R² of 1 indicates that the regression predictions perfectly fit the data.<br><br>\n",
    "![image.png](attachment:bc33c430-ba54-408e-9392-eeb5f00105b1.png)"
   ]
  },
  {
   "cell_type": "markdown",
   "id": "acd99611-661b-42da-9d8b-e108e2e29521",
   "metadata": {},
   "source": [
    "### Calculating R²"
   ]
  },
  {
   "cell_type": "code",
   "execution_count": 12,
   "id": "5c610b59-92b1-4232-a781-3d8280cdaa8d",
   "metadata": {},
   "outputs": [
    {
     "name": "stdout",
     "output_type": "stream",
     "text": [
      "R-squared: -0.0938104785644398\n"
     ]
    }
   ],
   "source": [
    "r2 = r2_score(y_test, y_pred)\n",
    "print(f\"R-squared: {r2}\")"
   ]
  },
  {
   "attachments": {
    "ef01888f-2be8-491c-96a6-29856907b27d.png": {
     "image/png": "[encoded data removed]"
    }
   },
   "cell_type": "markdown",
   "id": "94f2d9c9-fcd9-401d-b13d-fb33e59c158e",
   "metadata": {},
   "source": [
    "## 5. Adjusted R-squared\n",
    "Adjusted R² modifies the R² value by adjusting for the number of predictors in the model. It’s used to compare the goodness of fit for models with different numbers of predictors, as it penalizes adding non-significant predictors to the model.<br><br>\n",
    "![image.png](attachment:ef01888f-2be8-491c-96a6-29856907b27d.png)"
   ]
  },
  {
   "cell_type": "markdown",
   "id": "c545eb80-fb4f-4ec3-8d68-f5cdc6da6970",
   "metadata": {},
   "source": [
    "### Calculating Adjusted R²\n"
   ]
  },
  {
   "cell_type": "code",
   "execution_count": 13,
   "id": "8e85cae4-6db1-439c-8df7-aa0f940eecbb",
   "metadata": {},
   "outputs": [
    {
     "name": "stdout",
     "output_type": "stream",
     "text": [
      "Adjusted R-squared: -1.3091554547471507\n"
     ]
    }
   ],
   "source": [
    "n = len(y_test)\n",
    "p = X_train.shape[1]\n",
    "adj_r2 = 1 - (1 - r2) * ((n - 1) / (n - p - 1))\n",
    "print(f\"Adjusted R-squared: {adj_r2}\")"
   ]
  },
  {
   "attachments": {
    "7f27c56e-9bf9-4f4a-b2b1-236b2a58e5e3.png": {
     "image/png": "[encoded data removed]"
    }
   },
   "cell_type": "markdown",
   "id": "c73771f9-97d5-48f3-91ae-904cefdb518f",
   "metadata": {},
   "source": [
    "## 6. Mean Absolute Percentage Error (MAPE)\n",
    "MAPE measures the size of the error in percentage terms. It’s the average of the absolute percentage errors of predictions. MAPE is easy to interpret and understand, but it can be problematic if any actual yi values are zero.<br><br>\n",
    "![image.png](attachment:7f27c56e-9bf9-4f4a-b2b1-236b2a58e5e3.png)"
   ]
  },
  {
   "cell_type": "markdown",
   "id": "a499f790-6b6b-4199-aced-1da2d6ea3bcd",
   "metadata": {},
   "source": [
    "### Calculating MAPE\n"
   ]
  },
  {
   "cell_type": "code",
   "execution_count": 14,
   "id": "fa8394b7-120e-47a3-b79a-f989c28bf860",
   "metadata": {},
   "outputs": [
    {
     "name": "stdout",
     "output_type": "stream",
     "text": [
      "Mean Absolute Percentage Error: 193.84858740390166%\n"
     ]
    }
   ],
   "source": [
    "mape_value = np.mean(np.abs((y_test - y_pred) / y_test)) * 100\n",
    "print(f\"Mean Absolute Percentage Error: {mape_value}%\")"
   ]
  },
  {
   "attachments": {
    "5c7361aa-984a-4d85-af90-7b9e6e8c1621.png": {
     "image/png": "[encoded data removed]"
    }
   },
   "cell_type": "markdown",
   "id": "82fc8154-e0ea-4b0f-9a86-e6339f46812f",
   "metadata": {},
   "source": [
    "## 7. Median Absolute Error (MedAE)\n",
    "MedAE is the median of the absolute errors between predicted and actual values. It’s a robust measure of the central tendency of the error distribution and is less sensitive to outliers compared to the mean.<br><br>\n",
    "![image.png](attachment:5c7361aa-984a-4d85-af90-7b9e6e8c1621.png)"
   ]
  },
  {
   "cell_type": "markdown",
   "id": "106f3b07-2a42-4f30-82df-414a92d7ed27",
   "metadata": {},
   "source": [
    "### Calculating MedAE\n"
   ]
  },
  {
   "cell_type": "code",
   "execution_count": 15,
   "id": "0019ecf0-3245-449d-a31a-fbe33179b001",
   "metadata": {},
   "outputs": [
    {
     "name": "stdout",
     "output_type": "stream",
     "text": [
      "Median Absolute Error: 31.30050426926563\n"
     ]
    }
   ],
   "source": [
    "medae = np.median(np.abs(y_test - y_pred))\n",
    "print(f\"Median Absolute Error: {medae}\")"
   ]
  },
  {
   "attachments": {
    "39119ee1-a57f-441d-b79a-605b663dd146.png": {
     "image/png": "[encoded data removed]"
    }
   },
   "cell_type": "markdown",
   "id": "f8cd70bf-311c-4239-846e-006d78f00210",
   "metadata": {},
   "source": [
    "## 8. Explained Variance Score\n",
    "The explained variance score measures the proportion to which a model accounts for the variation (dispersion) of a given data set. An explained variance score of 1 indicates perfect fit, whereas a score of 0 indicates that the model does not explain any of the variability of the response data around its mean.<br><br>\n",
    "![image.png](attachment:39119ee1-a57f-441d-b79a-605b663dd146.png)"
   ]
  },
  {
   "cell_type": "markdown",
   "id": "2010af42-f7cd-4d00-a934-1d709e04659b",
   "metadata": {},
   "source": [
    "### Calculating Explained Variance Score\n"
   ]
  },
  {
   "cell_type": "code",
   "execution_count": 16,
   "id": "2cdfb5b5-e85e-4297-9232-52cae008f4f2",
   "metadata": {},
   "outputs": [
    {
     "name": "stdout",
     "output_type": "stream",
     "text": [
      "Explained Variance Score: -0.05421792582419238\n"
     ]
    }
   ],
   "source": [
    "explained_variance = explained_variance_score(y_test, y_pred)\n",
    "print(f\"Explained Variance Score: {explained_variance}\")"
   ]
  },
  {
   "attachments": {
    "20bad5c8-50ef-4282-95b5-93d06dd0d03d.png": {
     "image/png": "[encoded data removed]"
    }
   },
   "cell_type": "markdown",
   "id": "1c13c78c-bc6e-4f05-b90e-b7b235bbacbe",
   "metadata": {},
   "source": [
    "## 9. Huber Loss\n",
    "Huber loss is a loss function used in robust regression that combines the best properties of both MAE and MSE. It is quadratic for smaller errors (like MSE) and linear for larger errors (like MAE), making it less sensitive to outliers in data.<br><br>\n",
    "![image.png](attachment:20bad5c8-50ef-4282-95b5-93d06dd0d03d.png)"
   ]
  },
  {
   "cell_type": "markdown",
   "id": "cc14ee6a-0cd6-45e1-a500-e6de41736dc8",
   "metadata": {},
   "source": [
    "### Using HuberRegressor for Huber Loss\n"
   ]
  },
  {
   "cell_type": "code",
   "execution_count": 17,
   "id": "b3677143-3c6b-4569-92e0-05e2965c61e2",
   "metadata": {},
   "outputs": [
    {
     "data": {
      "text/html": [
       "<style>#sk-container-id-2 {color: black;background-color: white;}#sk-container-id-2 pre{padding: 0;}#sk-container-id-2 div.sk-toggleable {background-color: white;}#sk-container-id-2 label.sk-toggleable__label {cursor: pointer;display: block;width: 100%;margin-bottom: 0;padding: 0.3em;box-sizing: border-box;text-align: center;}#sk-container-id-2 label.sk-toggleable__label-arrow:before {content: \"▸\";float: left;margin-right: 0.25em;color: #696969;}#sk-container-id-2 label.sk-toggleable__label-arrow:hover:before {color: black;}#sk-container-id-2 div.sk-estimator:hover label.sk-toggleable__label-arrow:before {color: black;}#sk-container-id-2 div.sk-toggleable__content {max-height: 0;max-width: 0;overflow: hidden;text-align: left;background-color: #f0f8ff;}#sk-container-id-2 div.sk-toggleable__content pre {margin: 0.2em;color: black;border-radius: 0.25em;background-color: #f0f8ff;}#sk-container-id-2 input.sk-toggleable__control:checked~div.sk-toggleable__content {max-height: 200px;max-width: 100%;overflow: auto;}#sk-container-id-2 input.sk-toggleable__control:checked~label.sk-toggleable__label-arrow:before {content: \"▾\";}#sk-container-id-2 div.sk-estimator input.sk-toggleable__control:checked~label.sk-toggleable__label {background-color: #d4ebff;}#sk-container-id-2 div.sk-label input.sk-toggleable__control:checked~label.sk-toggleable__label {background-color: #d4ebff;}#sk-container-id-2 input.sk-hidden--visually {border: 0;clip: rect(1px 1px 1px 1px);clip: rect(1px, 1px, 1px, 1px);height: 1px;margin: -1px;overflow: hidden;padding: 0;position: absolute;width: 1px;}#sk-container-id-2 div.sk-estimator {font-family: monospace;background-color: #f0f8ff;border: 1px dotted black;border-radius: 0.25em;box-sizing: border-box;margin-bottom: 0.5em;}#sk-container-id-2 div.sk-estimator:hover {background-color: #d4ebff;}#sk-container-id-2 div.sk-parallel-item::after {content: \"\";width: 100%;border-bottom: 1px solid gray;flex-grow: 1;}#sk-container-id-2 div.sk-label:hover label.sk-toggleable__label {background-color: #d4ebff;}#sk-container-id-2 div.sk-serial::before {content: \"\";position: absolute;border-left: 1px solid gray;box-sizing: border-box;top: 0;bottom: 0;left: 50%;z-index: 0;}#sk-container-id-2 div.sk-serial {display: flex;flex-direction: column;align-items: center;background-color: white;padding-right: 0.2em;padding-left: 0.2em;position: relative;}#sk-container-id-2 div.sk-item {position: relative;z-index: 1;}#sk-container-id-2 div.sk-parallel {display: flex;align-items: stretch;justify-content: center;background-color: white;position: relative;}#sk-container-id-2 div.sk-item::before, #sk-container-id-2 div.sk-parallel-item::before {content: \"\";position: absolute;border-left: 1px solid gray;box-sizing: border-box;top: 0;bottom: 0;left: 50%;z-index: -1;}#sk-container-id-2 div.sk-parallel-item {display: flex;flex-direction: column;z-index: 1;position: relative;background-color: white;}#sk-container-id-2 div.sk-parallel-item:first-child::after {align-self: flex-end;width: 50%;}#sk-container-id-2 div.sk-parallel-item:last-child::after {align-self: flex-start;width: 50%;}#sk-container-id-2 div.sk-parallel-item:only-child::after {width: 0;}#sk-container-id-2 div.sk-dashed-wrapped {border: 1px dashed gray;margin: 0 0.4em 0.5em 0.4em;box-sizing: border-box;padding-bottom: 0.4em;background-color: white;}#sk-container-id-2 div.sk-label label {font-family: monospace;font-weight: bold;display: inline-block;line-height: 1.2em;}#sk-container-id-2 div.sk-label-container {text-align: center;}#sk-container-id-2 div.sk-container {/* jupyter's `normalize.less` sets `[hidden] { display: none; }` but bootstrap.min.css set `[hidden] { display: none !important; }` so we also need the `!important` here to be able to override the default hidden behavior on the sphinx rendered scikit-learn.org. See: https://github.com/scikit-learn/scikit-learn/issues/21755 */display: inline-block !important;position: relative;}#sk-container-id-2 div.sk-text-repr-fallback {display: none;}</style><div id=\"sk-container-id-2\" class=\"sk-top-container\"><div class=\"sk-text-repr-fallback\"><pre>HuberRegressor(epsilon=1.0, max_iter=1000)</pre><b>In a Jupyter environment, please rerun this cell to show the HTML representation or trust the notebook. <br />On GitHub, the HTML representation is unable to render, please try loading this page with nbviewer.org.</b></div><div class=\"sk-container\" hidden><div class=\"sk-item\"><div class=\"sk-estimator sk-toggleable\"><input class=\"sk-toggleable__control sk-hidden--visually\" id=\"sk-estimator-id-2\" type=\"checkbox\" checked><label for=\"sk-estimator-id-2\" class=\"sk-toggleable__label sk-toggleable__label-arrow\">HuberRegressor</label><div class=\"sk-toggleable__content\"><pre>HuberRegressor(epsilon=1.0, max_iter=1000)</pre></div></div></div></div></div>"
      ],
      "text/plain": [
       "HuberRegressor(epsilon=1.0, max_iter=1000)"
      ]
     },
     "execution_count": 17,
     "metadata": {},
     "output_type": "execute_result"
    }
   ],
   "source": [
    "delta = 1.0  # Example delta value\n",
    "huber_model = HuberRegressor(epsilon=delta, max_iter=1000)  # Increase max_iter to 1000\n",
    "huber_model.fit(X_train_scaled, y_train)"
   ]
  },
  {
   "cell_type": "markdown",
   "id": "4b379546-2559-488c-a027-96d9821b5251",
   "metadata": {},
   "source": [
    "### Make predictions\n"
   ]
  },
  {
   "cell_type": "code",
   "execution_count": 18,
   "id": "bd3b6fdb-6106-474a-b4e2-cc22fa312f77",
   "metadata": {},
   "outputs": [],
   "source": [
    "y_huber_pred = huber_model.predict(X_test_scaled)"
   ]
  },
  {
   "cell_type": "markdown",
   "id": "0ad5700e-d273-4f08-be07-bf27ccf4f644",
   "metadata": {},
   "source": [
    "### Calculating Huber Loss\n"
   ]
  },
  {
   "cell_type": "code",
   "execution_count": 19,
   "id": "c2f0141e-dff5-4c54-b1a0-eed10996112f",
   "metadata": {},
   "outputs": [
    {
     "name": "stdout",
     "output_type": "stream",
     "text": [
      "Huber Loss: 31.70787687958175\n"
     ]
    }
   ],
   "source": [
    "errors = np.abs(y_test - y_huber_pred)\n",
    "huber_loss = np.mean(np.where(errors <= delta, 0.5 * errors ** 2, delta * (errors - 0.5 * delta)))\n",
    "print(f\"Huber Loss: {huber_loss}\")"
   ]
  },
  {
   "attachments": {
    "5dc7b92d-36d2-4c70-8f9c-4ef4b6856839.png": {
     "image/png": "[encoded data removed]"
    }
   },
   "cell_type": "markdown",
   "id": "e8d483a3-9536-4418-a942-58ff470740ca",
   "metadata": {},
   "source": [
    "## 10. Mean Squared Logarithmic Error (MSLE)\n",
    "MSLE is useful when you are interested in the relative difference between the actual and predicted values. It penalizes underestimation more than overestimation, making it suitable for certain types of regression problems where this property is desired.<br><br>\n",
    "![image.png](attachment:5dc7b92d-36d2-4c70-8f9c-4ef4b6856839.png)"
   ]
  },
  {
   "cell_type": "markdown",
   "id": "1a665541-0e6c-456f-ad94-55601a675cc7",
   "metadata": {},
   "source": [
    "### Calculating MSLE\n"
   ]
  },
  {
   "cell_type": "code",
   "execution_count": 20,
   "id": "d8f39e7f-58eb-493d-b1bb-eb07f67fc485",
   "metadata": {},
   "outputs": [
    {
     "name": "stdout",
     "output_type": "stream",
     "text": [
      "Mean Squared Logarithmic Error: 1.0563034983371609\n"
     ]
    }
   ],
   "source": [
    "msle = np.mean((np.log1p(y_test) - np.log1p(y_pred)) ** 2)\n",
    "print(f\"Mean Squared Logarithmic Error: {msle}\")"
   ]
  },
  {
   "attachments": {
    "2f99f03c-05f4-4ab7-95e1-38c6b988d6cf.png": {
     "image/png": "[encoded data removed]"
    }
   },
   "cell_type": "markdown",
   "id": "d9a81264-f655-41b2-ac51-9da96cf2769e",
   "metadata": {},
   "source": [
    "## 11. Relative Absolute Error (RAE)\n",
    "RAE compares the absolute error of the model's predictions to the absolute error of the mean of the actual values. It gives an indication of how much better the model is compared to simply predicting the mean of the observations.<br><br>\n",
    "![image.png](attachment:2f99f03c-05f4-4ab7-95e1-38c6b988d6cf.png)"
   ]
  },
  {
   "cell_type": "markdown",
   "id": "47d03fc9-2dc9-4652-9ead-b0c9da31a953",
   "metadata": {},
   "source": [
    "### Calculating RAE\n"
   ]
  },
  {
   "cell_type": "code",
   "execution_count": 21,
   "id": "006b6c3b-6df0-4109-810f-8c50f138c020",
   "metadata": {},
   "outputs": [
    {
     "name": "stdout",
     "output_type": "stream",
     "text": [
      "Relative Absolute Error: 1.0905977655492605\n"
     ]
    }
   ],
   "source": [
    "rae = np.sum(np.abs(y_test - y_pred)) / np.sum(np.abs(y_test - np.mean(y_test)))\n",
    "print(f\"Relative Absolute Error: {rae}\")"
   ]
  },
  {
   "attachments": {
    "c65d8447-536c-4b60-b72d-a46d244c45d0.png": {
     "image/png": "[encoded data removed]"
    }
   },
   "cell_type": "markdown",
   "id": "4fbcfe24-99fe-4a4e-8661-bb49487e5d08",
   "metadata": {},
   "source": [
    "## 12. Relative Squared Error (RSE)\n",
    "RSE is similar to RAE but uses squared differences. It compares the squared error of the model’s predictions to the squared error of the mean of the actual values. It is a measure of the total variance explained by the model.<br><br>\n",
    "![image.png](attachment:c65d8447-536c-4b60-b72d-a46d244c45d0.png)"
   ]
  },
  {
   "cell_type": "markdown",
   "id": "ed2b982a-6483-4de9-b34e-02d40371f5bd",
   "metadata": {},
   "source": [
    "### Calculating RSE\n"
   ]
  },
  {
   "cell_type": "code",
   "execution_count": 22,
   "id": "ecdc82f7-958a-4bab-bdbe-fbaadd0e7a1d",
   "metadata": {},
   "outputs": [
    {
     "name": "stdout",
     "output_type": "stream",
     "text": [
      "Relative Squared Error: 1.0938104785644398\n"
     ]
    }
   ],
   "source": [
    "rse = np.sum((y_test - y_pred) ** 2) / np.sum((y_test - np.mean(y_test)) ** 2)\n",
    "print(f\"Relative Squared Error: {rse}\")"
   ]
  }
 ],
 "metadata": {
  "kernelspec": {
   "display_name": "Python 3 (ipykernel)",
   "language": "python",
   "name": "python3"
  },
  "language_info": {
   "codemirror_mode": {
    "name": "ipython",
    "version": 3
   },
   "file_extension": ".py",
   "mimetype": "text/x-python",
   "name": "python",
   "nbconvert_exporter": "python",
   "pygments_lexer": "ipython3",
   "version": "3.11.7"
  }
 },
 "nbformat": 4,
 "nbformat_minor": 5
}
