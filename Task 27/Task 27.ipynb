{
 "cells": [
  {
   "cell_type": "markdown",
   "id": "56b572b7-81eb-4e95-a56f-6324184e10bc",
   "metadata": {},
   "source": [
    "# Task 27-> Evaluation Techniques for classification models"
   ]
  },
  {
   "cell_type": "markdown",
   "id": "8868dc32-9849-4a53-9101-d98c72ac1f91",
   "metadata": {},
   "source": [
    "## Import necessary libraries\n"
   ]
  },
  {
   "cell_type": "code",
   "execution_count": 1,
   "id": "15856f7b-a0a6-4127-988b-1036c2973c9f",
   "metadata": {},
   "outputs": [],
   "source": [
    "import numpy as np\n",
    "import pandas as pd\n",
    "import seaborn as sns\n",
    "import matplotlib.pyplot as plt\n",
    "\n",
    "from sklearn.datasets import load_wine, load_iris\n",
    "from sklearn.model_selection import train_test_split, cross_val_score, KFold, LeaveOneOut, StratifiedKFold\n",
    "from sklearn.linear_model import LogisticRegression\n",
    "from sklearn.ensemble import RandomForestClassifier\n",
    "from sklearn.metrics import (\n",
    "    confusion_matrix, accuracy_score, precision_score, recall_score, f1_score,\n",
    "    roc_curve, roc_auc_score, classification_report, matthews_corrcoef,\n",
    "    cohen_kappa_score, log_loss, balanced_accuracy_score, make_scorer\n",
    ")\n",
    "from sklearn.preprocessing import StandardScaler\n",
    "from sklearn.utils import shuffle"
   ]
  },
  {
   "cell_type": "markdown",
   "id": "e6ed6f86-f2c2-4cc1-be10-d7e237a34db6",
   "metadata": {},
   "source": [
    "## Load the wine dataset\n"
   ]
  },
  {
   "cell_type": "code",
   "execution_count": 2,
   "id": "9a446feb-d88e-47f3-9cd9-d549dd141578",
   "metadata": {},
   "outputs": [],
   "source": [
    "data = load_wine()\n",
    "X = pd.DataFrame(data.data, columns=data.feature_names)\n",
    "y = pd.Series(data.target)"
   ]
  },
  {
   "cell_type": "markdown",
   "id": "6d9c92ce-ce37-4fbf-a6b9-24ac868a9dbe",
   "metadata": {},
   "source": [
    "## First 5 rows of the dataset"
   ]
  },
  {
   "cell_type": "code",
   "execution_count": 3,
   "id": "eed72906-ac81-47e0-9d39-426a5e72574a",
   "metadata": {},
   "outputs": [
    {
     "data": {
      "text/html": [
       "<div>\n",
       "<style scoped>\n",
       "    .dataframe tbody tr th:only-of-type {\n",
       "        vertical-align: middle;\n",
       "    }\n",
       "\n",
       "    .dataframe tbody tr th {\n",
       "        vertical-align: top;\n",
       "    }\n",
       "\n",
       "    .dataframe thead th {\n",
       "        text-align: right;\n",
       "    }\n",
       "</style>\n",
       "<table border=\"1\" class=\"dataframe\">\n",
       "  <thead>\n",
       "    <tr style=\"text-align: right;\">\n",
       "      <th></th>\n",
       "      <th>alcohol</th>\n",
       "      <th>malic_acid</th>\n",
       "      <th>ash</th>\n",
       "      <th>alcalinity_of_ash</th>\n",
       "      <th>magnesium</th>\n",
       "      <th>total_phenols</th>\n",
       "      <th>flavanoids</th>\n",
       "      <th>nonflavanoid_phenols</th>\n",
       "      <th>proanthocyanins</th>\n",
       "      <th>color_intensity</th>\n",
       "      <th>hue</th>\n",
       "      <th>od280/od315_of_diluted_wines</th>\n",
       "      <th>proline</th>\n",
       "    </tr>\n",
       "  </thead>\n",
       "  <tbody>\n",
       "    <tr>\n",
       "      <th>0</th>\n",
       "      <td>14.23</td>\n",
       "      <td>1.71</td>\n",
       "      <td>2.43</td>\n",
       "      <td>15.6</td>\n",
       "      <td>127.0</td>\n",
       "      <td>2.80</td>\n",
       "      <td>3.06</td>\n",
       "      <td>0.28</td>\n",
       "      <td>2.29</td>\n",
       "      <td>5.64</td>\n",
       "      <td>1.04</td>\n",
       "      <td>3.92</td>\n",
       "      <td>1065.0</td>\n",
       "    </tr>\n",
       "    <tr>\n",
       "      <th>1</th>\n",
       "      <td>13.20</td>\n",
       "      <td>1.78</td>\n",
       "      <td>2.14</td>\n",
       "      <td>11.2</td>\n",
       "      <td>100.0</td>\n",
       "      <td>2.65</td>\n",
       "      <td>2.76</td>\n",
       "      <td>0.26</td>\n",
       "      <td>1.28</td>\n",
       "      <td>4.38</td>\n",
       "      <td>1.05</td>\n",
       "      <td>3.40</td>\n",
       "      <td>1050.0</td>\n",
       "    </tr>\n",
       "    <tr>\n",
       "      <th>2</th>\n",
       "      <td>13.16</td>\n",
       "      <td>2.36</td>\n",
       "      <td>2.67</td>\n",
       "      <td>18.6</td>\n",
       "      <td>101.0</td>\n",
       "      <td>2.80</td>\n",
       "      <td>3.24</td>\n",
       "      <td>0.30</td>\n",
       "      <td>2.81</td>\n",
       "      <td>5.68</td>\n",
       "      <td>1.03</td>\n",
       "      <td>3.17</td>\n",
       "      <td>1185.0</td>\n",
       "    </tr>\n",
       "    <tr>\n",
       "      <th>3</th>\n",
       "      <td>14.37</td>\n",
       "      <td>1.95</td>\n",
       "      <td>2.50</td>\n",
       "      <td>16.8</td>\n",
       "      <td>113.0</td>\n",
       "      <td>3.85</td>\n",
       "      <td>3.49</td>\n",
       "      <td>0.24</td>\n",
       "      <td>2.18</td>\n",
       "      <td>7.80</td>\n",
       "      <td>0.86</td>\n",
       "      <td>3.45</td>\n",
       "      <td>1480.0</td>\n",
       "    </tr>\n",
       "    <tr>\n",
       "      <th>4</th>\n",
       "      <td>13.24</td>\n",
       "      <td>2.59</td>\n",
       "      <td>2.87</td>\n",
       "      <td>21.0</td>\n",
       "      <td>118.0</td>\n",
       "      <td>2.80</td>\n",
       "      <td>2.69</td>\n",
       "      <td>0.39</td>\n",
       "      <td>1.82</td>\n",
       "      <td>4.32</td>\n",
       "      <td>1.04</td>\n",
       "      <td>2.93</td>\n",
       "      <td>735.0</td>\n",
       "    </tr>\n",
       "  </tbody>\n",
       "</table>\n",
       "</div>"
      ],
      "text/plain": [
       "   alcohol  malic_acid   ash  alcalinity_of_ash  magnesium  total_phenols  \\\n",
       "0    14.23        1.71  2.43               15.6      127.0           2.80   \n",
       "1    13.20        1.78  2.14               11.2      100.0           2.65   \n",
       "2    13.16        2.36  2.67               18.6      101.0           2.80   \n",
       "3    14.37        1.95  2.50               16.8      113.0           3.85   \n",
       "4    13.24        2.59  2.87               21.0      118.0           2.80   \n",
       "\n",
       "   flavanoids  nonflavanoid_phenols  proanthocyanins  color_intensity   hue  \\\n",
       "0        3.06                  0.28             2.29             5.64  1.04   \n",
       "1        2.76                  0.26             1.28             4.38  1.05   \n",
       "2        3.24                  0.30             2.81             5.68  1.03   \n",
       "3        3.49                  0.24             2.18             7.80  0.86   \n",
       "4        2.69                  0.39             1.82             4.32  1.04   \n",
       "\n",
       "   od280/od315_of_diluted_wines  proline  \n",
       "0                          3.92   1065.0  \n",
       "1                          3.40   1050.0  \n",
       "2                          3.17   1185.0  \n",
       "3                          3.45   1480.0  \n",
       "4                          2.93    735.0  "
      ]
     },
     "execution_count": 3,
     "metadata": {},
     "output_type": "execute_result"
    }
   ],
   "source": [
    "X.head()"
   ]
  },
  {
   "cell_type": "markdown",
   "id": "81c4f7b9-ce7c-48f9-aec0-44d588cb6a02",
   "metadata": {},
   "source": [
    "## Check for missing values"
   ]
  },
  {
   "cell_type": "code",
   "execution_count": 4,
   "id": "deef36da-11db-458c-8534-f782e7390d24",
   "metadata": {},
   "outputs": [
    {
     "name": "stdout",
     "output_type": "stream",
     "text": [
      "\n",
      "Missing values in each column:\n",
      "alcohol                         0\n",
      "malic_acid                      0\n",
      "ash                             0\n",
      "alcalinity_of_ash               0\n",
      "magnesium                       0\n",
      "total_phenols                   0\n",
      "flavanoids                      0\n",
      "nonflavanoid_phenols            0\n",
      "proanthocyanins                 0\n",
      "color_intensity                 0\n",
      "hue                             0\n",
      "od280/od315_of_diluted_wines    0\n",
      "proline                         0\n",
      "dtype: int64\n"
     ]
    }
   ],
   "source": [
    "print(\"\\nMissing values in each column:\")\n",
    "print(X.isnull().sum())"
   ]
  },
  {
   "cell_type": "markdown",
   "id": "c945d06b-049c-4f19-b776-263a8859f647",
   "metadata": {},
   "source": [
    "## Shuffle and split the dataset\n"
   ]
  },
  {
   "cell_type": "code",
   "execution_count": 5,
   "id": "a7d79ab4-895e-4c43-9b38-d004932e22a3",
   "metadata": {},
   "outputs": [],
   "source": [
    "X, y = shuffle(X, y, random_state=42)\n",
    "X_train, X_test, y_train, y_test = train_test_split(X, y, test_size=0.3, random_state=42, stratify=y)"
   ]
  },
  {
   "cell_type": "markdown",
   "id": "1956317b-d1ad-4818-910a-2f8c297bff98",
   "metadata": {},
   "source": [
    "## Scale the data\n"
   ]
  },
  {
   "cell_type": "code",
   "execution_count": 6,
   "id": "7cf70a91-8f1e-4ed9-948d-f51c29683d8f",
   "metadata": {},
   "outputs": [],
   "source": [
    "scaler = StandardScaler()\n",
    "X_train = scaler.fit_transform(X_train)\n",
    "X_test = scaler.transform(X_test)"
   ]
  },
  {
   "cell_type": "markdown",
   "id": "966e1cd5-c97f-4a49-b849-b2a54d212d43",
   "metadata": {},
   "source": [
    "## Initialize and train the logistic regression model\n"
   ]
  },
  {
   "cell_type": "code",
   "execution_count": 7,
   "id": "00869c1a-40c3-49c9-98d7-66fdc4b00b43",
   "metadata": {},
   "outputs": [
    {
     "data": {
      "text/html": [
       "<style>#sk-container-id-1 {color: black;background-color: white;}#sk-container-id-1 pre{padding: 0;}#sk-container-id-1 div.sk-toggleable {background-color: white;}#sk-container-id-1 label.sk-toggleable__label {cursor: pointer;display: block;width: 100%;margin-bottom: 0;padding: 0.3em;box-sizing: border-box;text-align: center;}#sk-container-id-1 label.sk-toggleable__label-arrow:before {content: \"▸\";float: left;margin-right: 0.25em;color: #696969;}#sk-container-id-1 label.sk-toggleable__label-arrow:hover:before {color: black;}#sk-container-id-1 div.sk-estimator:hover label.sk-toggleable__label-arrow:before {color: black;}#sk-container-id-1 div.sk-toggleable__content {max-height: 0;max-width: 0;overflow: hidden;text-align: left;background-color: #f0f8ff;}#sk-container-id-1 div.sk-toggleable__content pre {margin: 0.2em;color: black;border-radius: 0.25em;background-color: #f0f8ff;}#sk-container-id-1 input.sk-toggleable__control:checked~div.sk-toggleable__content {max-height: 200px;max-width: 100%;overflow: auto;}#sk-container-id-1 input.sk-toggleable__control:checked~label.sk-toggleable__label-arrow:before {content: \"▾\";}#sk-container-id-1 div.sk-estimator input.sk-toggleable__control:checked~label.sk-toggleable__label {background-color: #d4ebff;}#sk-container-id-1 div.sk-label input.sk-toggleable__control:checked~label.sk-toggleable__label {background-color: #d4ebff;}#sk-container-id-1 input.sk-hidden--visually {border: 0;clip: rect(1px 1px 1px 1px);clip: rect(1px, 1px, 1px, 1px);height: 1px;margin: -1px;overflow: hidden;padding: 0;position: absolute;width: 1px;}#sk-container-id-1 div.sk-estimator {font-family: monospace;background-color: #f0f8ff;border: 1px dotted black;border-radius: 0.25em;box-sizing: border-box;margin-bottom: 0.5em;}#sk-container-id-1 div.sk-estimator:hover {background-color: #d4ebff;}#sk-container-id-1 div.sk-parallel-item::after {content: \"\";width: 100%;border-bottom: 1px solid gray;flex-grow: 1;}#sk-container-id-1 div.sk-label:hover label.sk-toggleable__label {background-color: #d4ebff;}#sk-container-id-1 div.sk-serial::before {content: \"\";position: absolute;border-left: 1px solid gray;box-sizing: border-box;top: 0;bottom: 0;left: 50%;z-index: 0;}#sk-container-id-1 div.sk-serial {display: flex;flex-direction: column;align-items: center;background-color: white;padding-right: 0.2em;padding-left: 0.2em;position: relative;}#sk-container-id-1 div.sk-item {position: relative;z-index: 1;}#sk-container-id-1 div.sk-parallel {display: flex;align-items: stretch;justify-content: center;background-color: white;position: relative;}#sk-container-id-1 div.sk-item::before, #sk-container-id-1 div.sk-parallel-item::before {content: \"\";position: absolute;border-left: 1px solid gray;box-sizing: border-box;top: 0;bottom: 0;left: 50%;z-index: -1;}#sk-container-id-1 div.sk-parallel-item {display: flex;flex-direction: column;z-index: 1;position: relative;background-color: white;}#sk-container-id-1 div.sk-parallel-item:first-child::after {align-self: flex-end;width: 50%;}#sk-container-id-1 div.sk-parallel-item:last-child::after {align-self: flex-start;width: 50%;}#sk-container-id-1 div.sk-parallel-item:only-child::after {width: 0;}#sk-container-id-1 div.sk-dashed-wrapped {border: 1px dashed gray;margin: 0 0.4em 0.5em 0.4em;box-sizing: border-box;padding-bottom: 0.4em;background-color: white;}#sk-container-id-1 div.sk-label label {font-family: monospace;font-weight: bold;display: inline-block;line-height: 1.2em;}#sk-container-id-1 div.sk-label-container {text-align: center;}#sk-container-id-1 div.sk-container {/* jupyter's `normalize.less` sets `[hidden] { display: none; }` but bootstrap.min.css set `[hidden] { display: none !important; }` so we also need the `!important` here to be able to override the default hidden behavior on the sphinx rendered scikit-learn.org. See: https://github.com/scikit-learn/scikit-learn/issues/21755 */display: inline-block !important;position: relative;}#sk-container-id-1 div.sk-text-repr-fallback {display: none;}</style><div id=\"sk-container-id-1\" class=\"sk-top-container\"><div class=\"sk-text-repr-fallback\"><pre>LogisticRegression(max_iter=10000, random_state=42)</pre><b>In a Jupyter environment, please rerun this cell to show the HTML representation or trust the notebook. <br />On GitHub, the HTML representation is unable to render, please try loading this page with nbviewer.org.</b></div><div class=\"sk-container\" hidden><div class=\"sk-item\"><div class=\"sk-estimator sk-toggleable\"><input class=\"sk-toggleable__control sk-hidden--visually\" id=\"sk-estimator-id-1\" type=\"checkbox\" checked><label for=\"sk-estimator-id-1\" class=\"sk-toggleable__label sk-toggleable__label-arrow\">LogisticRegression</label><div class=\"sk-toggleable__content\"><pre>LogisticRegression(max_iter=10000, random_state=42)</pre></div></div></div></div></div>"
      ],
      "text/plain": [
       "LogisticRegression(max_iter=10000, random_state=42)"
      ]
     },
     "execution_count": 7,
     "metadata": {},
     "output_type": "execute_result"
    }
   ],
   "source": [
    "model = LogisticRegression(max_iter=10000, random_state=42)\n",
    "model.fit(X_train, y_train)"
   ]
  },
  {
   "cell_type": "markdown",
   "id": "05eba6d5-ad94-4acf-aa14-e926a9e07e34",
   "metadata": {},
   "source": [
    "## Predict the test set results\n"
   ]
  },
  {
   "cell_type": "code",
   "execution_count": 8,
   "id": "23f917d7-12c6-4cf8-8aa0-88364fe1760a",
   "metadata": {},
   "outputs": [],
   "source": [
    "y_pred = model.predict(X_test)\n",
    "y_pred_proba = model.predict_proba(X_test)"
   ]
  },
  {
   "cell_type": "markdown",
   "id": "f70fc489-13a3-4795-bca2-d028353ef42b",
   "metadata": {},
   "source": [
    "# 1. Confusion Matrix\n",
    "A confusion matrix is a table used to describe the performance of a classification model. It provides a breakdown of correct and incorrect predictions by comparing actual values with predicted values. The confusion matrix consists of four key components:\n",
    "\n",
    "## True Positives (TP): \n",
    "Instances where the model correctly predicts the positive class.\n",
    "## True Negatives (TN): \n",
    "Instances where the model correctly predicts the negative class.\n",
    "## False Positives (FP): \n",
    "Instances where the model incorrectly predicts the positive class (also known as Type I error).\n",
    "## False Negatives (FN): \n",
    "Instances where the model incorrectly predicts the negative class (also known as Type II error).\n",
    "The confusion matrix helps in understanding the types of errors the model is making and in which classes they are occurring."
   ]
  },
  {
   "cell_type": "code",
   "execution_count": 9,
   "id": "ead7cad9-4c52-4f48-bdd6-4a1db7fba28d",
   "metadata": {},
   "outputs": [
    {
     "data": {
      "image/png": "[encoded data removed]",
      "text/plain": [
       "<Figure size 800x600 with 2 Axes>"
      ]
     },
     "metadata": {},
     "output_type": "display_data"
    }
   ],
   "source": [
    "# Confusion Matrix\n",
    "cm = confusion_matrix(y_test, y_pred)\n",
    "plt.figure(figsize=(8, 6))\n",
    "sns.heatmap(cm, annot=True, fmt='d', cmap='Blues', xticklabels=data.target_names, yticklabels=data.target_names)\n",
    "plt.title('Confusion Matrix')\n",
    "plt.xlabel('Predicted')\n",
    "plt.ylabel('Actual')\n",
    "plt.show()"
   ]
  },
  {
   "cell_type": "markdown",
   "id": "f73e87d8-05bf-4fe4-9768-33bfc0c8b007",
   "metadata": {},
   "source": [
    "This heatmap visualizes the confusion matrix, where the color intensity represents the frequency of each category. It helps in identifying how often the model correctly or incorrectly classifies each class.\n"
   ]
  },
  {
   "attachments": {
    "8c255ec3-d27c-4463-a57a-9b650fb54202.png": {
     "image/png": "[encoded data removed]"
    }
   },
   "cell_type": "markdown",
   "id": "8319f40b-bca9-4848-9fd4-0e3ba6689ac6",
   "metadata": {},
   "source": [
    "# 2. Accuracy\n",
    "Accuracy is the simplest metric for evaluating a classification model. It is calculated as the ratio of correctly predicted instances (both true positives and true negatives) to the total number of instances.\n",
    "<br><br>\n",
    "![image.png](attachment:8c255ec3-d27c-4463-a57a-9b650fb54202.png)\n",
    "<br><br>\n",
    "Accuracy gives a general sense of how often the model is correct. However, it may not be reliable for imbalanced datasets where one class is more frequent than the other."
   ]
  },
  {
   "cell_type": "code",
   "execution_count": 10,
   "id": "7b2c0118-dfaf-451f-b0d2-0e087fbb8c45",
   "metadata": {},
   "outputs": [
    {
     "name": "stdout",
     "output_type": "stream",
     "text": [
      "Accuracy: 0.9444\n"
     ]
    }
   ],
   "source": [
    "accuracy = accuracy_score(y_test, y_pred)\n",
    "print(f\"Accuracy: {accuracy:.4f}\")"
   ]
  },
  {
   "attachments": {
    "684d6676-c15d-47ac-bbe1-f9ac2cd6b7d3.png": {
     "image/png": "[encoded data removed]"
    }
   },
   "cell_type": "markdown",
   "id": "b437e2a9-1795-418d-85a0-692fb53a1268",
   "metadata": {},
   "source": [
    "# 3. Precision\n",
    "Precision, also known as Positive Predictive Value, measures the accuracy of positive predictions. It is the ratio of true positives to the sum of true positives and false positives.<br><br>\n",
    "![image.png](attachment:684d6676-c15d-47ac-bbe1-f9ac2cd6b7d3.png)\n",
    "<br><br>\n",
    "Precision is crucial when the cost of false positives is high, such as in spam detection or medical diagnosis."
   ]
  },
  {
   "cell_type": "code",
   "execution_count": 11,
   "id": "5069fa39-9f42-48cc-97ed-a4fca076fb25",
   "metadata": {},
   "outputs": [
    {
     "name": "stdout",
     "output_type": "stream",
     "text": [
      "Precision: 0.9537\n"
     ]
    }
   ],
   "source": [
    "precision = precision_score(y_test, y_pred, average='weighted')\n",
    "print(f\"Precision: {precision:.4f}\")"
   ]
  },
  {
   "attachments": {
    "a0591ba8-6c06-44e2-8c66-3b5e84c22295.png": {
     "image/png": "[encoded data removed]"
    }
   },
   "cell_type": "markdown",
   "id": "12b4c5eb-b2c3-4620-b6df-43c119405a99",
   "metadata": {},
   "source": [
    "# 4. Recall (Sensitivity)\n",
    "Recall, also known as Sensitivity or True Positive Rate, measures the ability of the model to identify all positive instances. It is the ratio of true positives to the sum of true positives and false negatives.<br><br>\n",
    "![image.png](attachment:a0591ba8-6c06-44e2-8c66-3b5e84c22295.png)\n",
    "<br><br>\n",
    "Recall is important when the cost of false negatives is high, such as in disease detection or fraud detection."
   ]
  },
  {
   "cell_type": "code",
   "execution_count": 12,
   "id": "3738456f-0a59-4fa0-b696-f32e24407417",
   "metadata": {},
   "outputs": [
    {
     "name": "stdout",
     "output_type": "stream",
     "text": [
      "Recall: 0.9444\n"
     ]
    }
   ],
   "source": [
    "recall = recall_score(y_test, y_pred, average='weighted')\n",
    "print(f\"Recall: {recall:.4f}\")"
   ]
  },
  {
   "attachments": {
    "0694d548-2354-4319-a8c3-cafceefb9956.png": {
     "image/png": "[encoded data removed]"
    }
   },
   "cell_type": "markdown",
   "id": "fa77bfe8-9fa1-4997-a5d1-73c4ac97800a",
   "metadata": {},
   "source": [
    "# 5. F1 Score\n",
    "The F1 score is the harmonic mean of precision and recall. It provides a balance between precision and recall, especially useful when dealing with imbalanced datasets.<br><br>\n",
    "![image.png](attachment:0694d548-2354-4319-a8c3-cafceefb9956.png)\n",
    "<br><br>"
   ]
  },
  {
   "cell_type": "code",
   "execution_count": 13,
   "id": "ff34ad87-321f-4b48-b105-f2a6b5478fd2",
   "metadata": {},
   "outputs": [
    {
     "name": "stdout",
     "output_type": "stream",
     "text": [
      "F1 Score: 0.9448\n"
     ]
    }
   ],
   "source": [
    "f1 = f1_score(y_test, y_pred, average='weighted')\n",
    "print(f\"F1 Score: {f1:.4f}\")"
   ]
  },
  {
   "attachments": {
    "e46f969d-e448-451b-bbd2-035ef96653ce.png": {
     "image/png": "[encoded data removed]"
    }
   },
   "cell_type": "markdown",
   "id": "950d20cb-2732-4f6a-ae1b-8a3318d092b9",
   "metadata": {},
   "source": [
    "# 6. ROC Curve (Receiver Operating Characteristic Curve)\n",
    "The ROC curve is a graphical representation of the true positive rate (recall) versus the false positive rate at various threshold settings. The curve helps in evaluating the trade-offs between true positives and false positives at different thresholds.\n",
    "\n",
    "## True Positive Rate (TPR): \n",
    "Same as recall.\n",
    "## False Positive Rate (FPR): \n",
    "The ratio of false positives to the sum of false positives and true negatives.\n",
    "<br><br>\n",
    "![image.png](attachment:e46f969d-e448-451b-bbd2-035ef96653ce.png)\n",
    "<br><br>"
   ]
  },
  {
   "cell_type": "code",
   "execution_count": 14,
   "id": "e608a21d-b325-4f97-af7e-db28be2cc9d2",
   "metadata": {},
   "outputs": [
    {
     "data": {
      "image/png": "[encoded data removed]",
      "text/plain": [
       "<Figure size 800x600 with 1 Axes>"
      ]
     },
     "metadata": {},
     "output_type": "display_data"
    }
   ],
   "source": [
    "fpr, tpr, _ = roc_curve(y_test, y_pred_proba[:, 1], pos_label=1)\n",
    "plt.figure(figsize=(8, 6))\n",
    "plt.plot(fpr, tpr, color='blue', lw=2)\n",
    "plt.plot([0, 1], [0, 1], color='gray', lw=2, linestyle='--')\n",
    "plt.xlim([0.0, 1.0])\n",
    "plt.ylim([0.0, 1.05])\n",
    "plt.title('ROC Curve')\n",
    "plt.xlabel('False Positive Rate')\n",
    "plt.ylabel('True Positive Rate')\n",
    "plt.show()"
   ]
  },
  {
   "cell_type": "markdown",
   "id": "55db5dac-f5f1-439a-989f-eecd198e4d8e",
   "metadata": {},
   "source": [
    "This line chart plots the true positive rate (recall) against the false positive rate at various classification thresholds. The area under the curve (AUC) represents the model's overall performance.\n"
   ]
  },
  {
   "cell_type": "markdown",
   "id": "8baf4354-b86c-4792-b117-f300e33f82e6",
   "metadata": {},
   "source": [
    "# 7. AUC (Area Under the Curve)\n",
    "The AUC measures the overall performance of the ROC curve. It is the area under the ROC curve.\n",
    "\n",
    "## AUC = 1: \n",
    "Perfect model.\n",
    "## AUC = 0.5: \n",
    "Model with no discrimination ability, equivalent to random guessing.<br>\n",
    "The higher the AUC, the better the model is at distinguishing between positive and negative classes."
   ]
  },
  {
   "cell_type": "code",
   "execution_count": 15,
   "id": "c0425574-e62e-4fb9-aaab-bc34def9638e",
   "metadata": {},
   "outputs": [
    {
     "name": "stdout",
     "output_type": "stream",
     "text": [
      "AUC: 0.9990\n"
     ]
    }
   ],
   "source": [
    "auc = roc_auc_score(y_test, y_pred_proba, multi_class='ovr')\n",
    "print(f\"AUC: {auc:.4f}\")"
   ]
  },
  {
   "cell_type": "markdown",
   "id": "5f09ca29-c485-4b59-82d5-2561eed2d44b",
   "metadata": {},
   "source": [
    "# 8. Cross-Validation\n",
    "Cross-validation is a technique used to assess the generalizability of a model. It involves splitting the dataset into multiple folds and training/testing the model on different subsets.\n",
    "<br><br>\n",
    "Cross-validation provides a more robust estimate of model performance by reducing the variance associated with a single train-test split.\n",
    "## A. k-Fold Cross-Validation: \n",
    "The dataset is divided into k equally sized folds. The model is trained on k-1 folds and tested on the remaining fold. This process is repeated k times, with each fold being used as the test set once."
   ]
  },
  {
   "cell_type": "code",
   "execution_count": 16,
   "id": "e07408c7-c116-4efe-a8e3-2ac8cb7676b0",
   "metadata": {},
   "outputs": [
    {
     "name": "stdout",
     "output_type": "stream",
     "text": [
      "Accuracy: 1.0\n",
      "Accuracy: 0.9666666666666667\n",
      "Accuracy: 0.9333333333333333\n",
      "Accuracy: 0.9333333333333333\n",
      "Accuracy: 0.9666666666666667\n",
      "Overall Accuracy: 0.9666666666666667\n"
     ]
    }
   ],
   "source": [
    "# Load dataset\n",
    "data = load_iris()\n",
    "X, y = data.data, data.target\n",
    "\n",
    "# Initialize model\n",
    "model = RandomForestClassifier()\n",
    "\n",
    "# Define k-fold cross-validation\n",
    "kf = KFold(n_splits=5, shuffle=True, random_state=42)\n",
    "\n",
    "# Perform k-fold cross-validation\n",
    "for train_index, test_index in kf.split(X):\n",
    "    X_train, X_test = X[train_index], X[test_index]\n",
    "    y_train, y_test = y[train_index], y[test_index]\n",
    "    \n",
    "    model.fit(X_train, y_train)\n",
    "    y_pred = model.predict(X_test)\n",
    "    accuracy = accuracy_score(y_test, y_pred)\n",
    "    print(f'Accuracy: {accuracy}')\n",
    "print(f'Overall Accuracy: {accuracy.mean()}')    "
   ]
  },
  {
   "cell_type": "markdown",
   "id": "9d188068-f317-48f6-ae09-e727e9ca053e",
   "metadata": {},
   "source": [
    "## B. Leave-One-Out Cross-Validation (LOOCV): \n",
    "A special case of k-fold cross-validation where k equals the number of instances in the dataset. The model is trained on all instances except one and tested on the excluded instance. This process is repeated for each instance."
   ]
  },
  {
   "cell_type": "code",
   "execution_count": 17,
   "id": "58b16bfc-bd48-4b02-a6e1-d126f5ca01f0",
   "metadata": {},
   "outputs": [
    {
     "name": "stdout",
     "output_type": "stream",
     "text": [
      "Overall Accuracy: 1.0\n"
     ]
    }
   ],
   "source": [
    "# Define leave-one-out cross-validation\n",
    "loo = LeaveOneOut()\n",
    "\n",
    "# Perform leave-one-out cross-validation\n",
    "for train_index, test_index in loo.split(X):\n",
    "    X_train, X_test = X[train_index], X[test_index]\n",
    "    y_train, y_test = y[train_index], y[test_index]\n",
    "    \n",
    "    model.fit(X_train, y_train)\n",
    "    y_pred = model.predict(X_test)\n",
    "    accuracy = accuracy_score(y_test, y_pred)\n",
    "print(f'Overall Accuracy: {accuracy.mean()}') "
   ]
  },
  {
   "cell_type": "markdown",
   "id": "76a1856d-b592-45b8-9b5c-24065093bfa9",
   "metadata": {},
   "source": [
    "## C. Stratified k-Fold Cross-Validation: \n",
    "Similar to k-fold cross-validation, but ensures that each fold has a similar distribution of classes, which is important for imbalanced datasets."
   ]
  },
  {
   "cell_type": "code",
   "execution_count": 18,
   "id": "d86101d2-7d5a-49e5-89ab-a44b5b0a1b0c",
   "metadata": {},
   "outputs": [
    {
     "name": "stdout",
     "output_type": "stream",
     "text": [
      "Accuracy: 1.0\n",
      "Accuracy: 0.9666666666666667\n",
      "Accuracy: 0.9333333333333333\n",
      "Accuracy: 0.9666666666666667\n",
      "Accuracy: 0.9\n",
      "Overall Accuracy: 0.9\n"
     ]
    }
   ],
   "source": [
    "# Define stratified k-fold cross-validation\n",
    "skf = StratifiedKFold(n_splits=5, shuffle=True, random_state=42)\n",
    "\n",
    "# Perform stratified k-fold cross-validation\n",
    "for train_index, test_index in skf.split(X, y):\n",
    "    X_train, X_test = X[train_index], X[test_index]\n",
    "    y_train, y_test = y[train_index], y[test_index]\n",
    "    \n",
    "    model.fit(X_train, y_train)\n",
    "    y_pred = model.predict(X_test)\n",
    "    accuracy = accuracy_score(y_test, y_pred)\n",
    "    print(f'Accuracy: {accuracy}')\n",
    "print(f'Overall Accuracy: {accuracy.mean()}') "
   ]
  },
  {
   "cell_type": "markdown",
   "id": "e4c83856-1b85-4b73-901e-d5d5202853f7",
   "metadata": {},
   "source": [
    "# 9. Classification Report\n",
    "A classification report provides a summary of precision, recall, F1 score, and support (the number of true instances for each class) for each class in a multi-class classification problem. It offers a comprehensive view of the model’s performance across different classes."
   ]
  },
  {
   "cell_type": "code",
   "execution_count": 19,
   "id": "b370714e-a5a4-404b-895f-a586e0b5f67b",
   "metadata": {},
   "outputs": [
    {
     "name": "stdout",
     "output_type": "stream",
     "text": [
      "\n",
      "Classification Report:\n",
      "               precision    recall  f1-score   support\n",
      "\n",
      "      setosa       1.00      1.00      1.00        10\n",
      "  versicolor       0.82      0.90      0.86        10\n",
      "   virginica       0.89      0.80      0.84        10\n",
      "\n",
      "    accuracy                           0.90        30\n",
      "   macro avg       0.90      0.90      0.90        30\n",
      "weighted avg       0.90      0.90      0.90        30\n",
      "\n"
     ]
    }
   ],
   "source": [
    "report = classification_report(y_test, y_pred, target_names=data.target_names)\n",
    "print(\"\\nClassification Report:\\n\", report)"
   ]
  },
  {
   "cell_type": "markdown",
   "id": "97e8149d-bbb1-4f32-b454-0b3bca3f54ea",
   "metadata": {},
   "source": [
    "## Heatmap for Classification Report\n"
   ]
  },
  {
   "cell_type": "code",
   "execution_count": 20,
   "id": "a3df1b7d-b9d8-4390-97ae-65d0bb4f6cf5",
   "metadata": {},
   "outputs": [
    {
     "data": {
      "image/png": "[encoded data removed]",
      "text/plain": [
       "<Figure size 1200x800 with 2 Axes>"
      ]
     },
     "metadata": {},
     "output_type": "display_data"
    }
   ],
   "source": [
    "report_df = pd.DataFrame(classification_report(y_test, y_pred, target_names=data.target_names, output_dict=True)).T\n",
    "plt.figure(figsize=(12, 8))\n",
    "sns.heatmap(report_df.iloc[:-1, :-1], annot=True, cmap='Blues')\n",
    "plt.title('Classification Report')\n",
    "plt.show()"
   ]
  },
  {
   "cell_type": "markdown",
   "id": "d74b5e20-535e-4ced-8895-0d89f72a4895",
   "metadata": {},
   "source": [
    "This heatmap visualizes the classification report, showing precision, recall, and F1 score for each class. It provides a comprehensive view of the model's performance across different classes.\n"
   ]
  },
  {
   "attachments": {
    "8d2457a8-b398-40a9-a548-32917739532b.png": {
     "image/png": "[encoded data removed]"
    }
   },
   "cell_type": "markdown",
   "id": "11736404-83cd-42c9-85a1-c9cf92d60b1d",
   "metadata": {},
   "source": [
    "# 10. Matthews Correlation Coefficient (MCC)\n",
    "The MCC is a measure of the quality of binary classifications. It considers all four confusion matrix categories (TP, TN, FP, FN) and is useful for imbalanced datasets.<br><br>\n",
    "![image.png](attachment:8d2457a8-b398-40a9-a548-32917739532b.png)"
   ]
  },
  {
   "cell_type": "code",
   "execution_count": 21,
   "id": "ea540e1e-8a63-40db-9dc4-d43443b4be20",
   "metadata": {},
   "outputs": [
    {
     "name": "stdout",
     "output_type": "stream",
     "text": [
      "Matthews Correlation Coefficient (MCC): 0.8514\n"
     ]
    }
   ],
   "source": [
    "mcc = matthews_corrcoef(y_test, y_pred)\n",
    "print(f\"Matthews Correlation Coefficient (MCC): {mcc:.4f}\")"
   ]
  },
  {
   "attachments": {
    "c7ff6980-b1ae-4f63-a5d6-f650c6ac2366.png": {
     "image/png": "[encoded data removed]"
    }
   },
   "cell_type": "markdown",
   "id": "0409181b-7ee6-4f7c-8fc8-b9d88c60e594",
   "metadata": {},
   "source": [
    "# 11. Cohen’s Kappa\n",
    "Cohen’s Kappa measures the agreement between predicted and actual classifications, adjusting for the agreement occurring by chance.<br><br>\n",
    "![image.png](attachment:c7ff6980-b1ae-4f63-a5d6-f650c6ac2366.png)\n",
    "<br><br>\n",
    "where Po is the observed agreement and Pe is the expected agreement by chance."
   ]
  },
  {
   "cell_type": "code",
   "execution_count": 22,
   "id": "f289ff3b-07d4-454b-9106-73438a879381",
   "metadata": {},
   "outputs": [
    {
     "name": "stdout",
     "output_type": "stream",
     "text": [
      "Cohen’s Kappa: 0.8500\n"
     ]
    }
   ],
   "source": [
    "kappa = cohen_kappa_score(y_test, y_pred)\n",
    "print(f\"Cohen’s Kappa: {kappa:.4f}\")"
   ]
  },
  {
   "attachments": {
    "69ea391c-964f-4331-8d2e-ec5a25abc00b.png": {
     "image/png": "[encoded data removed]"
    }
   },
   "cell_type": "markdown",
   "id": "2a83d8b6-3491-4fde-9ed3-616b2021ce2b",
   "metadata": {},
   "source": [
    "# 12. Balanced Accuracy\n",
    "Balanced accuracy accounts for imbalanced datasets by averaging the recall obtained on each class.<br><br>\n",
    "![image.png](attachment:69ea391c-964f-4331-8d2e-ec5a25abc00b.png)\n",
    "<br><br>"
   ]
  },
  {
   "cell_type": "code",
   "execution_count": 23,
   "id": "1cb65f79-8be0-4a4f-8aec-777429579097",
   "metadata": {},
   "outputs": [
    {
     "name": "stdout",
     "output_type": "stream",
     "text": [
      "Balanced Accuracy: 0.9000\n"
     ]
    }
   ],
   "source": [
    "balanced_accuracy = balanced_accuracy_score(y_test, y_pred)\n",
    "print(f\"Balanced Accuracy: {balanced_accuracy:.4f}\")"
   ]
  },
  {
   "attachments": {
    "e38f7c4a-d7a5-4abf-b19d-1572863319d5.png": {
     "image/png": "[encoded data removed]"
    }
   },
   "cell_type": "markdown",
   "id": "020c3c90-58dc-48a8-a0ae-1a62b81e8440",
   "metadata": {},
   "source": [
    "# 13. G-Mean (Geometric Mean)\n",
    "G-Mean evaluates the balance between the classification performances of the positive and negative classes.\n",
    "<br><br>\n",
    "![image.png](attachment:e38f7c4a-d7a5-4abf-b19d-1572863319d5.png)\n",
    "<br><br>\n",
    "where specificity is the true negative rate."
   ]
  },
  {
   "cell_type": "code",
   "execution_count": 24,
   "id": "9eb4a4c4-6764-4d2b-a366-bfde5392b1de",
   "metadata": {},
   "outputs": [
    {
     "name": "stdout",
     "output_type": "stream",
     "text": [
      "G-Mean: 0.9000\n"
     ]
    },
    {
     "name": "stderr",
     "output_type": "stream",
     "text": [
      "C:\\Users\\Muhammad Ahtasham\\anaconda3\\Lib\\site-packages\\sklearn\\metrics\\_classification.py:1396: UserWarning: Note that pos_label (set to 0) is ignored when average != 'binary' (got 'macro'). You may use labels=[pos_label] to specify a single positive class.\n",
      "  warnings.warn(\n"
     ]
    }
   ],
   "source": [
    "sensitivity = recall_score(y_test, y_pred, average='macro')\n",
    "specificity = recall_score(y_test, y_pred, pos_label=0, average='macro')\n",
    "g_mean = np.sqrt(sensitivity * specificity)\n",
    "print(f\"G-Mean: {g_mean:.4f}\")"
   ]
  }
 ],
 "metadata": {
  "kernelspec": {
   "display_name": "Python 3 (ipykernel)",
   "language": "python",
   "name": "python3"
  },
  "language_info": {
   "codemirror_mode": {
    "name": "ipython",
    "version": 3
   },
   "file_extension": ".py",
   "mimetype": "text/x-python",
   "name": "python",
   "nbconvert_exporter": "python",
   "pygments_lexer": "ipython3",
   "version": "3.11.7"
  }
 },
 "nbformat": 4,
 "nbformat_minor": 5
}
