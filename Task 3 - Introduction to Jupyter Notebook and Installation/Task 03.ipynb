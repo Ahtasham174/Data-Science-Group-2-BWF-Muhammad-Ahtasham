{
 "cells": [
  {
   "cell_type": "markdown",
   "id": "3f30af36-0d40-4ca0-84e6-bff192415439",
   "metadata": {},
   "source": [
    "### Muhammad Ahtasham\n",
    "### Bytewise Fellowship\n",
    "This is My First jupyter notebook for fellowship tasks  "
   ]
  },
  {
   "cell_type": "code",
   "execution_count": 5,
   "id": "37dc00ca-6dae-495d-afb9-09f4adaf9e63",
   "metadata": {},
   "outputs": [
    {
     "name": "stdout",
     "output_type": "stream",
     "text": [
      "Welcome to the jupyter notebooks.\n",
      "\n",
      "Sum of a and b is c= 25\n"
     ]
    }
   ],
   "source": [
    "print(\"Welcome to the jupyter notebooks.\")\n",
    "a=10\n",
    "b=15\n",
    "print(\"\\nSum of a and b is c=\",a+b)"
   ]
  },
  {
   "cell_type": "code",
   "execution_count": null,
   "id": "83b85e32-3dd2-4e6f-9890-8f1ccbf2c2ca",
   "metadata": {},
   "outputs": [],
   "source": []
  }
 ],
 "metadata": {
  "kernelspec": {
   "display_name": "Python 3 (ipykernel)",
   "language": "python",
   "name": "python3"
  },
  "language_info": {
   "codemirror_mode": {
    "name": "ipython",
    "version": 3
   },
   "file_extension": ".py",
   "mimetype": "text/x-python",
   "name": "python",
   "nbconvert_exporter": "python",
   "pygments_lexer": "ipython3",
   "version": "3.11.7"
  }
 },
 "nbformat": 4,
 "nbformat_minor": 5
}
