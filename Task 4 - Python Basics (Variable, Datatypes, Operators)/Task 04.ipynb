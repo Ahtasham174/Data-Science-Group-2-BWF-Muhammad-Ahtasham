{
 "cells": [
  {
   "cell_type": "markdown",
   "id": "c538be7d-6756-43d8-8c72-af845e49751b",
   "metadata": {},
   "source": [
    "# Python Variables, Data Types and Operators"
   ]
  },
  {
   "cell_type": "markdown",
   "id": "0031f907-510c-421d-981c-dca5eb75a1bb",
   "metadata": {},
   "source": [
    "## Shopping Cart \n",
    "I asked Chatgpt so it suggested me to this and told to use operators, variables and Data Types in it.<br>\n",
    "It will make a list of items in the cart with their price and quantity and print their total cost."
   ]
  },
  {
   "cell_type": "code",
   "execution_count": 21,
   "id": "3784237c-efd0-4c1e-b4fc-410b0d9ca53d",
   "metadata": {},
   "outputs": [],
   "source": [
    "item1_name=\"Toy Car\"\n",
    "item1_price=25\n",
    "item1_quantity=3\n",
    "\n",
    "item2_name=\"Apple\"\n",
    "item2_price=100\n",
    "item2_quantity=10\n",
    "\n",
    "item3_name=\"Beans\"\n",
    "item3_price=50\n",
    "item3_quantity=5\n",
    "\n",
    "cart={}\n",
    "cart[item1_name]={'price':item1_price ,'quantity':item1_quantity}\n",
    "cart[item2_name]={'price':item2_price ,'quantity':item2_quantity}\n",
    "cart[item3_name]={'price':item3_price ,'quantity':item3_quantity}"
   ]
  },
  {
   "cell_type": "code",
   "execution_count": 23,
   "id": "557a8115-96ed-4ebe-ad4a-64f1a32e2fa7",
   "metadata": {},
   "outputs": [
    {
     "name": "stdout",
     "output_type": "stream",
     "text": [
      "Shopping Cart:\n",
      "Toy Car: Rs.25 x 3\n",
      "Apple: Rs.100 x 10\n",
      "Beans: Rs.50 x 5\n",
      "\n"
     ]
    }
   ],
   "source": [
    "output_cart = (\n",
    "    f\"{item1_name}: Rs.{item1_price} x {item1_quantity}\\n\"\n",
    "    f\"{item2_name}: Rs.{item2_price} x {item2_quantity}\\n\"\n",
    "    f\"{item3_name}: Rs.{item3_price} x {item3_quantity}\\n\" )\n",
    "print(\"Shopping Cart:\")\n",
    "print(output_cart)"
   ]
  },
  {
   "cell_type": "code",
   "execution_count": 22,
   "id": "e1b5a214-92c8-4e02-ac22-c48c6c951063",
   "metadata": {},
   "outputs": [
    {
     "name": "stdout",
     "output_type": "stream",
     "text": [
      "Total_Cost: 1325\n"
     ]
    }
   ],
   "source": [
    "total_cost=(item1_price*item1_quantity)+(item2_price*item2_quantity)+(item3_price*item3_quantity)\n",
    "print(\"Total_Cost:\",total_cost)"
   ]
  },
  {
   "cell_type": "code",
   "execution_count": 26,
   "id": "59621b4d-cd23-4b87-ba81-56afc7243744",
   "metadata": {},
   "outputs": [
    {
     "name": "stdout",
     "output_type": "stream",
     "text": [
      "The cart is empty:  False\n"
     ]
    }
   ],
   "source": [
    "cart_status = len(cart) == 0\n",
    "print(\"The cart is empty: \", cart_status)"
   ]
  },
  {
   "cell_type": "code",
   "execution_count": null,
   "id": "1503135c-336c-4370-bd44-1633aa14e8bc",
   "metadata": {},
   "outputs": [],
   "source": []
  }
 ],
 "metadata": {
  "kernelspec": {
   "display_name": "Python 3 (ipykernel)",
   "language": "python",
   "name": "python3"
  },
  "language_info": {
   "codemirror_mode": {
    "name": "ipython",
    "version": 3
   },
   "file_extension": ".py",
   "mimetype": "text/x-python",
   "name": "python",
   "nbconvert_exporter": "python",
   "pygments_lexer": "ipython3",
   "version": "3.11.7"
  }
 },
 "nbformat": 4,
 "nbformat_minor": 5
}
