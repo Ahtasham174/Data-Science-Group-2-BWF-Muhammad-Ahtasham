{
 "cells": [
  {
   "cell_type": "markdown",
   "id": "b1478d05-17e9-452f-bf3d-a5267ea52668",
   "metadata": {},
   "source": [
    "# Task 7: Object-Oriented Programming (OOP) basics."
   ]
  },
  {
   "cell_type": "markdown",
   "id": "9ab8ccf2-dd4e-4437-9983-f0a4c5b019c0",
   "metadata": {},
   "source": [
    "## Practice of Classes and OOP Concept"
   ]
  },
  {
   "cell_type": "markdown",
   "id": "f84be003-d445-48e1-8e31-a7f102cb73d1",
   "metadata": {},
   "source": [
    "## Making first class"
   ]
  },
  {
   "cell_type": "code",
   "execution_count": 2,
   "id": "69028133-01f1-4b7b-a178-ae75729ad98e",
   "metadata": {},
   "outputs": [],
   "source": [
    "class My_first_Class:\n",
    "    name=\"Ahtasham\""
   ]
  },
  {
   "cell_type": "markdown",
   "id": "d264b705-a734-4f6a-8054-a27a5c49660c",
   "metadata": {},
   "source": [
    "## Calling Class by Object"
   ]
  },
  {
   "cell_type": "code",
   "execution_count": 3,
   "id": "1382e3f0-9f97-4187-a88e-62bd65262620",
   "metadata": {},
   "outputs": [
    {
     "data": {
      "text/plain": [
       "'Ahtasham'"
      ]
     },
     "execution_count": 3,
     "metadata": {},
     "output_type": "execute_result"
    }
   ],
   "source": [
    "c1=My_first_Class()\n",
    "c1.name"
   ]
  },
  {
   "cell_type": "markdown",
   "id": "33a8bdb2-bbea-4e14-a22c-75fd42cd9436",
   "metadata": {},
   "source": [
    "## The use of The __init__() Function "
   ]
  },
  {
   "cell_type": "code",
   "execution_count": 7,
   "id": "9357d90f-9bbc-407b-a167-8dd2f3ea5d31",
   "metadata": {},
   "outputs": [
    {
     "name": "stdout",
     "output_type": "stream",
     "text": [
      "honda\n",
      "vezel\n",
      "2024\n"
     ]
    }
   ],
   "source": [
    "class Car:\n",
    "    def __init__(c,make,model,year):\n",
    "        c.make=make\n",
    "        c.model=model\n",
    "        c.year=year\n",
    "\n",
    "c1=Car(\"honda\",\"vezel\",2024)\n",
    "print(c1.make)\n",
    "print(c1.model)\n",
    "print(c1.year)"
   ]
  },
  {
   "cell_type": "markdown",
   "id": "cc29e3d7-6c23-40e7-97ac-f2ac022834a9",
   "metadata": {},
   "source": [
    "## The use of The __str__() Function "
   ]
  },
  {
   "cell_type": "code",
   "execution_count": 10,
   "id": "435ccb20-ee48-428f-b618-c79a5edf7d2b",
   "metadata": {},
   "outputs": [
    {
     "name": "stdout",
     "output_type": "stream",
     "text": [
      "honda,vezel,2024\n"
     ]
    }
   ],
   "source": [
    "class Car:\n",
    "    def __init__(c,make,model,year):\n",
    "        c.make=make\n",
    "        c.model=model\n",
    "        c.year=year\n",
    "\n",
    "    def __str__(c):\n",
    "        return f\"{c.make},{c.model},{c.year}\"\n",
    "c1=Car(\"honda\",\"vezel\",2024)    # here it also taken year as string...\n",
    "print(c1)"
   ]
  },
  {
   "cell_type": "markdown",
   "id": "d79b135f-4e30-4bbb-bbe5-5d8ca06b9889",
   "metadata": {},
   "source": [
    "## Object Methods"
   ]
  },
  {
   "cell_type": "code",
   "execution_count": 19,
   "id": "84959df4-1d22-411b-a8d5-9cafa9c470f2",
   "metadata": {},
   "outputs": [
    {
     "name": "stdout",
     "output_type": "stream",
     "text": [
      "This is the right car to buy and this car name is honda vezel\n"
     ]
    }
   ],
   "source": [
    "class Car:\n",
    "    def __init__(c,make,model,year):\n",
    "        c.make=make\n",
    "        c.model=model\n",
    "        c.year=year\n",
    "\n",
    "    def vehicle(c):\n",
    "        print(\"This is the right car to buy and this car name is\"+\" \"+c.make+\" \"+c.model)\n",
    "c1=Car(\"honda\",\"vezel\",2024) \n",
    "c1.vehicle()"
   ]
  },
  {
   "cell_type": "markdown",
   "id": "4dbeacb0-e394-4c01-a57d-f03629098ef4",
   "metadata": {},
   "source": [
    "## Modifying Object Properties"
   ]
  },
  {
   "cell_type": "code",
   "execution_count": 20,
   "id": "1117f06c-82f5-4d2c-8137-52c53c8500bb",
   "metadata": {},
   "outputs": [
    {
     "name": "stdout",
     "output_type": "stream",
     "text": [
      "2021\n"
     ]
    }
   ],
   "source": [
    "c1.year=2021\n",
    "print(c1.year)"
   ]
  },
  {
   "cell_type": "markdown",
   "id": "5d420c98-0760-4102-8b32-e1105ef646fe",
   "metadata": {},
   "source": [
    "## Delete Object Properties"
   ]
  },
  {
   "cell_type": "code",
   "execution_count": 22,
   "id": "96c62ccd-b8c7-410d-8837-0d9fc7030f47",
   "metadata": {},
   "outputs": [
    {
     "ename": "AttributeError",
     "evalue": "'Car' object has no attribute 'year'",
     "output_type": "error",
     "traceback": [
      "\u001b[1;31m---------------------------------------------------------------------------\u001b[0m",
      "\u001b[1;31mAttributeError\u001b[0m                            Traceback (most recent call last)",
      "Cell \u001b[1;32mIn[22], line 1\u001b[0m\n\u001b[1;32m----> 1\u001b[0m \u001b[38;5;28;01mdel\u001b[39;00m c1\u001b[38;5;241m.\u001b[39myear\n\u001b[0;32m      2\u001b[0m \u001b[38;5;28mprint\u001b[39m(c1\u001b[38;5;241m.\u001b[39myear)\n",
      "\u001b[1;31mAttributeError\u001b[0m: 'Car' object has no attribute 'year'"
     ]
    }
   ],
   "source": [
    "del c1.year\n",
    "print(c1.year)"
   ]
  },
  {
   "cell_type": "markdown",
   "id": "7e67902e-0290-4443-b564-98f17a742dd7",
   "metadata": {},
   "source": [
    "## Delete Object"
   ]
  },
  {
   "cell_type": "code",
   "execution_count": 23,
   "id": "740df0b1-efbd-4f8c-a132-1cd3db34e686",
   "metadata": {},
   "outputs": [],
   "source": [
    "del c1"
   ]
  },
  {
   "cell_type": "code",
   "execution_count": 24,
   "id": "bc268ee1-03e5-44f9-a321-dc3f6c3ae943",
   "metadata": {},
   "outputs": [
    {
     "ename": "NameError",
     "evalue": "name 'c1' is not defined",
     "output_type": "error",
     "traceback": [
      "\u001b[1;31m---------------------------------------------------------------------------\u001b[0m",
      "\u001b[1;31mNameError\u001b[0m                                 Traceback (most recent call last)",
      "Cell \u001b[1;32mIn[24], line 1\u001b[0m\n\u001b[1;32m----> 1\u001b[0m c1\u001b[38;5;241m.\u001b[39mmake\n",
      "\u001b[1;31mNameError\u001b[0m: name 'c1' is not defined"
     ]
    }
   ],
   "source": [
    "c1.make"
   ]
  },
  {
   "cell_type": "markdown",
   "id": "76a9bcd1-ee6c-4544-ad7e-6f6dc3b62fe2",
   "metadata": {},
   "source": [
    "## Inheritence Concept of OOP Example\n",
    "Inheritance allows us to define a class that inherits all the methods and properties from another class."
   ]
  },
  {
   "cell_type": "code",
   "execution_count": 32,
   "id": "d03eefc5-0ced-42f1-8359-2068713e3aec",
   "metadata": {},
   "outputs": [
    {
     "name": "stdout",
     "output_type": "stream",
     "text": [
      "honda vezel\n",
      "honda vezel is launching soon.\n"
     ]
    }
   ],
   "source": [
    "class vehicle:\n",
    "    def __init__(c,make,model,year):\n",
    "        c.make=make\n",
    "        c.model=model\n",
    "        c.year=year\n",
    "    def description(c):\n",
    "        return f\"{c.make} {c.model}\"\n",
    "\n",
    "class Car(vehicle):\n",
    "    def __init__(c,make,model,year):\n",
    "        super().__init__(make,model,year)    # or Car.__init__(c,make,model,year)\n",
    "    def launch(c):\n",
    "        print(c.description(),\"is launching soon.\")\n",
    "\n",
    "c1=Car(\"honda\",\"vezel\",2024) \n",
    "print(c1.description())\n",
    "c1.launch()"
   ]
  },
  {
   "cell_type": "markdown",
   "id": "0bc14b07-1fca-44e1-a66e-2e12e6b2b38e",
   "metadata": {},
   "source": [
    "## Encapsulation Concept of OOP Example\n",
    "Encapsulation is the concept of restricting access to certain details of an object and making those details accessible through methods."
   ]
  },
  {
   "cell_type": "code",
   "execution_count": 37,
   "id": "c58e3894-a7a1-428c-affa-ec660eb6c736",
   "metadata": {},
   "outputs": [
    {
     "name": "stdout",
     "output_type": "stream",
     "text": [
      "1300\n"
     ]
    }
   ],
   "source": [
    "class Bank_account:\n",
    "    def __init__(self, owner, balance=0):\n",
    "        self.owner = owner\n",
    "        self.__balance = balance  # Private attribute\n",
    "\n",
    "    def deposit(self, amount):\n",
    "        if amount > 0:\n",
    "            self.__balance += amount\n",
    "\n",
    "    def withdraw(self, amount):\n",
    "        if 0 < amount <= self.__balance:\n",
    "            self.__balance -= amount\n",
    "\n",
    "    def get_balance(self):\n",
    "        return self.__balance\n",
    "\n",
    "account = Bank_account(\"Ahtasham\", 1000)\n",
    "account.deposit(500)\n",
    "account.withdraw(200)\n",
    "print(account.get_balance())\n",
    "\n",
    "# Trying to access private attribute directly (will raise an AttributeError)\n",
    "# print(account.__balance)\n"
   ]
  },
  {
   "cell_type": "markdown",
   "id": "9374c753-e183-4821-b5e1-167512582376",
   "metadata": {},
   "source": [
    "## Polymorhism Concept of OOP Example\n",
    "Polymorphism allows us to define methods in the child class that have the same name as the methods in the parent class."
   ]
  },
  {
   "cell_type": "code",
   "execution_count": 40,
   "id": "230efe86-208f-444f-b5eb-2211f6872b92",
   "metadata": {},
   "outputs": [
    {
     "name": "stdout",
     "output_type": "stream",
     "text": [
      "PARENT\n",
      "CHILD\n"
     ]
    }
   ],
   "source": [
    "class human():\n",
    "    def description(self):\n",
    "        pass\n",
    "\n",
    "class parent(human):\n",
    "    def description(self):\n",
    "        return \"PARENT\"\n",
    "\n",
    "class child(human):\n",
    "    def description(self):\n",
    "        return \"CHILD\"\n",
    "\n",
    "c1=parent()\n",
    "c2=child()\n",
    "print(c1.description())\n",
    "print(c2.description())"
   ]
  },
  {
   "cell_type": "markdown",
   "id": "42ec29e6-796f-4063-a2ef-772e69450bfa",
   "metadata": {},
   "source": [
    "## Abstraction  \n",
    "It is a fundamental concept in object-oriented programming (OOP) that involves simplifying complex systems by focusing on the essential aspects while hiding unnecessary details.\n",
    "Above examples are all have abstraction implemented because I uses classes and objects in it."
   ]
  },
  {
   "cell_type": "markdown",
   "id": "f2e6dc20-32fa-4ada-85fe-992f4d14cfa7",
   "metadata": {},
   "source": [
    "# Mini Project: Car Sale Managemt System"
   ]
  },
  {
   "cell_type": "markdown",
   "id": "16481d89-a570-4e30-96d1-c456d99ac35a",
   "metadata": {},
   "source": [
    "### `Car Class`\n",
    "The Car class represents a car with attributes such as model, make, year, price, and availability status.\n",
    "#### Attributes:\n",
    "\n",
    "`model`: Model of the car.\n",
    "`make`: Make (manufacturer) of the car.\n",
    "`year`: Year of manufacture.\n",
    "`price`: Price of the car.\n",
    "`status`: Availability status of the car ('available' or 'sold').\n",
    "\n",
    "#### Methods:\n",
    "\n",
    "`__init__(self, model, make, year, price)`: Constructor method to initialize a new Car object with the given attributes. Sets the initial status to 1available'.\n",
    "`display_info(self)`: Method to display all information about the car, including model, make, year, price, and current status.\n",
    "`mark_as_sold(self)`: Method to change the car's status to 'sold'.\n",
    "`mark_as_available(self)`: Method to change the car's status to 'available"
   ]
  },
  {
   "cell_type": "code",
   "execution_count": 52,
   "id": "24d0f5a8-9ad4-46ec-9758-0d6c3842cd82",
   "metadata": {},
   "outputs": [],
   "source": [
    "class Car:\n",
    "    def __init__(self, model, make, year, price):\n",
    "        self.model = model\n",
    "        self.make = make\n",
    "        self.year = year\n",
    "        self.price = price\n",
    "        self.status = 'available'  # Status can be 'available' or 'sold'\n",
    "    \n",
    "    def display_info(self):\n",
    "        print(f\"Model: {self.model}, Make: {self.make}, Year: {self.year}, Price: {self.price}, Status: {self.status}\")\n",
    "    \n",
    "    def mark_as_sold(self):\n",
    "        self.status = 'sold'\n",
    "    \n",
    "    def mark_as_available(self):\n",
    "        self.status = 'available'"
   ]
  },
  {
   "cell_type": "markdown",
   "id": "a40ced1d-9af1-42ae-a79a-5ea73186f782",
   "metadata": {},
   "source": [
    "### `Customer` Class\n",
    "\n",
    "The `Customer` class represents a customer who can purchase and return cars.\n",
    "\n",
    "#### Attributes:\n",
    "- **name**: Name of the customer.\n",
    "- **customer_id**: Unique identifier for the customer.\n",
    "- **purchased_cars**: List to store cars purchased by the customer.\n",
    "\n",
    "#### Methods:\n",
    "1. **`__init__(self, name, customer_id)`**: Constructor method to initialize a new `Customer` object with a name, customer ID, and an empty list (`purchased_cars`) to store purchased cars.\n",
    "\n",
    "2. **`purchase_car(self, car)`**: Method for purchasing a car. It checks if the car is available (`car.status == 'available'`). If available, it marks the car as sold (`car.mark_as_sold()`), adds the car to the `purchased_cars` list, and prints a purchase confirmation message. If not available, it prints a message indicating the car is not available for purchase.\n",
    "\n",
    "3. **`return_car(self, car)`**: Method for returning a purchased car. It checks if the car is in the `purchased_cars` list. If so, it marks the car as available (`car.mark_as_available()`), removes the car from the `purchased_cars` list, and prints a return confirmation message. If the car is not in the list, it prints a message indicating the customer did not purchase that car.\n",
    "\n",
    "4. **`display_info(self)`**: Method to display customer information. It prints the customer's name, customer ID, and a list of models of all cars purchased by the customer (`[car.model for car in self.purchased_cars]`).\n",
    "\n",
    "These methods allow the `Customer` object to interact with cars by purchasing, returning, and displaying information about purchased cars.\n"
   ]
  },
  {
   "cell_type": "code",
   "execution_count": 56,
   "id": "327ff719-6689-4b0a-ad9d-2334bb0e3b05",
   "metadata": {},
   "outputs": [],
   "source": [
    "class Customer:\n",
    "    def __init__(self, name, customer_id):\n",
    "        self.name = name\n",
    "        self.customer_id = customer_id\n",
    "        self.purchased_cars = []  # List of cars purchased\n",
    "    \n",
    "    def purchase_car(self, car):\n",
    "        if car.status == 'available':\n",
    "            car.mark_as_sold()\n",
    "            self.purchased_cars.append(car)\n",
    "            print(f\"{self.name} purchased the car: {car.model}\")\n",
    "        else:\n",
    "            print(f\"Car {car.model} is not available for purchase.\")\n",
    "    \n",
    "    def return_car(self, car):\n",
    "        if car in self.purchased_cars:\n",
    "            car.mark_as_available()\n",
    "            self.purchased_cars.remove(car)\n",
    "            print(f\"{self.name} returned the car: {car.model}\")\n",
    "        else:\n",
    "            print(f\"{self.name} did not purchase the car: {car.model}\")\n",
    "    \n",
    "    def display_info(self):\n",
    "        print(f\"Customer Name: {self.name}, Customer ID: {self.customer_id}, Purchased Cars: {[car.model for car in self.purchased_cars]}\")"
   ]
  },
  {
   "cell_type": "markdown",
   "id": "b4a6c71d-fc1c-4849-9a39-8a01574a401b",
   "metadata": {},
   "source": [
    "### `Car_Sale_Management` Class\n",
    "\n",
    "#### Initialization (`__init__` method)\n",
    "- The class initializes with empty lists `self.cars` and `self.customers`.\n",
    "- It immediately attempts to load existing data using the `load_data()` method.\n",
    "\n",
    "#### Car and Customer Management\n",
    "- **Adding Cars and Registering Customers:** \n",
    "  - `add_car(car)`: Adds a car object to the inventory (`self.cars`) and saves the updated data to file.\n",
    "  - `register_customer(customer)`: Registers a customer object (`Customer`) and saves the updated data to file.\n",
    "\n",
    "#### Finding and Managing Cars and Customers\n",
    "- **Finding Cars and Customers:**\n",
    "  - `find_customer(customer_id)`: Searches for a customer by their ID in `self.customers`.\n",
    "  - `find_car(car_model)`: Searches for a car by its model in `self.cars`.\n",
    "\n",
    "#### Selling and Returning Cars\n",
    "- **Transaction Handling:**\n",
    "  - `sell_car(customer_id, car_model)`: Finds a customer and a car, then facilitates a car purchase transaction for the customer.\n",
    "  - `return_car(customer_id, car_model)`: Facilitates a car return transaction for a customer.\n",
    "\n",
    "#### Displaying Data\n",
    "- **Display Methods:**\n",
    "  - `display_all_cars()`: Prints information for all cars in inventory.\n",
    "  - `display_all_customers()`: Prints information for all registered customers.\n",
    "\n",
    "#### File Handling (Saving and Loading Data)\n",
    "- **Data Persistence:**\n",
    "  - `save_data()`: Saves all current car and customer data to separate text files (`cars.txt` and `customers.txt`).\n",
    "  - `load_data()`: Loads car and customer data from existing text files into memory.\n",
    "\n",
    "#### Additional Operations\n",
    "- **Searching and Deleting:**\n",
    "  - `search_customer(customer_id)`: Searches for a customer by ID and displays their information if found.\n",
    "  - `search_car(car_model)`: Searches for a car by model and displays its information if found.\n",
    "  - `delete_customer(customer_id)`: Deletes a customer from `self.customers` and updates data file.\n",
    "  - `delete_car(car_model)`: Deletes a car from `self.cars` and updates data file.\n",
    "\n",
    "#### Error Handling\n",
    "- **Exception Handling:**\n",
    "  - The methods `save_data()` and `load_data()` include `try-except` blocks to manage potential `IOError` exceptions when interacting with files (`cars.txt` and `customers.txt`).\n",
    "\n",
    "#### Overall Functionality\n",
    "- This code provides a structured system for managing car inventory, customer registrations, sales transactions, data persistence, and basic CRUD operations (Create, Read, Update, Delete).\n",
    "\n",
    "### Example Usage\n",
    "- Instantiate an object of `Car_Sale_Management`.\n",
    "- Use its methods to add cars, register customers, perform transactions, display data, and manage inventory effectively.\n",
    "\n"
   ]
  },
  {
   "cell_type": "code",
   "execution_count": 57,
   "id": "4bb19386-49b7-4117-8219-8e46433d8167",
   "metadata": {},
   "outputs": [],
   "source": [
    "import os\n",
    "\n",
    "class Car_Sale_Management:\n",
    "    def __init__(self):\n",
    "        self.cars = []\n",
    "        self.customers = []\n",
    "        self.load_data()\n",
    "    \n",
    "    def add_car(self, car):\n",
    "        self.cars.append(car)\n",
    "        self.save_data()\n",
    "        print(f\"Car {car.model} added to inventory.\")\n",
    "    \n",
    "    def register_customer(self, customer):\n",
    "        self.customers.append(customer)\n",
    "        self.save_data()\n",
    "        print(f\"Customer {customer.name} registered.\")\n",
    "    \n",
    "    def find_customer(self, customer_id):\n",
    "        for customer in self.customers:\n",
    "            if customer.customer_id == customer_id:\n",
    "                return customer\n",
    "        return None\n",
    "    \n",
    "    def find_car(self, car_model):\n",
    "        for car in self.cars:\n",
    "            if car.model == car_model:\n",
    "                return car\n",
    "        return None\n",
    "    \n",
    "    def sell_car(self, customer_id, car_model):\n",
    "        customer = self.find_customer(customer_id)\n",
    "        car = self.find_car(car_model)\n",
    "        if customer and car:\n",
    "            customer.purchase_car(car)\n",
    "            self.save_data()\n",
    "        else:\n",
    "            print(\"Customer or Car not found.\")\n",
    "    \n",
    "    def return_car(self, customer_id, car_model):\n",
    "        customer = self.find_customer(customer_id)\n",
    "        car = self.find_car(car_model)\n",
    "        if customer and car:\n",
    "            customer.return_car(car)\n",
    "            self.save_data()\n",
    "        else:\n",
    "            print(\"Customer or Car not found.\")\n",
    "    \n",
    "    def display_all_cars(self):\n",
    "        print(\"All Cars:\")\n",
    "        for car in self.cars:\n",
    "            car.display_info()\n",
    "    \n",
    "    def display_all_customers(self):\n",
    "        print(\"All Customers:\")\n",
    "        for customer in self.customers:\n",
    "            customer.display_info()\n",
    "    \n",
    "    def save_data(self):\n",
    "        try:\n",
    "            with open('cars.txt', 'w') as car_file:\n",
    "                for car in self.cars:\n",
    "                    car_file.write(f\"{car.model},{car.make},{car.year},{car.price},{car.status}\\n\")\n",
    "            with open('customers.txt', 'w') as customer_file:\n",
    "                for customer in self.customers:\n",
    "                    cars = \",\".join([car.model for car in customer.purchased_cars])\n",
    "                    customer_file.write(f\"{customer.name},{customer.customer_id},{cars}\\n\")\n",
    "            print(\"Data saved successfully.\")\n",
    "        except IOError as e:\n",
    "            print(f\"Error saving data: {e}\")\n",
    "    \n",
    "    def load_data(self):\n",
    "        try:\n",
    "            if os.path.exists('cars.txt'):\n",
    "                with open('cars.txt', 'r') as car_file:\n",
    "                    for line in car_file:\n",
    "                        model, make, year, price, status = line.strip().split(',')\n",
    "                        car = Car(model, make, int(year), float(price))\n",
    "                        car.status = status\n",
    "                        self.cars.append(car)\n",
    "            if os.path.exists('customers.txt'):\n",
    "                with open('customers.txt', 'r') as customer_file:\n",
    "                    for line in customer_file:\n",
    "                        name, customer_id, cars = line.strip().split(',')\n",
    "                        customer = Customer(name, customer_id)\n",
    "                        car_models = cars.split(',')\n",
    "                        for car_model in car_models:\n",
    "                            car = self.find_car_by_model(car_model)\n",
    "                            if car:\n",
    "                                customer.purchased_cars.append(car)\n",
    "                        self.customers.append(customer)\n",
    "            print(\"Data loaded successfully.\")\n",
    "        except IOError as e:\n",
    "            print(f\"Error loading data: {e}\")\n",
    "    \n",
    "    def search_customer(self, customer_id):\n",
    "        customer = self.find_customer(customer_id)\n",
    "        if customer:\n",
    "            print(\"Customer found:\")\n",
    "            customer.display_info()\n",
    "        else:\n",
    "            print(f\"Customer with ID '{customer_id}' not found.\")\n",
    "    \n",
    "    def search_car(self, car_model):\n",
    "        car = self.find_car(car_model)\n",
    "        if car:\n",
    "            print(\"Car found:\")\n",
    "            car.display_info()\n",
    "        else:\n",
    "            print(f\"Car with model '{car_model}' not found.\")\n",
    "    \n",
    "    def delete_customer(self, customer_id):\n",
    "        customer = self.find_customer(customer_id)\n",
    "        if customer:\n",
    "            self.customers.remove(customer)\n",
    "            self.save_data()\n",
    "            print(f\"Customer '{customer.name}' with ID '{customer_id}' deleted.\")\n",
    "        else:\n",
    "            print(f\"Customer with ID '{customer_id}' not found.\")\n",
    "    \n",
    "    def delete_car(self, car_model):\n",
    "        car = self.find_car(car_model)\n",
    "        if car:\n",
    "            self.cars.remove(car)\n",
    "            self.save_data()\n",
    "            print(f\"Car '{car.model}' with model '{car_model}' deleted.\")\n",
    "        else:\n",
    "            print(f\"Car with model '{car_model}' not found.\")"
   ]
  },
  {
   "cell_type": "markdown",
   "id": "97f6e71b-c130-412f-8b82-51f287ae4eee",
   "metadata": {},
   "source": [
    "#### Creates Menu for the System"
   ]
  },
  {
   "cell_type": "code",
   "execution_count": 59,
   "id": "2d223186-df0e-443b-9d89-16d33df9db6c",
   "metadata": {},
   "outputs": [
    {
     "name": "stdout",
     "output_type": "stream",
     "text": [
      "Data loaded successfully.\n",
      "\n",
      "Car Sale Management System\n",
      "1. Add Car\n",
      "2. Register Customer\n",
      "3. Sell Car\n",
      "4. Return Car\n",
      "5. Display All Cars\n",
      "6. Display All Customers\n",
      "7. Search Customer by ID\n",
      "8. Search Car by Model\n",
      "9. Delete Customer by ID\n",
      "10. Delete Car by Model\n",
      "11. Exit\n"
     ]
    },
    {
     "name": "stdin",
     "output_type": "stream",
     "text": [
      "Enter your choice:  1\n",
      "Enter car model:  vezel\n",
      "Enter car make:  honda\n",
      "Enter car year:  2018\n",
      "Enter car price:  34545454\n"
     ]
    },
    {
     "name": "stdout",
     "output_type": "stream",
     "text": [
      "Data saved successfully.\n",
      "Car vezel added to inventory.\n",
      "\n",
      "Car Sale Management System\n",
      "1. Add Car\n",
      "2. Register Customer\n",
      "3. Sell Car\n",
      "4. Return Car\n",
      "5. Display All Cars\n",
      "6. Display All Customers\n",
      "7. Search Customer by ID\n",
      "8. Search Car by Model\n",
      "9. Delete Customer by ID\n",
      "10. Delete Car by Model\n",
      "11. Exit\n"
     ]
    },
    {
     "name": "stdin",
     "output_type": "stream",
     "text": [
      "Enter your choice:  5\n"
     ]
    },
    {
     "name": "stdout",
     "output_type": "stream",
     "text": [
      "All Cars:\n",
      "Model: bolan, Make: suzuki, Year: 2003, Price: 1737323.0, Status: available\n",
      "Model: sportage, Make: kia, Year: 2020, Price: 1700000.0, Status: available\n",
      "Model: vezel, Make: honda, Year: 2018, Price: 34545454.0, Status: available\n",
      "\n",
      "Car Sale Management System\n",
      "1. Add Car\n",
      "2. Register Customer\n",
      "3. Sell Car\n",
      "4. Return Car\n",
      "5. Display All Cars\n",
      "6. Display All Customers\n",
      "7. Search Customer by ID\n",
      "8. Search Car by Model\n",
      "9. Delete Customer by ID\n",
      "10. Delete Car by Model\n",
      "11. Exit\n"
     ]
    },
    {
     "name": "stdin",
     "output_type": "stream",
     "text": [
      "Enter your choice:  2\n",
      "Enter customer name:  Ahtasham\n",
      "Enter customer ID:  1\n"
     ]
    },
    {
     "name": "stdout",
     "output_type": "stream",
     "text": [
      "Data saved successfully.\n",
      "Customer Ahtasham registered.\n",
      "\n",
      "Car Sale Management System\n",
      "1. Add Car\n",
      "2. Register Customer\n",
      "3. Sell Car\n",
      "4. Return Car\n",
      "5. Display All Cars\n",
      "6. Display All Customers\n",
      "7. Search Customer by ID\n",
      "8. Search Car by Model\n",
      "9. Delete Customer by ID\n",
      "10. Delete Car by Model\n",
      "11. Exit\n"
     ]
    },
    {
     "name": "stdin",
     "output_type": "stream",
     "text": [
      "Enter your choice:  6\n"
     ]
    },
    {
     "name": "stdout",
     "output_type": "stream",
     "text": [
      "All Customers:\n",
      "Customer Name: Ahtasham, Customer ID: 1, Purchased Cars: []\n",
      "\n",
      "Car Sale Management System\n",
      "1. Add Car\n",
      "2. Register Customer\n",
      "3. Sell Car\n",
      "4. Return Car\n",
      "5. Display All Cars\n",
      "6. Display All Customers\n",
      "7. Search Customer by ID\n",
      "8. Search Car by Model\n",
      "9. Delete Customer by ID\n",
      "10. Delete Car by Model\n",
      "11. Exit\n"
     ]
    },
    {
     "name": "stdin",
     "output_type": "stream",
     "text": [
      "Enter your choice:  3\n",
      "Enter customer ID:  1\n",
      "Enter car model to sell:  bolan\n"
     ]
    },
    {
     "name": "stdout",
     "output_type": "stream",
     "text": [
      "Ahtasham purchased the car: bolan\n",
      "Data saved successfully.\n",
      "\n",
      "Car Sale Management System\n",
      "1. Add Car\n",
      "2. Register Customer\n",
      "3. Sell Car\n",
      "4. Return Car\n",
      "5. Display All Cars\n",
      "6. Display All Customers\n",
      "7. Search Customer by ID\n",
      "8. Search Car by Model\n",
      "9. Delete Customer by ID\n",
      "10. Delete Car by Model\n",
      "11. Exit\n"
     ]
    },
    {
     "name": "stdin",
     "output_type": "stream",
     "text": [
      "Enter your choice:  5\n"
     ]
    },
    {
     "name": "stdout",
     "output_type": "stream",
     "text": [
      "All Cars:\n",
      "Model: bolan, Make: suzuki, Year: 2003, Price: 1737323.0, Status: sold\n",
      "Model: sportage, Make: kia, Year: 2020, Price: 1700000.0, Status: available\n",
      "Model: vezel, Make: honda, Year: 2018, Price: 34545454.0, Status: available\n",
      "\n",
      "Car Sale Management System\n",
      "1. Add Car\n",
      "2. Register Customer\n",
      "3. Sell Car\n",
      "4. Return Car\n",
      "5. Display All Cars\n",
      "6. Display All Customers\n",
      "7. Search Customer by ID\n",
      "8. Search Car by Model\n",
      "9. Delete Customer by ID\n",
      "10. Delete Car by Model\n",
      "11. Exit\n"
     ]
    },
    {
     "name": "stdin",
     "output_type": "stream",
     "text": [
      "Enter your choice:  6\n"
     ]
    },
    {
     "name": "stdout",
     "output_type": "stream",
     "text": [
      "All Customers:\n",
      "Customer Name: Ahtasham, Customer ID: 1, Purchased Cars: ['bolan']\n",
      "\n",
      "Car Sale Management System\n",
      "1. Add Car\n",
      "2. Register Customer\n",
      "3. Sell Car\n",
      "4. Return Car\n",
      "5. Display All Cars\n",
      "6. Display All Customers\n",
      "7. Search Customer by ID\n",
      "8. Search Car by Model\n",
      "9. Delete Customer by ID\n",
      "10. Delete Car by Model\n",
      "11. Exit\n"
     ]
    },
    {
     "name": "stdin",
     "output_type": "stream",
     "text": [
      "Enter your choice:  4\n",
      "Enter customer ID:  1\n",
      "Enter car model to return:  bolan\n"
     ]
    },
    {
     "name": "stdout",
     "output_type": "stream",
     "text": [
      "Ahtasham returned the car: bolan\n",
      "Data saved successfully.\n",
      "\n",
      "Car Sale Management System\n",
      "1. Add Car\n",
      "2. Register Customer\n",
      "3. Sell Car\n",
      "4. Return Car\n",
      "5. Display All Cars\n",
      "6. Display All Customers\n",
      "7. Search Customer by ID\n",
      "8. Search Car by Model\n",
      "9. Delete Customer by ID\n",
      "10. Delete Car by Model\n",
      "11. Exit\n"
     ]
    },
    {
     "name": "stdin",
     "output_type": "stream",
     "text": [
      "Enter your choice:  5\n"
     ]
    },
    {
     "name": "stdout",
     "output_type": "stream",
     "text": [
      "All Cars:\n",
      "Model: bolan, Make: suzuki, Year: 2003, Price: 1737323.0, Status: available\n",
      "Model: sportage, Make: kia, Year: 2020, Price: 1700000.0, Status: available\n",
      "Model: vezel, Make: honda, Year: 2018, Price: 34545454.0, Status: available\n",
      "\n",
      "Car Sale Management System\n",
      "1. Add Car\n",
      "2. Register Customer\n",
      "3. Sell Car\n",
      "4. Return Car\n",
      "5. Display All Cars\n",
      "6. Display All Customers\n",
      "7. Search Customer by ID\n",
      "8. Search Car by Model\n",
      "9. Delete Customer by ID\n",
      "10. Delete Car by Model\n",
      "11. Exit\n"
     ]
    },
    {
     "name": "stdin",
     "output_type": "stream",
     "text": [
      "Enter your choice:  7\n",
      "Enter customer ID to search:  1\n"
     ]
    },
    {
     "name": "stdout",
     "output_type": "stream",
     "text": [
      "Customer found:\n",
      "Customer Name: Ahtasham, Customer ID: 1, Purchased Cars: []\n",
      "\n",
      "Car Sale Management System\n",
      "1. Add Car\n",
      "2. Register Customer\n",
      "3. Sell Car\n",
      "4. Return Car\n",
      "5. Display All Cars\n",
      "6. Display All Customers\n",
      "7. Search Customer by ID\n",
      "8. Search Car by Model\n",
      "9. Delete Customer by ID\n",
      "10. Delete Car by Model\n",
      "11. Exit\n"
     ]
    },
    {
     "name": "stdin",
     "output_type": "stream",
     "text": [
      "Enter your choice:  8\n",
      "Enter car model to search:  sportage\n"
     ]
    },
    {
     "name": "stdout",
     "output_type": "stream",
     "text": [
      "Car found:\n",
      "Model: sportage, Make: kia, Year: 2020, Price: 1700000.0, Status: available\n",
      "\n",
      "Car Sale Management System\n",
      "1. Add Car\n",
      "2. Register Customer\n",
      "3. Sell Car\n",
      "4. Return Car\n",
      "5. Display All Cars\n",
      "6. Display All Customers\n",
      "7. Search Customer by ID\n",
      "8. Search Car by Model\n",
      "9. Delete Customer by ID\n",
      "10. Delete Car by Model\n",
      "11. Exit\n"
     ]
    },
    {
     "name": "stdin",
     "output_type": "stream",
     "text": [
      "Enter your choice:  10\n",
      "Enter car model to delete:  vezel\n"
     ]
    },
    {
     "name": "stdout",
     "output_type": "stream",
     "text": [
      "Data saved successfully.\n",
      "Car 'vezel' with model 'vezel' deleted.\n",
      "\n",
      "Car Sale Management System\n",
      "1. Add Car\n",
      "2. Register Customer\n",
      "3. Sell Car\n",
      "4. Return Car\n",
      "5. Display All Cars\n",
      "6. Display All Customers\n",
      "7. Search Customer by ID\n",
      "8. Search Car by Model\n",
      "9. Delete Customer by ID\n",
      "10. Delete Car by Model\n",
      "11. Exit\n"
     ]
    },
    {
     "name": "stdin",
     "output_type": "stream",
     "text": [
      "Enter your choice:  5\n"
     ]
    },
    {
     "name": "stdout",
     "output_type": "stream",
     "text": [
      "All Cars:\n",
      "Model: bolan, Make: suzuki, Year: 2003, Price: 1737323.0, Status: available\n",
      "Model: sportage, Make: kia, Year: 2020, Price: 1700000.0, Status: available\n",
      "\n",
      "Car Sale Management System\n",
      "1. Add Car\n",
      "2. Register Customer\n",
      "3. Sell Car\n",
      "4. Return Car\n",
      "5. Display All Cars\n",
      "6. Display All Customers\n",
      "7. Search Customer by ID\n",
      "8. Search Car by Model\n",
      "9. Delete Customer by ID\n",
      "10. Delete Car by Model\n",
      "11. Exit\n"
     ]
    },
    {
     "name": "stdin",
     "output_type": "stream",
     "text": [
      "Enter your choice:  11\n"
     ]
    }
   ],
   "source": [
    "def menu():\n",
    "    c = Car_Sale_Management()\n",
    "    \n",
    "    while True:\n",
    "        print(\"\\nCar Sale Management System\")\n",
    "        print(\"1. Add Car\")\n",
    "        print(\"2. Register Customer\")\n",
    "        print(\"3. Sell Car\")\n",
    "        print(\"4. Return Car\")\n",
    "        print(\"5. Display All Cars\")\n",
    "        print(\"6. Display All Customers\")\n",
    "        print(\"7. Search Customer by ID\")\n",
    "        print(\"8. Search Car by Model\")\n",
    "        print(\"9. Delete Customer by ID\")\n",
    "        print(\"10. Delete Car by Model\")\n",
    "        print(\"11. Exit\")\n",
    "        choice = input(\"Enter your choice: \")\n",
    "        \n",
    "        try:\n",
    "            if choice == '1':\n",
    "                model = input(\"Enter car model: \")\n",
    "                make = input(\"Enter car make: \")\n",
    "                year = int(input(\"Enter car year: \"))\n",
    "                price = float(input(\"Enter car price: \"))\n",
    "                car = Car(model, make, year, price)\n",
    "                c.add_car(car)\n",
    "            elif choice == '2':\n",
    "                name = input(\"Enter customer name: \")\n",
    "                customer_id = input(\"Enter customer ID: \")\n",
    "                customer = Customer(name, customer_id)\n",
    "                c.register_customer(customer)\n",
    "            elif choice == '3':\n",
    "                customer_id = input(\"Enter customer ID: \")\n",
    "                car_model = input(\"Enter car model to sell: \")\n",
    "                c.sell_car(customer_id, car_model)\n",
    "            elif choice == '4':\n",
    "                customer_id = input(\"Enter customer ID: \")\n",
    "                car_model = input(\"Enter car model to return: \")\n",
    "                c.return_car(customer_id, car_model)\n",
    "            elif choice == '5':\n",
    "                c.display_all_cars()\n",
    "            elif choice == '6':\n",
    "                c.display_all_customers()\n",
    "            elif choice == '7':\n",
    "                customer_id = input(\"Enter customer ID to search: \")\n",
    "                c.search_customer(customer_id)\n",
    "            elif choice == '8':\n",
    "                car_model = input(\"Enter car model to search: \")\n",
    "                c.search_car(car_model)\n",
    "            elif choice == '9':\n",
    "                customer_id = input(\"Enter customer ID to delete: \")\n",
    "                c.delete_customer(customer_id)\n",
    "            elif choice == '10':\n",
    "                car_model = input(\"Enter car model to delete: \")\n",
    "                c.delete_car(car_model)\n",
    "            elif choice == '11':\n",
    "                break\n",
    "            else:\n",
    "                print(\"Invalid choice. Please try again.\")\n",
    "        except ValueError as e:\n",
    "            print(f\"Invalid input: {e}\")\n",
    "\n",
    "if __name__ == \"__main__\":\n",
    "    menu()"
   ]
  },
  {
   "cell_type": "code",
   "execution_count": null,
   "id": "67df5c56-4a84-4b24-a7cc-c9f34ce9d1a3",
   "metadata": {},
   "outputs": [],
   "source": []
  }
 ],
 "metadata": {
  "kernelspec": {
   "display_name": "Python 3 (ipykernel)",
   "language": "python",
   "name": "python3"
  },
  "language_info": {
   "codemirror_mode": {
    "name": "ipython",
    "version": 3
   },
   "file_extension": ".py",
   "mimetype": "text/x-python",
   "name": "python",
   "nbconvert_exporter": "python",
   "pygments_lexer": "ipython3",
   "version": "3.11.7"
  }
 },
 "nbformat": 4,
 "nbformat_minor": 5
}
